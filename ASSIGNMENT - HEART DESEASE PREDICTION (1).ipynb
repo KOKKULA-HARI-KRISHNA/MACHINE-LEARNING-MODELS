{
 "cells": [
  {
   "cell_type": "markdown",
   "metadata": {},
   "source": [
    "# importing libraries"
   ]
  },
  {
   "cell_type": "code",
   "execution_count": 1,
   "metadata": {},
   "outputs": [],
   "source": [
    "import pyttsx3\n",
    "engine = pyttsx3.init()\n",
    "def speak(audio):\n",
    "    engine.say(audio)\n",
    "    engine.runAndWait()"
   ]
  },
  {
   "cell_type": "code",
   "execution_count": 2,
   "metadata": {},
   "outputs": [],
   "source": [
    "speak('hello   .........,sir..., imorting libraries')"
   ]
  },
  {
   "cell_type": "code",
   "execution_count": 3,
   "metadata": {},
   "outputs": [],
   "source": [
    "import pandas as pd\n",
    "import numpy as np\n",
    "import matplotlib.pyplot as plt\n",
    "import seaborn as sns\n",
    "from warnings import filterwarnings\n",
    "filterwarnings('ignore')"
   ]
  },
  {
   "cell_type": "code",
   "execution_count": 4,
   "metadata": {},
   "outputs": [],
   "source": [
    "speak('reading data')"
   ]
  },
  {
   "cell_type": "code",
   "execution_count": 7,
   "metadata": {},
   "outputs": [],
   "source": [
    "data = pd.read_csv('HeartDisease.csv')\n"
   ]
  },
  {
   "cell_type": "code",
   "execution_count": 11,
   "metadata": {},
   "outputs": [
    {
     "data": {
      "text/plain": [
       "14"
      ]
     },
     "execution_count": 11,
     "metadata": {},
     "output_type": "execute_result"
    }
   ],
   "source": [
    "len(data.corr())"
   ]
  },
  {
   "cell_type": "code",
   "execution_count": 12,
   "metadata": {},
   "outputs": [
    {
     "data": {
      "text/plain": [
       "14"
      ]
     },
     "execution_count": 12,
     "metadata": {},
     "output_type": "execute_result"
    }
   ],
   "source": [
    "len(data.columns)"
   ]
  },
  {
   "cell_type": "code",
   "execution_count": 13,
   "metadata": {},
   "outputs": [
    {
     "data": {
      "text/plain": [
       "(303, 14)"
      ]
     },
     "execution_count": 13,
     "metadata": {},
     "output_type": "execute_result"
    }
   ],
   "source": [
    "data.shape"
   ]
  },
  {
   "cell_type": "code",
   "execution_count": null,
   "metadata": {},
   "outputs": [],
   "source": []
  },
  {
   "cell_type": "code",
   "execution_count": 14,
   "metadata": {},
   "outputs": [
    {
     "data": {
      "text/plain": [
       "age                      int64\n",
       "gender                   int64\n",
       "chest_pain               int64\n",
       "rest_bps                 int64\n",
       "cholestrol               int64\n",
       "fasting_blood_sugar      int64\n",
       "rest_ecg                 int64\n",
       "thalach                  int64\n",
       "exer_angina              int64\n",
       "old_peak               float64\n",
       "slope                    int64\n",
       "ca                       int64\n",
       "thalassemia              int64\n",
       "target                   int64\n",
       "dtype: object"
      ]
     },
     "execution_count": 14,
     "metadata": {},
     "output_type": "execute_result"
    }
   ],
   "source": [
    "data.dtypes"
   ]
  },
  {
   "cell_type": "code",
   "execution_count": 15,
   "metadata": {},
   "outputs": [],
   "source": [
    "l = ['gender','chest_pain','fasting_blood_sugar','rest_ecg','exer_angina','slope','ca','thalassemia']\n",
    "for i in l:\n",
    "    data[i] = data[i].astype('object')"
   ]
  },
  {
   "cell_type": "code",
   "execution_count": 16,
   "metadata": {},
   "outputs": [
    {
     "data": {
      "text/plain": [
       "age                      int64\n",
       "gender                  object\n",
       "chest_pain              object\n",
       "rest_bps                 int64\n",
       "cholestrol               int64\n",
       "fasting_blood_sugar     object\n",
       "rest_ecg                object\n",
       "thalach                  int64\n",
       "exer_angina             object\n",
       "old_peak               float64\n",
       "slope                   object\n",
       "ca                      object\n",
       "thalassemia             object\n",
       "target                   int64\n",
       "dtype: object"
      ]
     },
     "execution_count": 16,
     "metadata": {},
     "output_type": "execute_result"
    }
   ],
   "source": [
    "data.dtypes"
   ]
  },
  {
   "cell_type": "code",
   "execution_count": 20,
   "metadata": {},
   "outputs": [
    {
     "data": {
      "text/plain": [
       "6"
      ]
     },
     "execution_count": 20,
     "metadata": {},
     "output_type": "execute_result"
    }
   ],
   "source": [
    "len(data.corr())"
   ]
  },
  {
   "cell_type": "code",
   "execution_count": 23,
   "metadata": {},
   "outputs": [
    {
     "data": {
      "text/plain": [
       "14"
      ]
     },
     "execution_count": 23,
     "metadata": {},
     "output_type": "execute_result"
    }
   ],
   "source": [
    "len(data.columns)"
   ]
  },
  {
   "cell_type": "code",
   "execution_count": 17,
   "metadata": {},
   "outputs": [],
   "source": [
    "independent_variable = data.drop(['target'], axis = 1)\n",
    "dependent_variabe = pd.DataFrame(data['target'])"
   ]
  },
  {
   "cell_type": "code",
   "execution_count": 18,
   "metadata": {},
   "outputs": [],
   "source": [
    "speak('checking dependent variables')"
   ]
  },
  {
   "cell_type": "markdown",
   "metadata": {},
   "source": [
    "# checking dependent variable"
   ]
  },
  {
   "cell_type": "code",
   "execution_count": 9,
   "metadata": {},
   "outputs": [
    {
     "data": {
      "text/html": [
       "<div>\n",
       "<style scoped>\n",
       "    .dataframe tbody tr th:only-of-type {\n",
       "        vertical-align: middle;\n",
       "    }\n",
       "\n",
       "    .dataframe tbody tr th {\n",
       "        vertical-align: top;\n",
       "    }\n",
       "\n",
       "    .dataframe thead th {\n",
       "        text-align: right;\n",
       "    }\n",
       "</style>\n",
       "<table border=\"1\" class=\"dataframe\">\n",
       "  <thead>\n",
       "    <tr style=\"text-align: right;\">\n",
       "      <th></th>\n",
       "      <th>target</th>\n",
       "      <th>per</th>\n",
       "    </tr>\n",
       "  </thead>\n",
       "  <tbody>\n",
       "    <tr>\n",
       "      <th>1</th>\n",
       "      <td>165</td>\n",
       "      <td>0.544554</td>\n",
       "    </tr>\n",
       "    <tr>\n",
       "      <th>0</th>\n",
       "      <td>138</td>\n",
       "      <td>0.455446</td>\n",
       "    </tr>\n",
       "  </tbody>\n",
       "</table>\n",
       "</div>"
      ],
      "text/plain": [
       "   target       per\n",
       "1     165  0.544554\n",
       "0     138  0.455446"
      ]
     },
     "execution_count": 9,
     "metadata": {},
     "output_type": "execute_result"
    }
   ],
   "source": [
    "values = pd.DataFrame(data['target'].value_counts())\n",
    "values['per'] = (data['target'].value_counts()/data['target'].value_counts().sum())\n",
    "values\n",
    "#it is almost balanced"
   ]
  },
  {
   "cell_type": "code",
   "execution_count": 10,
   "metadata": {},
   "outputs": [
    {
     "data": {
      "text/plain": [
       "age                      int64\n",
       "gender                  object\n",
       "chest_pain              object\n",
       "rest_bps                 int64\n",
       "cholestrol               int64\n",
       "fasting_blood_sugar     object\n",
       "rest_ecg                object\n",
       "thalach                  int64\n",
       "exer_angina             object\n",
       "old_peak               float64\n",
       "slope                   object\n",
       "ca                      object\n",
       "thalassemia             object\n",
       "target                   int64\n",
       "dtype: object"
      ]
     },
     "execution_count": 10,
     "metadata": {},
     "output_type": "execute_result"
    }
   ],
   "source": [
    "data.dtypes"
   ]
  },
  {
   "cell_type": "code",
   "execution_count": 11,
   "metadata": {},
   "outputs": [
    {
     "data": {
      "text/plain": [
       "<matplotlib.axes._subplots.AxesSubplot at 0x1a559afa6d0>"
      ]
     },
     "execution_count": 11,
     "metadata": {},
     "output_type": "execute_result"
    },
    {
     "data": {
      "image/png": "[encoded data removed]",
      "text/plain": [
       "<Figure size 432x288 with 2 Axes>"
      ]
     },
     "metadata": {
      "needs_background": "light"
     },
     "output_type": "display_data"
    }
   ],
   "source": [
    "sns.heatmap(data.corr(), annot= True)"
   ]
  },
  {
   "cell_type": "code",
   "execution_count": 12,
   "metadata": {},
   "outputs": [
    {
     "data": {
      "text/plain": [
       "<matplotlib.axes._subplots.AxesSubplot at 0x1a559cf6820>"
      ]
     },
     "execution_count": 12,
     "metadata": {},
     "output_type": "execute_result"
    },
    {
     "data": {
      "image/png": "[encoded data removed]",
      "text/plain": [
       "<Figure size 1080x720 with 1 Axes>"
      ]
     },
     "metadata": {
      "needs_background": "light"
     },
     "output_type": "display_data"
    }
   ],
   "source": [
    "plt.rcParams['figure.figsize'] = [15,10]\n",
    "independent_variable.boxplot()"
   ]
  },
  {
   "cell_type": "code",
   "execution_count": 13,
   "metadata": {},
   "outputs": [
    {
     "data": {
      "text/plain": [
       "<matplotlib.axes._subplots.AxesSubplot at 0x1a559cb5b50>"
      ]
     },
     "execution_count": 13,
     "metadata": {},
     "output_type": "execute_result"
    },
    {
     "data": {
      "image/png": "[encoded data removed]",
      "text/plain": [
       "<Figure size 1080x720 with 1 Axes>"
      ]
     },
     "metadata": {
      "needs_background": "light"
     },
     "output_type": "display_data"
    }
   ],
   "source": [
    "col = independent_variable[['cholestrol']]\n",
    "col.boxplot()"
   ]
  },
  {
   "cell_type": "code",
   "execution_count": null,
   "metadata": {},
   "outputs": [],
   "source": []
  },
  {
   "cell_type": "code",
   "execution_count": 14,
   "metadata": {},
   "outputs": [
    {
     "name": "stdout",
     "output_type": "stream",
     "text": [
      "age           13.5\n",
      "rest_bps      20.0\n",
      "cholestrol    63.5\n",
      "thalach       32.5\n",
      "old_peak       1.6\n",
      "dtype: float64\n"
     ]
    }
   ],
   "source": [
    "Q1 = independent_variable.quantile(0.25)\n",
    "Q3= independent_variable.quantile(0.75)\n",
    "IQR = Q3 - Q1\n",
    "print(IQR)"
   ]
  },
  {
   "cell_type": "code",
   "execution_count": 15,
   "metadata": {},
   "outputs": [
    {
     "name": "stdout",
     "output_type": "stream",
     "text": [
      "age            27.25\n",
      "rest_bps       90.00\n",
      "cholestrol    115.75\n",
      "thalach        84.75\n",
      "old_peak       -2.40\n",
      "dtype: float64\n",
      " \n",
      "age            81.25\n",
      "rest_bps      170.00\n",
      "cholestrol    369.75\n",
      "thalach       214.75\n",
      "old_peak        4.00\n",
      "dtype: float64\n"
     ]
    }
   ],
   "source": [
    "lower = Q1 - 1.5 * IQR\n",
    "upper = Q3 + 1.5 * IQR\n",
    "print(lower)\n",
    "print(' ')\n",
    "print(upper)"
   ]
  },
  {
   "cell_type": "code",
   "execution_count": 16,
   "metadata": {},
   "outputs": [],
   "source": [
    "#data[((data<lower) | (data > upper))]\n",
    "#data[~((data<lower) | (data > upper))]\n",
    "#data[~((data<lower) | (data > upper)).any(axis=1)]"
   ]
  },
  {
   "cell_type": "code",
   "execution_count": 17,
   "metadata": {},
   "outputs": [],
   "source": [
    "data = data[~((data < (Q1 - 1.5 * IQR)) | (data > (Q3 + 1.5 * IQR))).any(axis=1)]\n",
    "\n",
    "# reset the index of the dataframe without outliers\n",
    "data = data.reset_index(drop = True)"
   ]
  },
  {
   "cell_type": "code",
   "execution_count": 18,
   "metadata": {},
   "outputs": [
    {
     "data": {
      "image/png": "[encoded data removed]",
      "text/plain": [
       "<Figure size 1080x720 with 1 Axes>"
      ]
     },
     "metadata": {
      "needs_background": "light"
     },
     "output_type": "display_data"
    }
   ],
   "source": [
    "cols = ['age','rest_bps','cholestrol','thalach','old_peak']\n",
    "\n",
    "# plot multiple boxplots\n",
    "data[cols].boxplot()\n",
    "\n",
    "# set plot label\n",
    "# set text size using 'fontsize'\n",
    "plt.title('Distribution of Independent Variables', fontsize = 15)\n",
    "\n",
    "# xticks() returns the x-axis ticks\n",
    "# 'rotation = vertical' rotates the x-axis labels vertically\n",
    "plt.xticks(rotation = 'vertical', fontsize = 15)\n",
    "\n",
    "# display the plot\n",
    "plt.show()"
   ]
  },
  {
   "cell_type": "code",
   "execution_count": 19,
   "metadata": {},
   "outputs": [
    {
     "data": {
      "text/plain": [
       "(284, 14)"
      ]
     },
     "execution_count": 19,
     "metadata": {},
     "output_type": "execute_result"
    }
   ],
   "source": [
    "data.shape"
   ]
  },
  {
   "cell_type": "code",
   "execution_count": 20,
   "metadata": {},
   "outputs": [
    {
     "data": {
      "text/plain": [
       "age                    0\n",
       "gender                 0\n",
       "chest_pain             0\n",
       "rest_bps               0\n",
       "cholestrol             0\n",
       "fasting_blood_sugar    0\n",
       "rest_ecg               0\n",
       "thalach                0\n",
       "exer_angina            0\n",
       "old_peak               0\n",
       "slope                  0\n",
       "ca                     0\n",
       "thalassemia            0\n",
       "target                 0\n",
       "dtype: int64"
      ]
     },
     "execution_count": 20,
     "metadata": {},
     "output_type": "execute_result"
    }
   ],
   "source": [
    "data.isnull().sum()"
   ]
  },
  {
   "cell_type": "code",
   "execution_count": 21,
   "metadata": {},
   "outputs": [],
   "source": [
    "str_data = data.select_dtypes(include = object)\n",
    "num_data = data.select_dtypes(include = np.number)\n"
   ]
  },
  {
   "cell_type": "code",
   "execution_count": 22,
   "metadata": {},
   "outputs": [
    {
     "data": {
      "text/html": [
       "<div>\n",
       "<style scoped>\n",
       "    .dataframe tbody tr th:only-of-type {\n",
       "        vertical-align: middle;\n",
       "    }\n",
       "\n",
       "    .dataframe tbody tr th {\n",
       "        vertical-align: top;\n",
       "    }\n",
       "\n",
       "    .dataframe thead th {\n",
       "        text-align: right;\n",
       "    }\n",
       "</style>\n",
       "<table border=\"1\" class=\"dataframe\">\n",
       "  <thead>\n",
       "    <tr style=\"text-align: right;\">\n",
       "      <th></th>\n",
       "      <th>gender</th>\n",
       "      <th>chest_pain</th>\n",
       "      <th>fasting_blood_sugar</th>\n",
       "      <th>rest_ecg</th>\n",
       "      <th>exer_angina</th>\n",
       "      <th>slope</th>\n",
       "      <th>ca</th>\n",
       "      <th>thalassemia</th>\n",
       "    </tr>\n",
       "  </thead>\n",
       "  <tbody>\n",
       "    <tr>\n",
       "      <th>0</th>\n",
       "      <td>1</td>\n",
       "      <td>3</td>\n",
       "      <td>1</td>\n",
       "      <td>0</td>\n",
       "      <td>0</td>\n",
       "      <td>0</td>\n",
       "      <td>0</td>\n",
       "      <td>1</td>\n",
       "    </tr>\n",
       "    <tr>\n",
       "      <th>1</th>\n",
       "      <td>1</td>\n",
       "      <td>2</td>\n",
       "      <td>0</td>\n",
       "      <td>1</td>\n",
       "      <td>0</td>\n",
       "      <td>0</td>\n",
       "      <td>0</td>\n",
       "      <td>2</td>\n",
       "    </tr>\n",
       "    <tr>\n",
       "      <th>2</th>\n",
       "      <td>0</td>\n",
       "      <td>1</td>\n",
       "      <td>0</td>\n",
       "      <td>0</td>\n",
       "      <td>0</td>\n",
       "      <td>2</td>\n",
       "      <td>0</td>\n",
       "      <td>2</td>\n",
       "    </tr>\n",
       "    <tr>\n",
       "      <th>3</th>\n",
       "      <td>1</td>\n",
       "      <td>1</td>\n",
       "      <td>0</td>\n",
       "      <td>1</td>\n",
       "      <td>0</td>\n",
       "      <td>2</td>\n",
       "      <td>0</td>\n",
       "      <td>2</td>\n",
       "    </tr>\n",
       "    <tr>\n",
       "      <th>4</th>\n",
       "      <td>0</td>\n",
       "      <td>0</td>\n",
       "      <td>0</td>\n",
       "      <td>1</td>\n",
       "      <td>1</td>\n",
       "      <td>2</td>\n",
       "      <td>0</td>\n",
       "      <td>2</td>\n",
       "    </tr>\n",
       "    <tr>\n",
       "      <th>...</th>\n",
       "      <td>...</td>\n",
       "      <td>...</td>\n",
       "      <td>...</td>\n",
       "      <td>...</td>\n",
       "      <td>...</td>\n",
       "      <td>...</td>\n",
       "      <td>...</td>\n",
       "      <td>...</td>\n",
       "    </tr>\n",
       "    <tr>\n",
       "      <th>279</th>\n",
       "      <td>0</td>\n",
       "      <td>0</td>\n",
       "      <td>0</td>\n",
       "      <td>1</td>\n",
       "      <td>1</td>\n",
       "      <td>1</td>\n",
       "      <td>0</td>\n",
       "      <td>3</td>\n",
       "    </tr>\n",
       "    <tr>\n",
       "      <th>280</th>\n",
       "      <td>1</td>\n",
       "      <td>3</td>\n",
       "      <td>0</td>\n",
       "      <td>1</td>\n",
       "      <td>0</td>\n",
       "      <td>1</td>\n",
       "      <td>0</td>\n",
       "      <td>3</td>\n",
       "    </tr>\n",
       "    <tr>\n",
       "      <th>281</th>\n",
       "      <td>1</td>\n",
       "      <td>0</td>\n",
       "      <td>1</td>\n",
       "      <td>1</td>\n",
       "      <td>0</td>\n",
       "      <td>1</td>\n",
       "      <td>2</td>\n",
       "      <td>3</td>\n",
       "    </tr>\n",
       "    <tr>\n",
       "      <th>282</th>\n",
       "      <td>1</td>\n",
       "      <td>0</td>\n",
       "      <td>0</td>\n",
       "      <td>1</td>\n",
       "      <td>1</td>\n",
       "      <td>1</td>\n",
       "      <td>1</td>\n",
       "      <td>3</td>\n",
       "    </tr>\n",
       "    <tr>\n",
       "      <th>283</th>\n",
       "      <td>0</td>\n",
       "      <td>1</td>\n",
       "      <td>0</td>\n",
       "      <td>0</td>\n",
       "      <td>0</td>\n",
       "      <td>1</td>\n",
       "      <td>1</td>\n",
       "      <td>2</td>\n",
       "    </tr>\n",
       "  </tbody>\n",
       "</table>\n",
       "<p>284 rows × 8 columns</p>\n",
       "</div>"
      ],
      "text/plain": [
       "    gender chest_pain fasting_blood_sugar rest_ecg exer_angina slope ca  \\\n",
       "0        1          3                   1        0           0     0  0   \n",
       "1        1          2                   0        1           0     0  0   \n",
       "2        0          1                   0        0           0     2  0   \n",
       "3        1          1                   0        1           0     2  0   \n",
       "4        0          0                   0        1           1     2  0   \n",
       "..     ...        ...                 ...      ...         ...   ... ..   \n",
       "279      0          0                   0        1           1     1  0   \n",
       "280      1          3                   0        1           0     1  0   \n",
       "281      1          0                   1        1           0     1  2   \n",
       "282      1          0                   0        1           1     1  1   \n",
       "283      0          1                   0        0           0     1  1   \n",
       "\n",
       "    thalassemia  \n",
       "0             1  \n",
       "1             2  \n",
       "2             2  \n",
       "3             2  \n",
       "4             2  \n",
       "..          ...  \n",
       "279           3  \n",
       "280           3  \n",
       "281           3  \n",
       "282           3  \n",
       "283           2  \n",
       "\n",
       "[284 rows x 8 columns]"
      ]
     },
     "execution_count": 22,
     "metadata": {},
     "output_type": "execute_result"
    }
   ],
   "source": [
    "str_data"
   ]
  },
  {
   "cell_type": "code",
   "execution_count": 23,
   "metadata": {},
   "outputs": [
    {
     "data": {
      "text/html": [
       "<div>\n",
       "<style scoped>\n",
       "    .dataframe tbody tr th:only-of-type {\n",
       "        vertical-align: middle;\n",
       "    }\n",
       "\n",
       "    .dataframe tbody tr th {\n",
       "        vertical-align: top;\n",
       "    }\n",
       "\n",
       "    .dataframe thead th {\n",
       "        text-align: right;\n",
       "    }\n",
       "</style>\n",
       "<table border=\"1\" class=\"dataframe\">\n",
       "  <thead>\n",
       "    <tr style=\"text-align: right;\">\n",
       "      <th></th>\n",
       "      <th>age</th>\n",
       "      <th>rest_bps</th>\n",
       "      <th>cholestrol</th>\n",
       "      <th>thalach</th>\n",
       "      <th>old_peak</th>\n",
       "      <th>target</th>\n",
       "    </tr>\n",
       "  </thead>\n",
       "  <tbody>\n",
       "    <tr>\n",
       "      <th>0</th>\n",
       "      <td>63</td>\n",
       "      <td>145</td>\n",
       "      <td>233</td>\n",
       "      <td>150</td>\n",
       "      <td>2.3</td>\n",
       "      <td>1</td>\n",
       "    </tr>\n",
       "    <tr>\n",
       "      <th>1</th>\n",
       "      <td>37</td>\n",
       "      <td>130</td>\n",
       "      <td>250</td>\n",
       "      <td>187</td>\n",
       "      <td>3.5</td>\n",
       "      <td>1</td>\n",
       "    </tr>\n",
       "    <tr>\n",
       "      <th>2</th>\n",
       "      <td>41</td>\n",
       "      <td>130</td>\n",
       "      <td>204</td>\n",
       "      <td>172</td>\n",
       "      <td>1.4</td>\n",
       "      <td>1</td>\n",
       "    </tr>\n",
       "    <tr>\n",
       "      <th>3</th>\n",
       "      <td>56</td>\n",
       "      <td>120</td>\n",
       "      <td>236</td>\n",
       "      <td>178</td>\n",
       "      <td>0.8</td>\n",
       "      <td>1</td>\n",
       "    </tr>\n",
       "    <tr>\n",
       "      <th>4</th>\n",
       "      <td>57</td>\n",
       "      <td>120</td>\n",
       "      <td>354</td>\n",
       "      <td>163</td>\n",
       "      <td>0.6</td>\n",
       "      <td>1</td>\n",
       "    </tr>\n",
       "    <tr>\n",
       "      <th>...</th>\n",
       "      <td>...</td>\n",
       "      <td>...</td>\n",
       "      <td>...</td>\n",
       "      <td>...</td>\n",
       "      <td>...</td>\n",
       "      <td>...</td>\n",
       "    </tr>\n",
       "    <tr>\n",
       "      <th>279</th>\n",
       "      <td>57</td>\n",
       "      <td>140</td>\n",
       "      <td>241</td>\n",
       "      <td>123</td>\n",
       "      <td>0.2</td>\n",
       "      <td>0</td>\n",
       "    </tr>\n",
       "    <tr>\n",
       "      <th>280</th>\n",
       "      <td>45</td>\n",
       "      <td>110</td>\n",
       "      <td>264</td>\n",
       "      <td>132</td>\n",
       "      <td>1.2</td>\n",
       "      <td>0</td>\n",
       "    </tr>\n",
       "    <tr>\n",
       "      <th>281</th>\n",
       "      <td>68</td>\n",
       "      <td>144</td>\n",
       "      <td>193</td>\n",
       "      <td>141</td>\n",
       "      <td>3.4</td>\n",
       "      <td>0</td>\n",
       "    </tr>\n",
       "    <tr>\n",
       "      <th>282</th>\n",
       "      <td>57</td>\n",
       "      <td>130</td>\n",
       "      <td>131</td>\n",
       "      <td>115</td>\n",
       "      <td>1.2</td>\n",
       "      <td>0</td>\n",
       "    </tr>\n",
       "    <tr>\n",
       "      <th>283</th>\n",
       "      <td>57</td>\n",
       "      <td>130</td>\n",
       "      <td>236</td>\n",
       "      <td>174</td>\n",
       "      <td>0.0</td>\n",
       "      <td>0</td>\n",
       "    </tr>\n",
       "  </tbody>\n",
       "</table>\n",
       "<p>284 rows × 6 columns</p>\n",
       "</div>"
      ],
      "text/plain": [
       "     age  rest_bps  cholestrol  thalach  old_peak  target\n",
       "0     63       145         233      150       2.3       1\n",
       "1     37       130         250      187       3.5       1\n",
       "2     41       130         204      172       1.4       1\n",
       "3     56       120         236      178       0.8       1\n",
       "4     57       120         354      163       0.6       1\n",
       "..   ...       ...         ...      ...       ...     ...\n",
       "279   57       140         241      123       0.2       0\n",
       "280   45       110         264      132       1.2       0\n",
       "281   68       144         193      141       3.4       0\n",
       "282   57       130         131      115       1.2       0\n",
       "283   57       130         236      174       0.0       0\n",
       "\n",
       "[284 rows x 6 columns]"
      ]
     },
     "execution_count": 23,
     "metadata": {},
     "output_type": "execute_result"
    }
   ],
   "source": [
    "num_data"
   ]
  },
  {
   "cell_type": "code",
   "execution_count": 24,
   "metadata": {},
   "outputs": [],
   "source": [
    "data_dummy = pd.get_dummies(str_data, drop_first= True)"
   ]
  },
  {
   "cell_type": "code",
   "execution_count": 25,
   "metadata": {},
   "outputs": [
    {
     "data": {
      "text/plain": [
       "(284, 23)"
      ]
     },
     "execution_count": 25,
     "metadata": {},
     "output_type": "execute_result"
    }
   ],
   "source": [
    "dummy_data = pd.concat([num_data,data_dummy], axis = 1)\n",
    "dummy_data.shape"
   ]
  },
  {
   "cell_type": "code",
   "execution_count": 27,
   "metadata": {},
   "outputs": [
    {
     "data": {
      "text/html": [
       "<div>\n",
       "<style scoped>\n",
       "    .dataframe tbody tr th:only-of-type {\n",
       "        vertical-align: middle;\n",
       "    }\n",
       "\n",
       "    .dataframe tbody tr th {\n",
       "        vertical-align: top;\n",
       "    }\n",
       "\n",
       "    .dataframe thead th {\n",
       "        text-align: right;\n",
       "    }\n",
       "</style>\n",
       "<table border=\"1\" class=\"dataframe\">\n",
       "  <thead>\n",
       "    <tr style=\"text-align: right;\">\n",
       "      <th></th>\n",
       "      <th>age</th>\n",
       "      <th>rest_bps</th>\n",
       "      <th>cholestrol</th>\n",
       "      <th>thalach</th>\n",
       "      <th>old_peak</th>\n",
       "      <th>target</th>\n",
       "      <th>gender_1</th>\n",
       "      <th>chest_pain_1</th>\n",
       "      <th>chest_pain_2</th>\n",
       "      <th>chest_pain_3</th>\n",
       "      <th>...</th>\n",
       "      <th>exer_angina_1</th>\n",
       "      <th>slope_1</th>\n",
       "      <th>slope_2</th>\n",
       "      <th>ca_1</th>\n",
       "      <th>ca_2</th>\n",
       "      <th>ca_3</th>\n",
       "      <th>ca_4</th>\n",
       "      <th>thalassemia_1</th>\n",
       "      <th>thalassemia_2</th>\n",
       "      <th>thalassemia_3</th>\n",
       "    </tr>\n",
       "  </thead>\n",
       "  <tbody>\n",
       "    <tr>\n",
       "      <th>0</th>\n",
       "      <td>63</td>\n",
       "      <td>145</td>\n",
       "      <td>233</td>\n",
       "      <td>150</td>\n",
       "      <td>2.3</td>\n",
       "      <td>1</td>\n",
       "      <td>1</td>\n",
       "      <td>0</td>\n",
       "      <td>0</td>\n",
       "      <td>1</td>\n",
       "      <td>...</td>\n",
       "      <td>0</td>\n",
       "      <td>0</td>\n",
       "      <td>0</td>\n",
       "      <td>0</td>\n",
       "      <td>0</td>\n",
       "      <td>0</td>\n",
       "      <td>0</td>\n",
       "      <td>1</td>\n",
       "      <td>0</td>\n",
       "      <td>0</td>\n",
       "    </tr>\n",
       "    <tr>\n",
       "      <th>1</th>\n",
       "      <td>37</td>\n",
       "      <td>130</td>\n",
       "      <td>250</td>\n",
       "      <td>187</td>\n",
       "      <td>3.5</td>\n",
       "      <td>1</td>\n",
       "      <td>1</td>\n",
       "      <td>0</td>\n",
       "      <td>1</td>\n",
       "      <td>0</td>\n",
       "      <td>...</td>\n",
       "      <td>0</td>\n",
       "      <td>0</td>\n",
       "      <td>0</td>\n",
       "      <td>0</td>\n",
       "      <td>0</td>\n",
       "      <td>0</td>\n",
       "      <td>0</td>\n",
       "      <td>0</td>\n",
       "      <td>1</td>\n",
       "      <td>0</td>\n",
       "    </tr>\n",
       "    <tr>\n",
       "      <th>2</th>\n",
       "      <td>41</td>\n",
       "      <td>130</td>\n",
       "      <td>204</td>\n",
       "      <td>172</td>\n",
       "      <td>1.4</td>\n",
       "      <td>1</td>\n",
       "      <td>0</td>\n",
       "      <td>1</td>\n",
       "      <td>0</td>\n",
       "      <td>0</td>\n",
       "      <td>...</td>\n",
       "      <td>0</td>\n",
       "      <td>0</td>\n",
       "      <td>1</td>\n",
       "      <td>0</td>\n",
       "      <td>0</td>\n",
       "      <td>0</td>\n",
       "      <td>0</td>\n",
       "      <td>0</td>\n",
       "      <td>1</td>\n",
       "      <td>0</td>\n",
       "    </tr>\n",
       "    <tr>\n",
       "      <th>3</th>\n",
       "      <td>56</td>\n",
       "      <td>120</td>\n",
       "      <td>236</td>\n",
       "      <td>178</td>\n",
       "      <td>0.8</td>\n",
       "      <td>1</td>\n",
       "      <td>1</td>\n",
       "      <td>1</td>\n",
       "      <td>0</td>\n",
       "      <td>0</td>\n",
       "      <td>...</td>\n",
       "      <td>0</td>\n",
       "      <td>0</td>\n",
       "      <td>1</td>\n",
       "      <td>0</td>\n",
       "      <td>0</td>\n",
       "      <td>0</td>\n",
       "      <td>0</td>\n",
       "      <td>0</td>\n",
       "      <td>1</td>\n",
       "      <td>0</td>\n",
       "    </tr>\n",
       "    <tr>\n",
       "      <th>4</th>\n",
       "      <td>57</td>\n",
       "      <td>120</td>\n",
       "      <td>354</td>\n",
       "      <td>163</td>\n",
       "      <td>0.6</td>\n",
       "      <td>1</td>\n",
       "      <td>0</td>\n",
       "      <td>0</td>\n",
       "      <td>0</td>\n",
       "      <td>0</td>\n",
       "      <td>...</td>\n",
       "      <td>1</td>\n",
       "      <td>0</td>\n",
       "      <td>1</td>\n",
       "      <td>0</td>\n",
       "      <td>0</td>\n",
       "      <td>0</td>\n",
       "      <td>0</td>\n",
       "      <td>0</td>\n",
       "      <td>1</td>\n",
       "      <td>0</td>\n",
       "    </tr>\n",
       "    <tr>\n",
       "      <th>...</th>\n",
       "      <td>...</td>\n",
       "      <td>...</td>\n",
       "      <td>...</td>\n",
       "      <td>...</td>\n",
       "      <td>...</td>\n",
       "      <td>...</td>\n",
       "      <td>...</td>\n",
       "      <td>...</td>\n",
       "      <td>...</td>\n",
       "      <td>...</td>\n",
       "      <td>...</td>\n",
       "      <td>...</td>\n",
       "      <td>...</td>\n",
       "      <td>...</td>\n",
       "      <td>...</td>\n",
       "      <td>...</td>\n",
       "      <td>...</td>\n",
       "      <td>...</td>\n",
       "      <td>...</td>\n",
       "      <td>...</td>\n",
       "      <td>...</td>\n",
       "    </tr>\n",
       "    <tr>\n",
       "      <th>279</th>\n",
       "      <td>57</td>\n",
       "      <td>140</td>\n",
       "      <td>241</td>\n",
       "      <td>123</td>\n",
       "      <td>0.2</td>\n",
       "      <td>0</td>\n",
       "      <td>0</td>\n",
       "      <td>0</td>\n",
       "      <td>0</td>\n",
       "      <td>0</td>\n",
       "      <td>...</td>\n",
       "      <td>1</td>\n",
       "      <td>1</td>\n",
       "      <td>0</td>\n",
       "      <td>0</td>\n",
       "      <td>0</td>\n",
       "      <td>0</td>\n",
       "      <td>0</td>\n",
       "      <td>0</td>\n",
       "      <td>0</td>\n",
       "      <td>1</td>\n",
       "    </tr>\n",
       "    <tr>\n",
       "      <th>280</th>\n",
       "      <td>45</td>\n",
       "      <td>110</td>\n",
       "      <td>264</td>\n",
       "      <td>132</td>\n",
       "      <td>1.2</td>\n",
       "      <td>0</td>\n",
       "      <td>1</td>\n",
       "      <td>0</td>\n",
       "      <td>0</td>\n",
       "      <td>1</td>\n",
       "      <td>...</td>\n",
       "      <td>0</td>\n",
       "      <td>1</td>\n",
       "      <td>0</td>\n",
       "      <td>0</td>\n",
       "      <td>0</td>\n",
       "      <td>0</td>\n",
       "      <td>0</td>\n",
       "      <td>0</td>\n",
       "      <td>0</td>\n",
       "      <td>1</td>\n",
       "    </tr>\n",
       "    <tr>\n",
       "      <th>281</th>\n",
       "      <td>68</td>\n",
       "      <td>144</td>\n",
       "      <td>193</td>\n",
       "      <td>141</td>\n",
       "      <td>3.4</td>\n",
       "      <td>0</td>\n",
       "      <td>1</td>\n",
       "      <td>0</td>\n",
       "      <td>0</td>\n",
       "      <td>0</td>\n",
       "      <td>...</td>\n",
       "      <td>0</td>\n",
       "      <td>1</td>\n",
       "      <td>0</td>\n",
       "      <td>0</td>\n",
       "      <td>1</td>\n",
       "      <td>0</td>\n",
       "      <td>0</td>\n",
       "      <td>0</td>\n",
       "      <td>0</td>\n",
       "      <td>1</td>\n",
       "    </tr>\n",
       "    <tr>\n",
       "      <th>282</th>\n",
       "      <td>57</td>\n",
       "      <td>130</td>\n",
       "      <td>131</td>\n",
       "      <td>115</td>\n",
       "      <td>1.2</td>\n",
       "      <td>0</td>\n",
       "      <td>1</td>\n",
       "      <td>0</td>\n",
       "      <td>0</td>\n",
       "      <td>0</td>\n",
       "      <td>...</td>\n",
       "      <td>1</td>\n",
       "      <td>1</td>\n",
       "      <td>0</td>\n",
       "      <td>1</td>\n",
       "      <td>0</td>\n",
       "      <td>0</td>\n",
       "      <td>0</td>\n",
       "      <td>0</td>\n",
       "      <td>0</td>\n",
       "      <td>1</td>\n",
       "    </tr>\n",
       "    <tr>\n",
       "      <th>283</th>\n",
       "      <td>57</td>\n",
       "      <td>130</td>\n",
       "      <td>236</td>\n",
       "      <td>174</td>\n",
       "      <td>0.0</td>\n",
       "      <td>0</td>\n",
       "      <td>0</td>\n",
       "      <td>1</td>\n",
       "      <td>0</td>\n",
       "      <td>0</td>\n",
       "      <td>...</td>\n",
       "      <td>0</td>\n",
       "      <td>1</td>\n",
       "      <td>0</td>\n",
       "      <td>1</td>\n",
       "      <td>0</td>\n",
       "      <td>0</td>\n",
       "      <td>0</td>\n",
       "      <td>0</td>\n",
       "      <td>1</td>\n",
       "      <td>0</td>\n",
       "    </tr>\n",
       "  </tbody>\n",
       "</table>\n",
       "<p>284 rows × 23 columns</p>\n",
       "</div>"
      ],
      "text/plain": [
       "     age  rest_bps  cholestrol  thalach  old_peak  target  gender_1  \\\n",
       "0     63       145         233      150       2.3       1         1   \n",
       "1     37       130         250      187       3.5       1         1   \n",
       "2     41       130         204      172       1.4       1         0   \n",
       "3     56       120         236      178       0.8       1         1   \n",
       "4     57       120         354      163       0.6       1         0   \n",
       "..   ...       ...         ...      ...       ...     ...       ...   \n",
       "279   57       140         241      123       0.2       0         0   \n",
       "280   45       110         264      132       1.2       0         1   \n",
       "281   68       144         193      141       3.4       0         1   \n",
       "282   57       130         131      115       1.2       0         1   \n",
       "283   57       130         236      174       0.0       0         0   \n",
       "\n",
       "     chest_pain_1  chest_pain_2  chest_pain_3  ...  exer_angina_1  slope_1  \\\n",
       "0               0             0             1  ...              0        0   \n",
       "1               0             1             0  ...              0        0   \n",
       "2               1             0             0  ...              0        0   \n",
       "3               1             0             0  ...              0        0   \n",
       "4               0             0             0  ...              1        0   \n",
       "..            ...           ...           ...  ...            ...      ...   \n",
       "279             0             0             0  ...              1        1   \n",
       "280             0             0             1  ...              0        1   \n",
       "281             0             0             0  ...              0        1   \n",
       "282             0             0             0  ...              1        1   \n",
       "283             1             0             0  ...              0        1   \n",
       "\n",
       "     slope_2  ca_1  ca_2  ca_3  ca_4  thalassemia_1  thalassemia_2  \\\n",
       "0          0     0     0     0     0              1              0   \n",
       "1          0     0     0     0     0              0              1   \n",
       "2          1     0     0     0     0              0              1   \n",
       "3          1     0     0     0     0              0              1   \n",
       "4          1     0     0     0     0              0              1   \n",
       "..       ...   ...   ...   ...   ...            ...            ...   \n",
       "279        0     0     0     0     0              0              0   \n",
       "280        0     0     0     0     0              0              0   \n",
       "281        0     0     1     0     0              0              0   \n",
       "282        0     1     0     0     0              0              0   \n",
       "283        0     1     0     0     0              0              1   \n",
       "\n",
       "     thalassemia_3  \n",
       "0                0  \n",
       "1                0  \n",
       "2                0  \n",
       "3                0  \n",
       "4                0  \n",
       "..             ...  \n",
       "279              1  \n",
       "280              1  \n",
       "281              1  \n",
       "282              1  \n",
       "283              0  \n",
       "\n",
       "[284 rows x 23 columns]"
      ]
     },
     "execution_count": 27,
     "metadata": {},
     "output_type": "execute_result"
    }
   ],
   "source": [
    "dummy_data"
   ]
  },
  {
   "cell_type": "code",
   "execution_count": 26,
   "metadata": {},
   "outputs": [],
   "source": [
    "dummy_data.to_csv('ann_HeartDisease.csv')"
   ]
  },
  {
   "cell_type": "code",
   "execution_count": 25,
   "metadata": {},
   "outputs": [],
   "source": [
    "x = dummy_data.drop(['target'], axis = 1)\n",
    "y = pd.DataFrame(dummy_data['target'])"
   ]
  },
  {
   "cell_type": "code",
   "execution_count": 26,
   "metadata": {},
   "outputs": [
    {
     "data": {
      "text/plain": [
       "(284, 22)"
      ]
     },
     "execution_count": 26,
     "metadata": {},
     "output_type": "execute_result"
    }
   ],
   "source": [
    "x.shape"
   ]
  },
  {
   "cell_type": "code",
   "execution_count": 27,
   "metadata": {},
   "outputs": [
    {
     "data": {
      "text/plain": [
       "(284, 1)"
      ]
     },
     "execution_count": 27,
     "metadata": {},
     "output_type": "execute_result"
    }
   ],
   "source": [
    "y.shape"
   ]
  },
  {
   "cell_type": "code",
   "execution_count": null,
   "metadata": {},
   "outputs": [],
   "source": [
    "speak('sir........creating ....functions')"
   ]
  },
  {
   "cell_type": "markdown",
   "metadata": {},
   "source": [
    "# FUNCTIONS"
   ]
  },
  {
   "cell_type": "code",
   "execution_count": 28,
   "metadata": {},
   "outputs": [],
   "source": [
    "def shape(x_train,x_test,y_train,y_test):\n",
    "    print('x_train : ',x_train.shape)\n",
    "    print('x_test : ',x_test.shape)\n",
    "    print('y_train : ',y_train.shape)\n",
    "    print('y_test : ',y_test.shape)"
   ]
  },
  {
   "cell_type": "code",
   "execution_count": 29,
   "metadata": {},
   "outputs": [],
   "source": [
    "plt.rcParams['figure.figsize'] = [10,5]\n",
    "from sklearn.metrics import confusion_matrix\n",
    "from matplotlib.colors import ListedColormap\n",
    "def confuse_matrices(model):\n",
    "    cm = confusion_matrix(y_test,y_predicted)\n",
    "    conf_matri = pd.DataFrame(data = cm, columns=['predict 0 ', 'predict 1'], index = ['actual 0', 'actual 1'])\n",
    "    sns.heatmap(conf_matri,annot=True,fmt = 'd',cmap = ListedColormap(['lightskyblue']) ,cbar = False, linewidths= 0.1, annot_kws= {'size':25})\n",
    "    plt.xticks(fontsize = 20)\n",
    "    plt.yticks(fontsize = 20)\n",
    "    plt.show"
   ]
  },
  {
   "cell_type": "code",
   "execution_count": 30,
   "metadata": {},
   "outputs": [],
   "source": [
    "from sklearn.metrics import classification_report \n",
    "def score(model):\n",
    "    return(classification_report(y_test,y_predicted))"
   ]
  },
  {
   "cell_type": "code",
   "execution_count": 31,
   "metadata": {},
   "outputs": [],
   "source": [
    "from sklearn.metrics import accuracy_score,precision_score,recall_score,f1_score,auc,cohen_kappa_score,roc_auc_score\n",
    "def scores(model):\n",
    "    print('accuracy_score :', accuracy_score(y_test,y_predicted))\n",
    "    print('precision_score :', precision_score(y_test,y_predicted))\n",
    "    print('recall_score :', recall_score(y_test,y_predicted))\n",
    "    print('f1_score :', f1_score(y_test,y_predicted))\n",
    "    print('cohen_kappa_score: ',cohen_kappa_score(y_test,y_predicted))\n",
    "    print( 'roc_auc_score : ',roc_auc_score(y_test,y_predicted))"
   ]
  },
  {
   "cell_type": "code",
   "execution_count": 32,
   "metadata": {},
   "outputs": [],
   "source": [
    "def result(model):\n",
    "    result = pd.DataFrame({'models':[model_name],\n",
    "                       'accuracy_score': [accuracy_score(y_test,y_predicted)],\n",
    "                       'precision_score':[precision_score(y_test,y_predicted)],\n",
    "                      'recall_score':[recall_score(y_test,y_predicted)],\n",
    "                       'f1_score' : [f1_score(y_test,y_predicted)],\n",
    "                      'cohen_kappa_score':[cohen_kappa_score(y_test,y_predicted)],\n",
    "                      'roc_auc_score':[roc_auc_score(y_test,y_predicted)]})\n",
    "    return result"
   ]
  },
  {
   "cell_type": "code",
   "execution_count": null,
   "metadata": {},
   "outputs": [],
   "source": []
  },
  {
   "cell_type": "code",
   "execution_count": 33,
   "metadata": {},
   "outputs": [],
   "source": [
    "from sklearn.metrics import roc_auc_score,roc_curve\n",
    "def plt_roc(model):\n",
    "    fpr,tpr,thresholds = roc_curve(y_test,y_predicted)\n",
    "    plt.plot(fpr,tpr)\n",
    "    plt.xlim([0.0,1.0])\n",
    "    plt.ylim([0.0,1.0])\n",
    "    plt.plot([0,1],[0,1],'r--')\n",
    "    plt.title('roc_curve', fontsize = 15)\n",
    "    plt.xlabel('false positive rate', fontsize = 15)\n",
    "    plt.ylabel('true positive rate', fontsize = 15)\n",
    "    roc_score = roc_auc_score(y_test,y_predicted)\n",
    "    plt.text(x = 0.2,y = 0.9 , s = ('AUC score',round(roc_score,3)))\n",
    "    plt.grid(True)"
   ]
  },
  {
   "cell_type": "code",
   "execution_count": null,
   "metadata": {},
   "outputs": [],
   "source": []
  },
  {
   "cell_type": "code",
   "execution_count": null,
   "metadata": {},
   "outputs": [],
   "source": [
    "speak('creating 1 st  model - Descion Tree')"
   ]
  },
  {
   "cell_type": "markdown",
   "metadata": {},
   "source": [
    "# model - 1 .., DESCION TREE"
   ]
  },
  {
   "cell_type": "code",
   "execution_count": 34,
   "metadata": {},
   "outputs": [],
   "source": [
    "from sklearn.model_selection import train_test_split\n",
    "x_train,x_test,y_train,y_test = train_test_split(x,y, test_size = 0.3, random_state = 10)"
   ]
  },
  {
   "cell_type": "code",
   "execution_count": 35,
   "metadata": {},
   "outputs": [],
   "source": [
    "def shape(x_train,x_test,y_train,y_test):\n",
    "    print('x_train : ',x_train.shape)\n",
    "    print('x_test : ',x_test.shape)\n",
    "    print('y_train : ',y_train.shape)\n",
    "    print('y_test : ',y_test.shape)\n",
    "    "
   ]
  },
  {
   "cell_type": "code",
   "execution_count": 36,
   "metadata": {},
   "outputs": [
    {
     "name": "stdout",
     "output_type": "stream",
     "text": [
      "x_train :  (198, 22)\n",
      "x_test :  (86, 22)\n",
      "y_train :  (198, 1)\n",
      "y_test :  (86, 1)\n"
     ]
    }
   ],
   "source": [
    "shape(x_train,x_test,y_train,y_test)"
   ]
  },
  {
   "cell_type": "code",
   "execution_count": null,
   "metadata": {},
   "outputs": [],
   "source": []
  },
  {
   "cell_type": "code",
   "execution_count": 37,
   "metadata": {},
   "outputs": [],
   "source": [
    "from sklearn.tree import DecisionTreeClassifier"
   ]
  },
  {
   "cell_type": "code",
   "execution_count": 38,
   "metadata": {},
   "outputs": [],
   "source": [
    "descion_tree = DecisionTreeClassifier(criterion='entropy',random_state= 10)\n",
    "descion_tree_model = descion_tree.fit(x_train,y_train)"
   ]
  },
  {
   "cell_type": "raw",
   "metadata": {},
   "source": [
    "# from sklearn import tree\n",
    "from sklearn.tree import plot_tree\n",
    "lables = x_train.columns\n",
    "\n",
    "# plot the decision tree \n",
    "fig = plt.figure(figsize=(20,20))\n",
    "graph = tree.plot_tree(descion_tree_model, \n",
    "                   feature_names=lables,  \n",
    "                   class_names=[\"0\",\"1\"],\n",
    "                   filled=True)data:image/png;base64,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"
   ]
  },
  {
   "cell_type": "code",
   "execution_count": 40,
   "metadata": {},
   "outputs": [],
   "source": [
    "y_predicted = descion_tree_model.predict(x_test)"
   ]
  },
  {
   "cell_type": "markdown",
   "metadata": {},
   "source": [
    "# plot confuse matrices"
   ]
  },
  {
   "cell_type": "code",
   "execution_count": 41,
   "metadata": {},
   "outputs": [],
   "source": [
    "from sklearn.metrics import confusion_matrix\n",
    "from matplotlib.colors import ListedColormap\n",
    "def confuse_matrices(model):\n",
    "    cm = confusion_matrix(y_test,y_predicted)\n",
    "    conf_matri = pd.DataFrame(data = cm, columns=['predict 0 ', 'predict 1'], index = ['actual 0', 'actual 1'])\n",
    "    sns.heatmap(conf_matri,annot=True,fmt = 'd',cmap = ListedColormap(['lightskyblue']) ,cbar = False, linewidths= 0.1, annot_kws= {'size':25})\n",
    "    plt.xticks(fontsize = 20)\n",
    "    plt.yticks(fontsize = 20)\n",
    "    plt.show"
   ]
  },
  {
   "cell_type": "code",
   "execution_count": 42,
   "metadata": {},
   "outputs": [
    {
     "data": {
      "image/png": "[encoded data removed]",
      "text/plain": [
       "<Figure size 720x360 with 1 Axes>"
      ]
     },
     "metadata": {
      "needs_background": "light"
     },
     "output_type": "display_data"
    }
   ],
   "source": [
    "plt.rcParams['figure.figsize'] = [10,5]\n",
    "confuse_matrices(descion_tree_model)"
   ]
  },
  {
   "cell_type": "code",
   "execution_count": 43,
   "metadata": {},
   "outputs": [],
   "source": [
    "from sklearn.metrics import classification_report \n",
    "def score(model):\n",
    "    return(classification_report(y_test,y_predicted))"
   ]
  },
  {
   "cell_type": "code",
   "execution_count": 44,
   "metadata": {},
   "outputs": [
    {
     "name": "stdout",
     "output_type": "stream",
     "text": [
      "              precision    recall  f1-score   support\n",
      "\n",
      "           0       0.68      0.76      0.72        42\n",
      "           1       0.74      0.66      0.70        44\n",
      "\n",
      "    accuracy                           0.71        86\n",
      "   macro avg       0.71      0.71      0.71        86\n",
      "weighted avg       0.71      0.71      0.71        86\n",
      "\n"
     ]
    }
   ],
   "source": [
    "print(score(descion_tree_model))"
   ]
  },
  {
   "cell_type": "code",
   "execution_count": 45,
   "metadata": {},
   "outputs": [],
   "source": [
    "from sklearn.metrics import accuracy_score,precision_score,recall_score,f1_score,auc,cohen_kappa_score,roc_auc_score\n",
    "def scores(model):\n",
    "    print('accuracy_score :', accuracy_score(y_test,y_predicted))\n",
    "    print('precision_score :', precision_score(y_test,y_predicted))\n",
    "    print('recall_score :', recall_score(y_test,y_predicted))\n",
    "    print('f1_score :', f1_score(y_test,y_predicted))\n",
    "    print('cohen_kappa_score: ',cohen_kappa_score(y_test,y_predicted))\n",
    "    print( 'roc_auc_score : ',roc_auc_score(y_test,y_predicted))"
   ]
  },
  {
   "cell_type": "code",
   "execution_count": 46,
   "metadata": {},
   "outputs": [
    {
     "name": "stdout",
     "output_type": "stream",
     "text": [
      "accuracy_score : 0.7093023255813954\n",
      "precision_score : 0.7435897435897436\n",
      "recall_score : 0.6590909090909091\n",
      "f1_score : 0.6987951807228915\n",
      "cohen_kappa_score:  0.41985968699406373\n",
      "roc_auc_score :  0.7104978354978355\n"
     ]
    }
   ],
   "source": [
    "scores(descion_tree_model)"
   ]
  },
  {
   "cell_type": "code",
   "execution_count": 47,
   "metadata": {},
   "outputs": [],
   "source": [
    "model_name = 'descion_tree_model'"
   ]
  },
  {
   "cell_type": "code",
   "execution_count": 48,
   "metadata": {},
   "outputs": [],
   "source": [
    "def result(model):\n",
    "    result = pd.DataFrame({'models':[model_name],\n",
    "                       'accuracy_score': [accuracy_score(y_test,y_predicted)],\n",
    "                       'precision_score':[precision_score(y_test,y_predicted)],\n",
    "                      'recall_score':[recall_score(y_test,y_predicted)],\n",
    "                       'f1_score' : [f1_score(y_test,y_predicted)],\n",
    "                      'cohen_kappa_score':[cohen_kappa_score(y_test,y_predicted)],\n",
    "                      'roc_auc_score':[roc_auc_score(y_test,y_predicted)]})\n",
    "    return result\n",
    "    "
   ]
  },
  {
   "cell_type": "code",
   "execution_count": 49,
   "metadata": {},
   "outputs": [],
   "source": [
    "model_1 = result(descion_tree_model)"
   ]
  },
  {
   "cell_type": "code",
   "execution_count": 50,
   "metadata": {},
   "outputs": [],
   "source": [
    "results = pd.DataFrame(columns=  ['models','accuracy_score','precision_score','recall_score','f1_score','cohen_kappa_score','roc_auc_score'])"
   ]
  },
  {
   "cell_type": "code",
   "execution_count": 51,
   "metadata": {},
   "outputs": [
    {
     "data": {
      "text/html": [
       "<div>\n",
       "<style scoped>\n",
       "    .dataframe tbody tr th:only-of-type {\n",
       "        vertical-align: middle;\n",
       "    }\n",
       "\n",
       "    .dataframe tbody tr th {\n",
       "        vertical-align: top;\n",
       "    }\n",
       "\n",
       "    .dataframe thead th {\n",
       "        text-align: right;\n",
       "    }\n",
       "</style>\n",
       "<table border=\"1\" class=\"dataframe\">\n",
       "  <thead>\n",
       "    <tr style=\"text-align: right;\">\n",
       "      <th></th>\n",
       "      <th>models</th>\n",
       "      <th>accuracy_score</th>\n",
       "      <th>precision_score</th>\n",
       "      <th>recall_score</th>\n",
       "      <th>f1_score</th>\n",
       "      <th>cohen_kappa_score</th>\n",
       "      <th>roc_auc_score</th>\n",
       "    </tr>\n",
       "  </thead>\n",
       "  <tbody>\n",
       "    <tr>\n",
       "      <th>0</th>\n",
       "      <td>descion_tree_model</td>\n",
       "      <td>0.709302</td>\n",
       "      <td>0.74359</td>\n",
       "      <td>0.659091</td>\n",
       "      <td>0.698795</td>\n",
       "      <td>0.41986</td>\n",
       "      <td>0.710498</td>\n",
       "    </tr>\n",
       "  </tbody>\n",
       "</table>\n",
       "</div>"
      ],
      "text/plain": [
       "               models  accuracy_score  precision_score  recall_score  \\\n",
       "0  descion_tree_model        0.709302          0.74359      0.659091   \n",
       "\n",
       "   f1_score  cohen_kappa_score  roc_auc_score  \n",
       "0  0.698795            0.41986       0.710498  "
      ]
     },
     "execution_count": 51,
     "metadata": {},
     "output_type": "execute_result"
    }
   ],
   "source": [
    "results = results.append(model_1)\n",
    "results"
   ]
  },
  {
   "cell_type": "code",
   "execution_count": null,
   "metadata": {},
   "outputs": [],
   "source": [
    "speak('prune the descion tree')"
   ]
  },
  {
   "cell_type": "code",
   "execution_count": null,
   "metadata": {},
   "outputs": [],
   "source": []
  },
  {
   "cell_type": "markdown",
   "metadata": {},
   "source": [
    "# prune the descion tree"
   ]
  },
  {
   "cell_type": "code",
   "execution_count": 52,
   "metadata": {},
   "outputs": [],
   "source": [
    "prune = DecisionTreeClassifier(max_depth = 5, max_leaf_nodes=25, random_state= 10)\n",
    "descion_tree_model_2 = prune.fit(x_train,y_train)"
   ]
  },
  {
   "cell_type": "code",
   "execution_count": 53,
   "metadata": {},
   "outputs": [
    {
     "data": {
      "text/plain": [
       "array([1, 1, 1, 1, 0, 0, 0, 1, 0, 0, 1, 1, 1, 1, 0, 1, 0, 0, 0, 1, 0, 0,\n",
       "       0, 1, 1, 1, 1, 0, 1, 1, 0, 0, 0, 0, 1, 1, 0, 1, 1, 0, 0, 0, 1, 1,\n",
       "       0, 0, 1, 1, 1, 0, 1, 1, 0, 0, 1, 1, 1, 0, 0, 0, 1, 0, 1, 1, 0, 1,\n",
       "       1, 1, 0, 0, 0, 1, 0, 0, 1, 0, 0, 1, 0, 0, 1, 0, 0, 1, 0, 0],\n",
       "      dtype=int64)"
      ]
     },
     "execution_count": 53,
     "metadata": {},
     "output_type": "execute_result"
    }
   ],
   "source": [
    "y_predicted = descion_tree_model_2.predict(x_test)\n",
    "y_predicted"
   ]
  },
  {
   "cell_type": "markdown",
   "metadata": {},
   "source": [
    "# lables = x_train.columns\n",
    "\n",
    "# plot the decision tree \n",
    "fig = plt.figure(figsize=(20,20))\n",
    "graph = tree.plot_tree(descion_tree_model_2, \n",
    "                   feature_names=lables,  \n",
    "                   class_names=[\"0\",\"1\"],\n",
    "                   filled=True)"
   ]
  },
  {
   "cell_type": "code",
   "execution_count": null,
   "metadata": {},
   "outputs": [],
   "source": []
  },
  {
   "cell_type": "code",
   "execution_count": 55,
   "metadata": {},
   "outputs": [
    {
     "data": {
      "image/png": "[encoded data removed]",
      "text/plain": [
       "<Figure size 720x360 with 1 Axes>"
      ]
     },
     "metadata": {
      "needs_background": "light"
     },
     "output_type": "display_data"
    }
   ],
   "source": [
    "confuse_matrices(descion_tree_model_2)"
   ]
  },
  {
   "cell_type": "code",
   "execution_count": 56,
   "metadata": {},
   "outputs": [
    {
     "name": "stdout",
     "output_type": "stream",
     "text": [
      "accuracy_score : 0.7209302325581395\n",
      "precision_score : 0.7380952380952381\n",
      "recall_score : 0.7045454545454546\n",
      "f1_score : 0.7209302325581395\n",
      "cohen_kappa_score:  0.4421621621621622\n",
      "roc_auc_score :  0.7213203463203464\n"
     ]
    }
   ],
   "source": [
    "scores(descion_tree_model_2)"
   ]
  },
  {
   "cell_type": "code",
   "execution_count": 57,
   "metadata": {},
   "outputs": [],
   "source": [
    "model_name = 'descion_tree_model_2'"
   ]
  },
  {
   "cell_type": "code",
   "execution_count": 58,
   "metadata": {},
   "outputs": [],
   "source": [
    "model_2 = result(descion_tree_model_2)"
   ]
  },
  {
   "cell_type": "code",
   "execution_count": 59,
   "metadata": {},
   "outputs": [
    {
     "data": {
      "text/html": [
       "<div>\n",
       "<style scoped>\n",
       "    .dataframe tbody tr th:only-of-type {\n",
       "        vertical-align: middle;\n",
       "    }\n",
       "\n",
       "    .dataframe tbody tr th {\n",
       "        vertical-align: top;\n",
       "    }\n",
       "\n",
       "    .dataframe thead th {\n",
       "        text-align: right;\n",
       "    }\n",
       "</style>\n",
       "<table border=\"1\" class=\"dataframe\">\n",
       "  <thead>\n",
       "    <tr style=\"text-align: right;\">\n",
       "      <th></th>\n",
       "      <th>models</th>\n",
       "      <th>accuracy_score</th>\n",
       "      <th>precision_score</th>\n",
       "      <th>recall_score</th>\n",
       "      <th>f1_score</th>\n",
       "      <th>cohen_kappa_score</th>\n",
       "      <th>roc_auc_score</th>\n",
       "    </tr>\n",
       "  </thead>\n",
       "  <tbody>\n",
       "    <tr>\n",
       "      <th>0</th>\n",
       "      <td>descion_tree_model</td>\n",
       "      <td>0.709302</td>\n",
       "      <td>0.743590</td>\n",
       "      <td>0.659091</td>\n",
       "      <td>0.698795</td>\n",
       "      <td>0.419860</td>\n",
       "      <td>0.710498</td>\n",
       "    </tr>\n",
       "    <tr>\n",
       "      <th>0</th>\n",
       "      <td>descion_tree_model_2</td>\n",
       "      <td>0.720930</td>\n",
       "      <td>0.738095</td>\n",
       "      <td>0.704545</td>\n",
       "      <td>0.720930</td>\n",
       "      <td>0.442162</td>\n",
       "      <td>0.721320</td>\n",
       "    </tr>\n",
       "  </tbody>\n",
       "</table>\n",
       "</div>"
      ],
      "text/plain": [
       "                 models  accuracy_score  precision_score  recall_score  \\\n",
       "0    descion_tree_model        0.709302         0.743590      0.659091   \n",
       "0  descion_tree_model_2        0.720930         0.738095      0.704545   \n",
       "\n",
       "   f1_score  cohen_kappa_score  roc_auc_score  \n",
       "0  0.698795           0.419860       0.710498  \n",
       "0  0.720930           0.442162       0.721320  "
      ]
     },
     "execution_count": 59,
     "metadata": {},
     "output_type": "execute_result"
    }
   ],
   "source": [
    "results = results.append(model_2)\n",
    "results"
   ]
  },
  {
   "cell_type": "markdown",
   "metadata": {},
   "source": [
    "# descion tree (grid search)"
   ]
  },
  {
   "cell_type": "markdown",
   "metadata": {},
   "source": [
    "# tuned_parameters = [{'criterion':['gini','entropy'], \n",
    "                     'min_samples_split':[10,20,30],\n",
    "                    'max_depth':[3,5,7,9],\n",
    "                    'min_samples_leaf':[15,20,25,30,35],\n",
    "                    'max_leaf_nodes': [5,10,15,20,25]}]"
   ]
  },
  {
   "cell_type": "markdown",
   "metadata": {},
   "source": [
    "descion_tree_classifier  = DecisionTreeClassifier(random_state= 10)"
   ]
  },
  {
   "cell_type": "markdown",
   "metadata": {},
   "source": [
    "from sklearn.model_selection import GridSearchCV"
   ]
  },
  {
   "cell_type": "markdown",
   "metadata": {},
   "source": [
    "grid = GridSearchCV(estimator = descion_tree_classifier,param_grid = tuned_parameters, cv = 10 )"
   ]
  },
  {
   "cell_type": "markdown",
   "metadata": {},
   "source": [
    "dt_grid = grid.fit(x_train,y_train)"
   ]
  },
  {
   "cell_type": "markdown",
   "metadata": {},
   "source": [
    "dt_grid.best_params_"
   ]
  },
  {
   "cell_type": "markdown",
   "metadata": {},
   "source": [
    "grid_model = DecisionTreeClassifier(criterion =  'gini',max_depth =  3, max_leaf_nodes =  5,min_samples_leaf = 25,min_samples_split = 10)"
   ]
  },
  {
   "cell_type": "raw",
   "metadata": {},
   "source": [
    "descion_tree_model_3 = grid_model.fit(x_train,y_train)"
   ]
  },
  {
   "cell_type": "markdown",
   "metadata": {},
   "source": [
    "# fig = plt.figure(figsize=(20,20))\n",
    "figure = tree.plot_tree(descion_tree_model_3,\n",
    "                        feature_names = x_train.columns,\n",
    "                       class_names = ['0','1'],\n",
    "                       filled = True)"
   ]
  },
  {
   "cell_type": "code",
   "execution_count": 71,
   "metadata": {},
   "outputs": [],
   "source": [
    "y_predicted = descion_tree_model_3.predict(x_test)\n"
   ]
  },
  {
   "cell_type": "code",
   "execution_count": 72,
   "metadata": {},
   "outputs": [
    {
     "data": {
      "image/png": "[encoded data removed]",
      "text/plain": [
       "<Figure size 720x360 with 1 Axes>"
      ]
     },
     "metadata": {
      "needs_background": "light"
     },
     "output_type": "display_data"
    }
   ],
   "source": [
    "confuse_matrices(descion_tree_model_3)"
   ]
  },
  {
   "cell_type": "code",
   "execution_count": null,
   "metadata": {},
   "outputs": [],
   "source": []
  },
  {
   "cell_type": "code",
   "execution_count": 73,
   "metadata": {},
   "outputs": [
    {
     "name": "stdout",
     "output_type": "stream",
     "text": [
      "accuracy_score : 0.7209302325581395\n",
      "precision_score : 0.6785714285714286\n",
      "recall_score : 0.8636363636363636\n",
      "f1_score : 0.76\n",
      "cohen_kappa_score:  0.43790849673202614\n",
      "roc_auc_score :  0.7175324675324675\n"
     ]
    }
   ],
   "source": [
    "scores(descion_tree_model_3)"
   ]
  },
  {
   "cell_type": "code",
   "execution_count": 74,
   "metadata": {},
   "outputs": [
    {
     "name": "stdout",
     "output_type": "stream",
     "text": [
      "              precision    recall  f1-score   support\n",
      "\n",
      "           0       0.80      0.57      0.67        42\n",
      "           1       0.68      0.86      0.76        44\n",
      "\n",
      "    accuracy                           0.72        86\n",
      "   macro avg       0.74      0.72      0.71        86\n",
      "weighted avg       0.74      0.72      0.71        86\n",
      "\n"
     ]
    }
   ],
   "source": [
    "print(score(descion_tree_model_3))"
   ]
  },
  {
   "cell_type": "code",
   "execution_count": 75,
   "metadata": {},
   "outputs": [],
   "source": [
    "model_name = 'descion_tree_model_3'\n",
    "model_3 = result(descion_tree_model_2)"
   ]
  },
  {
   "cell_type": "code",
   "execution_count": 76,
   "metadata": {},
   "outputs": [
    {
     "data": {
      "text/html": [
       "<div>\n",
       "<style scoped>\n",
       "    .dataframe tbody tr th:only-of-type {\n",
       "        vertical-align: middle;\n",
       "    }\n",
       "\n",
       "    .dataframe tbody tr th {\n",
       "        vertical-align: top;\n",
       "    }\n",
       "\n",
       "    .dataframe thead th {\n",
       "        text-align: right;\n",
       "    }\n",
       "</style>\n",
       "<table border=\"1\" class=\"dataframe\">\n",
       "  <thead>\n",
       "    <tr style=\"text-align: right;\">\n",
       "      <th></th>\n",
       "      <th>models</th>\n",
       "      <th>accuracy_score</th>\n",
       "      <th>precision_score</th>\n",
       "      <th>recall_score</th>\n",
       "      <th>f1_score</th>\n",
       "      <th>cohen_kappa_score</th>\n",
       "      <th>roc_auc_score</th>\n",
       "    </tr>\n",
       "  </thead>\n",
       "  <tbody>\n",
       "    <tr>\n",
       "      <th>0</th>\n",
       "      <td>descion_tree_model_3</td>\n",
       "      <td>0.72093</td>\n",
       "      <td>0.678571</td>\n",
       "      <td>0.863636</td>\n",
       "      <td>0.76</td>\n",
       "      <td>0.437908</td>\n",
       "      <td>0.717532</td>\n",
       "    </tr>\n",
       "  </tbody>\n",
       "</table>\n",
       "</div>"
      ],
      "text/plain": [
       "                 models  accuracy_score  precision_score  recall_score  \\\n",
       "0  descion_tree_model_3         0.72093         0.678571      0.863636   \n",
       "\n",
       "   f1_score  cohen_kappa_score  roc_auc_score  \n",
       "0      0.76           0.437908       0.717532  "
      ]
     },
     "execution_count": 76,
     "metadata": {},
     "output_type": "execute_result"
    }
   ],
   "source": [
    "model_3"
   ]
  },
  {
   "cell_type": "code",
   "execution_count": 77,
   "metadata": {},
   "outputs": [
    {
     "data": {
      "text/html": [
       "<div>\n",
       "<style scoped>\n",
       "    .dataframe tbody tr th:only-of-type {\n",
       "        vertical-align: middle;\n",
       "    }\n",
       "\n",
       "    .dataframe tbody tr th {\n",
       "        vertical-align: top;\n",
       "    }\n",
       "\n",
       "    .dataframe thead th {\n",
       "        text-align: right;\n",
       "    }\n",
       "</style>\n",
       "<table border=\"1\" class=\"dataframe\">\n",
       "  <thead>\n",
       "    <tr style=\"text-align: right;\">\n",
       "      <th></th>\n",
       "      <th>models</th>\n",
       "      <th>accuracy_score</th>\n",
       "      <th>precision_score</th>\n",
       "      <th>recall_score</th>\n",
       "      <th>f1_score</th>\n",
       "      <th>cohen_kappa_score</th>\n",
       "      <th>roc_auc_score</th>\n",
       "    </tr>\n",
       "  </thead>\n",
       "  <tbody>\n",
       "    <tr>\n",
       "      <th>0</th>\n",
       "      <td>descion_tree_model</td>\n",
       "      <td>0.709302</td>\n",
       "      <td>0.743590</td>\n",
       "      <td>0.659091</td>\n",
       "      <td>0.698795</td>\n",
       "      <td>0.419860</td>\n",
       "      <td>0.710498</td>\n",
       "    </tr>\n",
       "    <tr>\n",
       "      <th>0</th>\n",
       "      <td>descion_tree_model_2</td>\n",
       "      <td>0.720930</td>\n",
       "      <td>0.738095</td>\n",
       "      <td>0.704545</td>\n",
       "      <td>0.720930</td>\n",
       "      <td>0.442162</td>\n",
       "      <td>0.721320</td>\n",
       "    </tr>\n",
       "    <tr>\n",
       "      <th>0</th>\n",
       "      <td>descion_tree_model_3</td>\n",
       "      <td>0.720930</td>\n",
       "      <td>0.678571</td>\n",
       "      <td>0.863636</td>\n",
       "      <td>0.760000</td>\n",
       "      <td>0.437908</td>\n",
       "      <td>0.717532</td>\n",
       "    </tr>\n",
       "  </tbody>\n",
       "</table>\n",
       "</div>"
      ],
      "text/plain": [
       "                 models  accuracy_score  precision_score  recall_score  \\\n",
       "0    descion_tree_model        0.709302         0.743590      0.659091   \n",
       "0  descion_tree_model_2        0.720930         0.738095      0.704545   \n",
       "0  descion_tree_model_3        0.720930         0.678571      0.863636   \n",
       "\n",
       "   f1_score  cohen_kappa_score  roc_auc_score  \n",
       "0  0.698795           0.419860       0.710498  \n",
       "0  0.720930           0.442162       0.721320  \n",
       "0  0.760000           0.437908       0.717532  "
      ]
     },
     "execution_count": 77,
     "metadata": {},
     "output_type": "execute_result"
    }
   ],
   "source": [
    "results = results.append(model_3)\n",
    "results"
   ]
  },
  {
   "cell_type": "code",
   "execution_count": null,
   "metadata": {},
   "outputs": [],
   "source": []
  },
  {
   "cell_type": "code",
   "execution_count": null,
   "metadata": {},
   "outputs": [],
   "source": []
  },
  {
   "cell_type": "code",
   "execution_count": null,
   "metadata": {},
   "outputs": [],
   "source": [
    "speak('creating model -............-LOGISTIC REGRESSION')"
   ]
  },
  {
   "cell_type": "markdown",
   "metadata": {},
   "source": [
    "# LOGISTIC REGRESSION"
   ]
  },
  {
   "cell_type": "code",
   "execution_count": 78,
   "metadata": {},
   "outputs": [],
   "source": [
    "from sklearn.linear_model import LogisticRegression\n",
    "log_mdl = LogisticRegression()"
   ]
  },
  {
   "cell_type": "code",
   "execution_count": 79,
   "metadata": {},
   "outputs": [],
   "source": [
    "log_train = log_mdl.fit(x_train,y_train)"
   ]
  },
  {
   "cell_type": "code",
   "execution_count": 80,
   "metadata": {},
   "outputs": [],
   "source": [
    "y_predicted = log_train.predict(x_test)"
   ]
  },
  {
   "cell_type": "code",
   "execution_count": 81,
   "metadata": {},
   "outputs": [
    {
     "data": {
      "image/png": "[encoded data removed]",
      "text/plain": [
       "<Figure size 720x360 with 1 Axes>"
      ]
     },
     "metadata": {
      "needs_background": "light"
     },
     "output_type": "display_data"
    }
   ],
   "source": [
    "confuse_matrices(log_mdl)"
   ]
  },
  {
   "cell_type": "code",
   "execution_count": 82,
   "metadata": {},
   "outputs": [
    {
     "data": {
      "image/png": "[encoded data removed]",
      "text/plain": [
       "<Figure size 720x360 with 1 Axes>"
      ]
     },
     "metadata": {
      "needs_background": "light"
     },
     "output_type": "display_data"
    }
   ],
   "source": [
    "plt_roc(log_mdl)"
   ]
  },
  {
   "cell_type": "code",
   "execution_count": 83,
   "metadata": {},
   "outputs": [
    {
     "name": "stdout",
     "output_type": "stream",
     "text": [
      "accuracy_score : 0.8255813953488372\n",
      "precision_score : 0.8085106382978723\n",
      "recall_score : 0.8636363636363636\n",
      "f1_score : 0.8351648351648351\n",
      "cohen_kappa_score:  0.6504065040650406\n",
      "roc_auc_score :  0.8246753246753247\n"
     ]
    }
   ],
   "source": [
    "scores(log_mdl)"
   ]
  },
  {
   "cell_type": "code",
   "execution_count": 84,
   "metadata": {},
   "outputs": [
    {
     "name": "stdout",
     "output_type": "stream",
     "text": [
      "              precision    recall  f1-score   support\n",
      "\n",
      "           0       0.85      0.79      0.81        42\n",
      "           1       0.81      0.86      0.84        44\n",
      "\n",
      "    accuracy                           0.83        86\n",
      "   macro avg       0.83      0.82      0.82        86\n",
      "weighted avg       0.83      0.83      0.83        86\n",
      "\n"
     ]
    }
   ],
   "source": [
    "print(score(log_mdl))"
   ]
  },
  {
   "cell_type": "code",
   "execution_count": 85,
   "metadata": {},
   "outputs": [],
   "source": [
    "model_name = 'log_mdl'\n",
    "model_4 = result(log_mdl)"
   ]
  },
  {
   "cell_type": "code",
   "execution_count": 86,
   "metadata": {},
   "outputs": [],
   "source": [
    "results = results.append(model_4)"
   ]
  },
  {
   "cell_type": "code",
   "execution_count": 87,
   "metadata": {},
   "outputs": [
    {
     "data": {
      "text/html": [
       "<div>\n",
       "<style scoped>\n",
       "    .dataframe tbody tr th:only-of-type {\n",
       "        vertical-align: middle;\n",
       "    }\n",
       "\n",
       "    .dataframe tbody tr th {\n",
       "        vertical-align: top;\n",
       "    }\n",
       "\n",
       "    .dataframe thead th {\n",
       "        text-align: right;\n",
       "    }\n",
       "</style>\n",
       "<table border=\"1\" class=\"dataframe\">\n",
       "  <thead>\n",
       "    <tr style=\"text-align: right;\">\n",
       "      <th></th>\n",
       "      <th>models</th>\n",
       "      <th>accuracy_score</th>\n",
       "      <th>precision_score</th>\n",
       "      <th>recall_score</th>\n",
       "      <th>f1_score</th>\n",
       "      <th>cohen_kappa_score</th>\n",
       "      <th>roc_auc_score</th>\n",
       "    </tr>\n",
       "  </thead>\n",
       "  <tbody>\n",
       "    <tr>\n",
       "      <th>0</th>\n",
       "      <td>descion_tree_model</td>\n",
       "      <td>0.709302</td>\n",
       "      <td>0.743590</td>\n",
       "      <td>0.659091</td>\n",
       "      <td>0.698795</td>\n",
       "      <td>0.419860</td>\n",
       "      <td>0.710498</td>\n",
       "    </tr>\n",
       "    <tr>\n",
       "      <th>0</th>\n",
       "      <td>descion_tree_model_2</td>\n",
       "      <td>0.720930</td>\n",
       "      <td>0.738095</td>\n",
       "      <td>0.704545</td>\n",
       "      <td>0.720930</td>\n",
       "      <td>0.442162</td>\n",
       "      <td>0.721320</td>\n",
       "    </tr>\n",
       "    <tr>\n",
       "      <th>0</th>\n",
       "      <td>descion_tree_model_3</td>\n",
       "      <td>0.720930</td>\n",
       "      <td>0.678571</td>\n",
       "      <td>0.863636</td>\n",
       "      <td>0.760000</td>\n",
       "      <td>0.437908</td>\n",
       "      <td>0.717532</td>\n",
       "    </tr>\n",
       "    <tr>\n",
       "      <th>0</th>\n",
       "      <td>log_mdl</td>\n",
       "      <td>0.825581</td>\n",
       "      <td>0.808511</td>\n",
       "      <td>0.863636</td>\n",
       "      <td>0.835165</td>\n",
       "      <td>0.650407</td>\n",
       "      <td>0.824675</td>\n",
       "    </tr>\n",
       "  </tbody>\n",
       "</table>\n",
       "</div>"
      ],
      "text/plain": [
       "                 models  accuracy_score  precision_score  recall_score  \\\n",
       "0    descion_tree_model        0.709302         0.743590      0.659091   \n",
       "0  descion_tree_model_2        0.720930         0.738095      0.704545   \n",
       "0  descion_tree_model_3        0.720930         0.678571      0.863636   \n",
       "0               log_mdl        0.825581         0.808511      0.863636   \n",
       "\n",
       "   f1_score  cohen_kappa_score  roc_auc_score  \n",
       "0  0.698795           0.419860       0.710498  \n",
       "0  0.720930           0.442162       0.721320  \n",
       "0  0.760000           0.437908       0.717532  \n",
       "0  0.835165           0.650407       0.824675  "
      ]
     },
     "execution_count": 87,
     "metadata": {},
     "output_type": "execute_result"
    }
   ],
   "source": [
    "results"
   ]
  },
  {
   "cell_type": "code",
   "execution_count": null,
   "metadata": {},
   "outputs": [],
   "source": [
    "speak('creating model .............. logistic regression with SGD')"
   ]
  },
  {
   "cell_type": "markdown",
   "metadata": {},
   "source": [
    "# LOGISTIC REGRESSION WITH SGD"
   ]
  },
  {
   "cell_type": "code",
   "execution_count": 88,
   "metadata": {},
   "outputs": [],
   "source": [
    "from sklearn.linear_model import SGDClassifier\n",
    "SGD_mdl= SGDClassifier(loss = 'log', random_state = 10)\n",
    "log_reg_SGD = SGD_mdl.fit(x_train,y_train)"
   ]
  },
  {
   "cell_type": "code",
   "execution_count": 89,
   "metadata": {},
   "outputs": [],
   "source": [
    "y_predicted = log_reg_SGD.predict(x_test)"
   ]
  },
  {
   "cell_type": "code",
   "execution_count": 90,
   "metadata": {},
   "outputs": [
    {
     "data": {
      "image/png": "[encoded data removed]",
      "text/plain": [
       "<Figure size 720x360 with 1 Axes>"
      ]
     },
     "metadata": {
      "needs_background": "light"
     },
     "output_type": "display_data"
    }
   ],
   "source": [
    "confuse_matrices(log_reg_SGD)"
   ]
  },
  {
   "cell_type": "code",
   "execution_count": 91,
   "metadata": {},
   "outputs": [
    {
     "data": {
      "image/png": "[encoded data removed]",
      "text/plain": [
       "<Figure size 720x360 with 1 Axes>"
      ]
     },
     "metadata": {
      "needs_background": "light"
     },
     "output_type": "display_data"
    }
   ],
   "source": [
    "plt_roc(log_reg_SGD)"
   ]
  },
  {
   "cell_type": "code",
   "execution_count": 92,
   "metadata": {},
   "outputs": [
    {
     "name": "stdout",
     "output_type": "stream",
     "text": [
      "accuracy_score : 0.5348837209302325\n",
      "precision_score : 0.8333333333333334\n",
      "recall_score : 0.11363636363636363\n",
      "f1_score : 0.19999999999999998\n",
      "cohen_kappa_score:  0.08801696712619311\n",
      "roc_auc_score :  0.5449134199134198\n"
     ]
    }
   ],
   "source": [
    "scores(log_reg_SGD)"
   ]
  },
  {
   "cell_type": "code",
   "execution_count": 93,
   "metadata": {},
   "outputs": [
    {
     "name": "stdout",
     "output_type": "stream",
     "text": [
      "              precision    recall  f1-score   support\n",
      "\n",
      "           0       0.51      0.98      0.67        42\n",
      "           1       0.83      0.11      0.20        44\n",
      "\n",
      "    accuracy                           0.53        86\n",
      "   macro avg       0.67      0.54      0.44        86\n",
      "weighted avg       0.68      0.53      0.43        86\n",
      "\n"
     ]
    }
   ],
   "source": [
    "print(score(log_reg_SGD))"
   ]
  },
  {
   "cell_type": "code",
   "execution_count": 94,
   "metadata": {},
   "outputs": [],
   "source": [
    "model_name = 'log_reg_SGD'\n",
    "model_5 = result(log_reg_SGD)"
   ]
  },
  {
   "cell_type": "code",
   "execution_count": 95,
   "metadata": {},
   "outputs": [],
   "source": [
    "results = results.append(model_5)"
   ]
  },
  {
   "cell_type": "code",
   "execution_count": 96,
   "metadata": {},
   "outputs": [
    {
     "data": {
      "text/html": [
       "<div>\n",
       "<style scoped>\n",
       "    .dataframe tbody tr th:only-of-type {\n",
       "        vertical-align: middle;\n",
       "    }\n",
       "\n",
       "    .dataframe tbody tr th {\n",
       "        vertical-align: top;\n",
       "    }\n",
       "\n",
       "    .dataframe thead th {\n",
       "        text-align: right;\n",
       "    }\n",
       "</style>\n",
       "<table border=\"1\" class=\"dataframe\">\n",
       "  <thead>\n",
       "    <tr style=\"text-align: right;\">\n",
       "      <th></th>\n",
       "      <th>models</th>\n",
       "      <th>accuracy_score</th>\n",
       "      <th>precision_score</th>\n",
       "      <th>recall_score</th>\n",
       "      <th>f1_score</th>\n",
       "      <th>cohen_kappa_score</th>\n",
       "      <th>roc_auc_score</th>\n",
       "    </tr>\n",
       "  </thead>\n",
       "  <tbody>\n",
       "    <tr>\n",
       "      <th>0</th>\n",
       "      <td>descion_tree_model</td>\n",
       "      <td>0.709302</td>\n",
       "      <td>0.743590</td>\n",
       "      <td>0.659091</td>\n",
       "      <td>0.698795</td>\n",
       "      <td>0.419860</td>\n",
       "      <td>0.710498</td>\n",
       "    </tr>\n",
       "    <tr>\n",
       "      <th>0</th>\n",
       "      <td>descion_tree_model_2</td>\n",
       "      <td>0.720930</td>\n",
       "      <td>0.738095</td>\n",
       "      <td>0.704545</td>\n",
       "      <td>0.720930</td>\n",
       "      <td>0.442162</td>\n",
       "      <td>0.721320</td>\n",
       "    </tr>\n",
       "    <tr>\n",
       "      <th>0</th>\n",
       "      <td>descion_tree_model_3</td>\n",
       "      <td>0.720930</td>\n",
       "      <td>0.678571</td>\n",
       "      <td>0.863636</td>\n",
       "      <td>0.760000</td>\n",
       "      <td>0.437908</td>\n",
       "      <td>0.717532</td>\n",
       "    </tr>\n",
       "    <tr>\n",
       "      <th>0</th>\n",
       "      <td>log_mdl</td>\n",
       "      <td>0.825581</td>\n",
       "      <td>0.808511</td>\n",
       "      <td>0.863636</td>\n",
       "      <td>0.835165</td>\n",
       "      <td>0.650407</td>\n",
       "      <td>0.824675</td>\n",
       "    </tr>\n",
       "    <tr>\n",
       "      <th>0</th>\n",
       "      <td>log_reg_SGD</td>\n",
       "      <td>0.534884</td>\n",
       "      <td>0.833333</td>\n",
       "      <td>0.113636</td>\n",
       "      <td>0.200000</td>\n",
       "      <td>0.088017</td>\n",
       "      <td>0.544913</td>\n",
       "    </tr>\n",
       "  </tbody>\n",
       "</table>\n",
       "</div>"
      ],
      "text/plain": [
       "                 models  accuracy_score  precision_score  recall_score  \\\n",
       "0    descion_tree_model        0.709302         0.743590      0.659091   \n",
       "0  descion_tree_model_2        0.720930         0.738095      0.704545   \n",
       "0  descion_tree_model_3        0.720930         0.678571      0.863636   \n",
       "0               log_mdl        0.825581         0.808511      0.863636   \n",
       "0           log_reg_SGD        0.534884         0.833333      0.113636   \n",
       "\n",
       "   f1_score  cohen_kappa_score  roc_auc_score  \n",
       "0  0.698795           0.419860       0.710498  \n",
       "0  0.720930           0.442162       0.721320  \n",
       "0  0.760000           0.437908       0.717532  \n",
       "0  0.835165           0.650407       0.824675  \n",
       "0  0.200000           0.088017       0.544913  "
      ]
     },
     "execution_count": 96,
     "metadata": {},
     "output_type": "execute_result"
    }
   ],
   "source": [
    "results"
   ]
  },
  {
   "cell_type": "code",
   "execution_count": null,
   "metadata": {},
   "outputs": [],
   "source": [
    "speak(' creating ................bagging model ')"
   ]
  },
  {
   "cell_type": "markdown",
   "metadata": {},
   "source": [
    "# BAGGING"
   ]
  },
  {
   "cell_type": "code",
   "execution_count": 97,
   "metadata": {},
   "outputs": [],
   "source": [
    "from sklearn.ensemble import BaggingClassifier\n",
    "from sklearn import tree"
   ]
  },
  {
   "cell_type": "code",
   "execution_count": 98,
   "metadata": {},
   "outputs": [],
   "source": [
    "bagging_classifier = BaggingClassifier(tree.DecisionTreeClassifier(random_state= 10))"
   ]
  },
  {
   "cell_type": "code",
   "execution_count": 99,
   "metadata": {},
   "outputs": [],
   "source": [
    "bagging_model = bagging_classifier.fit(x_train,y_train)"
   ]
  },
  {
   "cell_type": "code",
   "execution_count": 100,
   "metadata": {},
   "outputs": [],
   "source": [
    "y_predicted = bagging_model.predict(x_test)"
   ]
  },
  {
   "cell_type": "code",
   "execution_count": 101,
   "metadata": {},
   "outputs": [
    {
     "data": {
      "image/png": "[encoded data removed]",
      "text/plain": [
       "<Figure size 720x360 with 1 Axes>"
      ]
     },
     "metadata": {
      "needs_background": "light"
     },
     "output_type": "display_data"
    }
   ],
   "source": [
    "confuse_matrices(bagging_model)"
   ]
  },
  {
   "cell_type": "code",
   "execution_count": 102,
   "metadata": {},
   "outputs": [
    {
     "data": {
      "image/png": "[encoded data removed]",
      "text/plain": [
       "<Figure size 720x360 with 1 Axes>"
      ]
     },
     "metadata": {
      "needs_background": "light"
     },
     "output_type": "display_data"
    }
   ],
   "source": [
    "plt_roc(bagging_model)"
   ]
  },
  {
   "cell_type": "code",
   "execution_count": 103,
   "metadata": {},
   "outputs": [
    {
     "name": "stdout",
     "output_type": "stream",
     "text": [
      "              precision    recall  f1-score   support\n",
      "\n",
      "           0       0.73      0.79      0.76        42\n",
      "           1       0.78      0.73      0.75        44\n",
      "\n",
      "    accuracy                           0.76        86\n",
      "   macro avg       0.76      0.76      0.76        86\n",
      "weighted avg       0.76      0.76      0.76        86\n",
      "\n"
     ]
    }
   ],
   "source": [
    "print(score(bagging_model))"
   ]
  },
  {
   "cell_type": "code",
   "execution_count": 104,
   "metadata": {},
   "outputs": [
    {
     "name": "stdout",
     "output_type": "stream",
     "text": [
      "accuracy_score : 0.7558139534883721\n",
      "precision_score : 0.7804878048780488\n",
      "recall_score : 0.7272727272727273\n",
      "f1_score : 0.7529411764705882\n",
      "cohen_kappa_score:  0.5121555915721232\n",
      "roc_auc_score :  0.7564935064935066\n"
     ]
    }
   ],
   "source": [
    "scores(bagging_model)"
   ]
  },
  {
   "cell_type": "code",
   "execution_count": 105,
   "metadata": {},
   "outputs": [],
   "source": [
    "model_name = 'bagging_model'\n",
    "model_6 = result(bagging_model)"
   ]
  },
  {
   "cell_type": "code",
   "execution_count": 106,
   "metadata": {},
   "outputs": [],
   "source": [
    "results = results.append(model_6)"
   ]
  },
  {
   "cell_type": "code",
   "execution_count": 107,
   "metadata": {},
   "outputs": [
    {
     "data": {
      "text/html": [
       "<div>\n",
       "<style scoped>\n",
       "    .dataframe tbody tr th:only-of-type {\n",
       "        vertical-align: middle;\n",
       "    }\n",
       "\n",
       "    .dataframe tbody tr th {\n",
       "        vertical-align: top;\n",
       "    }\n",
       "\n",
       "    .dataframe thead th {\n",
       "        text-align: right;\n",
       "    }\n",
       "</style>\n",
       "<table border=\"1\" class=\"dataframe\">\n",
       "  <thead>\n",
       "    <tr style=\"text-align: right;\">\n",
       "      <th></th>\n",
       "      <th>models</th>\n",
       "      <th>accuracy_score</th>\n",
       "      <th>precision_score</th>\n",
       "      <th>recall_score</th>\n",
       "      <th>f1_score</th>\n",
       "      <th>cohen_kappa_score</th>\n",
       "      <th>roc_auc_score</th>\n",
       "    </tr>\n",
       "  </thead>\n",
       "  <tbody>\n",
       "    <tr>\n",
       "      <th>0</th>\n",
       "      <td>descion_tree_model</td>\n",
       "      <td>0.709302</td>\n",
       "      <td>0.743590</td>\n",
       "      <td>0.659091</td>\n",
       "      <td>0.698795</td>\n",
       "      <td>0.419860</td>\n",
       "      <td>0.710498</td>\n",
       "    </tr>\n",
       "    <tr>\n",
       "      <th>0</th>\n",
       "      <td>descion_tree_model_2</td>\n",
       "      <td>0.720930</td>\n",
       "      <td>0.738095</td>\n",
       "      <td>0.704545</td>\n",
       "      <td>0.720930</td>\n",
       "      <td>0.442162</td>\n",
       "      <td>0.721320</td>\n",
       "    </tr>\n",
       "    <tr>\n",
       "      <th>0</th>\n",
       "      <td>descion_tree_model_3</td>\n",
       "      <td>0.720930</td>\n",
       "      <td>0.678571</td>\n",
       "      <td>0.863636</td>\n",
       "      <td>0.760000</td>\n",
       "      <td>0.437908</td>\n",
       "      <td>0.717532</td>\n",
       "    </tr>\n",
       "    <tr>\n",
       "      <th>0</th>\n",
       "      <td>log_mdl</td>\n",
       "      <td>0.825581</td>\n",
       "      <td>0.808511</td>\n",
       "      <td>0.863636</td>\n",
       "      <td>0.835165</td>\n",
       "      <td>0.650407</td>\n",
       "      <td>0.824675</td>\n",
       "    </tr>\n",
       "    <tr>\n",
       "      <th>0</th>\n",
       "      <td>log_reg_SGD</td>\n",
       "      <td>0.534884</td>\n",
       "      <td>0.833333</td>\n",
       "      <td>0.113636</td>\n",
       "      <td>0.200000</td>\n",
       "      <td>0.088017</td>\n",
       "      <td>0.544913</td>\n",
       "    </tr>\n",
       "    <tr>\n",
       "      <th>0</th>\n",
       "      <td>bagging_model</td>\n",
       "      <td>0.755814</td>\n",
       "      <td>0.780488</td>\n",
       "      <td>0.727273</td>\n",
       "      <td>0.752941</td>\n",
       "      <td>0.512156</td>\n",
       "      <td>0.756494</td>\n",
       "    </tr>\n",
       "  </tbody>\n",
       "</table>\n",
       "</div>"
      ],
      "text/plain": [
       "                 models  accuracy_score  precision_score  recall_score  \\\n",
       "0    descion_tree_model        0.709302         0.743590      0.659091   \n",
       "0  descion_tree_model_2        0.720930         0.738095      0.704545   \n",
       "0  descion_tree_model_3        0.720930         0.678571      0.863636   \n",
       "0               log_mdl        0.825581         0.808511      0.863636   \n",
       "0           log_reg_SGD        0.534884         0.833333      0.113636   \n",
       "0         bagging_model        0.755814         0.780488      0.727273   \n",
       "\n",
       "   f1_score  cohen_kappa_score  roc_auc_score  \n",
       "0  0.698795           0.419860       0.710498  \n",
       "0  0.720930           0.442162       0.721320  \n",
       "0  0.760000           0.437908       0.717532  \n",
       "0  0.835165           0.650407       0.824675  \n",
       "0  0.200000           0.088017       0.544913  \n",
       "0  0.752941           0.512156       0.756494  "
      ]
     },
     "execution_count": 107,
     "metadata": {},
     "output_type": "execute_result"
    }
   ],
   "source": [
    "results"
   ]
  },
  {
   "cell_type": "code",
   "execution_count": null,
   "metadata": {},
   "outputs": [],
   "source": [
    "speak('creating ....... adaboost model')"
   ]
  },
  {
   "cell_type": "markdown",
   "metadata": {},
   "source": [
    "# ADABOOST"
   ]
  },
  {
   "cell_type": "code",
   "execution_count": 108,
   "metadata": {},
   "outputs": [],
   "source": [
    "from sklearn.ensemble import AdaBoostClassifier"
   ]
  },
  {
   "cell_type": "code",
   "execution_count": 109,
   "metadata": {},
   "outputs": [],
   "source": [
    "ADABOOST = AdaBoostClassifier(random_state= 10)"
   ]
  },
  {
   "cell_type": "code",
   "execution_count": 110,
   "metadata": {},
   "outputs": [],
   "source": [
    "ADABOOST_mdl = ADABOOST.fit(x_train,y_train)"
   ]
  },
  {
   "cell_type": "code",
   "execution_count": 111,
   "metadata": {},
   "outputs": [],
   "source": [
    "y_predicted = ADABOOST_mdl.predict(x_test)"
   ]
  },
  {
   "cell_type": "code",
   "execution_count": 112,
   "metadata": {},
   "outputs": [
    {
     "data": {
      "image/png": "[encoded data removed]",
      "text/plain": [
       "<Figure size 720x360 with 1 Axes>"
      ]
     },
     "metadata": {
      "needs_background": "light"
     },
     "output_type": "display_data"
    }
   ],
   "source": [
    "confuse_matrices(ADABOOST)"
   ]
  },
  {
   "cell_type": "code",
   "execution_count": 113,
   "metadata": {},
   "outputs": [
    {
     "data": {
      "image/png": "[encoded data removed]",
      "text/plain": [
       "<Figure size 720x360 with 1 Axes>"
      ]
     },
     "metadata": {
      "needs_background": "light"
     },
     "output_type": "display_data"
    }
   ],
   "source": [
    "plt_roc(ADABOOST)"
   ]
  },
  {
   "cell_type": "code",
   "execution_count": 114,
   "metadata": {},
   "outputs": [
    {
     "name": "stdout",
     "output_type": "stream",
     "text": [
      "accuracy_score : 0.813953488372093\n",
      "precision_score : 0.8333333333333334\n",
      "recall_score : 0.7954545454545454\n",
      "f1_score : 0.8139534883720929\n",
      "cohen_kappa_score:  0.6281081081081081\n",
      "roc_auc_score :  0.8143939393939394\n"
     ]
    }
   ],
   "source": [
    "scores(ADABOOST)"
   ]
  },
  {
   "cell_type": "code",
   "execution_count": 115,
   "metadata": {},
   "outputs": [],
   "source": [
    "model_name = 'ADABOOST'\n",
    "model_7 = result(ADABOOST)"
   ]
  },
  {
   "cell_type": "code",
   "execution_count": 116,
   "metadata": {},
   "outputs": [],
   "source": [
    "results = results.append(model_7)"
   ]
  },
  {
   "cell_type": "code",
   "execution_count": 117,
   "metadata": {},
   "outputs": [
    {
     "data": {
      "text/html": [
       "<div>\n",
       "<style scoped>\n",
       "    .dataframe tbody tr th:only-of-type {\n",
       "        vertical-align: middle;\n",
       "    }\n",
       "\n",
       "    .dataframe tbody tr th {\n",
       "        vertical-align: top;\n",
       "    }\n",
       "\n",
       "    .dataframe thead th {\n",
       "        text-align: right;\n",
       "    }\n",
       "</style>\n",
       "<table border=\"1\" class=\"dataframe\">\n",
       "  <thead>\n",
       "    <tr style=\"text-align: right;\">\n",
       "      <th></th>\n",
       "      <th>models</th>\n",
       "      <th>accuracy_score</th>\n",
       "      <th>precision_score</th>\n",
       "      <th>recall_score</th>\n",
       "      <th>f1_score</th>\n",
       "      <th>cohen_kappa_score</th>\n",
       "      <th>roc_auc_score</th>\n",
       "    </tr>\n",
       "  </thead>\n",
       "  <tbody>\n",
       "    <tr>\n",
       "      <th>0</th>\n",
       "      <td>descion_tree_model</td>\n",
       "      <td>0.709302</td>\n",
       "      <td>0.743590</td>\n",
       "      <td>0.659091</td>\n",
       "      <td>0.698795</td>\n",
       "      <td>0.419860</td>\n",
       "      <td>0.710498</td>\n",
       "    </tr>\n",
       "    <tr>\n",
       "      <th>0</th>\n",
       "      <td>descion_tree_model_2</td>\n",
       "      <td>0.720930</td>\n",
       "      <td>0.738095</td>\n",
       "      <td>0.704545</td>\n",
       "      <td>0.720930</td>\n",
       "      <td>0.442162</td>\n",
       "      <td>0.721320</td>\n",
       "    </tr>\n",
       "    <tr>\n",
       "      <th>0</th>\n",
       "      <td>descion_tree_model_3</td>\n",
       "      <td>0.720930</td>\n",
       "      <td>0.678571</td>\n",
       "      <td>0.863636</td>\n",
       "      <td>0.760000</td>\n",
       "      <td>0.437908</td>\n",
       "      <td>0.717532</td>\n",
       "    </tr>\n",
       "    <tr>\n",
       "      <th>0</th>\n",
       "      <td>log_mdl</td>\n",
       "      <td>0.825581</td>\n",
       "      <td>0.808511</td>\n",
       "      <td>0.863636</td>\n",
       "      <td>0.835165</td>\n",
       "      <td>0.650407</td>\n",
       "      <td>0.824675</td>\n",
       "    </tr>\n",
       "    <tr>\n",
       "      <th>0</th>\n",
       "      <td>log_reg_SGD</td>\n",
       "      <td>0.534884</td>\n",
       "      <td>0.833333</td>\n",
       "      <td>0.113636</td>\n",
       "      <td>0.200000</td>\n",
       "      <td>0.088017</td>\n",
       "      <td>0.544913</td>\n",
       "    </tr>\n",
       "    <tr>\n",
       "      <th>0</th>\n",
       "      <td>bagging_model</td>\n",
       "      <td>0.755814</td>\n",
       "      <td>0.780488</td>\n",
       "      <td>0.727273</td>\n",
       "      <td>0.752941</td>\n",
       "      <td>0.512156</td>\n",
       "      <td>0.756494</td>\n",
       "    </tr>\n",
       "    <tr>\n",
       "      <th>0</th>\n",
       "      <td>ADABOOST</td>\n",
       "      <td>0.813953</td>\n",
       "      <td>0.833333</td>\n",
       "      <td>0.795455</td>\n",
       "      <td>0.813953</td>\n",
       "      <td>0.628108</td>\n",
       "      <td>0.814394</td>\n",
       "    </tr>\n",
       "  </tbody>\n",
       "</table>\n",
       "</div>"
      ],
      "text/plain": [
       "                 models  accuracy_score  precision_score  recall_score  \\\n",
       "0    descion_tree_model        0.709302         0.743590      0.659091   \n",
       "0  descion_tree_model_2        0.720930         0.738095      0.704545   \n",
       "0  descion_tree_model_3        0.720930         0.678571      0.863636   \n",
       "0               log_mdl        0.825581         0.808511      0.863636   \n",
       "0           log_reg_SGD        0.534884         0.833333      0.113636   \n",
       "0         bagging_model        0.755814         0.780488      0.727273   \n",
       "0              ADABOOST        0.813953         0.833333      0.795455   \n",
       "\n",
       "   f1_score  cohen_kappa_score  roc_auc_score  \n",
       "0  0.698795           0.419860       0.710498  \n",
       "0  0.720930           0.442162       0.721320  \n",
       "0  0.760000           0.437908       0.717532  \n",
       "0  0.835165           0.650407       0.824675  \n",
       "0  0.200000           0.088017       0.544913  \n",
       "0  0.752941           0.512156       0.756494  \n",
       "0  0.813953           0.628108       0.814394  "
      ]
     },
     "execution_count": 117,
     "metadata": {},
     "output_type": "execute_result"
    }
   ],
   "source": [
    "results"
   ]
  },
  {
   "cell_type": "code",
   "execution_count": null,
   "metadata": {},
   "outputs": [],
   "source": [
    "speak( ' creating model xg boost')"
   ]
  },
  {
   "cell_type": "markdown",
   "metadata": {},
   "source": [
    "# XGBOOST"
   ]
  },
  {
   "cell_type": "code",
   "execution_count": 118,
   "metadata": {},
   "outputs": [],
   "source": [
    "from xgboost import XGBClassifier"
   ]
  },
  {
   "cell_type": "code",
   "execution_count": 119,
   "metadata": {},
   "outputs": [],
   "source": [
    "xgbm = XGBClassifier(random_state = 10,learning_rate = 0.01)"
   ]
  },
  {
   "cell_type": "code",
   "execution_count": 120,
   "metadata": {},
   "outputs": [
    {
     "name": "stdout",
     "output_type": "stream",
     "text": [
      "[18:29:21] WARNING: C:/Users/Administrator/workspace/xgboost-win64_release_1.3.0/src/learner.cc:1061: Starting in XGBoost 1.3.0, the default evaluation metric used with the objective 'binary:logistic' was changed from 'error' to 'logloss'. Explicitly set eval_metric if you'd like to restore the old behavior.\n"
     ]
    }
   ],
   "source": [
    "xgbm_mdl = xgbm.fit(x_train,y_train)"
   ]
  },
  {
   "cell_type": "code",
   "execution_count": 121,
   "metadata": {},
   "outputs": [],
   "source": [
    "y_predicted = xgbm_mdl.predict(x_test)"
   ]
  },
  {
   "cell_type": "code",
   "execution_count": 122,
   "metadata": {},
   "outputs": [
    {
     "data": {
      "image/png": "[encoded data removed]",
      "text/plain": [
       "<Figure size 720x360 with 1 Axes>"
      ]
     },
     "metadata": {
      "needs_background": "light"
     },
     "output_type": "display_data"
    }
   ],
   "source": [
    "confuse_matrices(xgbm_mdl)"
   ]
  },
  {
   "cell_type": "code",
   "execution_count": 123,
   "metadata": {},
   "outputs": [
    {
     "data": {
      "image/png": "[encoded data removed]",
      "text/plain": [
       "<Figure size 720x360 with 1 Axes>"
      ]
     },
     "metadata": {
      "needs_background": "light"
     },
     "output_type": "display_data"
    }
   ],
   "source": [
    "plt_roc(xgbm_mdl)"
   ]
  },
  {
   "cell_type": "code",
   "execution_count": 124,
   "metadata": {},
   "outputs": [
    {
     "name": "stdout",
     "output_type": "stream",
     "text": [
      "accuracy_score : 0.7674418604651163\n",
      "precision_score : 0.7608695652173914\n",
      "recall_score : 0.7954545454545454\n",
      "f1_score : 0.7777777777777778\n",
      "cohen_kappa_score:  0.534127843986999\n",
      "roc_auc_score :  0.7667748917748918\n"
     ]
    }
   ],
   "source": [
    "scores(xgbm_mdl)"
   ]
  },
  {
   "cell_type": "code",
   "execution_count": 125,
   "metadata": {},
   "outputs": [],
   "source": [
    "model_name = 'xgbm_mdl'\n",
    "model_8 = result(xgbm_mdl)"
   ]
  },
  {
   "cell_type": "code",
   "execution_count": 126,
   "metadata": {},
   "outputs": [],
   "source": [
    "results = results.append(model_8)"
   ]
  },
  {
   "cell_type": "code",
   "execution_count": 127,
   "metadata": {},
   "outputs": [
    {
     "data": {
      "text/html": [
       "<div>\n",
       "<style scoped>\n",
       "    .dataframe tbody tr th:only-of-type {\n",
       "        vertical-align: middle;\n",
       "    }\n",
       "\n",
       "    .dataframe tbody tr th {\n",
       "        vertical-align: top;\n",
       "    }\n",
       "\n",
       "    .dataframe thead th {\n",
       "        text-align: right;\n",
       "    }\n",
       "</style>\n",
       "<table border=\"1\" class=\"dataframe\">\n",
       "  <thead>\n",
       "    <tr style=\"text-align: right;\">\n",
       "      <th></th>\n",
       "      <th>models</th>\n",
       "      <th>accuracy_score</th>\n",
       "      <th>precision_score</th>\n",
       "      <th>recall_score</th>\n",
       "      <th>f1_score</th>\n",
       "      <th>cohen_kappa_score</th>\n",
       "      <th>roc_auc_score</th>\n",
       "    </tr>\n",
       "  </thead>\n",
       "  <tbody>\n",
       "    <tr>\n",
       "      <th>0</th>\n",
       "      <td>descion_tree_model</td>\n",
       "      <td>0.709302</td>\n",
       "      <td>0.743590</td>\n",
       "      <td>0.659091</td>\n",
       "      <td>0.698795</td>\n",
       "      <td>0.419860</td>\n",
       "      <td>0.710498</td>\n",
       "    </tr>\n",
       "    <tr>\n",
       "      <th>0</th>\n",
       "      <td>descion_tree_model_2</td>\n",
       "      <td>0.720930</td>\n",
       "      <td>0.738095</td>\n",
       "      <td>0.704545</td>\n",
       "      <td>0.720930</td>\n",
       "      <td>0.442162</td>\n",
       "      <td>0.721320</td>\n",
       "    </tr>\n",
       "    <tr>\n",
       "      <th>0</th>\n",
       "      <td>descion_tree_model_3</td>\n",
       "      <td>0.720930</td>\n",
       "      <td>0.678571</td>\n",
       "      <td>0.863636</td>\n",
       "      <td>0.760000</td>\n",
       "      <td>0.437908</td>\n",
       "      <td>0.717532</td>\n",
       "    </tr>\n",
       "    <tr>\n",
       "      <th>0</th>\n",
       "      <td>log_mdl</td>\n",
       "      <td>0.825581</td>\n",
       "      <td>0.808511</td>\n",
       "      <td>0.863636</td>\n",
       "      <td>0.835165</td>\n",
       "      <td>0.650407</td>\n",
       "      <td>0.824675</td>\n",
       "    </tr>\n",
       "    <tr>\n",
       "      <th>0</th>\n",
       "      <td>log_reg_SGD</td>\n",
       "      <td>0.534884</td>\n",
       "      <td>0.833333</td>\n",
       "      <td>0.113636</td>\n",
       "      <td>0.200000</td>\n",
       "      <td>0.088017</td>\n",
       "      <td>0.544913</td>\n",
       "    </tr>\n",
       "    <tr>\n",
       "      <th>0</th>\n",
       "      <td>bagging_model</td>\n",
       "      <td>0.755814</td>\n",
       "      <td>0.780488</td>\n",
       "      <td>0.727273</td>\n",
       "      <td>0.752941</td>\n",
       "      <td>0.512156</td>\n",
       "      <td>0.756494</td>\n",
       "    </tr>\n",
       "    <tr>\n",
       "      <th>0</th>\n",
       "      <td>ADABOOST</td>\n",
       "      <td>0.813953</td>\n",
       "      <td>0.833333</td>\n",
       "      <td>0.795455</td>\n",
       "      <td>0.813953</td>\n",
       "      <td>0.628108</td>\n",
       "      <td>0.814394</td>\n",
       "    </tr>\n",
       "    <tr>\n",
       "      <th>0</th>\n",
       "      <td>xgbm_mdl</td>\n",
       "      <td>0.767442</td>\n",
       "      <td>0.760870</td>\n",
       "      <td>0.795455</td>\n",
       "      <td>0.777778</td>\n",
       "      <td>0.534128</td>\n",
       "      <td>0.766775</td>\n",
       "    </tr>\n",
       "  </tbody>\n",
       "</table>\n",
       "</div>"
      ],
      "text/plain": [
       "                 models  accuracy_score  precision_score  recall_score  \\\n",
       "0    descion_tree_model        0.709302         0.743590      0.659091   \n",
       "0  descion_tree_model_2        0.720930         0.738095      0.704545   \n",
       "0  descion_tree_model_3        0.720930         0.678571      0.863636   \n",
       "0               log_mdl        0.825581         0.808511      0.863636   \n",
       "0           log_reg_SGD        0.534884         0.833333      0.113636   \n",
       "0         bagging_model        0.755814         0.780488      0.727273   \n",
       "0              ADABOOST        0.813953         0.833333      0.795455   \n",
       "0              xgbm_mdl        0.767442         0.760870      0.795455   \n",
       "\n",
       "   f1_score  cohen_kappa_score  roc_auc_score  \n",
       "0  0.698795           0.419860       0.710498  \n",
       "0  0.720930           0.442162       0.721320  \n",
       "0  0.760000           0.437908       0.717532  \n",
       "0  0.835165           0.650407       0.824675  \n",
       "0  0.200000           0.088017       0.544913  \n",
       "0  0.752941           0.512156       0.756494  \n",
       "0  0.813953           0.628108       0.814394  \n",
       "0  0.777778           0.534128       0.766775  "
      ]
     },
     "execution_count": 127,
     "metadata": {},
     "output_type": "execute_result"
    }
   ],
   "source": [
    "results"
   ]
  },
  {
   "cell_type": "markdown",
   "metadata": {},
   "source": [
    "# K-NN"
   ]
  },
  {
   "cell_type": "code",
   "execution_count": 128,
   "metadata": {},
   "outputs": [],
   "source": [
    "from sklearn.neighbors import KNeighborsClassifier"
   ]
  },
  {
   "cell_type": "code",
   "execution_count": 129,
   "metadata": {},
   "outputs": [],
   "source": [
    "from sklearn.model_selection import GridSearchCV"
   ]
  },
  {
   "cell_type": "code",
   "execution_count": 130,
   "metadata": {},
   "outputs": [],
   "source": [
    "tuned_parameter = [{'n_neighbors': [3,5], 'metric': ['manhattan','euclidean']}]"
   ]
  },
  {
   "cell_type": "code",
   "execution_count": 131,
   "metadata": {},
   "outputs": [],
   "source": [
    "grid = GridSearchCV(estimator = KNeighborsClassifier() ,param_grid = tuned_parameter,cv = 5, scoring='accuracy')"
   ]
  },
  {
   "cell_type": "code",
   "execution_count": 132,
   "metadata": {},
   "outputs": [],
   "source": [
    "grid_mdl = grid.fit(x_train,y_train)"
   ]
  },
  {
   "cell_type": "code",
   "execution_count": 136,
   "metadata": {},
   "outputs": [
    {
     "data": {
      "text/plain": [
       "{'metric': 'manhattan', 'n_neighbors': 3}"
      ]
     },
     "execution_count": 136,
     "metadata": {},
     "output_type": "execute_result"
    }
   ],
   "source": [
    "grid_mdl.best_params_"
   ]
  },
  {
   "cell_type": "code",
   "execution_count": 137,
   "metadata": {},
   "outputs": [],
   "source": [
    "knn_mdl = KNeighborsClassifier(n_neighbors =  3,metric = 'manhattan')"
   ]
  },
  {
   "cell_type": "code",
   "execution_count": 138,
   "metadata": {},
   "outputs": [],
   "source": [
    "knn_mdl = knn_mdl.fit(x_train,y_train)"
   ]
  },
  {
   "cell_type": "code",
   "execution_count": 139,
   "metadata": {},
   "outputs": [],
   "source": [
    "y_predicted = knn_mdl.predict(x_test)"
   ]
  },
  {
   "cell_type": "code",
   "execution_count": 140,
   "metadata": {},
   "outputs": [
    {
     "data": {
      "image/png": "[encoded data removed]",
      "text/plain": [
       "<Figure size 720x360 with 1 Axes>"
      ]
     },
     "metadata": {
      "needs_background": "light"
     },
     "output_type": "display_data"
    }
   ],
   "source": [
    "confuse_matrices(knn_mdl)"
   ]
  },
  {
   "cell_type": "code",
   "execution_count": 141,
   "metadata": {},
   "outputs": [
    {
     "data": {
      "image/png": "[encoded data removed]",
      "text/plain": [
       "<Figure size 720x360 with 1 Axes>"
      ]
     },
     "metadata": {
      "needs_background": "light"
     },
     "output_type": "display_data"
    }
   ],
   "source": [
    "plt_roc(knn_mdl)"
   ]
  },
  {
   "cell_type": "code",
   "execution_count": 142,
   "metadata": {},
   "outputs": [
    {
     "name": "stdout",
     "output_type": "stream",
     "text": [
      "accuracy_score : 0.627906976744186\n",
      "precision_score : 0.6153846153846154\n",
      "recall_score : 0.7272727272727273\n",
      "f1_score : 0.6666666666666667\n",
      "cohen_kappa_score:  0.25217391304347825\n",
      "roc_auc_score :  0.6255411255411255\n"
     ]
    }
   ],
   "source": [
    "scores(knn_mdl)"
   ]
  },
  {
   "cell_type": "code",
   "execution_count": 143,
   "metadata": {},
   "outputs": [],
   "source": [
    "model_name = 'knn_mdl\n",
    "model_9 = result(knn_mdl)"
   ]
  },
  {
   "cell_type": "code",
   "execution_count": 144,
   "metadata": {},
   "outputs": [],
   "source": [
    "results = results.append(model_9)"
   ]
  },
  {
   "cell_type": "code",
   "execution_count": 145,
   "metadata": {},
   "outputs": [
    {
     "data": {
      "text/html": [
       "<div>\n",
       "<style scoped>\n",
       "    .dataframe tbody tr th:only-of-type {\n",
       "        vertical-align: middle;\n",
       "    }\n",
       "\n",
       "    .dataframe tbody tr th {\n",
       "        vertical-align: top;\n",
       "    }\n",
       "\n",
       "    .dataframe thead th {\n",
       "        text-align: right;\n",
       "    }\n",
       "</style>\n",
       "<table border=\"1\" class=\"dataframe\">\n",
       "  <thead>\n",
       "    <tr style=\"text-align: right;\">\n",
       "      <th></th>\n",
       "      <th>models</th>\n",
       "      <th>accuracy_score</th>\n",
       "      <th>precision_score</th>\n",
       "      <th>recall_score</th>\n",
       "      <th>f1_score</th>\n",
       "      <th>cohen_kappa_score</th>\n",
       "      <th>roc_auc_score</th>\n",
       "    </tr>\n",
       "  </thead>\n",
       "  <tbody>\n",
       "    <tr>\n",
       "      <th>0</th>\n",
       "      <td>descion_tree_model</td>\n",
       "      <td>0.709302</td>\n",
       "      <td>0.743590</td>\n",
       "      <td>0.659091</td>\n",
       "      <td>0.698795</td>\n",
       "      <td>0.419860</td>\n",
       "      <td>0.710498</td>\n",
       "    </tr>\n",
       "    <tr>\n",
       "      <th>0</th>\n",
       "      <td>descion_tree_model_2</td>\n",
       "      <td>0.720930</td>\n",
       "      <td>0.738095</td>\n",
       "      <td>0.704545</td>\n",
       "      <td>0.720930</td>\n",
       "      <td>0.442162</td>\n",
       "      <td>0.721320</td>\n",
       "    </tr>\n",
       "    <tr>\n",
       "      <th>0</th>\n",
       "      <td>descion_tree_model_3</td>\n",
       "      <td>0.720930</td>\n",
       "      <td>0.678571</td>\n",
       "      <td>0.863636</td>\n",
       "      <td>0.760000</td>\n",
       "      <td>0.437908</td>\n",
       "      <td>0.717532</td>\n",
       "    </tr>\n",
       "    <tr>\n",
       "      <th>0</th>\n",
       "      <td>log_mdl</td>\n",
       "      <td>0.825581</td>\n",
       "      <td>0.808511</td>\n",
       "      <td>0.863636</td>\n",
       "      <td>0.835165</td>\n",
       "      <td>0.650407</td>\n",
       "      <td>0.824675</td>\n",
       "    </tr>\n",
       "    <tr>\n",
       "      <th>0</th>\n",
       "      <td>log_reg_SGD</td>\n",
       "      <td>0.534884</td>\n",
       "      <td>0.833333</td>\n",
       "      <td>0.113636</td>\n",
       "      <td>0.200000</td>\n",
       "      <td>0.088017</td>\n",
       "      <td>0.544913</td>\n",
       "    </tr>\n",
       "    <tr>\n",
       "      <th>0</th>\n",
       "      <td>bagging_model</td>\n",
       "      <td>0.755814</td>\n",
       "      <td>0.780488</td>\n",
       "      <td>0.727273</td>\n",
       "      <td>0.752941</td>\n",
       "      <td>0.512156</td>\n",
       "      <td>0.756494</td>\n",
       "    </tr>\n",
       "    <tr>\n",
       "      <th>0</th>\n",
       "      <td>ADABOOST</td>\n",
       "      <td>0.813953</td>\n",
       "      <td>0.833333</td>\n",
       "      <td>0.795455</td>\n",
       "      <td>0.813953</td>\n",
       "      <td>0.628108</td>\n",
       "      <td>0.814394</td>\n",
       "    </tr>\n",
       "    <tr>\n",
       "      <th>0</th>\n",
       "      <td>xgbm_mdl</td>\n",
       "      <td>0.767442</td>\n",
       "      <td>0.760870</td>\n",
       "      <td>0.795455</td>\n",
       "      <td>0.777778</td>\n",
       "      <td>0.534128</td>\n",
       "      <td>0.766775</td>\n",
       "    </tr>\n",
       "    <tr>\n",
       "      <th>0</th>\n",
       "      <td>knn_mdl</td>\n",
       "      <td>0.627907</td>\n",
       "      <td>0.615385</td>\n",
       "      <td>0.727273</td>\n",
       "      <td>0.666667</td>\n",
       "      <td>0.252174</td>\n",
       "      <td>0.625541</td>\n",
       "    </tr>\n",
       "  </tbody>\n",
       "</table>\n",
       "</div>"
      ],
      "text/plain": [
       "                 models  accuracy_score  precision_score  recall_score  \\\n",
       "0    descion_tree_model        0.709302         0.743590      0.659091   \n",
       "0  descion_tree_model_2        0.720930         0.738095      0.704545   \n",
       "0  descion_tree_model_3        0.720930         0.678571      0.863636   \n",
       "0               log_mdl        0.825581         0.808511      0.863636   \n",
       "0           log_reg_SGD        0.534884         0.833333      0.113636   \n",
       "0         bagging_model        0.755814         0.780488      0.727273   \n",
       "0              ADABOOST        0.813953         0.833333      0.795455   \n",
       "0              xgbm_mdl        0.767442         0.760870      0.795455   \n",
       "0               knn_mdl        0.627907         0.615385      0.727273   \n",
       "\n",
       "   f1_score  cohen_kappa_score  roc_auc_score  \n",
       "0  0.698795           0.419860       0.710498  \n",
       "0  0.720930           0.442162       0.721320  \n",
       "0  0.760000           0.437908       0.717532  \n",
       "0  0.835165           0.650407       0.824675  \n",
       "0  0.200000           0.088017       0.544913  \n",
       "0  0.752941           0.512156       0.756494  \n",
       "0  0.813953           0.628108       0.814394  \n",
       "0  0.777778           0.534128       0.766775  \n",
       "0  0.666667           0.252174       0.625541  "
      ]
     },
     "execution_count": 145,
     "metadata": {},
     "output_type": "execute_result"
    }
   ],
   "source": [
    "results"
   ]
  },
  {
   "cell_type": "code",
   "execution_count": null,
   "metadata": {},
   "outputs": [],
   "source": []
  },
  {
   "cell_type": "code",
   "execution_count": 29,
   "metadata": {},
   "outputs": [
    {
     "name": "stdout",
     "output_type": "stream",
     "text": [
      "Collecting cowsay\n",
      "  Downloading cowsay-3.0-py2.py3-none-any.whl (19 kB)\n",
      "Installing collected packages: cowsay\n",
      "Successfully installed cowsay-3.0\n"
     ]
    }
   ],
   "source": [
    "!pip install cowsay"
   ]
  },
  {
   "cell_type": "code",
   "execution_count": 30,
   "metadata": {},
   "outputs": [],
   "source": [
    "import cowsay"
   ]
  },
  {
   "cell_type": "code",
   "execution_count": 35,
   "metadata": {},
   "outputs": [
    {
     "name": "stdout",
     "output_type": "stream",
     "text": [
      "  _____\n",
      "< hello >\n",
      "  =====\n",
      "          \\\n",
      "           \\\n",
      "            \\\n",
      "             \\\n",
      "                                               ,+*^^*+___+++_\n",
      "                                         ,*^^^^              )\n",
      "                                      _+*                     ^**+_\n",
      "                                    +^       _ _++*+_+++_,         )\n",
      "                _+^^*+_    (     ,+*^ ^          \\\\+_        )\n",
      "               {       )  (    ,(    ,_+--+--,      ^)      ^\\\\\n",
      "              { (\\@)    } f   ,(  ,+-^ __*_*_  ^^\\\\_   ^\\\\       )\n",
      "             {:;-/    (_+*-+^^^^^+*+*<_ _++_)_    )    )      /\n",
      "            ( /  (    (        ,___    ^*+_+* )   <    <      \\\\\n",
      "             U _/     )    *--<  ) ^\\\\-----++__)   )    )       )\n",
      "              (      )  _(^)^^))  )  )\\\\^^^^^))^*+/    /       /\n",
      "            (      /  (_))_^)) )  )  ))^^^^^))^^^)__/     +^^\n",
      "           (     ,/    (^))^))  )  ) ))^^^^^^^))^^)       _)\n",
      "            *+__+*       (_))^)  ) ) ))^^^^^^))^^^^^)____*^\n",
      "            \\\\             \\\\_)^)_)) ))^^^^^^^^^^))^^^^)\n",
      "             (_             ^\\\\__^^^^^^^^^^^^))^^^^^^^)\n",
      "               ^\\\\___            ^\\\\__^^^^^^))^^^^^^^^)\\\\\\\\\n",
      "                    ^^^^^\\\\uuu/^^\\\\uuu/^^^^\\\\^\\\\^\\\\^\\\\^\\\\^\\\\^\\\\^\\\\\n",
      "                       ___) >____) >___   ^\\\\_\\\\_\\\\_\\\\_\\\\_\\\\_\\\\)\n",
      "                      ^^^//\\\\\\\\_^^//\\\\\\\\_^       ^(\\\\_\\\\_\\\\_\\\\)\n",
      "                        ^^^ ^^ ^^^ ^\n",
      "                        \n",
      "             \n"
     ]
    }
   ],
   "source": [
    "cowsay.turkey('hello')"
   ]
  },
  {
   "cell_type": "code",
   "execution_count": null,
   "metadata": {},
   "outputs": [],
   "source": []
  },
  {
   "cell_type": "code",
   "execution_count": null,
   "metadata": {},
   "outputs": [],
   "source": []
  }
 ],
 "metadata": {
  "kernelspec": {
   "display_name": "Python 3",
   "language": "python",
   "name": "python3"
  },
  "language_info": {
   "codemirror_mode": {
    "name": "ipython",
    "version": 3
   },
   "file_extension": ".py",
   "mimetype": "text/x-python",
   "name": "python",
   "nbconvert_exporter": "python",
   "pygments_lexer": "ipython3",
   "version": "3.8.3"
  }
 },
 "nbformat": 4,
 "nbformat_minor": 4
}
