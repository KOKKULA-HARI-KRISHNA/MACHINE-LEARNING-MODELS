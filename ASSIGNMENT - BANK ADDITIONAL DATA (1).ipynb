{
 "cells": [
  {
   "cell_type": "code",
   "execution_count": 1,
   "metadata": {},
   "outputs": [],
   "source": [
    "import numpy as np\n",
    "import pandas as pd\n",
    "import seaborn as sns\n",
    "import matplotlib.pyplot as plt"
   ]
  },
  {
   "cell_type": "code",
   "execution_count": 2,
   "metadata": {},
   "outputs": [],
   "source": [
    "data = pd.read_csv('bank-additional-full.csv')"
   ]
  },
  {
   "cell_type": "code",
   "execution_count": 3,
   "metadata": {},
   "outputs": [],
   "source": [
    "pd.options.display.max_columns = None\n"
   ]
  },
  {
   "cell_type": "code",
   "execution_count": 4,
   "metadata": {},
   "outputs": [
    {
     "data": {
      "text/html": [
       "<div>\n",
       "<style scoped>\n",
       "    .dataframe tbody tr th:only-of-type {\n",
       "        vertical-align: middle;\n",
       "    }\n",
       "\n",
       "    .dataframe tbody tr th {\n",
       "        vertical-align: top;\n",
       "    }\n",
       "\n",
       "    .dataframe thead th {\n",
       "        text-align: right;\n",
       "    }\n",
       "</style>\n",
       "<table border=\"1\" class=\"dataframe\">\n",
       "  <thead>\n",
       "    <tr style=\"text-align: right;\">\n",
       "      <th></th>\n",
       "      <th>age</th>\n",
       "      <th>job</th>\n",
       "      <th>marital</th>\n",
       "      <th>education</th>\n",
       "      <th>default</th>\n",
       "      <th>housing</th>\n",
       "      <th>loan</th>\n",
       "      <th>contact</th>\n",
       "      <th>month</th>\n",
       "      <th>day_of_week</th>\n",
       "      <th>duration</th>\n",
       "      <th>campaign</th>\n",
       "      <th>pdays</th>\n",
       "      <th>previous</th>\n",
       "      <th>poutcome</th>\n",
       "      <th>emp.var.rate</th>\n",
       "      <th>cons.price.idx</th>\n",
       "      <th>cons.conf.idx</th>\n",
       "      <th>euribor3m</th>\n",
       "      <th>nr.employed</th>\n",
       "      <th>y</th>\n",
       "    </tr>\n",
       "  </thead>\n",
       "  <tbody>\n",
       "    <tr>\n",
       "      <th>0</th>\n",
       "      <td>56</td>\n",
       "      <td>housemaid</td>\n",
       "      <td>married</td>\n",
       "      <td>basic.4y</td>\n",
       "      <td>no</td>\n",
       "      <td>no</td>\n",
       "      <td>no</td>\n",
       "      <td>telephone</td>\n",
       "      <td>may</td>\n",
       "      <td>mon</td>\n",
       "      <td>261</td>\n",
       "      <td>1</td>\n",
       "      <td>999</td>\n",
       "      <td>0</td>\n",
       "      <td>nonexistent</td>\n",
       "      <td>1.1</td>\n",
       "      <td>93.994</td>\n",
       "      <td>-36.4</td>\n",
       "      <td>4.857</td>\n",
       "      <td>5191.0</td>\n",
       "      <td>no</td>\n",
       "    </tr>\n",
       "    <tr>\n",
       "      <th>1</th>\n",
       "      <td>57</td>\n",
       "      <td>services</td>\n",
       "      <td>married</td>\n",
       "      <td>high.school</td>\n",
       "      <td>unknown</td>\n",
       "      <td>no</td>\n",
       "      <td>no</td>\n",
       "      <td>telephone</td>\n",
       "      <td>may</td>\n",
       "      <td>mon</td>\n",
       "      <td>149</td>\n",
       "      <td>1</td>\n",
       "      <td>999</td>\n",
       "      <td>0</td>\n",
       "      <td>nonexistent</td>\n",
       "      <td>1.1</td>\n",
       "      <td>93.994</td>\n",
       "      <td>-36.4</td>\n",
       "      <td>4.857</td>\n",
       "      <td>5191.0</td>\n",
       "      <td>no</td>\n",
       "    </tr>\n",
       "    <tr>\n",
       "      <th>2</th>\n",
       "      <td>37</td>\n",
       "      <td>services</td>\n",
       "      <td>married</td>\n",
       "      <td>high.school</td>\n",
       "      <td>no</td>\n",
       "      <td>yes</td>\n",
       "      <td>no</td>\n",
       "      <td>telephone</td>\n",
       "      <td>may</td>\n",
       "      <td>mon</td>\n",
       "      <td>226</td>\n",
       "      <td>1</td>\n",
       "      <td>999</td>\n",
       "      <td>0</td>\n",
       "      <td>nonexistent</td>\n",
       "      <td>1.1</td>\n",
       "      <td>93.994</td>\n",
       "      <td>-36.4</td>\n",
       "      <td>4.857</td>\n",
       "      <td>5191.0</td>\n",
       "      <td>no</td>\n",
       "    </tr>\n",
       "    <tr>\n",
       "      <th>3</th>\n",
       "      <td>40</td>\n",
       "      <td>admin.</td>\n",
       "      <td>married</td>\n",
       "      <td>basic.6y</td>\n",
       "      <td>no</td>\n",
       "      <td>no</td>\n",
       "      <td>no</td>\n",
       "      <td>telephone</td>\n",
       "      <td>may</td>\n",
       "      <td>mon</td>\n",
       "      <td>151</td>\n",
       "      <td>1</td>\n",
       "      <td>999</td>\n",
       "      <td>0</td>\n",
       "      <td>nonexistent</td>\n",
       "      <td>1.1</td>\n",
       "      <td>93.994</td>\n",
       "      <td>-36.4</td>\n",
       "      <td>4.857</td>\n",
       "      <td>5191.0</td>\n",
       "      <td>no</td>\n",
       "    </tr>\n",
       "    <tr>\n",
       "      <th>4</th>\n",
       "      <td>56</td>\n",
       "      <td>services</td>\n",
       "      <td>married</td>\n",
       "      <td>high.school</td>\n",
       "      <td>no</td>\n",
       "      <td>no</td>\n",
       "      <td>yes</td>\n",
       "      <td>telephone</td>\n",
       "      <td>may</td>\n",
       "      <td>mon</td>\n",
       "      <td>307</td>\n",
       "      <td>1</td>\n",
       "      <td>999</td>\n",
       "      <td>0</td>\n",
       "      <td>nonexistent</td>\n",
       "      <td>1.1</td>\n",
       "      <td>93.994</td>\n",
       "      <td>-36.4</td>\n",
       "      <td>4.857</td>\n",
       "      <td>5191.0</td>\n",
       "      <td>no</td>\n",
       "    </tr>\n",
       "  </tbody>\n",
       "</table>\n",
       "</div>"
      ],
      "text/plain": [
       "   age        job  marital    education  default housing loan    contact  \\\n",
       "0   56  housemaid  married     basic.4y       no      no   no  telephone   \n",
       "1   57   services  married  high.school  unknown      no   no  telephone   \n",
       "2   37   services  married  high.school       no     yes   no  telephone   \n",
       "3   40     admin.  married     basic.6y       no      no   no  telephone   \n",
       "4   56   services  married  high.school       no      no  yes  telephone   \n",
       "\n",
       "  month day_of_week  duration  campaign  pdays  previous     poutcome  \\\n",
       "0   may         mon       261         1    999         0  nonexistent   \n",
       "1   may         mon       149         1    999         0  nonexistent   \n",
       "2   may         mon       226         1    999         0  nonexistent   \n",
       "3   may         mon       151         1    999         0  nonexistent   \n",
       "4   may         mon       307         1    999         0  nonexistent   \n",
       "\n",
       "   emp.var.rate  cons.price.idx  cons.conf.idx  euribor3m  nr.employed   y  \n",
       "0           1.1          93.994          -36.4      4.857       5191.0  no  \n",
       "1           1.1          93.994          -36.4      4.857       5191.0  no  \n",
       "2           1.1          93.994          -36.4      4.857       5191.0  no  \n",
       "3           1.1          93.994          -36.4      4.857       5191.0  no  \n",
       "4           1.1          93.994          -36.4      4.857       5191.0  no  "
      ]
     },
     "execution_count": 4,
     "metadata": {},
     "output_type": "execute_result"
    }
   ],
   "source": [
    "data.head()"
   ]
  },
  {
   "cell_type": "markdown",
   "metadata": {},
   "source": [
    "# imbalance data"
   ]
  },
  {
   "cell_type": "code",
   "execution_count": 5,
   "metadata": {},
   "outputs": [
    {
     "data": {
      "text/plain": [
       "no     36548\n",
       "yes     4640\n",
       "Name: y, dtype: int64"
      ]
     },
     "execution_count": 5,
     "metadata": {},
     "output_type": "execute_result"
    }
   ],
   "source": [
    "data['y'].value_counts()"
   ]
  },
  {
   "cell_type": "code",
   "execution_count": 6,
   "metadata": {},
   "outputs": [
    {
     "data": {
      "text/plain": [
       "Index(['age', 'job', 'marital', 'education', 'default', 'housing', 'loan',\n",
       "       'contact', 'month', 'day_of_week', 'duration', 'campaign', 'pdays',\n",
       "       'previous', 'poutcome', 'emp.var.rate', 'cons.price.idx',\n",
       "       'cons.conf.idx', 'euribor3m', 'nr.employed', 'y'],\n",
       "      dtype='object')"
      ]
     },
     "execution_count": 6,
     "metadata": {},
     "output_type": "execute_result"
    }
   ],
   "source": [
    "data.columns"
   ]
  },
  {
   "cell_type": "code",
   "execution_count": 7,
   "metadata": {},
   "outputs": [
    {
     "data": {
      "text/plain": [
       "<matplotlib.axes._subplots.AxesSubplot at 0x1d4bc688d30>"
      ]
     },
     "execution_count": 7,
     "metadata": {},
     "output_type": "execute_result"
    },
    {
     "data": {
      "image/png": "[encoded data removed]",
      "text/plain": [
       "<Figure size 1080x360 with 1 Axes>"
      ]
     },
     "metadata": {
      "needs_background": "light"
     },
     "output_type": "display_data"
    }
   ],
   "source": [
    "plt.rcParams['figure.figsize'] = [15,5]\n",
    "sns.boxplot(data = data)\n"
   ]
  },
  {
   "cell_type": "code",
   "execution_count": 8,
   "metadata": {},
   "outputs": [
    {
     "data": {
      "text/plain": [
       "<matplotlib.axes._subplots.AxesSubplot at 0x1d4bd3b37c0>"
      ]
     },
     "execution_count": 8,
     "metadata": {},
     "output_type": "execute_result"
    },
    {
     "data": {
      "image/png": "[encoded data removed]",
      "text/plain": [
       "<Figure size 1080x360 with 1 Axes>"
      ]
     },
     "metadata": {
      "needs_background": "light"
     },
     "output_type": "display_data"
    }
   ],
   "source": [
    "sns.boxplot(data = data['pdays'])"
   ]
  },
  {
   "cell_type": "code",
   "execution_count": 9,
   "metadata": {},
   "outputs": [
    {
     "data": {
      "text/plain": [
       "<matplotlib.axes._subplots.AxesSubplot at 0x1d4bc88c700>"
      ]
     },
     "execution_count": 9,
     "metadata": {},
     "output_type": "execute_result"
    },
    {
     "data": {
      "image/png": "[encoded data removed]",
      "text/plain": [
       "<Figure size 1080x360 with 1 Axes>"
      ]
     },
     "metadata": {
      "needs_background": "light"
     },
     "output_type": "display_data"
    }
   ],
   "source": [
    "sns.boxplot(data = data[['campaign']])"
   ]
  },
  {
   "cell_type": "code",
   "execution_count": 10,
   "metadata": {},
   "outputs": [
    {
     "data": {
      "text/plain": [
       "(41188, 21)"
      ]
     },
     "execution_count": 10,
     "metadata": {},
     "output_type": "execute_result"
    }
   ],
   "source": [
    "data.shape"
   ]
  },
  {
   "cell_type": "code",
   "execution_count": 11,
   "metadata": {},
   "outputs": [
    {
     "data": {
      "text/plain": [
       "age           int64\n",
       "job          object\n",
       "marital      object\n",
       "education    object\n",
       "default      object\n",
       "dtype: object"
      ]
     },
     "execution_count": 11,
     "metadata": {},
     "output_type": "execute_result"
    }
   ],
   "source": [
    "data.dtypes.head()"
   ]
  },
  {
   "cell_type": "markdown",
   "metadata": {},
   "source": [
    "# FUNCTIONS"
   ]
  },
  {
   "cell_type": "code",
   "execution_count": 12,
   "metadata": {},
   "outputs": [],
   "source": [
    "def shape(x_train,x_test,y_train,y_test):\n",
    "    print('x_train', x_train.shape)\n",
    "    print('x_test', x_test.shape)\n",
    "    print('y_train', y_train.shape)\n",
    "    print('y_test', y_test.shape)\n"
   ]
  },
  {
   "cell_type": "code",
   "execution_count": 13,
   "metadata": {},
   "outputs": [],
   "source": [
    "from sklearn.metrics import confusion_matrix\n",
    "from matplotlib.colors import ListedColormap\n",
    "def confuse_matrices(model):\n",
    "    cm = confusion_matrix(y_test,y_predict)\n",
    "    cm_df = pd.DataFrame(data = cm,columns=['predict_1', 'predict_0'], index = ['actual_1','actual_0'])\n",
    "    sns.heatmap(data = cm_df, annot= True, cbar= False,fmt = 'd',annot_kws = {'size':25}, cmap = ListedColormap(['lightskyblue']),linewidths = 0.5)"
   ]
  },
  {
   "cell_type": "code",
   "execution_count": 14,
   "metadata": {},
   "outputs": [],
   "source": [
    "from sklearn.metrics import classification_report\n",
    "def report(model):\n",
    "    s = print(classification_report(y_test,y_predict))\n",
    "    return s"
   ]
  },
  {
   "cell_type": "code",
   "execution_count": 15,
   "metadata": {},
   "outputs": [],
   "source": [
    "def y_predicts(y_predict):\n",
    "    y_predict = pd.DataFrame(data = y_predict, columns = ['y_predict'])\n",
    "    y_predict = y_predict.replace(['yes','no'],[1,0])\n",
    "    return y_predict"
   ]
  },
  {
   "cell_type": "code",
   "execution_count": 16,
   "metadata": {},
   "outputs": [],
   "source": [
    "def y_tests(y_test):\n",
    "    y_test = pd.DataFrame(data = y_test, columns = ['y_test'])\n",
    "    y_test = y_test.replace(['yes','no'],[1,0])\n",
    "    return y_test"
   ]
  },
  {
   "cell_type": "code",
   "execution_count": 17,
   "metadata": {},
   "outputs": [],
   "source": [
    "from sklearn.metrics import roc_curve,roc_auc_score\n",
    "def auc(model):\n",
    "    fpr,tpr,threshold = roc_curve(y_test,y_predict)\n",
    "    plt.plot([0,1],[0,1], 'r--')\n",
    "    plt.plot(fpr,tpr)\n",
    "    plt.text(x = 0.0,y = 0.9, s = ('roc_auc_score :', roc_auc_score(y_test,y_predict)) )"
   ]
  },
  {
   "cell_type": "code",
   "execution_count": 18,
   "metadata": {},
   "outputs": [],
   "source": [
    "from sklearn.metrics import accuracy_score,f1_score,precision_score,recall_score,cohen_kappa_score,roc_auc_score\n",
    "def scores(model):\n",
    "    print('accuracy_score -', metrics.accuracy_score(y_test,y_predict))\n",
    "    print('f1_score -', metrics.f1_score(y_test,y_predict))\n",
    "    print('precision_score -',metrics.precision_score(y_test,y_predict))\n",
    "    print('recall_score -',metrics.recall_score(y_test,y_predict))\n",
    "    print('cohen_kappa_score -',metrics.cohen_kappa_score(y_test,y_predict))\n",
    "    print('roc_auc_score -',metrics.roc_auc_score(y_test,y_predict))"
   ]
  },
  {
   "cell_type": "code",
   "execution_count": 19,
   "metadata": {},
   "outputs": [],
   "source": [
    "def results(models):\n",
    "    result = pd.DataFrame({'models':['svc_model'],\n",
    "                      'accuracy_score': [metrics.accuracy_score(y_test,y_predict)],\n",
    "                      'f1_score':[metrics.f1_score(y_test,y_predict)],\n",
    "                      'precision_score':[metrics.precision_score(y_test,y_predict)],\n",
    "                      'recall_score':[metrics.recall_score(y_test,y_predict)],\n",
    "                      'cohen_kappa_score':[metrics.cohen_kappa_score(y_test,y_predict)],\n",
    "                      'roc_auc_score':[metrics.roc_auc_score(y_test,y_predict)]})\n",
    "    res = pd.DataFrame( columns= ['models','accuracy_score','f1_score','precision_score','recall_score','cohen_kappa_score','roc_auc_score'])\n",
    "    res = res.append(result)\n",
    "    return res"
   ]
  },
  {
   "cell_type": "markdown",
   "metadata": {},
   "source": [
    "# changing into balancing data"
   ]
  },
  {
   "cell_type": "code",
   "execution_count": 20,
   "metadata": {},
   "outputs": [
    {
     "data": {
      "text/plain": [
       "no     36548\n",
       "yes     4640\n",
       "Name: y, dtype: int64"
      ]
     },
     "execution_count": 20,
     "metadata": {},
     "output_type": "execute_result"
    }
   ],
   "source": [
    "data['y'].value_counts()"
   ]
  },
  {
   "cell_type": "code",
   "execution_count": 21,
   "metadata": {},
   "outputs": [],
   "source": [
    "x = data.drop(['y'], axis = 1)\n",
    "y = pd.DataFrame(data['y'])"
   ]
  },
  {
   "cell_type": "code",
   "execution_count": 22,
   "metadata": {},
   "outputs": [],
   "source": [
    "from imblearn.over_sampling import RandomOverSampler\n",
    "random = RandomOverSampler(random_state=1)\n",
    "x_sampled,y_sampled = random.fit_resample(x,y)"
   ]
  },
  {
   "cell_type": "code",
   "execution_count": 23,
   "metadata": {},
   "outputs": [
    {
     "name": "stdout",
     "output_type": "stream",
     "text": [
      "(73096, 20) (73096, 1)\n"
     ]
    }
   ],
   "source": [
    "print(x_sampled.shape, y_sampled.shape)"
   ]
  },
  {
   "cell_type": "raw",
   "metadata": {},
   "source": [
    "sampled_data = pd.concat([x_sampled,y_sampled], axis = 1)\n",
    "sampled_data.shape"
   ]
  },
  {
   "cell_type": "code",
   "execution_count": 24,
   "metadata": {},
   "outputs": [],
   "source": [
    "str_data = x_sampled.select_dtypes(include= object)\n",
    "num_data = x_sampled.select_dtypes(include = np.number)"
   ]
  },
  {
   "cell_type": "code",
   "execution_count": 25,
   "metadata": {},
   "outputs": [
    {
     "name": "stdout",
     "output_type": "stream",
     "text": [
      "(73096, 10) (73096, 10)\n"
     ]
    }
   ],
   "source": [
    "print(str_data.shape, num_data.shape)"
   ]
  },
  {
   "cell_type": "code",
   "execution_count": 26,
   "metadata": {},
   "outputs": [],
   "source": [
    "dummy_str = pd.get_dummies(str_data, drop_first= True)"
   ]
  },
  {
   "cell_type": "code",
   "execution_count": 27,
   "metadata": {},
   "outputs": [],
   "source": [
    "data_ind = pd.concat([dummy_str,num_data], axis = 1)"
   ]
  },
  {
   "cell_type": "code",
   "execution_count": null,
   "metadata": {},
   "outputs": [],
   "source": []
  },
  {
   "cell_type": "code",
   "execution_count": 28,
   "metadata": {},
   "outputs": [],
   "source": [
    "from sklearn.model_selection import train_test_split\n",
    "x_train,x_test,y_train,y_test = train_test_split(data_ind,y_sampled,test_size = 0.3, random_state= 1)\n"
   ]
  },
  {
   "cell_type": "code",
   "execution_count": 29,
   "metadata": {},
   "outputs": [
    {
     "name": "stdout",
     "output_type": "stream",
     "text": [
      "x_train (51167, 53)\n",
      "x_test (21929, 53)\n",
      "y_train (51167, 1)\n",
      "y_test (21929, 1)\n"
     ]
    }
   ],
   "source": [
    "shape(x_train,x_test,y_train,y_test)"
   ]
  },
  {
   "cell_type": "code",
   "execution_count": null,
   "metadata": {},
   "outputs": [],
   "source": []
  },
  {
   "cell_type": "markdown",
   "metadata": {},
   "source": [
    "# MODEL - 1 SVM CLASSIFIER WITH KERNAL = LINEAR"
   ]
  },
  {
   "cell_type": "code",
   "execution_count": 30,
   "metadata": {},
   "outputs": [],
   "source": [
    "from sklearn.svm import SVC"
   ]
  },
  {
   "cell_type": "code",
   "execution_count": 31,
   "metadata": {},
   "outputs": [
    {
     "name": "stderr",
     "output_type": "stream",
     "text": [
      "C:\\Users\\HARI KRISHNA\\anaconda3\\lib\\site-packages\\sklearn\\utils\\validation.py:63: DataConversionWarning: A column-vector y was passed when a 1d array was expected. Please change the shape of y to (n_samples, ), for example using ravel().\n",
      "  return f(*args, **kwargs)\n"
     ]
    },
    {
     "data": {
      "text/plain": [
       "SVC(kernel='linear')"
      ]
     },
     "execution_count": 31,
     "metadata": {},
     "output_type": "execute_result"
    }
   ],
   "source": [
    "svc_model = SVC(kernel = 'linear')\n",
    "svc_model.fit(x_train,y_train)"
   ]
  },
  {
   "cell_type": "code",
   "execution_count": 32,
   "metadata": {},
   "outputs": [
    {
     "data": {
      "text/plain": [
       "array(['no', 'yes', 'yes', ..., 'no', 'yes', 'no'], dtype=object)"
      ]
     },
     "execution_count": 32,
     "metadata": {},
     "output_type": "execute_result"
    }
   ],
   "source": [
    "y_predict = svc_model.predict(x_test)\n",
    "y_predict"
   ]
  },
  {
   "cell_type": "code",
   "execution_count": 33,
   "metadata": {},
   "outputs": [],
   "source": [
    "y_predict = pd.DataFrame(data = y_predict, columns = ['y_predict'])"
   ]
  },
  {
   "cell_type": "code",
   "execution_count": 34,
   "metadata": {},
   "outputs": [],
   "source": [
    "y_predict = y_predicts(y_predict)"
   ]
  },
  {
   "cell_type": "code",
   "execution_count": 42,
   "metadata": {},
   "outputs": [],
   "source": [
    "y_test = y_test.replace(['yes','no'],[1,0])"
   ]
  },
  {
   "cell_type": "code",
   "execution_count": 43,
   "metadata": {},
   "outputs": [
    {
     "ename": "TypeError",
     "evalue": "Cannot compare types 'ndarray(dtype=float64)' and 'str'",
     "output_type": "error",
     "traceback": [
      "\u001b[1;31m---------------------------------------------------------------------------\u001b[0m",
      "\u001b[1;31mTypeError\u001b[0m                                 Traceback (most recent call last)",
      "\u001b[1;32m<ipython-input-43-0d4ec00ce158>\u001b[0m in \u001b[0;36m<module>\u001b[1;34m\u001b[0m\n\u001b[1;32m----> 1\u001b[1;33m \u001b[0my_test\u001b[0m \u001b[1;33m=\u001b[0m \u001b[0my_tests\u001b[0m\u001b[1;33m(\u001b[0m\u001b[0my_test\u001b[0m\u001b[1;33m)\u001b[0m\u001b[1;33m\u001b[0m\u001b[1;33m\u001b[0m\u001b[0m\n\u001b[0m",
      "\u001b[1;32m<ipython-input-16-75d1cc8b40d7>\u001b[0m in \u001b[0;36my_tests\u001b[1;34m(y_test)\u001b[0m\n\u001b[0;32m      1\u001b[0m \u001b[1;32mdef\u001b[0m \u001b[0my_tests\u001b[0m\u001b[1;33m(\u001b[0m\u001b[0my_test\u001b[0m\u001b[1;33m)\u001b[0m\u001b[1;33m:\u001b[0m\u001b[1;33m\u001b[0m\u001b[1;33m\u001b[0m\u001b[0m\n\u001b[0;32m      2\u001b[0m     \u001b[0my_test\u001b[0m \u001b[1;33m=\u001b[0m \u001b[0mpd\u001b[0m\u001b[1;33m.\u001b[0m\u001b[0mDataFrame\u001b[0m\u001b[1;33m(\u001b[0m\u001b[0mdata\u001b[0m \u001b[1;33m=\u001b[0m \u001b[0my_test\u001b[0m\u001b[1;33m,\u001b[0m \u001b[0mcolumns\u001b[0m \u001b[1;33m=\u001b[0m \u001b[1;33m[\u001b[0m\u001b[1;34m'y_test'\u001b[0m\u001b[1;33m]\u001b[0m\u001b[1;33m)\u001b[0m\u001b[1;33m\u001b[0m\u001b[1;33m\u001b[0m\u001b[0m\n\u001b[1;32m----> 3\u001b[1;33m     \u001b[0my_test\u001b[0m \u001b[1;33m=\u001b[0m \u001b[0my_test\u001b[0m\u001b[1;33m.\u001b[0m\u001b[0mreplace\u001b[0m\u001b[1;33m(\u001b[0m\u001b[1;33m[\u001b[0m\u001b[1;34m'yes'\u001b[0m\u001b[1;33m,\u001b[0m\u001b[1;34m'no'\u001b[0m\u001b[1;33m]\u001b[0m\u001b[1;33m,\u001b[0m\u001b[1;33m[\u001b[0m\u001b[1;36m1\u001b[0m\u001b[1;33m,\u001b[0m\u001b[1;36m0\u001b[0m\u001b[1;33m]\u001b[0m\u001b[1;33m)\u001b[0m\u001b[1;33m\u001b[0m\u001b[1;33m\u001b[0m\u001b[0m\n\u001b[0m\u001b[0;32m      4\u001b[0m     \u001b[1;32mreturn\u001b[0m \u001b[0my_test\u001b[0m\u001b[1;33m\u001b[0m\u001b[1;33m\u001b[0m\u001b[0m\n",
      "\u001b[1;32m~\\anaconda3\\lib\\site-packages\\pandas\\core\\frame.py\u001b[0m in \u001b[0;36mreplace\u001b[1;34m(self, to_replace, value, inplace, limit, regex, method)\u001b[0m\n\u001b[0;32m   4164\u001b[0m         \u001b[0mmethod\u001b[0m\u001b[1;33m=\u001b[0m\u001b[1;34m\"pad\"\u001b[0m\u001b[1;33m,\u001b[0m\u001b[1;33m\u001b[0m\u001b[1;33m\u001b[0m\u001b[0m\n\u001b[0;32m   4165\u001b[0m     ):\n\u001b[1;32m-> 4166\u001b[1;33m         return super().replace(\n\u001b[0m\u001b[0;32m   4167\u001b[0m             \u001b[0mto_replace\u001b[0m\u001b[1;33m=\u001b[0m\u001b[0mto_replace\u001b[0m\u001b[1;33m,\u001b[0m\u001b[1;33m\u001b[0m\u001b[1;33m\u001b[0m\u001b[0m\n\u001b[0;32m   4168\u001b[0m             \u001b[0mvalue\u001b[0m\u001b[1;33m=\u001b[0m\u001b[0mvalue\u001b[0m\u001b[1;33m,\u001b[0m\u001b[1;33m\u001b[0m\u001b[1;33m\u001b[0m\u001b[0m\n",
      "\u001b[1;32m~\\anaconda3\\lib\\site-packages\\pandas\\core\\generic.py\u001b[0m in \u001b[0;36mreplace\u001b[1;34m(self, to_replace, value, inplace, limit, regex, method)\u001b[0m\n\u001b[0;32m   6693\u001b[0m                         )\n\u001b[0;32m   6694\u001b[0m \u001b[1;33m\u001b[0m\u001b[0m\n\u001b[1;32m-> 6695\u001b[1;33m                     new_data = self._data.replace_list(\n\u001b[0m\u001b[0;32m   6696\u001b[0m                         \u001b[0msrc_list\u001b[0m\u001b[1;33m=\u001b[0m\u001b[0mto_replace\u001b[0m\u001b[1;33m,\u001b[0m\u001b[1;33m\u001b[0m\u001b[1;33m\u001b[0m\u001b[0m\n\u001b[0;32m   6697\u001b[0m                         \u001b[0mdest_list\u001b[0m\u001b[1;33m=\u001b[0m\u001b[0mvalue\u001b[0m\u001b[1;33m,\u001b[0m\u001b[1;33m\u001b[0m\u001b[1;33m\u001b[0m\u001b[0m\n",
      "\u001b[1;32m~\\anaconda3\\lib\\site-packages\\pandas\\core\\internals\\managers.py\u001b[0m in \u001b[0;36mreplace_list\u001b[1;34m(self, src_list, dest_list, inplace, regex)\u001b[0m\n\u001b[0;32m    611\u001b[0m             \u001b[1;32mreturn\u001b[0m \u001b[0m_compare_or_regex_search\u001b[0m\u001b[1;33m(\u001b[0m\u001b[0mvalues\u001b[0m\u001b[1;33m,\u001b[0m \u001b[0ms\u001b[0m\u001b[1;33m,\u001b[0m \u001b[0mregex\u001b[0m\u001b[1;33m)\u001b[0m\u001b[1;33m\u001b[0m\u001b[1;33m\u001b[0m\u001b[0m\n\u001b[0;32m    612\u001b[0m \u001b[1;33m\u001b[0m\u001b[0m\n\u001b[1;32m--> 613\u001b[1;33m         \u001b[0mmasks\u001b[0m \u001b[1;33m=\u001b[0m \u001b[1;33m[\u001b[0m\u001b[0mcomp\u001b[0m\u001b[1;33m(\u001b[0m\u001b[0ms\u001b[0m\u001b[1;33m,\u001b[0m \u001b[0mregex\u001b[0m\u001b[1;33m)\u001b[0m \u001b[1;32mfor\u001b[0m \u001b[0mi\u001b[0m\u001b[1;33m,\u001b[0m \u001b[0ms\u001b[0m \u001b[1;32min\u001b[0m \u001b[0menumerate\u001b[0m\u001b[1;33m(\u001b[0m\u001b[0msrc_list\u001b[0m\u001b[1;33m)\u001b[0m\u001b[1;33m]\u001b[0m\u001b[1;33m\u001b[0m\u001b[1;33m\u001b[0m\u001b[0m\n\u001b[0m\u001b[0;32m    614\u001b[0m \u001b[1;33m\u001b[0m\u001b[0m\n\u001b[0;32m    615\u001b[0m         \u001b[0mresult_blocks\u001b[0m \u001b[1;33m=\u001b[0m \u001b[1;33m[\u001b[0m\u001b[1;33m]\u001b[0m\u001b[1;33m\u001b[0m\u001b[1;33m\u001b[0m\u001b[0m\n",
      "\u001b[1;32m~\\anaconda3\\lib\\site-packages\\pandas\\core\\internals\\managers.py\u001b[0m in \u001b[0;36m<listcomp>\u001b[1;34m(.0)\u001b[0m\n\u001b[0;32m    611\u001b[0m             \u001b[1;32mreturn\u001b[0m \u001b[0m_compare_or_regex_search\u001b[0m\u001b[1;33m(\u001b[0m\u001b[0mvalues\u001b[0m\u001b[1;33m,\u001b[0m \u001b[0ms\u001b[0m\u001b[1;33m,\u001b[0m \u001b[0mregex\u001b[0m\u001b[1;33m)\u001b[0m\u001b[1;33m\u001b[0m\u001b[1;33m\u001b[0m\u001b[0m\n\u001b[0;32m    612\u001b[0m \u001b[1;33m\u001b[0m\u001b[0m\n\u001b[1;32m--> 613\u001b[1;33m         \u001b[0mmasks\u001b[0m \u001b[1;33m=\u001b[0m \u001b[1;33m[\u001b[0m\u001b[0mcomp\u001b[0m\u001b[1;33m(\u001b[0m\u001b[0ms\u001b[0m\u001b[1;33m,\u001b[0m \u001b[0mregex\u001b[0m\u001b[1;33m)\u001b[0m \u001b[1;32mfor\u001b[0m \u001b[0mi\u001b[0m\u001b[1;33m,\u001b[0m \u001b[0ms\u001b[0m \u001b[1;32min\u001b[0m \u001b[0menumerate\u001b[0m\u001b[1;33m(\u001b[0m\u001b[0msrc_list\u001b[0m\u001b[1;33m)\u001b[0m\u001b[1;33m]\u001b[0m\u001b[1;33m\u001b[0m\u001b[1;33m\u001b[0m\u001b[0m\n\u001b[0m\u001b[0;32m    614\u001b[0m \u001b[1;33m\u001b[0m\u001b[0m\n\u001b[0;32m    615\u001b[0m         \u001b[0mresult_blocks\u001b[0m \u001b[1;33m=\u001b[0m \u001b[1;33m[\u001b[0m\u001b[1;33m]\u001b[0m\u001b[1;33m\u001b[0m\u001b[1;33m\u001b[0m\u001b[0m\n",
      "\u001b[1;32m~\\anaconda3\\lib\\site-packages\\pandas\\core\\internals\\managers.py\u001b[0m in \u001b[0;36mcomp\u001b[1;34m(s, regex)\u001b[0m\n\u001b[0;32m    609\u001b[0m                     \u001b[0mmaybe_convert_objects\u001b[0m\u001b[1;33m(\u001b[0m\u001b[0mvalues\u001b[0m\u001b[1;33m)\u001b[0m\u001b[1;33m,\u001b[0m \u001b[0ms\u001b[0m\u001b[1;33m.\u001b[0m\u001b[0masm8\u001b[0m\u001b[1;33m,\u001b[0m \u001b[0mregex\u001b[0m\u001b[1;33m\u001b[0m\u001b[1;33m\u001b[0m\u001b[0m\n\u001b[0;32m    610\u001b[0m                 )\n\u001b[1;32m--> 611\u001b[1;33m             \u001b[1;32mreturn\u001b[0m \u001b[0m_compare_or_regex_search\u001b[0m\u001b[1;33m(\u001b[0m\u001b[0mvalues\u001b[0m\u001b[1;33m,\u001b[0m \u001b[0ms\u001b[0m\u001b[1;33m,\u001b[0m \u001b[0mregex\u001b[0m\u001b[1;33m)\u001b[0m\u001b[1;33m\u001b[0m\u001b[1;33m\u001b[0m\u001b[0m\n\u001b[0m\u001b[0;32m    612\u001b[0m \u001b[1;33m\u001b[0m\u001b[0m\n\u001b[0;32m    613\u001b[0m         \u001b[0mmasks\u001b[0m \u001b[1;33m=\u001b[0m \u001b[1;33m[\u001b[0m\u001b[0mcomp\u001b[0m\u001b[1;33m(\u001b[0m\u001b[0ms\u001b[0m\u001b[1;33m,\u001b[0m \u001b[0mregex\u001b[0m\u001b[1;33m)\u001b[0m \u001b[1;32mfor\u001b[0m \u001b[0mi\u001b[0m\u001b[1;33m,\u001b[0m \u001b[0ms\u001b[0m \u001b[1;32min\u001b[0m \u001b[0menumerate\u001b[0m\u001b[1;33m(\u001b[0m\u001b[0msrc_list\u001b[0m\u001b[1;33m)\u001b[0m\u001b[1;33m]\u001b[0m\u001b[1;33m\u001b[0m\u001b[1;33m\u001b[0m\u001b[0m\n",
      "\u001b[1;32m~\\anaconda3\\lib\\site-packages\\pandas\\core\\internals\\managers.py\u001b[0m in \u001b[0;36m_compare_or_regex_search\u001b[1;34m(a, b, regex)\u001b[0m\n\u001b[0;32m   1933\u001b[0m             \u001b[0mtype_names\u001b[0m\u001b[1;33m[\u001b[0m\u001b[1;36m1\u001b[0m\u001b[1;33m]\u001b[0m \u001b[1;33m=\u001b[0m \u001b[1;34mf\"ndarray(dtype={b.dtype})\"\u001b[0m\u001b[1;33m\u001b[0m\u001b[1;33m\u001b[0m\u001b[0m\n\u001b[0;32m   1934\u001b[0m \u001b[1;33m\u001b[0m\u001b[0m\n\u001b[1;32m-> 1935\u001b[1;33m         raise TypeError(\n\u001b[0m\u001b[0;32m   1936\u001b[0m             \u001b[1;34mf\"Cannot compare types {repr(type_names[0])} and {repr(type_names[1])}\"\u001b[0m\u001b[1;33m\u001b[0m\u001b[1;33m\u001b[0m\u001b[0m\n\u001b[0;32m   1937\u001b[0m         )\n",
      "\u001b[1;31mTypeError\u001b[0m: Cannot compare types 'ndarray(dtype=float64)' and 'str'"
     ]
    }
   ],
   "source": [
    "y_test = y_tests(y_test)"
   ]
  },
  {
   "cell_type": "code",
   "execution_count": 44,
   "metadata": {},
   "outputs": [
    {
     "data": {
      "image/png": "[encoded data removed]",
      "text/plain": [
       "<Figure size 1080x360 with 1 Axes>"
      ]
     },
     "metadata": {
      "needs_background": "light"
     },
     "output_type": "display_data"
    }
   ],
   "source": [
    "confuse_matrices(svc_model)"
   ]
  },
  {
   "cell_type": "code",
   "execution_count": 45,
   "metadata": {},
   "outputs": [
    {
     "name": "stdout",
     "output_type": "stream",
     "text": [
      "              precision    recall  f1-score   support\n",
      "\n",
      "           0       0.84      0.64      0.73     10973\n",
      "           1       0.71      0.88      0.79     10956\n",
      "\n",
      "    accuracy                           0.76     21929\n",
      "   macro avg       0.78      0.76      0.76     21929\n",
      "weighted avg       0.78      0.76      0.76     21929\n",
      "\n"
     ]
    }
   ],
   "source": [
    "report(svc_model)"
   ]
  },
  {
   "cell_type": "code",
   "execution_count": 46,
   "metadata": {},
   "outputs": [],
   "source": [
    "from sklearn.metrics import roc_curve,roc_auc_score\n",
    "def auc(model):\n",
    "    fpr,tpr,threshold = roc_curve(y_test,y_predict)\n",
    "    plt.plot([0,1],[0,1], 'r--')\n",
    "    plt.plot(fpr,tpr)\n",
    "    plt.text(x = 0.0,y = 0.9, s = ('roc_auc_score :', roc_auc_score(y_test,y_predict)))"
   ]
  },
  {
   "cell_type": "code",
   "execution_count": 47,
   "metadata": {},
   "outputs": [
    {
     "data": {
      "image/png": "[encoded data removed]",
      "text/plain": [
       "<Figure size 1080x360 with 1 Axes>"
      ]
     },
     "metadata": {
      "needs_background": "light"
     },
     "output_type": "display_data"
    }
   ],
   "source": [
    "auc(svc_model)"
   ]
  },
  {
   "cell_type": "code",
   "execution_count": 48,
   "metadata": {},
   "outputs": [
    {
     "name": "stdout",
     "output_type": "stream",
     "text": [
      "accuracy_score - 0.7593597519266725\n",
      "f1_score - 0.7855313960577118\n",
      "precision_score - 0.7080372188438714\n",
      "recall_score - 0.882073749543629\n",
      "cohen_kappa_score - 0.5188108353363557\n",
      "roc_auc_score - 0.7594548097030094\n"
     ]
    }
   ],
   "source": [
    "from sklearn import metrics\n",
    "scores(svc_model)"
   ]
  },
  {
   "cell_type": "code",
   "execution_count": 49,
   "metadata": {},
   "outputs": [],
   "source": [
    "def results(models):\n",
    "    result = pd.DataFrame({'models':[model],\n",
    "                      'accuracy_score': [metrics.accuracy_score(y_test,y_predict)],\n",
    "                      'f1_score':[metrics.f1_score(y_test,y_predict)],\n",
    "                      'precision_score':[metrics.precision_score(y_test,y_predict)],\n",
    "                      'recall_score':[metrics.recall_score(y_test,y_predict)],\n",
    "                      'cohen_kappa_score':[metrics.cohen_kappa_score(y_test,y_predict)],\n",
    "                      'roc_auc_score':[metrics.roc_auc_score(y_test,y_predict)]})\n",
    "    return result"
   ]
  },
  {
   "cell_type": "code",
   "execution_count": 50,
   "metadata": {},
   "outputs": [],
   "source": [
    "model = 'suv_model_1'\n",
    "model_1 = results(svc_model)"
   ]
  },
  {
   "cell_type": "code",
   "execution_count": 51,
   "metadata": {},
   "outputs": [
    {
     "data": {
      "text/html": [
       "<div>\n",
       "<style scoped>\n",
       "    .dataframe tbody tr th:only-of-type {\n",
       "        vertical-align: middle;\n",
       "    }\n",
       "\n",
       "    .dataframe tbody tr th {\n",
       "        vertical-align: top;\n",
       "    }\n",
       "\n",
       "    .dataframe thead th {\n",
       "        text-align: right;\n",
       "    }\n",
       "</style>\n",
       "<table border=\"1\" class=\"dataframe\">\n",
       "  <thead>\n",
       "    <tr style=\"text-align: right;\">\n",
       "      <th></th>\n",
       "      <th>models</th>\n",
       "      <th>accuracy_score</th>\n",
       "      <th>f1_score</th>\n",
       "      <th>precision_score</th>\n",
       "      <th>recall_score</th>\n",
       "      <th>cohen_kappa_score</th>\n",
       "      <th>roc_auc_score</th>\n",
       "    </tr>\n",
       "  </thead>\n",
       "  <tbody>\n",
       "    <tr>\n",
       "      <th>0</th>\n",
       "      <td>suv_model_1</td>\n",
       "      <td>0.75936</td>\n",
       "      <td>0.785531</td>\n",
       "      <td>0.708037</td>\n",
       "      <td>0.882074</td>\n",
       "      <td>0.518811</td>\n",
       "      <td>0.759455</td>\n",
       "    </tr>\n",
       "  </tbody>\n",
       "</table>\n",
       "</div>"
      ],
      "text/plain": [
       "        models  accuracy_score  f1_score  precision_score  recall_score  \\\n",
       "0  suv_model_1         0.75936  0.785531         0.708037      0.882074   \n",
       "\n",
       "   cohen_kappa_score  roc_auc_score  \n",
       "0           0.518811       0.759455  "
      ]
     },
     "execution_count": 51,
     "metadata": {},
     "output_type": "execute_result"
    }
   ],
   "source": [
    "model_1"
   ]
  },
  {
   "cell_type": "markdown",
   "metadata": {},
   "source": [
    "# MODEL - 2 SVM CLASSIFIER WITH KERNAL = RBF"
   ]
  },
  {
   "cell_type": "code",
   "execution_count": 52,
   "metadata": {},
   "outputs": [
    {
     "name": "stderr",
     "output_type": "stream",
     "text": [
      "C:\\Users\\HARI KRISHNA\\anaconda3\\lib\\site-packages\\sklearn\\utils\\validation.py:63: DataConversionWarning: A column-vector y was passed when a 1d array was expected. Please change the shape of y to (n_samples, ), for example using ravel().\n",
      "  return f(*args, **kwargs)\n"
     ]
    }
   ],
   "source": [
    "svc_classifier = SVC(kernel='rbf')\n",
    "svc_model_2 = svc_classifier.fit(x_train,y_train)"
   ]
  },
  {
   "cell_type": "code",
   "execution_count": 53,
   "metadata": {},
   "outputs": [
    {
     "data": {
      "text/plain": [
       "array(['no', 'yes', 'yes', ..., 'no', 'yes', 'yes'], dtype=object)"
      ]
     },
     "execution_count": 53,
     "metadata": {},
     "output_type": "execute_result"
    }
   ],
   "source": [
    "y_predict = svc_model_2.predict(x_test)\n",
    "y_predict"
   ]
  },
  {
   "cell_type": "code",
   "execution_count": 54,
   "metadata": {},
   "outputs": [],
   "source": [
    "y_predict = y_predicts(y_predict)"
   ]
  },
  {
   "cell_type": "code",
   "execution_count": 55,
   "metadata": {},
   "outputs": [
    {
     "data": {
      "image/png": "[encoded data removed]",
      "text/plain": [
       "<Figure size 1080x360 with 1 Axes>"
      ]
     },
     "metadata": {
      "needs_background": "light"
     },
     "output_type": "display_data"
    }
   ],
   "source": [
    "confuse_matrices(svc_model_2)"
   ]
  },
  {
   "cell_type": "code",
   "execution_count": 56,
   "metadata": {},
   "outputs": [
    {
     "data": {
      "image/png": "[encoded data removed]",
      "text/plain": [
       "<Figure size 1080x360 with 1 Axes>"
      ]
     },
     "metadata": {
      "needs_background": "light"
     },
     "output_type": "display_data"
    }
   ],
   "source": [
    "auc(svc_model_2)"
   ]
  },
  {
   "cell_type": "code",
   "execution_count": 57,
   "metadata": {},
   "outputs": [
    {
     "name": "stdout",
     "output_type": "stream",
     "text": [
      "              precision    recall  f1-score   support\n",
      "\n",
      "           0       0.85      0.85      0.85     10973\n",
      "           1       0.85      0.85      0.85     10956\n",
      "\n",
      "    accuracy                           0.85     21929\n",
      "   macro avg       0.85      0.85      0.85     21929\n",
      "weighted avg       0.85      0.85      0.85     21929\n",
      "\n"
     ]
    }
   ],
   "source": [
    "report(svc_model_2)"
   ]
  },
  {
   "cell_type": "code",
   "execution_count": 58,
   "metadata": {},
   "outputs": [
    {
     "name": "stdout",
     "output_type": "stream",
     "text": [
      "accuracy_score - 0.8501071640293675\n",
      "f1_score - 0.8506248579868212\n",
      "precision_score - 0.8470449814462847\n",
      "recall_score - 0.8542351223074115\n",
      "cohen_kappa_score - 0.7002161191027072\n",
      "roc_auc_score - 0.8501103616640493\n"
     ]
    }
   ],
   "source": [
    "scores(svc_model_2)"
   ]
  },
  {
   "cell_type": "code",
   "execution_count": 59,
   "metadata": {},
   "outputs": [
    {
     "data": {
      "text/html": [
       "<div>\n",
       "<style scoped>\n",
       "    .dataframe tbody tr th:only-of-type {\n",
       "        vertical-align: middle;\n",
       "    }\n",
       "\n",
       "    .dataframe tbody tr th {\n",
       "        vertical-align: top;\n",
       "    }\n",
       "\n",
       "    .dataframe thead th {\n",
       "        text-align: right;\n",
       "    }\n",
       "</style>\n",
       "<table border=\"1\" class=\"dataframe\">\n",
       "  <thead>\n",
       "    <tr style=\"text-align: right;\">\n",
       "      <th></th>\n",
       "      <th>models</th>\n",
       "      <th>accuracy_score</th>\n",
       "      <th>f1_score</th>\n",
       "      <th>precision_score</th>\n",
       "      <th>recall_score</th>\n",
       "      <th>cohen_kappa_score</th>\n",
       "      <th>roc_auc_score</th>\n",
       "    </tr>\n",
       "  </thead>\n",
       "  <tbody>\n",
       "    <tr>\n",
       "      <th>0</th>\n",
       "      <td>svc_model_2</td>\n",
       "      <td>0.850107</td>\n",
       "      <td>0.850625</td>\n",
       "      <td>0.847045</td>\n",
       "      <td>0.854235</td>\n",
       "      <td>0.700216</td>\n",
       "      <td>0.85011</td>\n",
       "    </tr>\n",
       "  </tbody>\n",
       "</table>\n",
       "</div>"
      ],
      "text/plain": [
       "        models  accuracy_score  f1_score  precision_score  recall_score  \\\n",
       "0  svc_model_2        0.850107  0.850625         0.847045      0.854235   \n",
       "\n",
       "   cohen_kappa_score  roc_auc_score  \n",
       "0           0.700216        0.85011  "
      ]
     },
     "execution_count": 59,
     "metadata": {},
     "output_type": "execute_result"
    }
   ],
   "source": [
    "model = 'svc_model_2'\n",
    "results(svc_model_2)"
   ]
  },
  {
   "cell_type": "code",
   "execution_count": 60,
   "metadata": {},
   "outputs": [],
   "source": [
    "model_2 = results(svc_model_2)"
   ]
  },
  {
   "cell_type": "code",
   "execution_count": 61,
   "metadata": {},
   "outputs": [],
   "source": [
    "model_1 = model_1.append(model_2)"
   ]
  },
  {
   "cell_type": "code",
   "execution_count": 62,
   "metadata": {},
   "outputs": [
    {
     "data": {
      "text/html": [
       "<div>\n",
       "<style scoped>\n",
       "    .dataframe tbody tr th:only-of-type {\n",
       "        vertical-align: middle;\n",
       "    }\n",
       "\n",
       "    .dataframe tbody tr th {\n",
       "        vertical-align: top;\n",
       "    }\n",
       "\n",
       "    .dataframe thead th {\n",
       "        text-align: right;\n",
       "    }\n",
       "</style>\n",
       "<table border=\"1\" class=\"dataframe\">\n",
       "  <thead>\n",
       "    <tr style=\"text-align: right;\">\n",
       "      <th></th>\n",
       "      <th>models</th>\n",
       "      <th>accuracy_score</th>\n",
       "      <th>f1_score</th>\n",
       "      <th>precision_score</th>\n",
       "      <th>recall_score</th>\n",
       "      <th>cohen_kappa_score</th>\n",
       "      <th>roc_auc_score</th>\n",
       "    </tr>\n",
       "  </thead>\n",
       "  <tbody>\n",
       "    <tr>\n",
       "      <th>0</th>\n",
       "      <td>suv_model_1</td>\n",
       "      <td>0.759360</td>\n",
       "      <td>0.785531</td>\n",
       "      <td>0.708037</td>\n",
       "      <td>0.882074</td>\n",
       "      <td>0.518811</td>\n",
       "      <td>0.759455</td>\n",
       "    </tr>\n",
       "    <tr>\n",
       "      <th>0</th>\n",
       "      <td>svc_model_2</td>\n",
       "      <td>0.850107</td>\n",
       "      <td>0.850625</td>\n",
       "      <td>0.847045</td>\n",
       "      <td>0.854235</td>\n",
       "      <td>0.700216</td>\n",
       "      <td>0.850110</td>\n",
       "    </tr>\n",
       "  </tbody>\n",
       "</table>\n",
       "</div>"
      ],
      "text/plain": [
       "        models  accuracy_score  f1_score  precision_score  recall_score  \\\n",
       "0  suv_model_1        0.759360  0.785531         0.708037      0.882074   \n",
       "0  svc_model_2        0.850107  0.850625         0.847045      0.854235   \n",
       "\n",
       "   cohen_kappa_score  roc_auc_score  \n",
       "0           0.518811       0.759455  \n",
       "0           0.700216       0.850110  "
      ]
     },
     "execution_count": 62,
     "metadata": {},
     "output_type": "execute_result"
    }
   ],
   "source": [
    "model_1"
   ]
  },
  {
   "cell_type": "code",
   "execution_count": 63,
   "metadata": {},
   "outputs": [],
   "source": [
    "result = pd.DataFrame({'models':['svc_model_2'],\n",
    "                      'accuracy_score': [metrics.accuracy_score(y_test,y_predict)],\n",
    "                      'f1_score':[metrics.f1_score(y_test,y_predict)],\n",
    "                      'precision_score':[metrics.precision_score(y_test,y_predict)],\n",
    "                      'recall_score':[metrics.recall_score(y_test,y_predict)],\n",
    "                      'cohen_kappa_score':[metrics.cohen_kappa_score(y_test,y_predict)],\n",
    "                      'roc_auc_score':[metrics.roc_auc_score(y_test,y_predict)]})"
   ]
  },
  {
   "cell_type": "markdown",
   "metadata": {},
   "source": [
    "# MODEL-3 SVM CLASSIFIER WITH SIGMOID "
   ]
  },
  {
   "cell_type": "code",
   "execution_count": 64,
   "metadata": {},
   "outputs": [
    {
     "name": "stderr",
     "output_type": "stream",
     "text": [
      "C:\\Users\\HARI KRISHNA\\anaconda3\\lib\\site-packages\\sklearn\\utils\\validation.py:63: DataConversionWarning: A column-vector y was passed when a 1d array was expected. Please change the shape of y to (n_samples, ), for example using ravel().\n",
      "  return f(*args, **kwargs)\n"
     ]
    }
   ],
   "source": [
    "svc_classifier = SVC(kernel='sigmoid')\n",
    "svc_model_3 = svc_classifier.fit(x_train,y_train)"
   ]
  },
  {
   "cell_type": "code",
   "execution_count": 65,
   "metadata": {},
   "outputs": [],
   "source": [
    "y_predict = svc_model_3.predict(x_test)"
   ]
  },
  {
   "cell_type": "code",
   "execution_count": 66,
   "metadata": {},
   "outputs": [],
   "source": [
    "y_predict = y_predicts(y_predict)"
   ]
  },
  {
   "cell_type": "code",
   "execution_count": 67,
   "metadata": {},
   "outputs": [
    {
     "data": {
      "text/html": [
       "<div>\n",
       "<style scoped>\n",
       "    .dataframe tbody tr th:only-of-type {\n",
       "        vertical-align: middle;\n",
       "    }\n",
       "\n",
       "    .dataframe tbody tr th {\n",
       "        vertical-align: top;\n",
       "    }\n",
       "\n",
       "    .dataframe thead th {\n",
       "        text-align: right;\n",
       "    }\n",
       "</style>\n",
       "<table border=\"1\" class=\"dataframe\">\n",
       "  <thead>\n",
       "    <tr style=\"text-align: right;\">\n",
       "      <th></th>\n",
       "      <th>y</th>\n",
       "    </tr>\n",
       "  </thead>\n",
       "  <tbody>\n",
       "    <tr>\n",
       "      <th>5939</th>\n",
       "      <td>0</td>\n",
       "    </tr>\n",
       "    <tr>\n",
       "      <th>31144</th>\n",
       "      <td>0</td>\n",
       "    </tr>\n",
       "    <tr>\n",
       "      <th>51781</th>\n",
       "      <td>1</td>\n",
       "    </tr>\n",
       "    <tr>\n",
       "      <th>38016</th>\n",
       "      <td>1</td>\n",
       "    </tr>\n",
       "    <tr>\n",
       "      <th>25814</th>\n",
       "      <td>0</td>\n",
       "    </tr>\n",
       "    <tr>\n",
       "      <th>...</th>\n",
       "      <td>...</td>\n",
       "    </tr>\n",
       "    <tr>\n",
       "      <th>28770</th>\n",
       "      <td>0</td>\n",
       "    </tr>\n",
       "    <tr>\n",
       "      <th>44540</th>\n",
       "      <td>1</td>\n",
       "    </tr>\n",
       "    <tr>\n",
       "      <th>16222</th>\n",
       "      <td>0</td>\n",
       "    </tr>\n",
       "    <tr>\n",
       "      <th>54326</th>\n",
       "      <td>1</td>\n",
       "    </tr>\n",
       "    <tr>\n",
       "      <th>54873</th>\n",
       "      <td>1</td>\n",
       "    </tr>\n",
       "  </tbody>\n",
       "</table>\n",
       "<p>21929 rows × 1 columns</p>\n",
       "</div>"
      ],
      "text/plain": [
       "       y\n",
       "5939   0\n",
       "31144  0\n",
       "51781  1\n",
       "38016  1\n",
       "25814  0\n",
       "...   ..\n",
       "28770  0\n",
       "44540  1\n",
       "16222  0\n",
       "54326  1\n",
       "54873  1\n",
       "\n",
       "[21929 rows x 1 columns]"
      ]
     },
     "execution_count": 67,
     "metadata": {},
     "output_type": "execute_result"
    }
   ],
   "source": [
    "y_test"
   ]
  },
  {
   "cell_type": "code",
   "execution_count": 68,
   "metadata": {},
   "outputs": [
    {
     "data": {
      "image/png": "[encoded data removed]",
      "text/plain": [
       "<Figure size 1080x360 with 1 Axes>"
      ]
     },
     "metadata": {
      "needs_background": "light"
     },
     "output_type": "display_data"
    }
   ],
   "source": [
    "confuse_matrices(svc_model_3)"
   ]
  },
  {
   "cell_type": "code",
   "execution_count": 69,
   "metadata": {},
   "outputs": [
    {
     "data": {
      "image/png": "[encoded data removed]",
      "text/plain": [
       "<Figure size 1080x360 with 1 Axes>"
      ]
     },
     "metadata": {
      "needs_background": "light"
     },
     "output_type": "display_data"
    }
   ],
   "source": [
    "auc(svc_model_3)"
   ]
  },
  {
   "cell_type": "code",
   "execution_count": 70,
   "metadata": {},
   "outputs": [
    {
     "name": "stdout",
     "output_type": "stream",
     "text": [
      "accuracy_score - 0.6886770942587441\n",
      "f1_score - 0.6544865630851764\n",
      "precision_score - 0.7345223219357038\n",
      "recall_score - 0.590178897407813\n",
      "cohen_kappa_score - 0.3772590176672559\n",
      "roc_auc_score - 0.688600794735074\n"
     ]
    }
   ],
   "source": [
    "from sklearn import metrics\n",
    "scores(svc_model_3)"
   ]
  },
  {
   "cell_type": "code",
   "execution_count": 71,
   "metadata": {},
   "outputs": [],
   "source": [
    "model_3 = pd.DataFrame({'models':['svc_model_3'],\n",
    "                      'accuracy_score': [metrics.accuracy_score(y_test,y_predict)],\n",
    "                      'f1_score':[metrics.f1_score(y_test,y_predict)],\n",
    "                      'precision_score':[metrics.precision_score(y_test,y_predict)],\n",
    "                      'recall_score':[metrics.recall_score(y_test,y_predict)],\n",
    "                      'cohen_kappa_score':[metrics.cohen_kappa_score(y_test,y_predict)],\n",
    "                      'roc_auc_score':[metrics.roc_auc_score(y_test,y_predict)]})"
   ]
  },
  {
   "cell_type": "code",
   "execution_count": 72,
   "metadata": {},
   "outputs": [],
   "source": [
    "model_1 = model_1.append(model_3)"
   ]
  },
  {
   "cell_type": "code",
   "execution_count": 73,
   "metadata": {},
   "outputs": [
    {
     "data": {
      "text/html": [
       "<div>\n",
       "<style scoped>\n",
       "    .dataframe tbody tr th:only-of-type {\n",
       "        vertical-align: middle;\n",
       "    }\n",
       "\n",
       "    .dataframe tbody tr th {\n",
       "        vertical-align: top;\n",
       "    }\n",
       "\n",
       "    .dataframe thead th {\n",
       "        text-align: right;\n",
       "    }\n",
       "</style>\n",
       "<table border=\"1\" class=\"dataframe\">\n",
       "  <thead>\n",
       "    <tr style=\"text-align: right;\">\n",
       "      <th></th>\n",
       "      <th>models</th>\n",
       "      <th>accuracy_score</th>\n",
       "      <th>f1_score</th>\n",
       "      <th>precision_score</th>\n",
       "      <th>recall_score</th>\n",
       "      <th>cohen_kappa_score</th>\n",
       "      <th>roc_auc_score</th>\n",
       "    </tr>\n",
       "  </thead>\n",
       "  <tbody>\n",
       "    <tr>\n",
       "      <th>0</th>\n",
       "      <td>suv_model_1</td>\n",
       "      <td>0.759360</td>\n",
       "      <td>0.785531</td>\n",
       "      <td>0.708037</td>\n",
       "      <td>0.882074</td>\n",
       "      <td>0.518811</td>\n",
       "      <td>0.759455</td>\n",
       "    </tr>\n",
       "    <tr>\n",
       "      <th>0</th>\n",
       "      <td>svc_model_2</td>\n",
       "      <td>0.850107</td>\n",
       "      <td>0.850625</td>\n",
       "      <td>0.847045</td>\n",
       "      <td>0.854235</td>\n",
       "      <td>0.700216</td>\n",
       "      <td>0.850110</td>\n",
       "    </tr>\n",
       "    <tr>\n",
       "      <th>0</th>\n",
       "      <td>svc_model_3</td>\n",
       "      <td>0.688677</td>\n",
       "      <td>0.654487</td>\n",
       "      <td>0.734522</td>\n",
       "      <td>0.590179</td>\n",
       "      <td>0.377259</td>\n",
       "      <td>0.688601</td>\n",
       "    </tr>\n",
       "  </tbody>\n",
       "</table>\n",
       "</div>"
      ],
      "text/plain": [
       "        models  accuracy_score  f1_score  precision_score  recall_score  \\\n",
       "0  suv_model_1        0.759360  0.785531         0.708037      0.882074   \n",
       "0  svc_model_2        0.850107  0.850625         0.847045      0.854235   \n",
       "0  svc_model_3        0.688677  0.654487         0.734522      0.590179   \n",
       "\n",
       "   cohen_kappa_score  roc_auc_score  \n",
       "0           0.518811       0.759455  \n",
       "0           0.700216       0.850110  \n",
       "0           0.377259       0.688601  "
      ]
     },
     "execution_count": 73,
     "metadata": {},
     "output_type": "execute_result"
    }
   ],
   "source": [
    "model_1"
   ]
  },
  {
   "cell_type": "markdown",
   "metadata": {},
   "source": [
    "# MODEL - 4 SVM CLASSIFIER WITH KERNAL POLYNOMIAL KERNAL"
   ]
  },
  {
   "cell_type": "code",
   "execution_count": 74,
   "metadata": {},
   "outputs": [
    {
     "name": "stderr",
     "output_type": "stream",
     "text": [
      "C:\\Users\\HARI KRISHNA\\anaconda3\\lib\\site-packages\\sklearn\\utils\\validation.py:63: DataConversionWarning: A column-vector y was passed when a 1d array was expected. Please change the shape of y to (n_samples, ), for example using ravel().\n",
      "  return f(*args, **kwargs)\n"
     ]
    }
   ],
   "source": [
    "svc_classifier = SVC(kernel='poly')\n",
    "svc_model_4 = svc_classifier.fit(x_train,y_train)"
   ]
  },
  {
   "cell_type": "code",
   "execution_count": 75,
   "metadata": {},
   "outputs": [],
   "source": [
    "y_predict = svc_model_4.predict(x_test)"
   ]
  },
  {
   "cell_type": "code",
   "execution_count": 76,
   "metadata": {},
   "outputs": [],
   "source": [
    "y_predict = y_predicts(y_predict)"
   ]
  },
  {
   "cell_type": "code",
   "execution_count": 77,
   "metadata": {},
   "outputs": [
    {
     "data": {
      "image/png": "[encoded data removed]",
      "text/plain": [
       "<Figure size 1080x360 with 1 Axes>"
      ]
     },
     "metadata": {
      "needs_background": "light"
     },
     "output_type": "display_data"
    }
   ],
   "source": [
    "confuse_matrices(svc_model_4)"
   ]
  },
  {
   "cell_type": "code",
   "execution_count": 78,
   "metadata": {},
   "outputs": [
    {
     "data": {
      "image/png": "[encoded data removed]",
      "text/plain": [
       "<Figure size 1080x360 with 1 Axes>"
      ]
     },
     "metadata": {
      "needs_background": "light"
     },
     "output_type": "display_data"
    }
   ],
   "source": [
    "auc(svc_model_4)"
   ]
  },
  {
   "cell_type": "code",
   "execution_count": 79,
   "metadata": {},
   "outputs": [
    {
     "name": "stdout",
     "output_type": "stream",
     "text": [
      "accuracy_score - 0.8510648000364813\n",
      "f1_score - 0.8522706712502262\n",
      "precision_score - 0.8447812051649928\n",
      "recall_score - 0.8598941219423147\n",
      "cohen_kappa_score - 0.7021335488637532\n",
      "roc_auc_score - 0.8510716394820477\n"
     ]
    }
   ],
   "source": [
    "scores(svc_model_4)"
   ]
  },
  {
   "cell_type": "code",
   "execution_count": 80,
   "metadata": {},
   "outputs": [],
   "source": [
    "model_4 = pd.DataFrame({'models':['svc_model_poly'],\n",
    "                      'accuracy_score': [metrics.accuracy_score(y_test,y_predict)],\n",
    "                      'f1_score':[metrics.f1_score(y_test,y_predict)],\n",
    "                      'precision_score':[metrics.precision_score(y_test,y_predict)],\n",
    "                      'recall_score':[metrics.recall_score(y_test,y_predict)],\n",
    "                      'cohen_kappa_score':[metrics.cohen_kappa_score(y_test,y_predict)],\n",
    "                      'roc_auc_score':[metrics.roc_auc_score(y_test,y_predict)]})"
   ]
  },
  {
   "cell_type": "code",
   "execution_count": 81,
   "metadata": {},
   "outputs": [
    {
     "data": {
      "text/html": [
       "<div>\n",
       "<style scoped>\n",
       "    .dataframe tbody tr th:only-of-type {\n",
       "        vertical-align: middle;\n",
       "    }\n",
       "\n",
       "    .dataframe tbody tr th {\n",
       "        vertical-align: top;\n",
       "    }\n",
       "\n",
       "    .dataframe thead th {\n",
       "        text-align: right;\n",
       "    }\n",
       "</style>\n",
       "<table border=\"1\" class=\"dataframe\">\n",
       "  <thead>\n",
       "    <tr style=\"text-align: right;\">\n",
       "      <th></th>\n",
       "      <th>models</th>\n",
       "      <th>accuracy_score</th>\n",
       "      <th>f1_score</th>\n",
       "      <th>precision_score</th>\n",
       "      <th>recall_score</th>\n",
       "      <th>cohen_kappa_score</th>\n",
       "      <th>roc_auc_score</th>\n",
       "    </tr>\n",
       "  </thead>\n",
       "  <tbody>\n",
       "    <tr>\n",
       "      <th>0</th>\n",
       "      <td>svc_model_poly</td>\n",
       "      <td>0.851065</td>\n",
       "      <td>0.852271</td>\n",
       "      <td>0.844781</td>\n",
       "      <td>0.859894</td>\n",
       "      <td>0.702134</td>\n",
       "      <td>0.851072</td>\n",
       "    </tr>\n",
       "  </tbody>\n",
       "</table>\n",
       "</div>"
      ],
      "text/plain": [
       "           models  accuracy_score  f1_score  precision_score  recall_score  \\\n",
       "0  svc_model_poly        0.851065  0.852271         0.844781      0.859894   \n",
       "\n",
       "   cohen_kappa_score  roc_auc_score  \n",
       "0           0.702134       0.851072  "
      ]
     },
     "execution_count": 81,
     "metadata": {},
     "output_type": "execute_result"
    }
   ],
   "source": [
    "model_4"
   ]
  },
  {
   "cell_type": "code",
   "execution_count": 82,
   "metadata": {},
   "outputs": [],
   "source": [
    "model_1 = model_1.append(model_4)"
   ]
  },
  {
   "cell_type": "code",
   "execution_count": 83,
   "metadata": {},
   "outputs": [
    {
     "data": {
      "text/html": [
       "<div>\n",
       "<style scoped>\n",
       "    .dataframe tbody tr th:only-of-type {\n",
       "        vertical-align: middle;\n",
       "    }\n",
       "\n",
       "    .dataframe tbody tr th {\n",
       "        vertical-align: top;\n",
       "    }\n",
       "\n",
       "    .dataframe thead th {\n",
       "        text-align: right;\n",
       "    }\n",
       "</style>\n",
       "<table border=\"1\" class=\"dataframe\">\n",
       "  <thead>\n",
       "    <tr style=\"text-align: right;\">\n",
       "      <th></th>\n",
       "      <th>models</th>\n",
       "      <th>accuracy_score</th>\n",
       "      <th>f1_score</th>\n",
       "      <th>precision_score</th>\n",
       "      <th>recall_score</th>\n",
       "      <th>cohen_kappa_score</th>\n",
       "      <th>roc_auc_score</th>\n",
       "    </tr>\n",
       "  </thead>\n",
       "  <tbody>\n",
       "    <tr>\n",
       "      <th>0</th>\n",
       "      <td>suv_model_1</td>\n",
       "      <td>0.759360</td>\n",
       "      <td>0.785531</td>\n",
       "      <td>0.708037</td>\n",
       "      <td>0.882074</td>\n",
       "      <td>0.518811</td>\n",
       "      <td>0.759455</td>\n",
       "    </tr>\n",
       "    <tr>\n",
       "      <th>0</th>\n",
       "      <td>svc_model_2</td>\n",
       "      <td>0.850107</td>\n",
       "      <td>0.850625</td>\n",
       "      <td>0.847045</td>\n",
       "      <td>0.854235</td>\n",
       "      <td>0.700216</td>\n",
       "      <td>0.850110</td>\n",
       "    </tr>\n",
       "    <tr>\n",
       "      <th>0</th>\n",
       "      <td>svc_model_3</td>\n",
       "      <td>0.688677</td>\n",
       "      <td>0.654487</td>\n",
       "      <td>0.734522</td>\n",
       "      <td>0.590179</td>\n",
       "      <td>0.377259</td>\n",
       "      <td>0.688601</td>\n",
       "    </tr>\n",
       "    <tr>\n",
       "      <th>0</th>\n",
       "      <td>svc_model_poly</td>\n",
       "      <td>0.851065</td>\n",
       "      <td>0.852271</td>\n",
       "      <td>0.844781</td>\n",
       "      <td>0.859894</td>\n",
       "      <td>0.702134</td>\n",
       "      <td>0.851072</td>\n",
       "    </tr>\n",
       "  </tbody>\n",
       "</table>\n",
       "</div>"
      ],
      "text/plain": [
       "           models  accuracy_score  f1_score  precision_score  recall_score  \\\n",
       "0     suv_model_1        0.759360  0.785531         0.708037      0.882074   \n",
       "0     svc_model_2        0.850107  0.850625         0.847045      0.854235   \n",
       "0     svc_model_3        0.688677  0.654487         0.734522      0.590179   \n",
       "0  svc_model_poly        0.851065  0.852271         0.844781      0.859894   \n",
       "\n",
       "   cohen_kappa_score  roc_auc_score  \n",
       "0           0.518811       0.759455  \n",
       "0           0.700216       0.850110  \n",
       "0           0.377259       0.688601  \n",
       "0           0.702134       0.851072  "
      ]
     },
     "execution_count": 83,
     "metadata": {},
     "output_type": "execute_result"
    }
   ],
   "source": [
    "model_1"
   ]
  },
  {
   "cell_type": "markdown",
   "metadata": {},
   "source": [
    "# MODEL - 5, poly with degree 2"
   ]
  },
  {
   "cell_type": "code",
   "execution_count": 84,
   "metadata": {},
   "outputs": [
    {
     "name": "stderr",
     "output_type": "stream",
     "text": [
      "C:\\Users\\HARI KRISHNA\\anaconda3\\lib\\site-packages\\sklearn\\utils\\validation.py:63: DataConversionWarning: A column-vector y was passed when a 1d array was expected. Please change the shape of y to (n_samples, ), for example using ravel().\n",
      "  return f(*args, **kwargs)\n"
     ]
    }
   ],
   "source": [
    "from sklearn.svm import SVC\n",
    "svc_classifier = SVC(kernel='poly',degree= 2)\n",
    "svc_model_5 = svc_classifier.fit(x_train,y_train)"
   ]
  },
  {
   "cell_type": "code",
   "execution_count": 85,
   "metadata": {},
   "outputs": [],
   "source": [
    "y_predict = svc_model_5.predict(x_test)"
   ]
  },
  {
   "cell_type": "code",
   "execution_count": 86,
   "metadata": {},
   "outputs": [],
   "source": [
    "y_predict = y_predicts(y_predict)\n"
   ]
  },
  {
   "cell_type": "code",
   "execution_count": 87,
   "metadata": {},
   "outputs": [
    {
     "data": {
      "image/png": "[encoded data removed]",
      "text/plain": [
       "<Figure size 1080x360 with 1 Axes>"
      ]
     },
     "metadata": {
      "needs_background": "light"
     },
     "output_type": "display_data"
    }
   ],
   "source": [
    "confuse_matrices(svc_model_5)"
   ]
  },
  {
   "cell_type": "code",
   "execution_count": 88,
   "metadata": {},
   "outputs": [
    {
     "data": {
      "image/png": "[encoded data removed]",
      "text/plain": [
       "<Figure size 1080x360 with 1 Axes>"
      ]
     },
     "metadata": {
      "needs_background": "light"
     },
     "output_type": "display_data"
    }
   ],
   "source": [
    "auc(svc_model_5)"
   ]
  },
  {
   "cell_type": "code",
   "execution_count": 89,
   "metadata": {},
   "outputs": [
    {
     "name": "stdout",
     "output_type": "stream",
     "text": [
      "accuracy_score - 0.8489671211637557\n",
      "f1_score - 0.8493038493038493\n",
      "precision_score - 0.84676102340773\n",
      "recall_score - 0.8518619934282585\n",
      "cohen_kappa_score - 0.6979354703571178\n",
      "roc_auc_score - 0.8489693636147034\n"
     ]
    }
   ],
   "source": [
    "from sklearn import metrics\n",
    "scores(svc_model_5)"
   ]
  },
  {
   "cell_type": "code",
   "execution_count": 90,
   "metadata": {},
   "outputs": [],
   "source": [
    "model_5 = pd.DataFrame({'models':['svc_model_poly_deg_2'],\n",
    "                      'accuracy_score': [metrics.accuracy_score(y_test,y_predict)],\n",
    "                      'f1_score':[metrics.f1_score(y_test,y_predict)],\n",
    "                      'precision_score':[metrics.precision_score(y_test,y_predict)],\n",
    "                      'recall_score':[metrics.recall_score(y_test,y_predict)],\n",
    "                      'cohen_kappa_score':[metrics.cohen_kappa_score(y_test,y_predict)],\n",
    "                      'roc_auc_score':[metrics.roc_auc_score(y_test,y_predict)]})"
   ]
  },
  {
   "cell_type": "code",
   "execution_count": 91,
   "metadata": {},
   "outputs": [
    {
     "data": {
      "text/html": [
       "<div>\n",
       "<style scoped>\n",
       "    .dataframe tbody tr th:only-of-type {\n",
       "        vertical-align: middle;\n",
       "    }\n",
       "\n",
       "    .dataframe tbody tr th {\n",
       "        vertical-align: top;\n",
       "    }\n",
       "\n",
       "    .dataframe thead th {\n",
       "        text-align: right;\n",
       "    }\n",
       "</style>\n",
       "<table border=\"1\" class=\"dataframe\">\n",
       "  <thead>\n",
       "    <tr style=\"text-align: right;\">\n",
       "      <th></th>\n",
       "      <th>models</th>\n",
       "      <th>accuracy_score</th>\n",
       "      <th>f1_score</th>\n",
       "      <th>precision_score</th>\n",
       "      <th>recall_score</th>\n",
       "      <th>cohen_kappa_score</th>\n",
       "      <th>roc_auc_score</th>\n",
       "    </tr>\n",
       "  </thead>\n",
       "  <tbody>\n",
       "    <tr>\n",
       "      <th>0</th>\n",
       "      <td>svc_model_poly_deg_2</td>\n",
       "      <td>0.848967</td>\n",
       "      <td>0.849304</td>\n",
       "      <td>0.846761</td>\n",
       "      <td>0.851862</td>\n",
       "      <td>0.697935</td>\n",
       "      <td>0.848969</td>\n",
       "    </tr>\n",
       "  </tbody>\n",
       "</table>\n",
       "</div>"
      ],
      "text/plain": [
       "                 models  accuracy_score  f1_score  precision_score  \\\n",
       "0  svc_model_poly_deg_2        0.848967  0.849304         0.846761   \n",
       "\n",
       "   recall_score  cohen_kappa_score  roc_auc_score  \n",
       "0      0.851862           0.697935       0.848969  "
      ]
     },
     "execution_count": 91,
     "metadata": {},
     "output_type": "execute_result"
    }
   ],
   "source": [
    "model_5"
   ]
  },
  {
   "cell_type": "code",
   "execution_count": 92,
   "metadata": {},
   "outputs": [],
   "source": [
    "model_1 = model_1.append(model_5)"
   ]
  },
  {
   "cell_type": "code",
   "execution_count": 93,
   "metadata": {},
   "outputs": [
    {
     "data": {
      "text/html": [
       "<div>\n",
       "<style scoped>\n",
       "    .dataframe tbody tr th:only-of-type {\n",
       "        vertical-align: middle;\n",
       "    }\n",
       "\n",
       "    .dataframe tbody tr th {\n",
       "        vertical-align: top;\n",
       "    }\n",
       "\n",
       "    .dataframe thead th {\n",
       "        text-align: right;\n",
       "    }\n",
       "</style>\n",
       "<table border=\"1\" class=\"dataframe\">\n",
       "  <thead>\n",
       "    <tr style=\"text-align: right;\">\n",
       "      <th></th>\n",
       "      <th>models</th>\n",
       "      <th>accuracy_score</th>\n",
       "      <th>f1_score</th>\n",
       "      <th>precision_score</th>\n",
       "      <th>recall_score</th>\n",
       "      <th>cohen_kappa_score</th>\n",
       "      <th>roc_auc_score</th>\n",
       "    </tr>\n",
       "  </thead>\n",
       "  <tbody>\n",
       "    <tr>\n",
       "      <th>0</th>\n",
       "      <td>suv_model_1</td>\n",
       "      <td>0.759360</td>\n",
       "      <td>0.785531</td>\n",
       "      <td>0.708037</td>\n",
       "      <td>0.882074</td>\n",
       "      <td>0.518811</td>\n",
       "      <td>0.759455</td>\n",
       "    </tr>\n",
       "    <tr>\n",
       "      <th>0</th>\n",
       "      <td>svc_model_2</td>\n",
       "      <td>0.850107</td>\n",
       "      <td>0.850625</td>\n",
       "      <td>0.847045</td>\n",
       "      <td>0.854235</td>\n",
       "      <td>0.700216</td>\n",
       "      <td>0.850110</td>\n",
       "    </tr>\n",
       "    <tr>\n",
       "      <th>0</th>\n",
       "      <td>svc_model_3</td>\n",
       "      <td>0.688677</td>\n",
       "      <td>0.654487</td>\n",
       "      <td>0.734522</td>\n",
       "      <td>0.590179</td>\n",
       "      <td>0.377259</td>\n",
       "      <td>0.688601</td>\n",
       "    </tr>\n",
       "    <tr>\n",
       "      <th>0</th>\n",
       "      <td>svc_model_poly</td>\n",
       "      <td>0.851065</td>\n",
       "      <td>0.852271</td>\n",
       "      <td>0.844781</td>\n",
       "      <td>0.859894</td>\n",
       "      <td>0.702134</td>\n",
       "      <td>0.851072</td>\n",
       "    </tr>\n",
       "    <tr>\n",
       "      <th>0</th>\n",
       "      <td>svc_model_poly_deg_2</td>\n",
       "      <td>0.848967</td>\n",
       "      <td>0.849304</td>\n",
       "      <td>0.846761</td>\n",
       "      <td>0.851862</td>\n",
       "      <td>0.697935</td>\n",
       "      <td>0.848969</td>\n",
       "    </tr>\n",
       "  </tbody>\n",
       "</table>\n",
       "</div>"
      ],
      "text/plain": [
       "                 models  accuracy_score  f1_score  precision_score  \\\n",
       "0           suv_model_1        0.759360  0.785531         0.708037   \n",
       "0           svc_model_2        0.850107  0.850625         0.847045   \n",
       "0           svc_model_3        0.688677  0.654487         0.734522   \n",
       "0        svc_model_poly        0.851065  0.852271         0.844781   \n",
       "0  svc_model_poly_deg_2        0.848967  0.849304         0.846761   \n",
       "\n",
       "   recall_score  cohen_kappa_score  roc_auc_score  \n",
       "0      0.882074           0.518811       0.759455  \n",
       "0      0.854235           0.700216       0.850110  \n",
       "0      0.590179           0.377259       0.688601  \n",
       "0      0.859894           0.702134       0.851072  \n",
       "0      0.851862           0.697935       0.848969  "
      ]
     },
     "execution_count": 93,
     "metadata": {},
     "output_type": "execute_result"
    }
   ],
   "source": [
    "model_1"
   ]
  },
  {
   "cell_type": "code",
   "execution_count": null,
   "metadata": {},
   "outputs": [],
   "source": []
  },
  {
   "cell_type": "markdown",
   "metadata": {},
   "source": [
    "# MODEL-6 - logistic regression"
   ]
  },
  {
   "cell_type": "code",
   "execution_count": 94,
   "metadata": {},
   "outputs": [],
   "source": [
    "from warnings import filterwarnings\n",
    "filterwarnings('ignore')\n",
    "from sklearn.linear_model import LogisticRegression\n",
    "logit = LogisticRegression()\n",
    "logit = logit.fit(x_train,y_train)"
   ]
  },
  {
   "cell_type": "code",
   "execution_count": 95,
   "metadata": {},
   "outputs": [],
   "source": [
    "y_predict = logit.predict(x_test)"
   ]
  },
  {
   "cell_type": "code",
   "execution_count": 96,
   "metadata": {},
   "outputs": [],
   "source": [
    "y_predict = y_predicts(y_predict)"
   ]
  },
  {
   "cell_type": "code",
   "execution_count": 97,
   "metadata": {},
   "outputs": [
    {
     "data": {
      "image/png": "[encoded data removed]",
      "text/plain": [
       "<Figure size 1080x360 with 1 Axes>"
      ]
     },
     "metadata": {
      "needs_background": "light"
     },
     "output_type": "display_data"
    }
   ],
   "source": [
    "confuse_matrices(logit)"
   ]
  },
  {
   "cell_type": "code",
   "execution_count": 98,
   "metadata": {},
   "outputs": [
    {
     "data": {
      "image/png": "[encoded data removed]",
      "text/plain": [
       "<Figure size 1080x360 with 1 Axes>"
      ]
     },
     "metadata": {
      "needs_background": "light"
     },
     "output_type": "display_data"
    }
   ],
   "source": [
    "auc(logit)"
   ]
  },
  {
   "cell_type": "code",
   "execution_count": 99,
   "metadata": {},
   "outputs": [
    {
     "name": "stdout",
     "output_type": "stream",
     "text": [
      "accuracy_score - 0.8631036526973415\n",
      "f1_score - 0.8630849220103987\n",
      "precision_score - 0.8625341841385598\n",
      "recall_score - 0.8636363636363636\n",
      "cohen_kappa_score - 0.7262074118642868\n",
      "roc_auc_score - 0.8631040653504884\n"
     ]
    }
   ],
   "source": [
    "from sklearn import metrics\n",
    "scores(logit)"
   ]
  },
  {
   "cell_type": "code",
   "execution_count": 100,
   "metadata": {},
   "outputs": [],
   "source": [
    "model_6 = pd.DataFrame({'models':['logit'],\n",
    "                      'accuracy_score': [metrics.accuracy_score(y_test,y_predict)],\n",
    "                      'f1_score':[metrics.f1_score(y_test,y_predict)],\n",
    "                      'precision_score':[metrics.precision_score(y_test,y_predict)],\n",
    "                      'recall_score':[metrics.recall_score(y_test,y_predict)],\n",
    "                      'cohen_kappa_score':[metrics.cohen_kappa_score(y_test,y_predict)],\n",
    "                      'roc_auc_score':[metrics.roc_auc_score(y_test,y_predict)]})"
   ]
  },
  {
   "cell_type": "code",
   "execution_count": 101,
   "metadata": {},
   "outputs": [
    {
     "data": {
      "text/html": [
       "<div>\n",
       "<style scoped>\n",
       "    .dataframe tbody tr th:only-of-type {\n",
       "        vertical-align: middle;\n",
       "    }\n",
       "\n",
       "    .dataframe tbody tr th {\n",
       "        vertical-align: top;\n",
       "    }\n",
       "\n",
       "    .dataframe thead th {\n",
       "        text-align: right;\n",
       "    }\n",
       "</style>\n",
       "<table border=\"1\" class=\"dataframe\">\n",
       "  <thead>\n",
       "    <tr style=\"text-align: right;\">\n",
       "      <th></th>\n",
       "      <th>models</th>\n",
       "      <th>accuracy_score</th>\n",
       "      <th>f1_score</th>\n",
       "      <th>precision_score</th>\n",
       "      <th>recall_score</th>\n",
       "      <th>cohen_kappa_score</th>\n",
       "      <th>roc_auc_score</th>\n",
       "    </tr>\n",
       "  </thead>\n",
       "  <tbody>\n",
       "    <tr>\n",
       "      <th>0</th>\n",
       "      <td>logit</td>\n",
       "      <td>0.863104</td>\n",
       "      <td>0.863085</td>\n",
       "      <td>0.862534</td>\n",
       "      <td>0.863636</td>\n",
       "      <td>0.726207</td>\n",
       "      <td>0.863104</td>\n",
       "    </tr>\n",
       "  </tbody>\n",
       "</table>\n",
       "</div>"
      ],
      "text/plain": [
       "  models  accuracy_score  f1_score  precision_score  recall_score  \\\n",
       "0  logit        0.863104  0.863085         0.862534      0.863636   \n",
       "\n",
       "   cohen_kappa_score  roc_auc_score  \n",
       "0           0.726207       0.863104  "
      ]
     },
     "execution_count": 101,
     "metadata": {},
     "output_type": "execute_result"
    }
   ],
   "source": [
    "model_6"
   ]
  },
  {
   "cell_type": "code",
   "execution_count": 102,
   "metadata": {},
   "outputs": [
    {
     "data": {
      "text/html": [
       "<div>\n",
       "<style scoped>\n",
       "    .dataframe tbody tr th:only-of-type {\n",
       "        vertical-align: middle;\n",
       "    }\n",
       "\n",
       "    .dataframe tbody tr th {\n",
       "        vertical-align: top;\n",
       "    }\n",
       "\n",
       "    .dataframe thead th {\n",
       "        text-align: right;\n",
       "    }\n",
       "</style>\n",
       "<table border=\"1\" class=\"dataframe\">\n",
       "  <thead>\n",
       "    <tr style=\"text-align: right;\">\n",
       "      <th></th>\n",
       "      <th>models</th>\n",
       "      <th>accuracy_score</th>\n",
       "      <th>f1_score</th>\n",
       "      <th>precision_score</th>\n",
       "      <th>recall_score</th>\n",
       "      <th>cohen_kappa_score</th>\n",
       "      <th>roc_auc_score</th>\n",
       "    </tr>\n",
       "  </thead>\n",
       "  <tbody>\n",
       "    <tr>\n",
       "      <th>0</th>\n",
       "      <td>suv_model_1</td>\n",
       "      <td>0.759360</td>\n",
       "      <td>0.785531</td>\n",
       "      <td>0.708037</td>\n",
       "      <td>0.882074</td>\n",
       "      <td>0.518811</td>\n",
       "      <td>0.759455</td>\n",
       "    </tr>\n",
       "    <tr>\n",
       "      <th>0</th>\n",
       "      <td>svc_model_2</td>\n",
       "      <td>0.850107</td>\n",
       "      <td>0.850625</td>\n",
       "      <td>0.847045</td>\n",
       "      <td>0.854235</td>\n",
       "      <td>0.700216</td>\n",
       "      <td>0.850110</td>\n",
       "    </tr>\n",
       "    <tr>\n",
       "      <th>0</th>\n",
       "      <td>svc_model_3</td>\n",
       "      <td>0.688677</td>\n",
       "      <td>0.654487</td>\n",
       "      <td>0.734522</td>\n",
       "      <td>0.590179</td>\n",
       "      <td>0.377259</td>\n",
       "      <td>0.688601</td>\n",
       "    </tr>\n",
       "    <tr>\n",
       "      <th>0</th>\n",
       "      <td>svc_model_poly</td>\n",
       "      <td>0.851065</td>\n",
       "      <td>0.852271</td>\n",
       "      <td>0.844781</td>\n",
       "      <td>0.859894</td>\n",
       "      <td>0.702134</td>\n",
       "      <td>0.851072</td>\n",
       "    </tr>\n",
       "    <tr>\n",
       "      <th>0</th>\n",
       "      <td>svc_model_poly_deg_2</td>\n",
       "      <td>0.848967</td>\n",
       "      <td>0.849304</td>\n",
       "      <td>0.846761</td>\n",
       "      <td>0.851862</td>\n",
       "      <td>0.697935</td>\n",
       "      <td>0.848969</td>\n",
       "    </tr>\n",
       "    <tr>\n",
       "      <th>0</th>\n",
       "      <td>logit</td>\n",
       "      <td>0.863104</td>\n",
       "      <td>0.863085</td>\n",
       "      <td>0.862534</td>\n",
       "      <td>0.863636</td>\n",
       "      <td>0.726207</td>\n",
       "      <td>0.863104</td>\n",
       "    </tr>\n",
       "  </tbody>\n",
       "</table>\n",
       "</div>"
      ],
      "text/plain": [
       "                 models  accuracy_score  f1_score  precision_score  \\\n",
       "0           suv_model_1        0.759360  0.785531         0.708037   \n",
       "0           svc_model_2        0.850107  0.850625         0.847045   \n",
       "0           svc_model_3        0.688677  0.654487         0.734522   \n",
       "0        svc_model_poly        0.851065  0.852271         0.844781   \n",
       "0  svc_model_poly_deg_2        0.848967  0.849304         0.846761   \n",
       "0                 logit        0.863104  0.863085         0.862534   \n",
       "\n",
       "   recall_score  cohen_kappa_score  roc_auc_score  \n",
       "0      0.882074           0.518811       0.759455  \n",
       "0      0.854235           0.700216       0.850110  \n",
       "0      0.590179           0.377259       0.688601  \n",
       "0      0.859894           0.702134       0.851072  \n",
       "0      0.851862           0.697935       0.848969  \n",
       "0      0.863636           0.726207       0.863104  "
      ]
     },
     "execution_count": 102,
     "metadata": {},
     "output_type": "execute_result"
    }
   ],
   "source": [
    "model_1 = model_1.append(model_6)\n",
    "model_1"
   ]
  },
  {
   "cell_type": "markdown",
   "metadata": {},
   "source": [
    "# MODEL - 7  DESCION TREE"
   ]
  },
  {
   "cell_type": "code",
   "execution_count": 103,
   "metadata": {},
   "outputs": [],
   "source": [
    "from sklearn import tree\n",
    "from sklearn.tree import DecisionTreeClassifier\n",
    "descion_tree_model = DecisionTreeClassifier(criterion='gini',max_depth= 5,max_leaf_nodes=15)"
   ]
  },
  {
   "cell_type": "code",
   "execution_count": 104,
   "metadata": {},
   "outputs": [],
   "source": [
    "descion_tree_model = descion_tree_model.fit(x_train,y_train)"
   ]
  },
  {
   "cell_type": "code",
   "execution_count": 105,
   "metadata": {},
   "outputs": [],
   "source": [
    "y_predict = descion_tree_model.predict(x_test)"
   ]
  },
  {
   "cell_type": "code",
   "execution_count": 106,
   "metadata": {},
   "outputs": [],
   "source": [
    "y_predict = y_predicts(y_predict)"
   ]
  },
  {
   "cell_type": "code",
   "execution_count": 107,
   "metadata": {},
   "outputs": [
    {
     "data": {
      "image/png": "[encoded data removed]",
      "text/plain": [
       "<Figure size 1080x360 with 1 Axes>"
      ]
     },
     "metadata": {
      "needs_background": "light"
     },
     "output_type": "display_data"
    }
   ],
   "source": [
    "confuse_matrices(descion_tree_model)"
   ]
  },
  {
   "cell_type": "code",
   "execution_count": 108,
   "metadata": {},
   "outputs": [
    {
     "data": {
      "image/png": "[encoded data removed]",
      "text/plain": [
       "<Figure size 1080x360 with 1 Axes>"
      ]
     },
     "metadata": {
      "needs_background": "light"
     },
     "output_type": "display_data"
    }
   ],
   "source": [
    "auc(descion_tree_model)"
   ]
  },
  {
   "cell_type": "code",
   "execution_count": 109,
   "metadata": {},
   "outputs": [
    {
     "name": "stdout",
     "output_type": "stream",
     "text": [
      "accuracy_score - 0.8808427196862602\n",
      "f1_score - 0.8882139037433155\n",
      "precision_score - 0.835896610033014\n",
      "recall_score - 0.9475173420956553\n",
      "cohen_kappa_score - 0.7617099447222825\n",
      "roc_auc_score - 0.8808943677579343\n"
     ]
    }
   ],
   "source": [
    "from sklearn import metrics\n",
    "scores(descion_tree_model)"
   ]
  },
  {
   "cell_type": "code",
   "execution_count": 110,
   "metadata": {},
   "outputs": [],
   "source": [
    "model_7 = pd.DataFrame({'models':['descion_tree_model'],\n",
    "                      'accuracy_score': [metrics.accuracy_score(y_test,y_predict)],\n",
    "                      'f1_score':[metrics.f1_score(y_test,y_predict)],\n",
    "                      'precision_score':[metrics.precision_score(y_test,y_predict)],\n",
    "                      'recall_score':[metrics.recall_score(y_test,y_predict)],\n",
    "                      'cohen_kappa_score':[metrics.cohen_kappa_score(y_test,y_predict)],\n",
    "                      'roc_auc_score':[metrics.roc_auc_score(y_test,y_predict)]})"
   ]
  },
  {
   "cell_type": "code",
   "execution_count": 111,
   "metadata": {},
   "outputs": [
    {
     "data": {
      "text/html": [
       "<div>\n",
       "<style scoped>\n",
       "    .dataframe tbody tr th:only-of-type {\n",
       "        vertical-align: middle;\n",
       "    }\n",
       "\n",
       "    .dataframe tbody tr th {\n",
       "        vertical-align: top;\n",
       "    }\n",
       "\n",
       "    .dataframe thead th {\n",
       "        text-align: right;\n",
       "    }\n",
       "</style>\n",
       "<table border=\"1\" class=\"dataframe\">\n",
       "  <thead>\n",
       "    <tr style=\"text-align: right;\">\n",
       "      <th></th>\n",
       "      <th>models</th>\n",
       "      <th>accuracy_score</th>\n",
       "      <th>f1_score</th>\n",
       "      <th>precision_score</th>\n",
       "      <th>recall_score</th>\n",
       "      <th>cohen_kappa_score</th>\n",
       "      <th>roc_auc_score</th>\n",
       "    </tr>\n",
       "  </thead>\n",
       "  <tbody>\n",
       "    <tr>\n",
       "      <th>0</th>\n",
       "      <td>descion_tree_model</td>\n",
       "      <td>0.880843</td>\n",
       "      <td>0.888214</td>\n",
       "      <td>0.835897</td>\n",
       "      <td>0.947517</td>\n",
       "      <td>0.76171</td>\n",
       "      <td>0.880894</td>\n",
       "    </tr>\n",
       "  </tbody>\n",
       "</table>\n",
       "</div>"
      ],
      "text/plain": [
       "               models  accuracy_score  f1_score  precision_score  \\\n",
       "0  descion_tree_model        0.880843  0.888214         0.835897   \n",
       "\n",
       "   recall_score  cohen_kappa_score  roc_auc_score  \n",
       "0      0.947517            0.76171       0.880894  "
      ]
     },
     "execution_count": 111,
     "metadata": {},
     "output_type": "execute_result"
    }
   ],
   "source": [
    "model_7"
   ]
  },
  {
   "cell_type": "code",
   "execution_count": 112,
   "metadata": {},
   "outputs": [
    {
     "data": {
      "text/html": [
       "<div>\n",
       "<style scoped>\n",
       "    .dataframe tbody tr th:only-of-type {\n",
       "        vertical-align: middle;\n",
       "    }\n",
       "\n",
       "    .dataframe tbody tr th {\n",
       "        vertical-align: top;\n",
       "    }\n",
       "\n",
       "    .dataframe thead th {\n",
       "        text-align: right;\n",
       "    }\n",
       "</style>\n",
       "<table border=\"1\" class=\"dataframe\">\n",
       "  <thead>\n",
       "    <tr style=\"text-align: right;\">\n",
       "      <th></th>\n",
       "      <th>models</th>\n",
       "      <th>accuracy_score</th>\n",
       "      <th>f1_score</th>\n",
       "      <th>precision_score</th>\n",
       "      <th>recall_score</th>\n",
       "      <th>cohen_kappa_score</th>\n",
       "      <th>roc_auc_score</th>\n",
       "    </tr>\n",
       "  </thead>\n",
       "  <tbody>\n",
       "    <tr>\n",
       "      <th>0</th>\n",
       "      <td>suv_model_1</td>\n",
       "      <td>0.759360</td>\n",
       "      <td>0.785531</td>\n",
       "      <td>0.708037</td>\n",
       "      <td>0.882074</td>\n",
       "      <td>0.518811</td>\n",
       "      <td>0.759455</td>\n",
       "    </tr>\n",
       "    <tr>\n",
       "      <th>0</th>\n",
       "      <td>svc_model_2</td>\n",
       "      <td>0.850107</td>\n",
       "      <td>0.850625</td>\n",
       "      <td>0.847045</td>\n",
       "      <td>0.854235</td>\n",
       "      <td>0.700216</td>\n",
       "      <td>0.850110</td>\n",
       "    </tr>\n",
       "    <tr>\n",
       "      <th>0</th>\n",
       "      <td>svc_model_3</td>\n",
       "      <td>0.688677</td>\n",
       "      <td>0.654487</td>\n",
       "      <td>0.734522</td>\n",
       "      <td>0.590179</td>\n",
       "      <td>0.377259</td>\n",
       "      <td>0.688601</td>\n",
       "    </tr>\n",
       "    <tr>\n",
       "      <th>0</th>\n",
       "      <td>svc_model_poly</td>\n",
       "      <td>0.851065</td>\n",
       "      <td>0.852271</td>\n",
       "      <td>0.844781</td>\n",
       "      <td>0.859894</td>\n",
       "      <td>0.702134</td>\n",
       "      <td>0.851072</td>\n",
       "    </tr>\n",
       "    <tr>\n",
       "      <th>0</th>\n",
       "      <td>svc_model_poly_deg_2</td>\n",
       "      <td>0.848967</td>\n",
       "      <td>0.849304</td>\n",
       "      <td>0.846761</td>\n",
       "      <td>0.851862</td>\n",
       "      <td>0.697935</td>\n",
       "      <td>0.848969</td>\n",
       "    </tr>\n",
       "    <tr>\n",
       "      <th>0</th>\n",
       "      <td>logit</td>\n",
       "      <td>0.863104</td>\n",
       "      <td>0.863085</td>\n",
       "      <td>0.862534</td>\n",
       "      <td>0.863636</td>\n",
       "      <td>0.726207</td>\n",
       "      <td>0.863104</td>\n",
       "    </tr>\n",
       "    <tr>\n",
       "      <th>0</th>\n",
       "      <td>descion_tree_model</td>\n",
       "      <td>0.880843</td>\n",
       "      <td>0.888214</td>\n",
       "      <td>0.835897</td>\n",
       "      <td>0.947517</td>\n",
       "      <td>0.761710</td>\n",
       "      <td>0.880894</td>\n",
       "    </tr>\n",
       "  </tbody>\n",
       "</table>\n",
       "</div>"
      ],
      "text/plain": [
       "                 models  accuracy_score  f1_score  precision_score  \\\n",
       "0           suv_model_1        0.759360  0.785531         0.708037   \n",
       "0           svc_model_2        0.850107  0.850625         0.847045   \n",
       "0           svc_model_3        0.688677  0.654487         0.734522   \n",
       "0        svc_model_poly        0.851065  0.852271         0.844781   \n",
       "0  svc_model_poly_deg_2        0.848967  0.849304         0.846761   \n",
       "0                 logit        0.863104  0.863085         0.862534   \n",
       "0    descion_tree_model        0.880843  0.888214         0.835897   \n",
       "\n",
       "   recall_score  cohen_kappa_score  roc_auc_score  \n",
       "0      0.882074           0.518811       0.759455  \n",
       "0      0.854235           0.700216       0.850110  \n",
       "0      0.590179           0.377259       0.688601  \n",
       "0      0.859894           0.702134       0.851072  \n",
       "0      0.851862           0.697935       0.848969  \n",
       "0      0.863636           0.726207       0.863104  \n",
       "0      0.947517           0.761710       0.880894  "
      ]
     },
     "execution_count": 112,
     "metadata": {},
     "output_type": "execute_result"
    }
   ],
   "source": [
    "model_1 = model_1.append(model_7)\n",
    "model_1"
   ]
  },
  {
   "cell_type": "markdown",
   "metadata": {},
   "source": [
    "# MODEL - 8 BAGGING"
   ]
  },
  {
   "cell_type": "code",
   "execution_count": 113,
   "metadata": {},
   "outputs": [],
   "source": [
    "from sklearn.ensemble import BaggingClassifier"
   ]
  },
  {
   "cell_type": "code",
   "execution_count": 114,
   "metadata": {},
   "outputs": [],
   "source": [
    "bagging = BaggingClassifier(LogisticRegression())\n",
    "bagging_mdl = bagging.fit(x_train,y_train)"
   ]
  },
  {
   "cell_type": "code",
   "execution_count": 115,
   "metadata": {},
   "outputs": [],
   "source": [
    "y_predict = bagging_mdl.predict(x_test)"
   ]
  },
  {
   "cell_type": "code",
   "execution_count": 116,
   "metadata": {},
   "outputs": [],
   "source": [
    "y_predict = y_predicts(y_predict)"
   ]
  },
  {
   "cell_type": "code",
   "execution_count": 117,
   "metadata": {},
   "outputs": [
    {
     "data": {
      "image/png": "[encoded data removed]",
      "text/plain": [
       "<Figure size 1080x360 with 1 Axes>"
      ]
     },
     "metadata": {
      "needs_background": "light"
     },
     "output_type": "display_data"
    }
   ],
   "source": [
    "confuse_matrices(bagging_mdl)"
   ]
  },
  {
   "cell_type": "code",
   "execution_count": 118,
   "metadata": {},
   "outputs": [
    {
     "data": {
      "image/png": "[encoded data removed]",
      "text/plain": [
       "<Figure size 1080x360 with 1 Axes>"
      ]
     },
     "metadata": {
      "needs_background": "light"
     },
     "output_type": "display_data"
    }
   ],
   "source": [
    "auc(bagging_mdl)"
   ]
  },
  {
   "cell_type": "code",
   "execution_count": 119,
   "metadata": {},
   "outputs": [
    {
     "name": "stdout",
     "output_type": "stream",
     "text": [
      "accuracy_score - 0.8570842263669114\n",
      "f1_score - 0.8570385913694006\n",
      "precision_score - 0.8566478205362028\n",
      "recall_score - 0.857429718875502\n",
      "cohen_kappa_score - 0.7141684830477801\n",
      "roc_auc_score - 0.8570844939953014\n"
     ]
    }
   ],
   "source": [
    "from sklearn import metrics\n",
    "scores(bagging_mdl)"
   ]
  },
  {
   "cell_type": "code",
   "execution_count": 120,
   "metadata": {},
   "outputs": [],
   "source": [
    "model_8 = pd.DataFrame({'models':['bagging_mdl'],\n",
    "                      'accuracy_score': [metrics.accuracy_score(y_test,y_predict)],\n",
    "                      'f1_score':[metrics.f1_score(y_test,y_predict)],\n",
    "                      'precision_score':[metrics.precision_score(y_test,y_predict)],\n",
    "                      'recall_score':[metrics.recall_score(y_test,y_predict)],\n",
    "                      'cohen_kappa_score':[metrics.cohen_kappa_score(y_test,y_predict)],\n",
    "                      'roc_auc_score':[metrics.roc_auc_score(y_test,y_predict)]})"
   ]
  },
  {
   "cell_type": "code",
   "execution_count": 121,
   "metadata": {},
   "outputs": [
    {
     "data": {
      "text/html": [
       "<div>\n",
       "<style scoped>\n",
       "    .dataframe tbody tr th:only-of-type {\n",
       "        vertical-align: middle;\n",
       "    }\n",
       "\n",
       "    .dataframe tbody tr th {\n",
       "        vertical-align: top;\n",
       "    }\n",
       "\n",
       "    .dataframe thead th {\n",
       "        text-align: right;\n",
       "    }\n",
       "</style>\n",
       "<table border=\"1\" class=\"dataframe\">\n",
       "  <thead>\n",
       "    <tr style=\"text-align: right;\">\n",
       "      <th></th>\n",
       "      <th>models</th>\n",
       "      <th>accuracy_score</th>\n",
       "      <th>f1_score</th>\n",
       "      <th>precision_score</th>\n",
       "      <th>recall_score</th>\n",
       "      <th>cohen_kappa_score</th>\n",
       "      <th>roc_auc_score</th>\n",
       "    </tr>\n",
       "  </thead>\n",
       "  <tbody>\n",
       "    <tr>\n",
       "      <th>0</th>\n",
       "      <td>suv_model_1</td>\n",
       "      <td>0.759360</td>\n",
       "      <td>0.785531</td>\n",
       "      <td>0.708037</td>\n",
       "      <td>0.882074</td>\n",
       "      <td>0.518811</td>\n",
       "      <td>0.759455</td>\n",
       "    </tr>\n",
       "    <tr>\n",
       "      <th>0</th>\n",
       "      <td>svc_model_2</td>\n",
       "      <td>0.850107</td>\n",
       "      <td>0.850625</td>\n",
       "      <td>0.847045</td>\n",
       "      <td>0.854235</td>\n",
       "      <td>0.700216</td>\n",
       "      <td>0.850110</td>\n",
       "    </tr>\n",
       "    <tr>\n",
       "      <th>0</th>\n",
       "      <td>svc_model_3</td>\n",
       "      <td>0.688677</td>\n",
       "      <td>0.654487</td>\n",
       "      <td>0.734522</td>\n",
       "      <td>0.590179</td>\n",
       "      <td>0.377259</td>\n",
       "      <td>0.688601</td>\n",
       "    </tr>\n",
       "    <tr>\n",
       "      <th>0</th>\n",
       "      <td>svc_model_poly</td>\n",
       "      <td>0.851065</td>\n",
       "      <td>0.852271</td>\n",
       "      <td>0.844781</td>\n",
       "      <td>0.859894</td>\n",
       "      <td>0.702134</td>\n",
       "      <td>0.851072</td>\n",
       "    </tr>\n",
       "    <tr>\n",
       "      <th>0</th>\n",
       "      <td>svc_model_poly_deg_2</td>\n",
       "      <td>0.848967</td>\n",
       "      <td>0.849304</td>\n",
       "      <td>0.846761</td>\n",
       "      <td>0.851862</td>\n",
       "      <td>0.697935</td>\n",
       "      <td>0.848969</td>\n",
       "    </tr>\n",
       "    <tr>\n",
       "      <th>0</th>\n",
       "      <td>logit</td>\n",
       "      <td>0.863104</td>\n",
       "      <td>0.863085</td>\n",
       "      <td>0.862534</td>\n",
       "      <td>0.863636</td>\n",
       "      <td>0.726207</td>\n",
       "      <td>0.863104</td>\n",
       "    </tr>\n",
       "    <tr>\n",
       "      <th>0</th>\n",
       "      <td>descion_tree_model</td>\n",
       "      <td>0.880843</td>\n",
       "      <td>0.888214</td>\n",
       "      <td>0.835897</td>\n",
       "      <td>0.947517</td>\n",
       "      <td>0.761710</td>\n",
       "      <td>0.880894</td>\n",
       "    </tr>\n",
       "    <tr>\n",
       "      <th>0</th>\n",
       "      <td>bagging_mdl</td>\n",
       "      <td>0.857084</td>\n",
       "      <td>0.857039</td>\n",
       "      <td>0.856648</td>\n",
       "      <td>0.857430</td>\n",
       "      <td>0.714168</td>\n",
       "      <td>0.857084</td>\n",
       "    </tr>\n",
       "  </tbody>\n",
       "</table>\n",
       "</div>"
      ],
      "text/plain": [
       "                 models  accuracy_score  f1_score  precision_score  \\\n",
       "0           suv_model_1        0.759360  0.785531         0.708037   \n",
       "0           svc_model_2        0.850107  0.850625         0.847045   \n",
       "0           svc_model_3        0.688677  0.654487         0.734522   \n",
       "0        svc_model_poly        0.851065  0.852271         0.844781   \n",
       "0  svc_model_poly_deg_2        0.848967  0.849304         0.846761   \n",
       "0                 logit        0.863104  0.863085         0.862534   \n",
       "0    descion_tree_model        0.880843  0.888214         0.835897   \n",
       "0           bagging_mdl        0.857084  0.857039         0.856648   \n",
       "\n",
       "   recall_score  cohen_kappa_score  roc_auc_score  \n",
       "0      0.882074           0.518811       0.759455  \n",
       "0      0.854235           0.700216       0.850110  \n",
       "0      0.590179           0.377259       0.688601  \n",
       "0      0.859894           0.702134       0.851072  \n",
       "0      0.851862           0.697935       0.848969  \n",
       "0      0.863636           0.726207       0.863104  \n",
       "0      0.947517           0.761710       0.880894  \n",
       "0      0.857430           0.714168       0.857084  "
      ]
     },
     "execution_count": 121,
     "metadata": {},
     "output_type": "execute_result"
    }
   ],
   "source": [
    "model_1 = model_1.append(model_8)\n",
    "model_1"
   ]
  },
  {
   "cell_type": "markdown",
   "metadata": {},
   "source": [
    "# MODEL - 9 ADABOOST"
   ]
  },
  {
   "cell_type": "code",
   "execution_count": 122,
   "metadata": {},
   "outputs": [],
   "source": [
    "from sklearn.ensemble import AdaBoostClassifier"
   ]
  },
  {
   "cell_type": "code",
   "execution_count": 123,
   "metadata": {},
   "outputs": [],
   "source": [
    "adaboost = AdaBoostClassifier()\n",
    "adaboost = adaboost.fit(x_train,y_train)"
   ]
  },
  {
   "cell_type": "code",
   "execution_count": 124,
   "metadata": {},
   "outputs": [],
   "source": [
    "y_predict = adaboost.predict(x_test)"
   ]
  },
  {
   "cell_type": "code",
   "execution_count": 125,
   "metadata": {},
   "outputs": [],
   "source": [
    "y_predict = y_predicts(y_predict)"
   ]
  },
  {
   "cell_type": "code",
   "execution_count": 126,
   "metadata": {},
   "outputs": [
    {
     "data": {
      "image/png": "[encoded data removed]",
      "text/plain": [
       "<Figure size 1080x360 with 1 Axes>"
      ]
     },
     "metadata": {
      "needs_background": "light"
     },
     "output_type": "display_data"
    }
   ],
   "source": [
    "confuse_matrices(adaboost)"
   ]
  },
  {
   "cell_type": "code",
   "execution_count": 127,
   "metadata": {},
   "outputs": [
    {
     "data": {
      "image/png": "[encoded data removed]",
      "text/plain": [
       "<Figure size 1080x360 with 1 Axes>"
      ]
     },
     "metadata": {
      "needs_background": "light"
     },
     "output_type": "display_data"
    }
   ],
   "source": [
    "auc(adaboost)"
   ]
  },
  {
   "cell_type": "code",
   "execution_count": 128,
   "metadata": {},
   "outputs": [
    {
     "name": "stdout",
     "output_type": "stream",
     "text": [
      "accuracy_score - 0.8745496830680833\n",
      "f1_score - 0.8743548755423614\n",
      "precision_score - 0.8750342810128897\n",
      "recall_score - 0.8736765242789339\n",
      "cohen_kappa_score - 0.749098913776387\n",
      "roc_auc_score - 0.8745490066942833\n"
     ]
    }
   ],
   "source": [
    "from sklearn import metrics\n",
    "scores(adaboost)"
   ]
  },
  {
   "cell_type": "code",
   "execution_count": 129,
   "metadata": {},
   "outputs": [],
   "source": [
    "model_9 = pd.DataFrame({'models':['adaboost'],\n",
    "                      'accuracy_score': [metrics.accuracy_score(y_test,y_predict)],\n",
    "                      'f1_score':[metrics.f1_score(y_test,y_predict)],\n",
    "                      'precision_score':[metrics.precision_score(y_test,y_predict)],\n",
    "                      'recall_score':[metrics.recall_score(y_test,y_predict)],\n",
    "                      'cohen_kappa_score':[metrics.cohen_kappa_score(y_test,y_predict)],\n",
    "                      'roc_auc_score':[metrics.roc_auc_score(y_test,y_predict)]})"
   ]
  },
  {
   "cell_type": "code",
   "execution_count": 130,
   "metadata": {},
   "outputs": [
    {
     "data": {
      "text/html": [
       "<div>\n",
       "<style scoped>\n",
       "    .dataframe tbody tr th:only-of-type {\n",
       "        vertical-align: middle;\n",
       "    }\n",
       "\n",
       "    .dataframe tbody tr th {\n",
       "        vertical-align: top;\n",
       "    }\n",
       "\n",
       "    .dataframe thead th {\n",
       "        text-align: right;\n",
       "    }\n",
       "</style>\n",
       "<table border=\"1\" class=\"dataframe\">\n",
       "  <thead>\n",
       "    <tr style=\"text-align: right;\">\n",
       "      <th></th>\n",
       "      <th>models</th>\n",
       "      <th>accuracy_score</th>\n",
       "      <th>f1_score</th>\n",
       "      <th>precision_score</th>\n",
       "      <th>recall_score</th>\n",
       "      <th>cohen_kappa_score</th>\n",
       "      <th>roc_auc_score</th>\n",
       "    </tr>\n",
       "  </thead>\n",
       "  <tbody>\n",
       "    <tr>\n",
       "      <th>0</th>\n",
       "      <td>suv_model_1</td>\n",
       "      <td>0.759360</td>\n",
       "      <td>0.785531</td>\n",
       "      <td>0.708037</td>\n",
       "      <td>0.882074</td>\n",
       "      <td>0.518811</td>\n",
       "      <td>0.759455</td>\n",
       "    </tr>\n",
       "    <tr>\n",
       "      <th>0</th>\n",
       "      <td>svc_model_2</td>\n",
       "      <td>0.850107</td>\n",
       "      <td>0.850625</td>\n",
       "      <td>0.847045</td>\n",
       "      <td>0.854235</td>\n",
       "      <td>0.700216</td>\n",
       "      <td>0.850110</td>\n",
       "    </tr>\n",
       "    <tr>\n",
       "      <th>0</th>\n",
       "      <td>svc_model_3</td>\n",
       "      <td>0.688677</td>\n",
       "      <td>0.654487</td>\n",
       "      <td>0.734522</td>\n",
       "      <td>0.590179</td>\n",
       "      <td>0.377259</td>\n",
       "      <td>0.688601</td>\n",
       "    </tr>\n",
       "    <tr>\n",
       "      <th>0</th>\n",
       "      <td>svc_model_poly</td>\n",
       "      <td>0.851065</td>\n",
       "      <td>0.852271</td>\n",
       "      <td>0.844781</td>\n",
       "      <td>0.859894</td>\n",
       "      <td>0.702134</td>\n",
       "      <td>0.851072</td>\n",
       "    </tr>\n",
       "    <tr>\n",
       "      <th>0</th>\n",
       "      <td>svc_model_poly_deg_2</td>\n",
       "      <td>0.848967</td>\n",
       "      <td>0.849304</td>\n",
       "      <td>0.846761</td>\n",
       "      <td>0.851862</td>\n",
       "      <td>0.697935</td>\n",
       "      <td>0.848969</td>\n",
       "    </tr>\n",
       "    <tr>\n",
       "      <th>0</th>\n",
       "      <td>logit</td>\n",
       "      <td>0.863104</td>\n",
       "      <td>0.863085</td>\n",
       "      <td>0.862534</td>\n",
       "      <td>0.863636</td>\n",
       "      <td>0.726207</td>\n",
       "      <td>0.863104</td>\n",
       "    </tr>\n",
       "    <tr>\n",
       "      <th>0</th>\n",
       "      <td>descion_tree_model</td>\n",
       "      <td>0.880843</td>\n",
       "      <td>0.888214</td>\n",
       "      <td>0.835897</td>\n",
       "      <td>0.947517</td>\n",
       "      <td>0.761710</td>\n",
       "      <td>0.880894</td>\n",
       "    </tr>\n",
       "    <tr>\n",
       "      <th>0</th>\n",
       "      <td>bagging_mdl</td>\n",
       "      <td>0.857084</td>\n",
       "      <td>0.857039</td>\n",
       "      <td>0.856648</td>\n",
       "      <td>0.857430</td>\n",
       "      <td>0.714168</td>\n",
       "      <td>0.857084</td>\n",
       "    </tr>\n",
       "    <tr>\n",
       "      <th>0</th>\n",
       "      <td>adaboost</td>\n",
       "      <td>0.874550</td>\n",
       "      <td>0.874355</td>\n",
       "      <td>0.875034</td>\n",
       "      <td>0.873677</td>\n",
       "      <td>0.749099</td>\n",
       "      <td>0.874549</td>\n",
       "    </tr>\n",
       "  </tbody>\n",
       "</table>\n",
       "</div>"
      ],
      "text/plain": [
       "                 models  accuracy_score  f1_score  precision_score  \\\n",
       "0           suv_model_1        0.759360  0.785531         0.708037   \n",
       "0           svc_model_2        0.850107  0.850625         0.847045   \n",
       "0           svc_model_3        0.688677  0.654487         0.734522   \n",
       "0        svc_model_poly        0.851065  0.852271         0.844781   \n",
       "0  svc_model_poly_deg_2        0.848967  0.849304         0.846761   \n",
       "0                 logit        0.863104  0.863085         0.862534   \n",
       "0    descion_tree_model        0.880843  0.888214         0.835897   \n",
       "0           bagging_mdl        0.857084  0.857039         0.856648   \n",
       "0              adaboost        0.874550  0.874355         0.875034   \n",
       "\n",
       "   recall_score  cohen_kappa_score  roc_auc_score  \n",
       "0      0.882074           0.518811       0.759455  \n",
       "0      0.854235           0.700216       0.850110  \n",
       "0      0.590179           0.377259       0.688601  \n",
       "0      0.859894           0.702134       0.851072  \n",
       "0      0.851862           0.697935       0.848969  \n",
       "0      0.863636           0.726207       0.863104  \n",
       "0      0.947517           0.761710       0.880894  \n",
       "0      0.857430           0.714168       0.857084  \n",
       "0      0.873677           0.749099       0.874549  "
      ]
     },
     "execution_count": 130,
     "metadata": {},
     "output_type": "execute_result"
    }
   ],
   "source": [
    "model_1 = model_1.append(model_9)\n",
    "model_1"
   ]
  },
  {
   "cell_type": "markdown",
   "metadata": {},
   "source": [
    "# MODEL - 9 K-NN"
   ]
  },
  {
   "cell_type": "code",
   "execution_count": 131,
   "metadata": {},
   "outputs": [],
   "source": [
    "from sklearn.neighbors import KNeighborsClassifier\n",
    "knn_model = KNeighborsClassifier(n_neighbors= 5,metric = 'minkowski')\n",
    "knn_model = knn_model.fit(x_train,y_train)"
   ]
  },
  {
   "cell_type": "code",
   "execution_count": 132,
   "metadata": {},
   "outputs": [],
   "source": [
    "y_predict = knn_model.predict(x_test)"
   ]
  },
  {
   "cell_type": "code",
   "execution_count": 133,
   "metadata": {},
   "outputs": [],
   "source": [
    "y_predict = y_predicts(y_predict)"
   ]
  },
  {
   "cell_type": "code",
   "execution_count": 134,
   "metadata": {},
   "outputs": [
    {
     "data": {
      "image/png": "[encoded data removed]",
      "text/plain": [
       "<Figure size 1080x360 with 1 Axes>"
      ]
     },
     "metadata": {
      "needs_background": "light"
     },
     "output_type": "display_data"
    }
   ],
   "source": [
    "confuse_matrices(knn_model)"
   ]
  },
  {
   "cell_type": "code",
   "execution_count": 135,
   "metadata": {},
   "outputs": [
    {
     "data": {
      "image/png": "[encoded data removed]",
      "text/plain": [
       "<Figure size 1080x360 with 1 Axes>"
      ]
     },
     "metadata": {
      "needs_background": "light"
     },
     "output_type": "display_data"
    }
   ],
   "source": [
    "auc(knn_model)"
   ]
  },
  {
   "cell_type": "code",
   "execution_count": 136,
   "metadata": {},
   "outputs": [
    {
     "name": "stdout",
     "output_type": "stream",
     "text": [
      "accuracy_score - 0.9245747640111268\n",
      "f1_score - 0.9289457857204227\n",
      "precision_score - 0.8774549586106152\n",
      "recall_score - 0.9868565169769989\n",
      "cohen_kappa_score - 0.849164005272848\n",
      "roc_auc_score - 0.9246230092403449\n"
     ]
    }
   ],
   "source": [
    "from sklearn import metrics\n",
    "scores(knn_model)"
   ]
  },
  {
   "cell_type": "code",
   "execution_count": 137,
   "metadata": {},
   "outputs": [],
   "source": [
    "model_10 = pd.DataFrame({'models':['knn_model'],\n",
    "                      'accuracy_score': [metrics.accuracy_score(y_test,y_predict)],\n",
    "                      'f1_score':[metrics.f1_score(y_test,y_predict)],\n",
    "                      'precision_score':[metrics.precision_score(y_test,y_predict)],\n",
    "                      'recall_score':[metrics.recall_score(y_test,y_predict)],\n",
    "                      'cohen_kappa_score':[metrics.cohen_kappa_score(y_test,y_predict)],\n",
    "                      'roc_auc_score':[metrics.roc_auc_score(y_test,y_predict)]})"
   ]
  },
  {
   "cell_type": "code",
   "execution_count": 138,
   "metadata": {},
   "outputs": [],
   "source": [
    "model_1 = model_1.append(model_10)"
   ]
  },
  {
   "cell_type": "code",
   "execution_count": 139,
   "metadata": {},
   "outputs": [
    {
     "data": {
      "text/html": [
       "<div>\n",
       "<style scoped>\n",
       "    .dataframe tbody tr th:only-of-type {\n",
       "        vertical-align: middle;\n",
       "    }\n",
       "\n",
       "    .dataframe tbody tr th {\n",
       "        vertical-align: top;\n",
       "    }\n",
       "\n",
       "    .dataframe thead th {\n",
       "        text-align: right;\n",
       "    }\n",
       "</style>\n",
       "<table border=\"1\" class=\"dataframe\">\n",
       "  <thead>\n",
       "    <tr style=\"text-align: right;\">\n",
       "      <th></th>\n",
       "      <th>models</th>\n",
       "      <th>accuracy_score</th>\n",
       "      <th>f1_score</th>\n",
       "      <th>precision_score</th>\n",
       "      <th>recall_score</th>\n",
       "      <th>cohen_kappa_score</th>\n",
       "      <th>roc_auc_score</th>\n",
       "    </tr>\n",
       "  </thead>\n",
       "  <tbody>\n",
       "    <tr>\n",
       "      <th>0</th>\n",
       "      <td>suv_model_1</td>\n",
       "      <td>0.759360</td>\n",
       "      <td>0.785531</td>\n",
       "      <td>0.708037</td>\n",
       "      <td>0.882074</td>\n",
       "      <td>0.518811</td>\n",
       "      <td>0.759455</td>\n",
       "    </tr>\n",
       "    <tr>\n",
       "      <th>0</th>\n",
       "      <td>svc_model_2</td>\n",
       "      <td>0.850107</td>\n",
       "      <td>0.850625</td>\n",
       "      <td>0.847045</td>\n",
       "      <td>0.854235</td>\n",
       "      <td>0.700216</td>\n",
       "      <td>0.850110</td>\n",
       "    </tr>\n",
       "    <tr>\n",
       "      <th>0</th>\n",
       "      <td>svc_model_3</td>\n",
       "      <td>0.688677</td>\n",
       "      <td>0.654487</td>\n",
       "      <td>0.734522</td>\n",
       "      <td>0.590179</td>\n",
       "      <td>0.377259</td>\n",
       "      <td>0.688601</td>\n",
       "    </tr>\n",
       "    <tr>\n",
       "      <th>0</th>\n",
       "      <td>svc_model_poly</td>\n",
       "      <td>0.851065</td>\n",
       "      <td>0.852271</td>\n",
       "      <td>0.844781</td>\n",
       "      <td>0.859894</td>\n",
       "      <td>0.702134</td>\n",
       "      <td>0.851072</td>\n",
       "    </tr>\n",
       "    <tr>\n",
       "      <th>0</th>\n",
       "      <td>svc_model_poly_deg_2</td>\n",
       "      <td>0.848967</td>\n",
       "      <td>0.849304</td>\n",
       "      <td>0.846761</td>\n",
       "      <td>0.851862</td>\n",
       "      <td>0.697935</td>\n",
       "      <td>0.848969</td>\n",
       "    </tr>\n",
       "    <tr>\n",
       "      <th>0</th>\n",
       "      <td>logit</td>\n",
       "      <td>0.863104</td>\n",
       "      <td>0.863085</td>\n",
       "      <td>0.862534</td>\n",
       "      <td>0.863636</td>\n",
       "      <td>0.726207</td>\n",
       "      <td>0.863104</td>\n",
       "    </tr>\n",
       "    <tr>\n",
       "      <th>0</th>\n",
       "      <td>descion_tree_model</td>\n",
       "      <td>0.880843</td>\n",
       "      <td>0.888214</td>\n",
       "      <td>0.835897</td>\n",
       "      <td>0.947517</td>\n",
       "      <td>0.761710</td>\n",
       "      <td>0.880894</td>\n",
       "    </tr>\n",
       "    <tr>\n",
       "      <th>0</th>\n",
       "      <td>bagging_mdl</td>\n",
       "      <td>0.857084</td>\n",
       "      <td>0.857039</td>\n",
       "      <td>0.856648</td>\n",
       "      <td>0.857430</td>\n",
       "      <td>0.714168</td>\n",
       "      <td>0.857084</td>\n",
       "    </tr>\n",
       "    <tr>\n",
       "      <th>0</th>\n",
       "      <td>adaboost</td>\n",
       "      <td>0.874550</td>\n",
       "      <td>0.874355</td>\n",
       "      <td>0.875034</td>\n",
       "      <td>0.873677</td>\n",
       "      <td>0.749099</td>\n",
       "      <td>0.874549</td>\n",
       "    </tr>\n",
       "    <tr>\n",
       "      <th>0</th>\n",
       "      <td>knn_model</td>\n",
       "      <td>0.924575</td>\n",
       "      <td>0.928946</td>\n",
       "      <td>0.877455</td>\n",
       "      <td>0.986857</td>\n",
       "      <td>0.849164</td>\n",
       "      <td>0.924623</td>\n",
       "    </tr>\n",
       "  </tbody>\n",
       "</table>\n",
       "</div>"
      ],
      "text/plain": [
       "                 models  accuracy_score  f1_score  precision_score  \\\n",
       "0           suv_model_1        0.759360  0.785531         0.708037   \n",
       "0           svc_model_2        0.850107  0.850625         0.847045   \n",
       "0           svc_model_3        0.688677  0.654487         0.734522   \n",
       "0        svc_model_poly        0.851065  0.852271         0.844781   \n",
       "0  svc_model_poly_deg_2        0.848967  0.849304         0.846761   \n",
       "0                 logit        0.863104  0.863085         0.862534   \n",
       "0    descion_tree_model        0.880843  0.888214         0.835897   \n",
       "0           bagging_mdl        0.857084  0.857039         0.856648   \n",
       "0              adaboost        0.874550  0.874355         0.875034   \n",
       "0             knn_model        0.924575  0.928946         0.877455   \n",
       "\n",
       "   recall_score  cohen_kappa_score  roc_auc_score  \n",
       "0      0.882074           0.518811       0.759455  \n",
       "0      0.854235           0.700216       0.850110  \n",
       "0      0.590179           0.377259       0.688601  \n",
       "0      0.859894           0.702134       0.851072  \n",
       "0      0.851862           0.697935       0.848969  \n",
       "0      0.863636           0.726207       0.863104  \n",
       "0      0.947517           0.761710       0.880894  \n",
       "0      0.857430           0.714168       0.857084  \n",
       "0      0.873677           0.749099       0.874549  \n",
       "0      0.986857           0.849164       0.924623  "
      ]
     },
     "execution_count": 139,
     "metadata": {},
     "output_type": "execute_result"
    }
   ],
   "source": [
    "model_1"
   ]
  },
  {
   "cell_type": "code",
   "execution_count": null,
   "metadata": {},
   "outputs": [],
   "source": []
  },
  {
   "cell_type": "code",
   "execution_count": null,
   "metadata": {},
   "outputs": [],
   "source": []
  },
  {
   "cell_type": "code",
   "execution_count": null,
   "metadata": {},
   "outputs": [],
   "source": []
  },
  {
   "cell_type": "code",
   "execution_count": null,
   "metadata": {},
   "outputs": [],
   "source": []
  },
  {
   "cell_type": "code",
   "execution_count": null,
   "metadata": {},
   "outputs": [],
   "source": []
  },
  {
   "cell_type": "code",
   "execution_count": null,
   "metadata": {},
   "outputs": [],
   "source": []
  },
  {
   "cell_type": "code",
   "execution_count": null,
   "metadata": {},
   "outputs": [],
   "source": []
  },
  {
   "cell_type": "code",
   "execution_count": null,
   "metadata": {},
   "outputs": [],
   "source": []
  },
  {
   "cell_type": "code",
   "execution_count": null,
   "metadata": {},
   "outputs": [],
   "source": []
  }
 ],
 "metadata": {
  "kernelspec": {
   "display_name": "Python 3",
   "language": "python",
   "name": "python3"
  },
  "language_info": {
   "codemirror_mode": {
    "name": "ipython",
    "version": 3
   },
   "file_extension": ".py",
   "mimetype": "text/x-python",
   "name": "python",
   "nbconvert_exporter": "python",
   "pygments_lexer": "ipython3",
   "version": "3.8.3"
  }
 },
 "nbformat": 4,
 "nbformat_minor": 4
}
