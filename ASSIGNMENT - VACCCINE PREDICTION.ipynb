{
 "cells": [
  {
   "cell_type": "code",
   "execution_count": 2,
   "metadata": {},
   "outputs": [
    {
     "data": {
      "text/html": [
       "<div>\n",
       "<style scoped>\n",
       "    .dataframe tbody tr th:only-of-type {\n",
       "        vertical-align: middle;\n",
       "    }\n",
       "\n",
       "    .dataframe tbody tr th {\n",
       "        vertical-align: top;\n",
       "    }\n",
       "\n",
       "    .dataframe thead th {\n",
       "        text-align: right;\n",
       "    }\n",
       "</style>\n",
       "<table border=\"1\" class=\"dataframe\">\n",
       "  <thead>\n",
       "    <tr style=\"text-align: right;\">\n",
       "      <th></th>\n",
       "      <th>unique_id</th>\n",
       "      <th>h1n1_worry</th>\n",
       "      <th>h1n1_awareness</th>\n",
       "      <th>antiviral_medication</th>\n",
       "      <th>contact_avoidance</th>\n",
       "      <th>bought_face_mask</th>\n",
       "      <th>wash_hands_frequently</th>\n",
       "      <th>avoid_large_gatherings</th>\n",
       "      <th>reduced_outside_home_cont</th>\n",
       "      <th>avoid_touch_face</th>\n",
       "      <th>...</th>\n",
       "      <th>race</th>\n",
       "      <th>sex</th>\n",
       "      <th>income_level</th>\n",
       "      <th>marital_status</th>\n",
       "      <th>housing_status</th>\n",
       "      <th>employment</th>\n",
       "      <th>census_msa</th>\n",
       "      <th>no_of_adults</th>\n",
       "      <th>no_of_children</th>\n",
       "      <th>h1n1_vaccine</th>\n",
       "    </tr>\n",
       "  </thead>\n",
       "  <tbody>\n",
       "    <tr>\n",
       "      <th>0</th>\n",
       "      <td>0</td>\n",
       "      <td>1.0</td>\n",
       "      <td>0.0</td>\n",
       "      <td>0.0</td>\n",
       "      <td>0.0</td>\n",
       "      <td>0.0</td>\n",
       "      <td>0.0</td>\n",
       "      <td>0.0</td>\n",
       "      <td>1.0</td>\n",
       "      <td>1.0</td>\n",
       "      <td>...</td>\n",
       "      <td>White</td>\n",
       "      <td>Female</td>\n",
       "      <td>Below Poverty</td>\n",
       "      <td>Not Married</td>\n",
       "      <td>Own</td>\n",
       "      <td>Not in Labor Force</td>\n",
       "      <td>Non-MSA</td>\n",
       "      <td>0.0</td>\n",
       "      <td>0.0</td>\n",
       "      <td>0</td>\n",
       "    </tr>\n",
       "    <tr>\n",
       "      <th>1</th>\n",
       "      <td>1</td>\n",
       "      <td>3.0</td>\n",
       "      <td>2.0</td>\n",
       "      <td>0.0</td>\n",
       "      <td>1.0</td>\n",
       "      <td>0.0</td>\n",
       "      <td>1.0</td>\n",
       "      <td>0.0</td>\n",
       "      <td>1.0</td>\n",
       "      <td>1.0</td>\n",
       "      <td>...</td>\n",
       "      <td>White</td>\n",
       "      <td>Male</td>\n",
       "      <td>Below Poverty</td>\n",
       "      <td>Not Married</td>\n",
       "      <td>Rent</td>\n",
       "      <td>Employed</td>\n",
       "      <td>MSA, Not Principle  City</td>\n",
       "      <td>0.0</td>\n",
       "      <td>0.0</td>\n",
       "      <td>0</td>\n",
       "    </tr>\n",
       "    <tr>\n",
       "      <th>2</th>\n",
       "      <td>2</td>\n",
       "      <td>1.0</td>\n",
       "      <td>1.0</td>\n",
       "      <td>0.0</td>\n",
       "      <td>1.0</td>\n",
       "      <td>0.0</td>\n",
       "      <td>0.0</td>\n",
       "      <td>0.0</td>\n",
       "      <td>0.0</td>\n",
       "      <td>0.0</td>\n",
       "      <td>...</td>\n",
       "      <td>White</td>\n",
       "      <td>Male</td>\n",
       "      <td>&lt;= $75,000, Above Poverty</td>\n",
       "      <td>Not Married</td>\n",
       "      <td>Own</td>\n",
       "      <td>Employed</td>\n",
       "      <td>MSA, Not Principle  City</td>\n",
       "      <td>2.0</td>\n",
       "      <td>0.0</td>\n",
       "      <td>0</td>\n",
       "    </tr>\n",
       "  </tbody>\n",
       "</table>\n",
       "<p>3 rows × 34 columns</p>\n",
       "</div>"
      ],
      "text/plain": [
       "   unique_id  h1n1_worry  h1n1_awareness  antiviral_medication  \\\n",
       "0          0         1.0             0.0                   0.0   \n",
       "1          1         3.0             2.0                   0.0   \n",
       "2          2         1.0             1.0                   0.0   \n",
       "\n",
       "   contact_avoidance  bought_face_mask  wash_hands_frequently  \\\n",
       "0                0.0               0.0                    0.0   \n",
       "1                1.0               0.0                    1.0   \n",
       "2                1.0               0.0                    0.0   \n",
       "\n",
       "   avoid_large_gatherings  reduced_outside_home_cont  avoid_touch_face  ...  \\\n",
       "0                     0.0                        1.0               1.0  ...   \n",
       "1                     0.0                        1.0               1.0  ...   \n",
       "2                     0.0                        0.0               0.0  ...   \n",
       "\n",
       "    race     sex               income_level  marital_status  housing_status  \\\n",
       "0  White  Female              Below Poverty     Not Married             Own   \n",
       "1  White    Male              Below Poverty     Not Married            Rent   \n",
       "2  White    Male  <= $75,000, Above Poverty     Not Married             Own   \n",
       "\n",
       "           employment                census_msa  no_of_adults  no_of_children  \\\n",
       "0  Not in Labor Force                   Non-MSA           0.0             0.0   \n",
       "1            Employed  MSA, Not Principle  City           0.0             0.0   \n",
       "2            Employed  MSA, Not Principle  City           2.0             0.0   \n",
       "\n",
       "   h1n1_vaccine  \n",
       "0             0  \n",
       "1             0  \n",
       "2             0  \n",
       "\n",
       "[3 rows x 34 columns]"
      ]
     },
     "execution_count": 2,
     "metadata": {},
     "output_type": "execute_result"
    }
   ],
   "source": [
    "from warnings import filterwarnings\n",
    "filterwarnings('ignore')\n",
    "import pandas as pd\n",
    "import numpy as np\n",
    "import matplotlib.pyplot as plt\n",
    "import seaborn as sns\n",
    "data = pd.read_csv('h1n1_vaccine_prediction (1).csv')\n",
    "data.head(3)\n"
   ]
  },
  {
   "cell_type": "code",
   "execution_count": 3,
   "metadata": {},
   "outputs": [],
   "source": [
    "data_2 = data.copy()"
   ]
  },
  {
   "cell_type": "code",
   "execution_count": null,
   "metadata": {},
   "outputs": [],
   "source": []
  },
  {
   "cell_type": "code",
   "execution_count": 4,
   "metadata": {},
   "outputs": [
    {
     "data": {
      "text/plain": [
       "(26707, 34)"
      ]
     },
     "execution_count": 4,
     "metadata": {},
     "output_type": "execute_result"
    }
   ],
   "source": [
    "data.shape"
   ]
  },
  {
   "cell_type": "markdown",
   "metadata": {},
   "source": [
    "# CHECKING DATA TYPE"
   ]
  },
  {
   "cell_type": "code",
   "execution_count": 5,
   "metadata": {},
   "outputs": [
    {
     "data": {
      "text/plain": [
       "unique_id                      int64\n",
       "h1n1_worry                   float64\n",
       "h1n1_awareness               float64\n",
       "antiviral_medication         float64\n",
       "contact_avoidance            float64\n",
       "bought_face_mask             float64\n",
       "wash_hands_frequently        float64\n",
       "avoid_large_gatherings       float64\n",
       "reduced_outside_home_cont    float64\n",
       "avoid_touch_face             float64\n",
       "dr_recc_h1n1_vacc            float64\n",
       "dr_recc_seasonal_vacc        float64\n",
       "chronic_medic_condition      float64\n",
       "cont_child_undr_6_mnths      float64\n",
       "is_health_worker             float64\n",
       "has_health_insur             float64\n",
       "is_h1n1_vacc_effective       float64\n",
       "is_h1n1_risky                float64\n",
       "sick_from_h1n1_vacc          float64\n",
       "is_seas_vacc_effective       float64\n",
       "is_seas_risky                float64\n",
       "sick_from_seas_vacc          float64\n",
       "age_bracket                   object\n",
       "qualification                 object\n",
       "race                          object\n",
       "sex                           object\n",
       "income_level                  object\n",
       "marital_status                object\n",
       "housing_status                object\n",
       "employment                    object\n",
       "census_msa                    object\n",
       "no_of_adults                 float64\n",
       "no_of_children               float64\n",
       "h1n1_vaccine                   int64\n",
       "dtype: object"
      ]
     },
     "execution_count": 5,
     "metadata": {},
     "output_type": "execute_result"
    }
   ],
   "source": [
    "data.dtypes"
   ]
  },
  {
   "cell_type": "code",
   "execution_count": 6,
   "metadata": {},
   "outputs": [
    {
     "data": {
      "text/plain": [
       "unique_id                int64\n",
       "h1n1_worry              object\n",
       "h1n1_awareness          object\n",
       "antiviral_medication    object\n",
       "contact_avoidance       object\n",
       "dtype: object"
      ]
     },
     "execution_count": 6,
     "metadata": {},
     "output_type": "execute_result"
    }
   ],
   "source": [
    "a = ['h1n1_worry', 'h1n1_awareness', 'antiviral_medication',\n",
    "       'contact_avoidance', 'bought_face_mask', 'wash_hands_frequently',\n",
    "       'avoid_large_gatherings', 'reduced_outside_home_cont',\n",
    "       'avoid_touch_face', 'dr_recc_h1n1_vacc', 'dr_recc_seasonal_vacc',\n",
    "       'chronic_medic_condition', 'cont_child_undr_6_mnths',\n",
    "       'is_health_worker', 'has_health_insur', 'is_h1n1_vacc_effective',\n",
    "       'is_h1n1_risky', 'sick_from_h1n1_vacc', 'is_seas_vacc_effective',\n",
    "       'is_seas_risky', 'sick_from_seas_vacc',  'no_of_adults', 'no_of_children']\n",
    "for i in a:\n",
    "    data[i] = data[i].astype('object')\n",
    "data.dtypes.head()"
   ]
  },
  {
   "cell_type": "code",
   "execution_count": 7,
   "metadata": {},
   "outputs": [
    {
     "data": {
      "text/plain": [
       "0    21033\n",
       "1     5674\n",
       "Name: h1n1_vaccine, dtype: int64"
      ]
     },
     "execution_count": 7,
     "metadata": {},
     "output_type": "execute_result"
    }
   ],
   "source": [
    "data['h1n1_vaccine'].value_counts()"
   ]
  },
  {
   "cell_type": "code",
   "execution_count": 8,
   "metadata": {},
   "outputs": [],
   "source": [
    "df_features = data.iloc[:, data.columns != 'h1n1_vaccine']\n",
    "df_target = data.iloc[:, data.columns == 'h1n1_vaccine']"
   ]
  },
  {
   "cell_type": "code",
   "execution_count": 9,
   "metadata": {},
   "outputs": [
    {
     "data": {
      "text/plain": [
       "0    21033\n",
       "1     5674\n",
       "Name: h1n1_vaccine, dtype: int64"
      ]
     },
     "execution_count": 9,
     "metadata": {},
     "output_type": "execute_result"
    }
   ],
   "source": [
    "df_target['h1n1_vaccine'].value_counts()"
   ]
  },
  {
   "cell_type": "code",
   "execution_count": 10,
   "metadata": {},
   "outputs": [
    {
     "data": {
      "text/plain": [
       "<matplotlib.axes._subplots.AxesSubplot at 0x112fcb73370>"
      ]
     },
     "execution_count": 10,
     "metadata": {},
     "output_type": "execute_result"
    },
    {
     "data": {
      "image/png": "[encoded data removed]",
      "text/plain": [
       "<Figure size 432x288 with 1 Axes>"
      ]
     },
     "metadata": {
      "needs_background": "light"
     },
     "output_type": "display_data"
    }
   ],
   "source": [
    "sns.countplot(df_target['h1n1_vaccine']) "
   ]
  },
  {
   "cell_type": "markdown",
   "metadata": {},
   "source": [
    "# MISSING VALUES"
   ]
  },
  {
   "cell_type": "code",
   "execution_count": 11,
   "metadata": {},
   "outputs": [],
   "source": [
    "missing_values_before = data.shape"
   ]
  },
  {
   "cell_type": "code",
   "execution_count": 12,
   "metadata": {},
   "outputs": [
    {
     "data": {
      "text/html": [
       "<div>\n",
       "<style scoped>\n",
       "    .dataframe tbody tr th:only-of-type {\n",
       "        vertical-align: middle;\n",
       "    }\n",
       "\n",
       "    .dataframe tbody tr th {\n",
       "        vertical-align: top;\n",
       "    }\n",
       "\n",
       "    .dataframe thead th {\n",
       "        text-align: right;\n",
       "    }\n",
       "</style>\n",
       "<table border=\"1\" class=\"dataframe\">\n",
       "  <thead>\n",
       "    <tr style=\"text-align: right;\">\n",
       "      <th></th>\n",
       "      <th>total</th>\n",
       "      <th>missing_percent</th>\n",
       "    </tr>\n",
       "  </thead>\n",
       "  <tbody>\n",
       "    <tr>\n",
       "      <th>has_health_insur</th>\n",
       "      <td>12274</td>\n",
       "      <td>45.957989</td>\n",
       "    </tr>\n",
       "    <tr>\n",
       "      <th>income_level</th>\n",
       "      <td>4423</td>\n",
       "      <td>16.561201</td>\n",
       "    </tr>\n",
       "    <tr>\n",
       "      <th>dr_recc_h1n1_vacc</th>\n",
       "      <td>2160</td>\n",
       "      <td>8.087767</td>\n",
       "    </tr>\n",
       "    <tr>\n",
       "      <th>dr_recc_seasonal_vacc</th>\n",
       "      <td>2160</td>\n",
       "      <td>8.087767</td>\n",
       "    </tr>\n",
       "    <tr>\n",
       "      <th>housing_status</th>\n",
       "      <td>2042</td>\n",
       "      <td>7.645936</td>\n",
       "    </tr>\n",
       "  </tbody>\n",
       "</table>\n",
       "</div>"
      ],
      "text/plain": [
       "                       total  missing_percent\n",
       "has_health_insur       12274        45.957989\n",
       "income_level            4423        16.561201\n",
       "dr_recc_h1n1_vacc       2160         8.087767\n",
       "dr_recc_seasonal_vacc   2160         8.087767\n",
       "housing_status          2042         7.645936"
      ]
     },
     "execution_count": 12,
     "metadata": {},
     "output_type": "execute_result"
    }
   ],
   "source": [
    "a = data.isnull().sum()\n",
    "missing_data = a.sort_values(ascending= False)\n",
    "per = (data.isnull().sum() * 100/data.isnull().count() )\n",
    "percent = per.sort_values(ascending= False)\n",
    "missing_values = pd.concat([missing_data,percent], axis = 1, keys = ['total','missing_percent'])\n",
    "missing_values.head()"
   ]
  },
  {
   "cell_type": "code",
   "execution_count": 13,
   "metadata": {},
   "outputs": [],
   "source": [
    "data = data.drop(['unique_id','has_health_insur','income_level','dr_recc_h1n1_vacc','dr_recc_seasonal_vacc'], axis = 1)"
   ]
  },
  {
   "cell_type": "code",
   "execution_count": 14,
   "metadata": {},
   "outputs": [
    {
     "data": {
      "text/html": [
       "<div>\n",
       "<style scoped>\n",
       "    .dataframe tbody tr th:only-of-type {\n",
       "        vertical-align: middle;\n",
       "    }\n",
       "\n",
       "    .dataframe tbody tr th {\n",
       "        vertical-align: top;\n",
       "    }\n",
       "\n",
       "    .dataframe thead th {\n",
       "        text-align: right;\n",
       "    }\n",
       "</style>\n",
       "<table border=\"1\" class=\"dataframe\">\n",
       "  <thead>\n",
       "    <tr style=\"text-align: right;\">\n",
       "      <th></th>\n",
       "      <th>total</th>\n",
       "      <th>missing_percent</th>\n",
       "    </tr>\n",
       "  </thead>\n",
       "  <tbody>\n",
       "    <tr>\n",
       "      <th>housing_status</th>\n",
       "      <td>2042</td>\n",
       "      <td>7.645936</td>\n",
       "    </tr>\n",
       "    <tr>\n",
       "      <th>employment</th>\n",
       "      <td>1463</td>\n",
       "      <td>5.477965</td>\n",
       "    </tr>\n",
       "    <tr>\n",
       "      <th>marital_status</th>\n",
       "      <td>1408</td>\n",
       "      <td>5.272026</td>\n",
       "    </tr>\n",
       "    <tr>\n",
       "      <th>qualification</th>\n",
       "      <td>1407</td>\n",
       "      <td>5.268282</td>\n",
       "    </tr>\n",
       "    <tr>\n",
       "      <th>chronic_medic_condition</th>\n",
       "      <td>971</td>\n",
       "      <td>3.635751</td>\n",
       "    </tr>\n",
       "  </tbody>\n",
       "</table>\n",
       "</div>"
      ],
      "text/plain": [
       "                         total  missing_percent\n",
       "housing_status            2042         7.645936\n",
       "employment                1463         5.477965\n",
       "marital_status            1408         5.272026\n",
       "qualification             1407         5.268282\n",
       "chronic_medic_condition    971         3.635751"
      ]
     },
     "execution_count": 14,
     "metadata": {},
     "output_type": "execute_result"
    }
   ],
   "source": [
    "a = data.isnull().sum()\n",
    "missing_data = a.sort_values(ascending= False)\n",
    "per = (data.isnull().sum() * 100/data.isnull().count())\n",
    "percent = per.sort_values(ascending= False)\n",
    "missing_values = pd.concat([missing_data,percent], axis = 1, keys = ['total','missing_percent'])\n",
    "missing_values.head(5)"
   ]
  },
  {
   "cell_type": "code",
   "execution_count": 15,
   "metadata": {},
   "outputs": [],
   "source": [
    "data = data.dropna(axis = 0)"
   ]
  },
  {
   "cell_type": "code",
   "execution_count": 16,
   "metadata": {},
   "outputs": [
    {
     "data": {
      "text/plain": [
       "<matplotlib.axes._subplots.AxesSubplot at 0x112ffacbd00>"
      ]
     },
     "execution_count": 16,
     "metadata": {},
     "output_type": "execute_result"
    },
    {
     "data": {
      "image/png": "[encoded data removed]",
      "text/plain": [
       "<Figure size 1440x1080 with 1 Axes>"
      ]
     },
     "metadata": {
      "needs_background": "light"
     },
     "output_type": "display_data"
    }
   ],
   "source": [
    "import matplotlib.pyplot as plt\n",
    "import seaborn as sns\n",
    "plt.rcParams['figure.figsize'] = [20,15]\n",
    "sns.heatmap(data.isnull(), cbar=False)"
   ]
  },
  {
   "cell_type": "code",
   "execution_count": 17,
   "metadata": {},
   "outputs": [],
   "source": [
    "missing_values_after = data.shape"
   ]
  },
  {
   "cell_type": "code",
   "execution_count": 18,
   "metadata": {},
   "outputs": [
    {
     "data": {
      "text/plain": [
       "(3281, 5)"
      ]
     },
     "execution_count": 18,
     "metadata": {},
     "output_type": "execute_result"
    }
   ],
   "source": [
    "import operator\n",
    "missing_rows_columns = tuple(map(operator.sub,missing_values_before,missing_values_after))\n",
    "missing_rows_columns"
   ]
  },
  {
   "cell_type": "code",
   "execution_count": 19,
   "metadata": {},
   "outputs": [],
   "source": [
    "a = data.reset_index()\n",
    "data_new = a.drop(['index'], axis = 1)"
   ]
  },
  {
   "cell_type": "code",
   "execution_count": 20,
   "metadata": {},
   "outputs": [
    {
     "data": {
      "text/html": [
       "<div>\n",
       "<style scoped>\n",
       "    .dataframe tbody tr th:only-of-type {\n",
       "        vertical-align: middle;\n",
       "    }\n",
       "\n",
       "    .dataframe tbody tr th {\n",
       "        vertical-align: top;\n",
       "    }\n",
       "\n",
       "    .dataframe thead th {\n",
       "        text-align: right;\n",
       "    }\n",
       "</style>\n",
       "<table border=\"1\" class=\"dataframe\">\n",
       "  <thead>\n",
       "    <tr style=\"text-align: right;\">\n",
       "      <th></th>\n",
       "      <th>h1n1_worry</th>\n",
       "      <th>h1n1_awareness</th>\n",
       "      <th>antiviral_medication</th>\n",
       "      <th>contact_avoidance</th>\n",
       "      <th>bought_face_mask</th>\n",
       "      <th>wash_hands_frequently</th>\n",
       "      <th>avoid_large_gatherings</th>\n",
       "      <th>reduced_outside_home_cont</th>\n",
       "      <th>avoid_touch_face</th>\n",
       "      <th>chronic_medic_condition</th>\n",
       "      <th>...</th>\n",
       "      <th>qualification</th>\n",
       "      <th>race</th>\n",
       "      <th>sex</th>\n",
       "      <th>marital_status</th>\n",
       "      <th>housing_status</th>\n",
       "      <th>employment</th>\n",
       "      <th>census_msa</th>\n",
       "      <th>no_of_adults</th>\n",
       "      <th>no_of_children</th>\n",
       "      <th>h1n1_vaccine</th>\n",
       "    </tr>\n",
       "  </thead>\n",
       "  <tbody>\n",
       "    <tr>\n",
       "      <th>0</th>\n",
       "      <td>1</td>\n",
       "      <td>0</td>\n",
       "      <td>0</td>\n",
       "      <td>0</td>\n",
       "      <td>0</td>\n",
       "      <td>0</td>\n",
       "      <td>0</td>\n",
       "      <td>1</td>\n",
       "      <td>1</td>\n",
       "      <td>0</td>\n",
       "      <td>...</td>\n",
       "      <td>&lt; 12 Years</td>\n",
       "      <td>White</td>\n",
       "      <td>Female</td>\n",
       "      <td>Not Married</td>\n",
       "      <td>Own</td>\n",
       "      <td>Not in Labor Force</td>\n",
       "      <td>Non-MSA</td>\n",
       "      <td>0</td>\n",
       "      <td>0</td>\n",
       "      <td>0</td>\n",
       "    </tr>\n",
       "  </tbody>\n",
       "</table>\n",
       "<p>1 rows × 29 columns</p>\n",
       "</div>"
      ],
      "text/plain": [
       "  h1n1_worry h1n1_awareness antiviral_medication contact_avoidance  \\\n",
       "0          1              0                    0                 0   \n",
       "\n",
       "  bought_face_mask wash_hands_frequently avoid_large_gatherings  \\\n",
       "0                0                     0                      0   \n",
       "\n",
       "  reduced_outside_home_cont avoid_touch_face chronic_medic_condition  ...  \\\n",
       "0                         1                1                       0  ...   \n",
       "\n",
       "  qualification   race     sex marital_status housing_status  \\\n",
       "0    < 12 Years  White  Female    Not Married            Own   \n",
       "\n",
       "           employment census_msa no_of_adults no_of_children h1n1_vaccine  \n",
       "0  Not in Labor Force    Non-MSA            0              0            0  \n",
       "\n",
       "[1 rows x 29 columns]"
      ]
     },
     "execution_count": 20,
     "metadata": {},
     "output_type": "execute_result"
    }
   ],
   "source": [
    "data_new.head(1)"
   ]
  },
  {
   "cell_type": "code",
   "execution_count": 21,
   "metadata": {},
   "outputs": [
    {
     "data": {
      "text/html": [
       "<div>\n",
       "<style scoped>\n",
       "    .dataframe tbody tr th:only-of-type {\n",
       "        vertical-align: middle;\n",
       "    }\n",
       "\n",
       "    .dataframe tbody tr th {\n",
       "        vertical-align: top;\n",
       "    }\n",
       "\n",
       "    .dataframe thead th {\n",
       "        text-align: right;\n",
       "    }\n",
       "</style>\n",
       "<table border=\"1\" class=\"dataframe\">\n",
       "  <thead>\n",
       "    <tr style=\"text-align: right;\">\n",
       "      <th></th>\n",
       "      <th>h1n1_worry</th>\n",
       "      <th>h1n1_awareness</th>\n",
       "      <th>antiviral_medication</th>\n",
       "      <th>contact_avoidance</th>\n",
       "      <th>bought_face_mask</th>\n",
       "      <th>wash_hands_frequently</th>\n",
       "      <th>avoid_large_gatherings</th>\n",
       "      <th>reduced_outside_home_cont</th>\n",
       "      <th>avoid_touch_face</th>\n",
       "      <th>chronic_medic_condition</th>\n",
       "      <th>...</th>\n",
       "      <th>qualification</th>\n",
       "      <th>race</th>\n",
       "      <th>sex</th>\n",
       "      <th>marital_status</th>\n",
       "      <th>housing_status</th>\n",
       "      <th>employment</th>\n",
       "      <th>census_msa</th>\n",
       "      <th>no_of_adults</th>\n",
       "      <th>no_of_children</th>\n",
       "      <th>h1n1_vaccine</th>\n",
       "    </tr>\n",
       "  </thead>\n",
       "  <tbody>\n",
       "    <tr>\n",
       "      <th>0</th>\n",
       "      <td>1</td>\n",
       "      <td>0</td>\n",
       "      <td>0</td>\n",
       "      <td>0</td>\n",
       "      <td>0</td>\n",
       "      <td>0</td>\n",
       "      <td>0</td>\n",
       "      <td>1</td>\n",
       "      <td>1</td>\n",
       "      <td>0</td>\n",
       "      <td>...</td>\n",
       "      <td>&lt; 12 Years</td>\n",
       "      <td>White</td>\n",
       "      <td>Female</td>\n",
       "      <td>Not Married</td>\n",
       "      <td>Own</td>\n",
       "      <td>Not in Labor Force</td>\n",
       "      <td>Non-MSA</td>\n",
       "      <td>0</td>\n",
       "      <td>0</td>\n",
       "      <td>0</td>\n",
       "    </tr>\n",
       "    <tr>\n",
       "      <th>1</th>\n",
       "      <td>3</td>\n",
       "      <td>2</td>\n",
       "      <td>0</td>\n",
       "      <td>1</td>\n",
       "      <td>0</td>\n",
       "      <td>1</td>\n",
       "      <td>0</td>\n",
       "      <td>1</td>\n",
       "      <td>1</td>\n",
       "      <td>0</td>\n",
       "      <td>...</td>\n",
       "      <td>12 Years</td>\n",
       "      <td>White</td>\n",
       "      <td>Male</td>\n",
       "      <td>Not Married</td>\n",
       "      <td>Rent</td>\n",
       "      <td>Employed</td>\n",
       "      <td>MSA, Not Principle  City</td>\n",
       "      <td>0</td>\n",
       "      <td>0</td>\n",
       "      <td>0</td>\n",
       "    </tr>\n",
       "    <tr>\n",
       "      <th>2</th>\n",
       "      <td>1</td>\n",
       "      <td>1</td>\n",
       "      <td>0</td>\n",
       "      <td>1</td>\n",
       "      <td>0</td>\n",
       "      <td>0</td>\n",
       "      <td>0</td>\n",
       "      <td>0</td>\n",
       "      <td>0</td>\n",
       "      <td>1</td>\n",
       "      <td>...</td>\n",
       "      <td>College Graduate</td>\n",
       "      <td>White</td>\n",
       "      <td>Male</td>\n",
       "      <td>Not Married</td>\n",
       "      <td>Own</td>\n",
       "      <td>Employed</td>\n",
       "      <td>MSA, Not Principle  City</td>\n",
       "      <td>2</td>\n",
       "      <td>0</td>\n",
       "      <td>0</td>\n",
       "    </tr>\n",
       "  </tbody>\n",
       "</table>\n",
       "<p>3 rows × 29 columns</p>\n",
       "</div>"
      ],
      "text/plain": [
       "  h1n1_worry h1n1_awareness antiviral_medication contact_avoidance  \\\n",
       "0          1              0                    0                 0   \n",
       "1          3              2                    0                 1   \n",
       "2          1              1                    0                 1   \n",
       "\n",
       "  bought_face_mask wash_hands_frequently avoid_large_gatherings  \\\n",
       "0                0                     0                      0   \n",
       "1                0                     1                      0   \n",
       "2                0                     0                      0   \n",
       "\n",
       "  reduced_outside_home_cont avoid_touch_face chronic_medic_condition  ...  \\\n",
       "0                         1                1                       0  ...   \n",
       "1                         1                1                       0  ...   \n",
       "2                         0                0                       1  ...   \n",
       "\n",
       "      qualification   race     sex marital_status housing_status  \\\n",
       "0        < 12 Years  White  Female    Not Married            Own   \n",
       "1          12 Years  White    Male    Not Married           Rent   \n",
       "2  College Graduate  White    Male    Not Married            Own   \n",
       "\n",
       "           employment                census_msa no_of_adults no_of_children  \\\n",
       "0  Not in Labor Force                   Non-MSA            0              0   \n",
       "1            Employed  MSA, Not Principle  City            0              0   \n",
       "2            Employed  MSA, Not Principle  City            2              0   \n",
       "\n",
       "  h1n1_vaccine  \n",
       "0            0  \n",
       "1            0  \n",
       "2            0  \n",
       "\n",
       "[3 rows x 29 columns]"
      ]
     },
     "execution_count": 21,
     "metadata": {},
     "output_type": "execute_result"
    }
   ],
   "source": [
    "data_new.head(3)"
   ]
  },
  {
   "cell_type": "code",
   "execution_count": 22,
   "metadata": {},
   "outputs": [
    {
     "data": {
      "text/plain": [
       "0    18389\n",
       "1     5037\n",
       "Name: h1n1_vaccine, dtype: int64"
      ]
     },
     "execution_count": 22,
     "metadata": {},
     "output_type": "execute_result"
    }
   ],
   "source": [
    "data_new['h1n1_vaccine'].value_counts()"
   ]
  },
  {
   "cell_type": "code",
   "execution_count": 23,
   "metadata": {},
   "outputs": [
    {
     "data": {
      "text/plain": [
       "h1n1_worry              object\n",
       "h1n1_awareness          object\n",
       "antiviral_medication    object\n",
       "contact_avoidance       object\n",
       "bought_face_mask        object\n",
       "dtype: object"
      ]
     },
     "execution_count": 23,
     "metadata": {},
     "output_type": "execute_result"
    }
   ],
   "source": [
    "data_new.dtypes.head(5)"
   ]
  },
  {
   "cell_type": "markdown",
   "metadata": {},
   "source": [
    "# balancing data"
   ]
  },
  {
   "cell_type": "code",
   "execution_count": 24,
   "metadata": {},
   "outputs": [],
   "source": [
    "from imblearn.over_sampling import RandomOverSampler\n",
    "random = RandomOverSampler(random_state = 1)\n",
    "x_sampled,y_sampled = random.fit_resample(df_features,df_target)"
   ]
  },
  {
   "cell_type": "code",
   "execution_count": 25,
   "metadata": {},
   "outputs": [
    {
     "data": {
      "text/html": [
       "<div>\n",
       "<style scoped>\n",
       "    .dataframe tbody tr th:only-of-type {\n",
       "        vertical-align: middle;\n",
       "    }\n",
       "\n",
       "    .dataframe tbody tr th {\n",
       "        vertical-align: top;\n",
       "    }\n",
       "\n",
       "    .dataframe thead th {\n",
       "        text-align: right;\n",
       "    }\n",
       "</style>\n",
       "<table border=\"1\" class=\"dataframe\">\n",
       "  <thead>\n",
       "    <tr style=\"text-align: right;\">\n",
       "      <th></th>\n",
       "      <th>unique_id</th>\n",
       "      <th>h1n1_worry</th>\n",
       "      <th>h1n1_awareness</th>\n",
       "      <th>antiviral_medication</th>\n",
       "      <th>contact_avoidance</th>\n",
       "      <th>bought_face_mask</th>\n",
       "      <th>wash_hands_frequently</th>\n",
       "      <th>avoid_large_gatherings</th>\n",
       "      <th>reduced_outside_home_cont</th>\n",
       "      <th>avoid_touch_face</th>\n",
       "      <th>...</th>\n",
       "      <th>qualification</th>\n",
       "      <th>race</th>\n",
       "      <th>sex</th>\n",
       "      <th>income_level</th>\n",
       "      <th>marital_status</th>\n",
       "      <th>housing_status</th>\n",
       "      <th>employment</th>\n",
       "      <th>census_msa</th>\n",
       "      <th>no_of_adults</th>\n",
       "      <th>no_of_children</th>\n",
       "    </tr>\n",
       "  </thead>\n",
       "  <tbody>\n",
       "    <tr>\n",
       "      <th>0</th>\n",
       "      <td>0</td>\n",
       "      <td>1</td>\n",
       "      <td>0</td>\n",
       "      <td>0</td>\n",
       "      <td>0</td>\n",
       "      <td>0</td>\n",
       "      <td>0</td>\n",
       "      <td>0</td>\n",
       "      <td>1</td>\n",
       "      <td>1</td>\n",
       "      <td>...</td>\n",
       "      <td>&lt; 12 Years</td>\n",
       "      <td>White</td>\n",
       "      <td>Female</td>\n",
       "      <td>Below Poverty</td>\n",
       "      <td>Not Married</td>\n",
       "      <td>Own</td>\n",
       "      <td>Not in Labor Force</td>\n",
       "      <td>Non-MSA</td>\n",
       "      <td>0</td>\n",
       "      <td>0</td>\n",
       "    </tr>\n",
       "    <tr>\n",
       "      <th>1</th>\n",
       "      <td>1</td>\n",
       "      <td>3</td>\n",
       "      <td>2</td>\n",
       "      <td>0</td>\n",
       "      <td>1</td>\n",
       "      <td>0</td>\n",
       "      <td>1</td>\n",
       "      <td>0</td>\n",
       "      <td>1</td>\n",
       "      <td>1</td>\n",
       "      <td>...</td>\n",
       "      <td>12 Years</td>\n",
       "      <td>White</td>\n",
       "      <td>Male</td>\n",
       "      <td>Below Poverty</td>\n",
       "      <td>Not Married</td>\n",
       "      <td>Rent</td>\n",
       "      <td>Employed</td>\n",
       "      <td>MSA, Not Principle  City</td>\n",
       "      <td>0</td>\n",
       "      <td>0</td>\n",
       "    </tr>\n",
       "    <tr>\n",
       "      <th>2</th>\n",
       "      <td>2</td>\n",
       "      <td>1</td>\n",
       "      <td>1</td>\n",
       "      <td>0</td>\n",
       "      <td>1</td>\n",
       "      <td>0</td>\n",
       "      <td>0</td>\n",
       "      <td>0</td>\n",
       "      <td>0</td>\n",
       "      <td>0</td>\n",
       "      <td>...</td>\n",
       "      <td>College Graduate</td>\n",
       "      <td>White</td>\n",
       "      <td>Male</td>\n",
       "      <td>&lt;= $75,000, Above Poverty</td>\n",
       "      <td>Not Married</td>\n",
       "      <td>Own</td>\n",
       "      <td>Employed</td>\n",
       "      <td>MSA, Not Principle  City</td>\n",
       "      <td>2</td>\n",
       "      <td>0</td>\n",
       "    </tr>\n",
       "    <tr>\n",
       "      <th>3</th>\n",
       "      <td>3</td>\n",
       "      <td>1</td>\n",
       "      <td>1</td>\n",
       "      <td>0</td>\n",
       "      <td>1</td>\n",
       "      <td>0</td>\n",
       "      <td>1</td>\n",
       "      <td>1</td>\n",
       "      <td>0</td>\n",
       "      <td>0</td>\n",
       "      <td>...</td>\n",
       "      <td>12 Years</td>\n",
       "      <td>White</td>\n",
       "      <td>Female</td>\n",
       "      <td>Below Poverty</td>\n",
       "      <td>Not Married</td>\n",
       "      <td>Rent</td>\n",
       "      <td>Not in Labor Force</td>\n",
       "      <td>MSA, Principle City</td>\n",
       "      <td>0</td>\n",
       "      <td>0</td>\n",
       "    </tr>\n",
       "    <tr>\n",
       "      <th>4</th>\n",
       "      <td>4</td>\n",
       "      <td>2</td>\n",
       "      <td>1</td>\n",
       "      <td>0</td>\n",
       "      <td>1</td>\n",
       "      <td>0</td>\n",
       "      <td>1</td>\n",
       "      <td>1</td>\n",
       "      <td>0</td>\n",
       "      <td>1</td>\n",
       "      <td>...</td>\n",
       "      <td>Some College</td>\n",
       "      <td>White</td>\n",
       "      <td>Female</td>\n",
       "      <td>&lt;= $75,000, Above Poverty</td>\n",
       "      <td>Married</td>\n",
       "      <td>Own</td>\n",
       "      <td>Employed</td>\n",
       "      <td>MSA, Not Principle  City</td>\n",
       "      <td>1</td>\n",
       "      <td>0</td>\n",
       "    </tr>\n",
       "    <tr>\n",
       "      <th>...</th>\n",
       "      <td>...</td>\n",
       "      <td>...</td>\n",
       "      <td>...</td>\n",
       "      <td>...</td>\n",
       "      <td>...</td>\n",
       "      <td>...</td>\n",
       "      <td>...</td>\n",
       "      <td>...</td>\n",
       "      <td>...</td>\n",
       "      <td>...</td>\n",
       "      <td>...</td>\n",
       "      <td>...</td>\n",
       "      <td>...</td>\n",
       "      <td>...</td>\n",
       "      <td>...</td>\n",
       "      <td>...</td>\n",
       "      <td>...</td>\n",
       "      <td>...</td>\n",
       "      <td>...</td>\n",
       "      <td>...</td>\n",
       "      <td>...</td>\n",
       "    </tr>\n",
       "    <tr>\n",
       "      <th>42061</th>\n",
       "      <td>24595</td>\n",
       "      <td>3</td>\n",
       "      <td>1</td>\n",
       "      <td>0</td>\n",
       "      <td>0</td>\n",
       "      <td>NaN</td>\n",
       "      <td>0</td>\n",
       "      <td>1</td>\n",
       "      <td>1</td>\n",
       "      <td>0</td>\n",
       "      <td>...</td>\n",
       "      <td>12 Years</td>\n",
       "      <td>Hispanic</td>\n",
       "      <td>Male</td>\n",
       "      <td>&lt;= $75,000, Above Poverty</td>\n",
       "      <td>Married</td>\n",
       "      <td>Own</td>\n",
       "      <td>Employed</td>\n",
       "      <td>MSA, Not Principle  City</td>\n",
       "      <td>1</td>\n",
       "      <td>3</td>\n",
       "    </tr>\n",
       "    <tr>\n",
       "      <th>42062</th>\n",
       "      <td>5738</td>\n",
       "      <td>0</td>\n",
       "      <td>1</td>\n",
       "      <td>0</td>\n",
       "      <td>1</td>\n",
       "      <td>0</td>\n",
       "      <td>0</td>\n",
       "      <td>0</td>\n",
       "      <td>0</td>\n",
       "      <td>1</td>\n",
       "      <td>...</td>\n",
       "      <td>College Graduate</td>\n",
       "      <td>White</td>\n",
       "      <td>Female</td>\n",
       "      <td>&lt;= $75,000, Above Poverty</td>\n",
       "      <td>Not Married</td>\n",
       "      <td>Rent</td>\n",
       "      <td>Not in Labor Force</td>\n",
       "      <td>Non-MSA</td>\n",
       "      <td>0</td>\n",
       "      <td>0</td>\n",
       "    </tr>\n",
       "    <tr>\n",
       "      <th>42063</th>\n",
       "      <td>10195</td>\n",
       "      <td>2</td>\n",
       "      <td>2</td>\n",
       "      <td>0</td>\n",
       "      <td>1</td>\n",
       "      <td>1</td>\n",
       "      <td>1</td>\n",
       "      <td>1</td>\n",
       "      <td>0</td>\n",
       "      <td>1</td>\n",
       "      <td>...</td>\n",
       "      <td>College Graduate</td>\n",
       "      <td>Other or Multiple</td>\n",
       "      <td>Male</td>\n",
       "      <td>&lt;= $75,000, Above Poverty</td>\n",
       "      <td>Married</td>\n",
       "      <td>Own</td>\n",
       "      <td>Not in Labor Force</td>\n",
       "      <td>MSA, Principle City</td>\n",
       "      <td>1</td>\n",
       "      <td>0</td>\n",
       "    </tr>\n",
       "    <tr>\n",
       "      <th>42064</th>\n",
       "      <td>4607</td>\n",
       "      <td>2</td>\n",
       "      <td>1</td>\n",
       "      <td>0</td>\n",
       "      <td>1</td>\n",
       "      <td>1</td>\n",
       "      <td>1</td>\n",
       "      <td>1</td>\n",
       "      <td>1</td>\n",
       "      <td>1</td>\n",
       "      <td>...</td>\n",
       "      <td>&lt; 12 Years</td>\n",
       "      <td>Hispanic</td>\n",
       "      <td>Male</td>\n",
       "      <td>NaN</td>\n",
       "      <td>Married</td>\n",
       "      <td>Rent</td>\n",
       "      <td>Employed</td>\n",
       "      <td>MSA, Not Principle  City</td>\n",
       "      <td>1</td>\n",
       "      <td>1</td>\n",
       "    </tr>\n",
       "    <tr>\n",
       "      <th>42065</th>\n",
       "      <td>4796</td>\n",
       "      <td>3</td>\n",
       "      <td>1</td>\n",
       "      <td>1</td>\n",
       "      <td>1</td>\n",
       "      <td>0</td>\n",
       "      <td>1</td>\n",
       "      <td>0</td>\n",
       "      <td>0</td>\n",
       "      <td>1</td>\n",
       "      <td>...</td>\n",
       "      <td>NaN</td>\n",
       "      <td>White</td>\n",
       "      <td>Female</td>\n",
       "      <td>NaN</td>\n",
       "      <td>NaN</td>\n",
       "      <td>NaN</td>\n",
       "      <td>NaN</td>\n",
       "      <td>MSA, Principle City</td>\n",
       "      <td>2</td>\n",
       "      <td>2</td>\n",
       "    </tr>\n",
       "  </tbody>\n",
       "</table>\n",
       "<p>42066 rows × 33 columns</p>\n",
       "</div>"
      ],
      "text/plain": [
       "       unique_id h1n1_worry h1n1_awareness antiviral_medication  \\\n",
       "0              0          1              0                    0   \n",
       "1              1          3              2                    0   \n",
       "2              2          1              1                    0   \n",
       "3              3          1              1                    0   \n",
       "4              4          2              1                    0   \n",
       "...          ...        ...            ...                  ...   \n",
       "42061      24595          3              1                    0   \n",
       "42062       5738          0              1                    0   \n",
       "42063      10195          2              2                    0   \n",
       "42064       4607          2              1                    0   \n",
       "42065       4796          3              1                    1   \n",
       "\n",
       "      contact_avoidance bought_face_mask wash_hands_frequently  \\\n",
       "0                     0                0                     0   \n",
       "1                     1                0                     1   \n",
       "2                     1                0                     0   \n",
       "3                     1                0                     1   \n",
       "4                     1                0                     1   \n",
       "...                 ...              ...                   ...   \n",
       "42061                 0              NaN                     0   \n",
       "42062                 1                0                     0   \n",
       "42063                 1                1                     1   \n",
       "42064                 1                1                     1   \n",
       "42065                 1                0                     1   \n",
       "\n",
       "      avoid_large_gatherings reduced_outside_home_cont avoid_touch_face  ...  \\\n",
       "0                          0                         1                1  ...   \n",
       "1                          0                         1                1  ...   \n",
       "2                          0                         0                0  ...   \n",
       "3                          1                         0                0  ...   \n",
       "4                          1                         0                1  ...   \n",
       "...                      ...                       ...              ...  ...   \n",
       "42061                      1                         1                0  ...   \n",
       "42062                      0                         0                1  ...   \n",
       "42063                      1                         0                1  ...   \n",
       "42064                      1                         1                1  ...   \n",
       "42065                      0                         0                1  ...   \n",
       "\n",
       "          qualification               race     sex               income_level  \\\n",
       "0            < 12 Years              White  Female              Below Poverty   \n",
       "1              12 Years              White    Male              Below Poverty   \n",
       "2      College Graduate              White    Male  <= $75,000, Above Poverty   \n",
       "3              12 Years              White  Female              Below Poverty   \n",
       "4          Some College              White  Female  <= $75,000, Above Poverty   \n",
       "...                 ...                ...     ...                        ...   \n",
       "42061          12 Years           Hispanic    Male  <= $75,000, Above Poverty   \n",
       "42062  College Graduate              White  Female  <= $75,000, Above Poverty   \n",
       "42063  College Graduate  Other or Multiple    Male  <= $75,000, Above Poverty   \n",
       "42064        < 12 Years           Hispanic    Male                        NaN   \n",
       "42065               NaN              White  Female                        NaN   \n",
       "\n",
       "      marital_status housing_status          employment  \\\n",
       "0        Not Married            Own  Not in Labor Force   \n",
       "1        Not Married           Rent            Employed   \n",
       "2        Not Married            Own            Employed   \n",
       "3        Not Married           Rent  Not in Labor Force   \n",
       "4            Married            Own            Employed   \n",
       "...              ...            ...                 ...   \n",
       "42061        Married            Own            Employed   \n",
       "42062    Not Married           Rent  Not in Labor Force   \n",
       "42063        Married            Own  Not in Labor Force   \n",
       "42064        Married           Rent            Employed   \n",
       "42065            NaN            NaN                 NaN   \n",
       "\n",
       "                     census_msa no_of_adults no_of_children  \n",
       "0                       Non-MSA            0              0  \n",
       "1      MSA, Not Principle  City            0              0  \n",
       "2      MSA, Not Principle  City            2              0  \n",
       "3           MSA, Principle City            0              0  \n",
       "4      MSA, Not Principle  City            1              0  \n",
       "...                         ...          ...            ...  \n",
       "42061  MSA, Not Principle  City            1              3  \n",
       "42062                   Non-MSA            0              0  \n",
       "42063       MSA, Principle City            1              0  \n",
       "42064  MSA, Not Principle  City            1              1  \n",
       "42065       MSA, Principle City            2              2  \n",
       "\n",
       "[42066 rows x 33 columns]"
      ]
     },
     "execution_count": 25,
     "metadata": {},
     "output_type": "execute_result"
    }
   ],
   "source": [
    "x_sampled"
   ]
  },
  {
   "cell_type": "code",
   "execution_count": 26,
   "metadata": {},
   "outputs": [
    {
     "name": "stdout",
     "output_type": "stream",
     "text": [
      "(42066, 33) (42066, 1)\n"
     ]
    }
   ],
   "source": [
    "print(x_sampled.shape, y_sampled.shape)"
   ]
  },
  {
   "cell_type": "code",
   "execution_count": 27,
   "metadata": {},
   "outputs": [
    {
     "data": {
      "text/html": [
       "<div>\n",
       "<style scoped>\n",
       "    .dataframe tbody tr th:only-of-type {\n",
       "        vertical-align: middle;\n",
       "    }\n",
       "\n",
       "    .dataframe tbody tr th {\n",
       "        vertical-align: top;\n",
       "    }\n",
       "\n",
       "    .dataframe thead th {\n",
       "        text-align: right;\n",
       "    }\n",
       "</style>\n",
       "<table border=\"1\" class=\"dataframe\">\n",
       "  <thead>\n",
       "    <tr style=\"text-align: right;\">\n",
       "      <th></th>\n",
       "      <th>unique_id</th>\n",
       "      <th>h1n1_worry</th>\n",
       "      <th>h1n1_awareness</th>\n",
       "      <th>antiviral_medication</th>\n",
       "      <th>contact_avoidance</th>\n",
       "      <th>bought_face_mask</th>\n",
       "      <th>wash_hands_frequently</th>\n",
       "      <th>avoid_large_gatherings</th>\n",
       "      <th>reduced_outside_home_cont</th>\n",
       "      <th>avoid_touch_face</th>\n",
       "      <th>...</th>\n",
       "      <th>qualification</th>\n",
       "      <th>race</th>\n",
       "      <th>sex</th>\n",
       "      <th>income_level</th>\n",
       "      <th>marital_status</th>\n",
       "      <th>housing_status</th>\n",
       "      <th>employment</th>\n",
       "      <th>census_msa</th>\n",
       "      <th>no_of_adults</th>\n",
       "      <th>no_of_children</th>\n",
       "    </tr>\n",
       "  </thead>\n",
       "  <tbody>\n",
       "    <tr>\n",
       "      <th>0</th>\n",
       "      <td>0</td>\n",
       "      <td>1</td>\n",
       "      <td>0</td>\n",
       "      <td>0</td>\n",
       "      <td>0</td>\n",
       "      <td>0</td>\n",
       "      <td>0</td>\n",
       "      <td>0</td>\n",
       "      <td>1</td>\n",
       "      <td>1</td>\n",
       "      <td>...</td>\n",
       "      <td>&lt; 12 Years</td>\n",
       "      <td>White</td>\n",
       "      <td>Female</td>\n",
       "      <td>Below Poverty</td>\n",
       "      <td>Not Married</td>\n",
       "      <td>Own</td>\n",
       "      <td>Not in Labor Force</td>\n",
       "      <td>Non-MSA</td>\n",
       "      <td>0</td>\n",
       "      <td>0</td>\n",
       "    </tr>\n",
       "    <tr>\n",
       "      <th>1</th>\n",
       "      <td>1</td>\n",
       "      <td>3</td>\n",
       "      <td>2</td>\n",
       "      <td>0</td>\n",
       "      <td>1</td>\n",
       "      <td>0</td>\n",
       "      <td>1</td>\n",
       "      <td>0</td>\n",
       "      <td>1</td>\n",
       "      <td>1</td>\n",
       "      <td>...</td>\n",
       "      <td>12 Years</td>\n",
       "      <td>White</td>\n",
       "      <td>Male</td>\n",
       "      <td>Below Poverty</td>\n",
       "      <td>Not Married</td>\n",
       "      <td>Rent</td>\n",
       "      <td>Employed</td>\n",
       "      <td>MSA, Not Principle  City</td>\n",
       "      <td>0</td>\n",
       "      <td>0</td>\n",
       "    </tr>\n",
       "    <tr>\n",
       "      <th>2</th>\n",
       "      <td>2</td>\n",
       "      <td>1</td>\n",
       "      <td>1</td>\n",
       "      <td>0</td>\n",
       "      <td>1</td>\n",
       "      <td>0</td>\n",
       "      <td>0</td>\n",
       "      <td>0</td>\n",
       "      <td>0</td>\n",
       "      <td>0</td>\n",
       "      <td>...</td>\n",
       "      <td>College Graduate</td>\n",
       "      <td>White</td>\n",
       "      <td>Male</td>\n",
       "      <td>&lt;= $75,000, Above Poverty</td>\n",
       "      <td>Not Married</td>\n",
       "      <td>Own</td>\n",
       "      <td>Employed</td>\n",
       "      <td>MSA, Not Principle  City</td>\n",
       "      <td>2</td>\n",
       "      <td>0</td>\n",
       "    </tr>\n",
       "    <tr>\n",
       "      <th>3</th>\n",
       "      <td>3</td>\n",
       "      <td>1</td>\n",
       "      <td>1</td>\n",
       "      <td>0</td>\n",
       "      <td>1</td>\n",
       "      <td>0</td>\n",
       "      <td>1</td>\n",
       "      <td>1</td>\n",
       "      <td>0</td>\n",
       "      <td>0</td>\n",
       "      <td>...</td>\n",
       "      <td>12 Years</td>\n",
       "      <td>White</td>\n",
       "      <td>Female</td>\n",
       "      <td>Below Poverty</td>\n",
       "      <td>Not Married</td>\n",
       "      <td>Rent</td>\n",
       "      <td>Not in Labor Force</td>\n",
       "      <td>MSA, Principle City</td>\n",
       "      <td>0</td>\n",
       "      <td>0</td>\n",
       "    </tr>\n",
       "    <tr>\n",
       "      <th>4</th>\n",
       "      <td>4</td>\n",
       "      <td>2</td>\n",
       "      <td>1</td>\n",
       "      <td>0</td>\n",
       "      <td>1</td>\n",
       "      <td>0</td>\n",
       "      <td>1</td>\n",
       "      <td>1</td>\n",
       "      <td>0</td>\n",
       "      <td>1</td>\n",
       "      <td>...</td>\n",
       "      <td>Some College</td>\n",
       "      <td>White</td>\n",
       "      <td>Female</td>\n",
       "      <td>&lt;= $75,000, Above Poverty</td>\n",
       "      <td>Married</td>\n",
       "      <td>Own</td>\n",
       "      <td>Employed</td>\n",
       "      <td>MSA, Not Principle  City</td>\n",
       "      <td>1</td>\n",
       "      <td>0</td>\n",
       "    </tr>\n",
       "    <tr>\n",
       "      <th>...</th>\n",
       "      <td>...</td>\n",
       "      <td>...</td>\n",
       "      <td>...</td>\n",
       "      <td>...</td>\n",
       "      <td>...</td>\n",
       "      <td>...</td>\n",
       "      <td>...</td>\n",
       "      <td>...</td>\n",
       "      <td>...</td>\n",
       "      <td>...</td>\n",
       "      <td>...</td>\n",
       "      <td>...</td>\n",
       "      <td>...</td>\n",
       "      <td>...</td>\n",
       "      <td>...</td>\n",
       "      <td>...</td>\n",
       "      <td>...</td>\n",
       "      <td>...</td>\n",
       "      <td>...</td>\n",
       "      <td>...</td>\n",
       "      <td>...</td>\n",
       "    </tr>\n",
       "    <tr>\n",
       "      <th>42061</th>\n",
       "      <td>24595</td>\n",
       "      <td>3</td>\n",
       "      <td>1</td>\n",
       "      <td>0</td>\n",
       "      <td>0</td>\n",
       "      <td>NaN</td>\n",
       "      <td>0</td>\n",
       "      <td>1</td>\n",
       "      <td>1</td>\n",
       "      <td>0</td>\n",
       "      <td>...</td>\n",
       "      <td>12 Years</td>\n",
       "      <td>Hispanic</td>\n",
       "      <td>Male</td>\n",
       "      <td>&lt;= $75,000, Above Poverty</td>\n",
       "      <td>Married</td>\n",
       "      <td>Own</td>\n",
       "      <td>Employed</td>\n",
       "      <td>MSA, Not Principle  City</td>\n",
       "      <td>1</td>\n",
       "      <td>3</td>\n",
       "    </tr>\n",
       "    <tr>\n",
       "      <th>42062</th>\n",
       "      <td>5738</td>\n",
       "      <td>0</td>\n",
       "      <td>1</td>\n",
       "      <td>0</td>\n",
       "      <td>1</td>\n",
       "      <td>0</td>\n",
       "      <td>0</td>\n",
       "      <td>0</td>\n",
       "      <td>0</td>\n",
       "      <td>1</td>\n",
       "      <td>...</td>\n",
       "      <td>College Graduate</td>\n",
       "      <td>White</td>\n",
       "      <td>Female</td>\n",
       "      <td>&lt;= $75,000, Above Poverty</td>\n",
       "      <td>Not Married</td>\n",
       "      <td>Rent</td>\n",
       "      <td>Not in Labor Force</td>\n",
       "      <td>Non-MSA</td>\n",
       "      <td>0</td>\n",
       "      <td>0</td>\n",
       "    </tr>\n",
       "    <tr>\n",
       "      <th>42063</th>\n",
       "      <td>10195</td>\n",
       "      <td>2</td>\n",
       "      <td>2</td>\n",
       "      <td>0</td>\n",
       "      <td>1</td>\n",
       "      <td>1</td>\n",
       "      <td>1</td>\n",
       "      <td>1</td>\n",
       "      <td>0</td>\n",
       "      <td>1</td>\n",
       "      <td>...</td>\n",
       "      <td>College Graduate</td>\n",
       "      <td>Other or Multiple</td>\n",
       "      <td>Male</td>\n",
       "      <td>&lt;= $75,000, Above Poverty</td>\n",
       "      <td>Married</td>\n",
       "      <td>Own</td>\n",
       "      <td>Not in Labor Force</td>\n",
       "      <td>MSA, Principle City</td>\n",
       "      <td>1</td>\n",
       "      <td>0</td>\n",
       "    </tr>\n",
       "    <tr>\n",
       "      <th>42064</th>\n",
       "      <td>4607</td>\n",
       "      <td>2</td>\n",
       "      <td>1</td>\n",
       "      <td>0</td>\n",
       "      <td>1</td>\n",
       "      <td>1</td>\n",
       "      <td>1</td>\n",
       "      <td>1</td>\n",
       "      <td>1</td>\n",
       "      <td>1</td>\n",
       "      <td>...</td>\n",
       "      <td>&lt; 12 Years</td>\n",
       "      <td>Hispanic</td>\n",
       "      <td>Male</td>\n",
       "      <td>NaN</td>\n",
       "      <td>Married</td>\n",
       "      <td>Rent</td>\n",
       "      <td>Employed</td>\n",
       "      <td>MSA, Not Principle  City</td>\n",
       "      <td>1</td>\n",
       "      <td>1</td>\n",
       "    </tr>\n",
       "    <tr>\n",
       "      <th>42065</th>\n",
       "      <td>4796</td>\n",
       "      <td>3</td>\n",
       "      <td>1</td>\n",
       "      <td>1</td>\n",
       "      <td>1</td>\n",
       "      <td>0</td>\n",
       "      <td>1</td>\n",
       "      <td>0</td>\n",
       "      <td>0</td>\n",
       "      <td>1</td>\n",
       "      <td>...</td>\n",
       "      <td>NaN</td>\n",
       "      <td>White</td>\n",
       "      <td>Female</td>\n",
       "      <td>NaN</td>\n",
       "      <td>NaN</td>\n",
       "      <td>NaN</td>\n",
       "      <td>NaN</td>\n",
       "      <td>MSA, Principle City</td>\n",
       "      <td>2</td>\n",
       "      <td>2</td>\n",
       "    </tr>\n",
       "  </tbody>\n",
       "</table>\n",
       "<p>42066 rows × 33 columns</p>\n",
       "</div>"
      ],
      "text/plain": [
       "       unique_id h1n1_worry h1n1_awareness antiviral_medication  \\\n",
       "0              0          1              0                    0   \n",
       "1              1          3              2                    0   \n",
       "2              2          1              1                    0   \n",
       "3              3          1              1                    0   \n",
       "4              4          2              1                    0   \n",
       "...          ...        ...            ...                  ...   \n",
       "42061      24595          3              1                    0   \n",
       "42062       5738          0              1                    0   \n",
       "42063      10195          2              2                    0   \n",
       "42064       4607          2              1                    0   \n",
       "42065       4796          3              1                    1   \n",
       "\n",
       "      contact_avoidance bought_face_mask wash_hands_frequently  \\\n",
       "0                     0                0                     0   \n",
       "1                     1                0                     1   \n",
       "2                     1                0                     0   \n",
       "3                     1                0                     1   \n",
       "4                     1                0                     1   \n",
       "...                 ...              ...                   ...   \n",
       "42061                 0              NaN                     0   \n",
       "42062                 1                0                     0   \n",
       "42063                 1                1                     1   \n",
       "42064                 1                1                     1   \n",
       "42065                 1                0                     1   \n",
       "\n",
       "      avoid_large_gatherings reduced_outside_home_cont avoid_touch_face  ...  \\\n",
       "0                          0                         1                1  ...   \n",
       "1                          0                         1                1  ...   \n",
       "2                          0                         0                0  ...   \n",
       "3                          1                         0                0  ...   \n",
       "4                          1                         0                1  ...   \n",
       "...                      ...                       ...              ...  ...   \n",
       "42061                      1                         1                0  ...   \n",
       "42062                      0                         0                1  ...   \n",
       "42063                      1                         0                1  ...   \n",
       "42064                      1                         1                1  ...   \n",
       "42065                      0                         0                1  ...   \n",
       "\n",
       "          qualification               race     sex               income_level  \\\n",
       "0            < 12 Years              White  Female              Below Poverty   \n",
       "1              12 Years              White    Male              Below Poverty   \n",
       "2      College Graduate              White    Male  <= $75,000, Above Poverty   \n",
       "3              12 Years              White  Female              Below Poverty   \n",
       "4          Some College              White  Female  <= $75,000, Above Poverty   \n",
       "...                 ...                ...     ...                        ...   \n",
       "42061          12 Years           Hispanic    Male  <= $75,000, Above Poverty   \n",
       "42062  College Graduate              White  Female  <= $75,000, Above Poverty   \n",
       "42063  College Graduate  Other or Multiple    Male  <= $75,000, Above Poverty   \n",
       "42064        < 12 Years           Hispanic    Male                        NaN   \n",
       "42065               NaN              White  Female                        NaN   \n",
       "\n",
       "      marital_status housing_status          employment  \\\n",
       "0        Not Married            Own  Not in Labor Force   \n",
       "1        Not Married           Rent            Employed   \n",
       "2        Not Married            Own            Employed   \n",
       "3        Not Married           Rent  Not in Labor Force   \n",
       "4            Married            Own            Employed   \n",
       "...              ...            ...                 ...   \n",
       "42061        Married            Own            Employed   \n",
       "42062    Not Married           Rent  Not in Labor Force   \n",
       "42063        Married            Own  Not in Labor Force   \n",
       "42064        Married           Rent            Employed   \n",
       "42065            NaN            NaN                 NaN   \n",
       "\n",
       "                     census_msa no_of_adults no_of_children  \n",
       "0                       Non-MSA            0              0  \n",
       "1      MSA, Not Principle  City            0              0  \n",
       "2      MSA, Not Principle  City            2              0  \n",
       "3           MSA, Principle City            0              0  \n",
       "4      MSA, Not Principle  City            1              0  \n",
       "...                         ...          ...            ...  \n",
       "42061  MSA, Not Principle  City            1              3  \n",
       "42062                   Non-MSA            0              0  \n",
       "42063       MSA, Principle City            1              0  \n",
       "42064  MSA, Not Principle  City            1              1  \n",
       "42065       MSA, Principle City            2              2  \n",
       "\n",
       "[42066 rows x 33 columns]"
      ]
     },
     "execution_count": 27,
     "metadata": {},
     "output_type": "execute_result"
    }
   ],
   "source": [
    "x_sampled"
   ]
  },
  {
   "cell_type": "code",
   "execution_count": 28,
   "metadata": {},
   "outputs": [],
   "source": [
    "data_1 = pd.concat([x_sampled,y_sampled], axis = 1)"
   ]
  },
  {
   "cell_type": "code",
   "execution_count": null,
   "metadata": {},
   "outputs": [],
   "source": []
  },
  {
   "cell_type": "markdown",
   "metadata": {},
   "source": [
    "# data processing"
   ]
  },
  {
   "cell_type": "code",
   "execution_count": 29,
   "metadata": {},
   "outputs": [
    {
     "data": {
      "text/plain": [
       "Index(['unique_id', 'h1n1_worry', 'h1n1_awareness', 'antiviral_medication',\n",
       "       'contact_avoidance', 'bought_face_mask', 'wash_hands_frequently',\n",
       "       'avoid_large_gatherings', 'reduced_outside_home_cont',\n",
       "       'avoid_touch_face', 'dr_recc_h1n1_vacc', 'dr_recc_seasonal_vacc',\n",
       "       'chronic_medic_condition', 'cont_child_undr_6_mnths',\n",
       "       'is_health_worker', 'has_health_insur', 'is_h1n1_vacc_effective',\n",
       "       'is_h1n1_risky', 'sick_from_h1n1_vacc', 'is_seas_vacc_effective',\n",
       "       'is_seas_risky', 'sick_from_seas_vacc', 'age_bracket', 'qualification',\n",
       "       'race', 'sex', 'income_level', 'marital_status', 'housing_status',\n",
       "       'employment', 'census_msa', 'no_of_adults', 'no_of_children',\n",
       "       'h1n1_vaccine'],\n",
       "      dtype='object')"
      ]
     },
     "execution_count": 29,
     "metadata": {},
     "output_type": "execute_result"
    }
   ],
   "source": [
    "data_1.columns"
   ]
  },
  {
   "cell_type": "raw",
   "metadata": {},
   "source": [
    "dr_recc_h1n1_vacc\n",
    "'dr_recc_seasonal_vacc'\n",
    "'unique_id'\n",
    "'has_health_insur'\n",
    "'income_level'"
   ]
  },
  {
   "cell_type": "code",
   "execution_count": null,
   "metadata": {},
   "outputs": [],
   "source": []
  },
  {
   "cell_type": "code",
   "execution_count": 30,
   "metadata": {},
   "outputs": [
    {
     "data": {
      "text/plain": [
       "Index(['h1n1_worry', 'h1n1_awareness', 'antiviral_medication',\n",
       "       'contact_avoidance', 'bought_face_mask', 'wash_hands_frequently',\n",
       "       'avoid_large_gatherings', 'reduced_outside_home_cont',\n",
       "       'avoid_touch_face', 'chronic_medic_condition',\n",
       "       'cont_child_undr_6_mnths', 'is_health_worker', 'is_h1n1_vacc_effective',\n",
       "       'is_h1n1_risky', 'sick_from_h1n1_vacc', 'is_seas_vacc_effective',\n",
       "       'is_seas_risky', 'sick_from_seas_vacc', 'age_bracket', 'qualification',\n",
       "       'race', 'sex', 'marital_status', 'housing_status', 'employment',\n",
       "       'census_msa', 'no_of_adults', 'no_of_children', 'h1n1_vaccine'],\n",
       "      dtype='object')"
      ]
     },
     "execution_count": 30,
     "metadata": {},
     "output_type": "execute_result"
    }
   ],
   "source": [
    "data.columns"
   ]
  },
  {
   "cell_type": "code",
   "execution_count": 31,
   "metadata": {},
   "outputs": [],
   "source": [
    "x_variables = data_1.drop(['unique_id','h1n1_vaccine'], axis =1)\n",
    "y_variables = pd.DataFrame(data_1['h1n1_vaccine'], columns= ['h1n1_vaccine'])"
   ]
  },
  {
   "cell_type": "code",
   "execution_count": 32,
   "metadata": {},
   "outputs": [
    {
     "name": "stdout",
     "output_type": "stream",
     "text": [
      "(42066, 32) (42066, 1)\n"
     ]
    }
   ],
   "source": [
    "print(x_variables.shape, y_variables.shape)"
   ]
  },
  {
   "cell_type": "code",
   "execution_count": 33,
   "metadata": {},
   "outputs": [
    {
     "data": {
      "text/plain": [
       "(42066, 67)"
      ]
     },
     "execution_count": 33,
     "metadata": {},
     "output_type": "execute_result"
    }
   ],
   "source": [
    "x_var_dummy = pd.get_dummies(x_variables,drop_first= True)\n",
    "x_var_dummy.shape"
   ]
  },
  {
   "cell_type": "code",
   "execution_count": 34,
   "metadata": {},
   "outputs": [],
   "source": [
    "x_data = x_var_dummy\n",
    "y_data = y_variables"
   ]
  },
  {
   "cell_type": "code",
   "execution_count": null,
   "metadata": {},
   "outputs": [],
   "source": []
  },
  {
   "cell_type": "markdown",
   "metadata": {},
   "source": [
    "# FUNCTIONS"
   ]
  },
  {
   "cell_type": "code",
   "execution_count": 35,
   "metadata": {},
   "outputs": [],
   "source": [
    "from sklearn.metrics import confusion_matrix\n",
    "import matplotlib.pyplot as plt\n",
    "from matplotlib.colors import ListedColormap\n",
    "def plt_confusion_matrices(model):\n",
    "    cm = confusion_matrix(y1_test,y1_predict)\n",
    "    conf_matrices = pd.DataFrame(data = cm,columns = ['predicted 0','predicted 1'], index = ['actual 0', 'actual 1'])\n",
    "    sns.heatmap(conf_matrices, annot = True,fmt  = 'd',cmap = ListedColormap(['lightskyblue']), linewidths = 0.2,annot_kws = {'size':25},cbar = False)\n",
    "    plt.xticks(fontsize = 20)\n",
    "    plt.yticks(fontsize = 20)\n",
    "    plt.show()"
   ]
  },
  {
   "cell_type": "code",
   "execution_count": 36,
   "metadata": {},
   "outputs": [],
   "source": [
    "from sklearn.metrics import classification_report\n",
    "def classi_report(model):\n",
    "    return(classification_report(y1_test,y1_predict))"
   ]
  },
  {
   "cell_type": "code",
   "execution_count": 37,
   "metadata": {},
   "outputs": [],
   "source": [
    "from sklearn.metrics import precision_score,recall_score,accuracy_score,f1_score\n",
    "def reports(model):\n",
    "    print('precision_score - ',precision_score(y1_test,y1_predict))\n",
    "    print('recall_score - ', recall_score(y1_test,y1_predict))\n",
    "    print('accuracy_score - ', accuracy_score(y1_test,y1_predict))\n",
    "    print('f1_score - ', f1_score(y1_test,y1_predict))"
   ]
  },
  {
   "cell_type": "code",
   "execution_count": 38,
   "metadata": {},
   "outputs": [],
   "source": [
    "from sklearn.metrics import roc_auc_score,roc_curve\n",
    "def plt_roc(model):\n",
    "    fpr,tpr,thresholds = roc_curve(y1_test,y1_predict)\n",
    "    plt.plot(fpr,tpr)\n",
    "    plt.xlim([0.0,1.0])\n",
    "    plt.ylim([0.0,1.0])\n",
    "    plt.plot([0,1],[0,1],'r--')\n",
    "    plt.title('roc_curve', fontsize = 15)\n",
    "    plt.xlabel('false positive rate', fontsize = 15)\n",
    "    plt.ylabel('true positive rate', fontsize = 15)\n",
    "    roc_score = roc_auc_score(y1_test,y1_predict)\n",
    "    plt.text(x = 0.2,y = 0.9 , s = ('AUC score',round(roc_score,3)))\n",
    "    plt.grid(True)"
   ]
  },
  {
   "cell_type": "code",
   "execution_count": null,
   "metadata": {},
   "outputs": [],
   "source": []
  },
  {
   "cell_type": "code",
   "execution_count": null,
   "metadata": {},
   "outputs": [],
   "source": []
  },
  {
   "cell_type": "code",
   "execution_count": null,
   "metadata": {},
   "outputs": [],
   "source": []
  },
  {
   "cell_type": "markdown",
   "metadata": {},
   "source": [
    "# MODEL 1 - LOGISTIC REGRESSION  OLS"
   ]
  },
  {
   "cell_type": "code",
   "execution_count": 39,
   "metadata": {},
   "outputs": [
    {
     "name": "stdout",
     "output_type": "stream",
     "text": [
      "(42066, 68) (42066, 1)\n"
     ]
    }
   ],
   "source": [
    "import statsmodels\n",
    "import statsmodels.api as sm\n",
    "x_data = sm.add_constant(x_var_dummy)\n",
    "print(x_data.shape,y_data.shape)"
   ]
  },
  {
   "cell_type": "code",
   "execution_count": 40,
   "metadata": {},
   "outputs": [
    {
     "name": "stdout",
     "output_type": "stream",
     "text": [
      "(29446, 68)\n",
      "(12620, 68)\n",
      "(29446, 1)\n",
      "(12620, 1)\n"
     ]
    }
   ],
   "source": [
    "from sklearn.model_selection import train_test_split\n",
    "x1_train,x1_test,y1_train,y1_test = train_test_split(x_data,y_data, test_size = 0.3, random_state = 1)\n",
    "print(x1_train.shape)\n",
    "print(x1_test.shape)\n",
    "print(y1_train.shape)\n",
    "print(y1_test.shape)\n"
   ]
  },
  {
   "cell_type": "code",
   "execution_count": null,
   "metadata": {},
   "outputs": [],
   "source": []
  },
  {
   "cell_type": "code",
   "execution_count": 41,
   "metadata": {},
   "outputs": [
    {
     "name": "stdout",
     "output_type": "stream",
     "text": [
      "Optimization terminated successfully.\n",
      "         Current function value: 0.473254\n",
      "         Iterations 6\n",
      "                           Logit Regression Results                           \n",
      "==============================================================================\n",
      "Dep. Variable:           h1n1_vaccine   No. Observations:                29446\n",
      "Model:                          Logit   Df Residuals:                    29378\n",
      "Method:                           MLE   Df Model:                           67\n",
      "Date:                Wed, 21 Apr 2021   Pseudo R-squ.:                  0.3172\n",
      "Time:                        00:33:09   Log-Likelihood:                -13935.\n",
      "converged:                       True   LL-Null:                       -20410.\n",
      "Covariance Type:            nonrobust   LLR p-value:                     0.000\n",
      "==================================================================================================\n",
      "                                     coef    std err          z      P>|z|      [0.025      0.975]\n",
      "--------------------------------------------------------------------------------------------------\n",
      "const                             -2.3306      0.131    -17.741      0.000      -2.588      -2.073\n",
      "h1n1_worry_1.0                     0.0576      0.055      1.044      0.296      -0.051       0.166\n",
      "h1n1_worry_2.0                     0.1835      0.056      3.279      0.001       0.074       0.293\n",
      "h1n1_worry_3.0                     0.2106      0.065      3.253      0.001       0.084       0.338\n",
      "h1n1_awareness_1.0                -0.0381      0.057     -0.667      0.505      -0.150       0.074\n",
      "h1n1_awareness_2.0                 0.2365      0.061      3.875      0.000       0.117       0.356\n",
      "antiviral_medication_1.0           0.1799      0.069      2.610      0.009       0.045       0.315\n",
      "contact_avoidance_1.0              0.0162      0.037      0.434      0.664      -0.057       0.089\n",
      "bought_face_mask_1.0               0.3471      0.058      5.972      0.000       0.233       0.461\n",
      "wash_hands_frequently_1.0          0.0727      0.046      1.577      0.115      -0.018       0.163\n",
      "avoid_large_gatherings_1.0        -0.1131      0.039     -2.872      0.004      -0.190      -0.036\n",
      "reduced_outside_home_cont_1.0     -0.0312      0.040     -0.777      0.437      -0.110       0.048\n",
      "avoid_touch_face_1.0              -0.0123      0.037     -0.335      0.737      -0.084       0.059\n",
      "dr_recc_h1n1_vacc_1.0              2.0469      0.047     43.806      0.000       1.955       2.138\n",
      "dr_recc_seasonal_vacc_1.0         -0.5339      0.044    -12.189      0.000      -0.620      -0.448\n",
      "chronic_medic_condition_1.0        0.0700      0.035      2.012      0.044       0.002       0.138\n",
      "cont_child_undr_6_mnths_1.0        0.2325      0.054      4.334      0.000       0.127       0.338\n",
      "is_health_worker_1.0               0.8064      0.048     16.960      0.000       0.713       0.900\n",
      "has_health_insur_1.0               1.3315      0.032     41.618      0.000       1.269       1.394\n",
      "is_h1n1_vacc_effective_2.0        -0.9711      0.119     -8.156      0.000      -1.204      -0.738\n",
      "is_h1n1_vacc_effective_3.0        -0.3194      0.101     -3.171      0.002      -0.517      -0.122\n",
      "is_h1n1_vacc_effective_4.0         0.0305      0.096      0.318      0.750      -0.157       0.218\n",
      "is_h1n1_vacc_effective_5.0         0.8627      0.097      8.864      0.000       0.672       1.053\n",
      "is_h1n1_risky_2.0                  0.4952      0.044     11.275      0.000       0.409       0.581\n",
      "is_h1n1_risky_3.0                  0.7110      0.090      7.905      0.000       0.535       0.887\n",
      "is_h1n1_risky_4.0                  1.2232      0.052     23.663      0.000       1.122       1.324\n",
      "is_h1n1_risky_5.0                  1.4734      0.073     20.087      0.000       1.330       1.617\n",
      "sick_from_h1n1_vacc_2.0           -0.3647      0.041     -8.830      0.000      -0.446      -0.284\n",
      "sick_from_h1n1_vacc_3.0           -0.6259      0.248     -2.519      0.012      -1.113      -0.139\n",
      "sick_from_h1n1_vacc_4.0           -0.1300      0.047     -2.778      0.005      -0.222      -0.038\n",
      "sick_from_h1n1_vacc_5.0           -0.2039      0.070     -2.911      0.004      -0.341      -0.067\n",
      "is_seas_vacc_effective_2.0        -0.6271      0.100     -6.258      0.000      -0.824      -0.431\n",
      "is_seas_vacc_effective_3.0        -0.0025      0.114     -0.022      0.982      -0.225       0.220\n",
      "is_seas_vacc_effective_4.0        -0.3615      0.085     -4.262      0.000      -0.528      -0.195\n",
      "is_seas_vacc_effective_5.0        -0.3325      0.086     -3.849      0.000      -0.502      -0.163\n",
      "is_seas_risky_2.0                  0.2946      0.049      5.968      0.000       0.198       0.391\n",
      "is_seas_risky_3.0                  0.6673      0.111      6.009      0.000       0.450       0.885\n",
      "is_seas_risky_4.0                  0.5058      0.053      9.541      0.000       0.402       0.610\n",
      "is_seas_risky_5.0                  0.6995      0.066     10.567      0.000       0.570       0.829\n",
      "sick_from_seas_vacc_2.0           -0.1033      0.040     -2.603      0.009      -0.181      -0.026\n",
      "sick_from_seas_vacc_3.0           -1.1351      0.302     -3.761      0.000      -1.727      -0.544\n",
      "sick_from_seas_vacc_4.0           -0.2244      0.047     -4.821      0.000      -0.316      -0.133\n",
      "sick_from_seas_vacc_5.0           -0.4816      0.074     -6.529      0.000      -0.626      -0.337\n",
      "age_bracket_35 - 44 Years         -0.2078      0.055     -3.758      0.000      -0.316      -0.099\n",
      "age_bracket_45 - 54 Years         -0.2374      0.052     -4.610      0.000      -0.338      -0.136\n",
      "age_bracket_55 - 64 Years          0.0584      0.053      1.093      0.275      -0.046       0.163\n",
      "age_bracket_65+ Years              0.1810      0.058      3.143      0.002       0.068       0.294\n",
      "qualification_< 12 Years          -0.3254      0.063     -5.165      0.000      -0.449      -0.202\n",
      "qualification_College Graduate    -0.0935      0.042     -2.233      0.026      -0.176      -0.011\n",
      "qualification_Some College        -0.1807      0.043     -4.242      0.000      -0.264      -0.097\n",
      "race_Hispanic                      0.4910      0.083      5.925      0.000       0.329       0.653\n",
      "race_Other or Multiple             0.4761      0.083      5.718      0.000       0.313       0.639\n",
      "race_White                         0.3306      0.062      5.301      0.000       0.208       0.453\n",
      "sex_Male                           0.2147      0.032      6.711      0.000       0.152       0.277\n",
      "income_level_> $75,000            -0.0629      0.039     -1.622      0.105      -0.139       0.013\n",
      "income_level_Below Poverty         0.1084      0.057      1.892      0.058      -0.004       0.221\n",
      "marital_status_Not Married        -0.2466      0.042     -5.917      0.000      -0.328      -0.165\n",
      "housing_status_Rent               -0.2001      0.042     -4.797      0.000      -0.282      -0.118\n",
      "employment_Not in Labor Force     -0.0480      0.039     -1.246      0.213      -0.124       0.028\n",
      "employment_Unemployed              0.0024      0.073      0.033      0.973      -0.141       0.145\n",
      "census_msa_MSA, Principle City     0.1295      0.036      3.606      0.000       0.059       0.200\n",
      "census_msa_Non-MSA                 0.1010      0.037      2.722      0.006       0.028       0.174\n",
      "no_of_adults_1.0                  -0.0826      0.045     -1.856      0.063      -0.170       0.005\n",
      "no_of_adults_2.0                  -0.0081      0.059     -0.136      0.891      -0.124       0.108\n",
      "no_of_adults_3.0                  -0.2227      0.083     -2.689      0.007      -0.385      -0.060\n",
      "no_of_children_1.0                 0.0816      0.051      1.609      0.108      -0.018       0.181\n",
      "no_of_children_2.0                -0.0149      0.055     -0.269      0.788      -0.123       0.094\n",
      "no_of_children_3.0                -0.1286      0.069     -1.870      0.062      -0.263       0.006\n",
      "==================================================================================================\n"
     ]
    }
   ],
   "source": [
    "log_ols_model = sm.Logit(y1_train,x1_train).fit()\n",
    "print(log_ols_model.summary())"
   ]
  },
  {
   "cell_type": "code",
   "execution_count": 42,
   "metadata": {},
   "outputs": [
    {
     "data": {
      "text/plain": [
       "12620"
      ]
     },
     "execution_count": 42,
     "metadata": {},
     "output_type": "execute_result"
    }
   ],
   "source": [
    "y1_prob_predict = log_ols_model.predict(x1_test)\n",
    "y1_prob_predict.count()"
   ]
  },
  {
   "cell_type": "code",
   "execution_count": 43,
   "metadata": {},
   "outputs": [],
   "source": [
    "y1_predict = []\n",
    "for i in y1_prob_predict:\n",
    "    if i > 0.5:\n",
    "        y1_predict.append(1)\n",
    "    else:\n",
    "        y1_predict.append(0)"
   ]
  },
  {
   "cell_type": "code",
   "execution_count": 48,
   "metadata": {},
   "outputs": [],
   "source": [
    "y1_prob_predict = log_ols_model.predict(x1_test)\n"
   ]
  },
  {
   "cell_type": "code",
   "execution_count": 49,
   "metadata": {},
   "outputs": [],
   "source": [
    "fpr, tpr , thresholds = roc_curve(y1_test,y1_predict)\n",
    "k = tpr - fpr\n",
    "q = np.argmax(k)\n",
    "thresholds[q]"
   ]
  },
  {
   "cell_type": "code",
   "execution_count": 50,
   "metadata": {},
   "outputs": [
    {
     "data": {
      "text/plain": [
       "array([0.        , 0.19537682, 1.        ])"
      ]
     },
     "execution_count": 50,
     "metadata": {},
     "output_type": "execute_result"
    }
   ],
   "source": [
    "fpr"
   ]
  },
  {
   "cell_type": "code",
   "execution_count": 51,
   "metadata": {},
   "outputs": [
    {
     "data": {
      "text/plain": [
       "array([0.        , 0.76189721, 1.        ])"
      ]
     },
     "execution_count": 51,
     "metadata": {},
     "output_type": "execute_result"
    }
   ],
   "source": [
    "tpr"
   ]
  },
  {
   "cell_type": "code",
   "execution_count": 52,
   "metadata": {},
   "outputs": [
    {
     "data": {
      "text/plain": [
       "array([2, 1, 0])"
      ]
     },
     "execution_count": 52,
     "metadata": {},
     "output_type": "execute_result"
    }
   ],
   "source": [
    "thresholds"
   ]
  },
  {
   "cell_type": "code",
   "execution_count": 53,
   "metadata": {},
   "outputs": [],
   "source": [
    "k = tpr - fpr\n",
    "q = np.argmax(k)\n",
    "thresholds[q]"
   ]
  },
  {
   "cell_type": "code",
   "execution_count": 58,
   "metadata": {},
   "outputs": [
    {
     "data": {
      "text/plain": [
       "array([0.        , 0.56652039, 0.        ])"
      ]
     },
     "execution_count": 58,
     "metadata": {},
     "output_type": "execute_result"
    }
   ],
   "source": [
    "k"
   ]
  },
  {
   "cell_type": "code",
   "execution_count": 59,
   "metadata": {},
   "outputs": [
    {
     "data": {
      "text/plain": [
       "1"
      ]
     },
     "execution_count": 59,
     "metadata": {},
     "output_type": "execute_result"
    }
   ],
   "source": [
    "q"
   ]
  },
  {
   "cell_type": "markdown",
   "metadata": {},
   "source": [
    "# CONFUSION MATRICES"
   ]
  },
  {
   "cell_type": "code",
   "execution_count": 44,
   "metadata": {},
   "outputs": [
    {
     "data": {
      "image/png": "[encoded data removed]",
      "text/plain": [
       "<Figure size 720x360 with 1 Axes>"
      ]
     },
     "metadata": {
      "needs_background": "light"
     },
     "output_type": "display_data"
    }
   ],
   "source": [
    "plt.rcParams['figure.figsize'] = [10,5]\n",
    "plt_confusion_matrices(log_ols_model)"
   ]
  },
  {
   "cell_type": "markdown",
   "metadata": {},
   "source": [
    "# CLASSIFICATION REPORT"
   ]
  },
  {
   "cell_type": "code",
   "execution_count": 45,
   "metadata": {},
   "outputs": [
    {
     "name": "stdout",
     "output_type": "stream",
     "text": [
      "              precision    recall  f1-score   support\n",
      "\n",
      "           0       0.77      0.80      0.79      6316\n",
      "           1       0.80      0.76      0.78      6304\n",
      "\n",
      "    accuracy                           0.78     12620\n",
      "   macro avg       0.78      0.78      0.78     12620\n",
      "weighted avg       0.78      0.78      0.78     12620\n",
      "\n"
     ]
    }
   ],
   "source": [
    "print(classi_report(log_ols_model))"
   ]
  },
  {
   "cell_type": "markdown",
   "metadata": {},
   "source": [
    "# FROM MATRICS"
   ]
  },
  {
   "cell_type": "code",
   "execution_count": 46,
   "metadata": {},
   "outputs": [
    {
     "name": "stdout",
     "output_type": "stream",
     "text": [
      "precision_score -  0.7955938379990062\n",
      "recall_score -  0.7618972081218274\n",
      "accuracy_score -  0.7832805071315373\n",
      "f1_score -  0.7783810064014262\n"
     ]
    }
   ],
   "source": [
    "reports(log_ols_model)"
   ]
  },
  {
   "cell_type": "code",
   "execution_count": null,
   "metadata": {},
   "outputs": [],
   "source": []
  },
  {
   "cell_type": "code",
   "execution_count": null,
   "metadata": {},
   "outputs": [],
   "source": []
  },
  {
   "cell_type": "code",
   "execution_count": null,
   "metadata": {},
   "outputs": [],
   "source": []
  },
  {
   "cell_type": "markdown",
   "metadata": {},
   "source": [
    "# ROC CURVE"
   ]
  },
  {
   "cell_type": "code",
   "execution_count": null,
   "metadata": {},
   "outputs": [],
   "source": []
  },
  {
   "cell_type": "code",
   "execution_count": 47,
   "metadata": {},
   "outputs": [
    {
     "data": {
      "image/png": "[encoded data removed]",
      "text/plain": [
       "<Figure size 720x360 with 1 Axes>"
      ]
     },
     "metadata": {
      "needs_background": "light"
     },
     "output_type": "display_data"
    }
   ],
   "source": [
    "plt_roc(log_ols_model)"
   ]
  },
  {
   "cell_type": "code",
   "execution_count": 48,
   "metadata": {},
   "outputs": [],
   "source": [
    "score = pd.DataFrame(columns = ['MODELS','AUC SCORE','PRESCION SCORE','RECALL SCORE','ACCURACY SCORE','F1-SCORE'])\n",
    "score = pd.DataFrame({'MODELS':['log_ols_model'],\n",
    "                    'AUC SCORE': [roc_auc_score(y1_test,y1_predict)] ,\n",
    "                    'PRESCION SCORE':[precision_score(y1_test,y1_predict)],\n",
    "                    'RECALL SCORE':[recall_score(y1_test,y1_predict)],\n",
    "                    'ACCURACY SCORE':[accuracy_score(y1_test,y1_predict)],\n",
    "                    'F1-SCORE':[f1_score(y1_test,y1_predict)]})\n",
    "  "
   ]
  },
  {
   "cell_type": "code",
   "execution_count": 49,
   "metadata": {},
   "outputs": [
    {
     "data": {
      "text/html": [
       "<div>\n",
       "<style scoped>\n",
       "    .dataframe tbody tr th:only-of-type {\n",
       "        vertical-align: middle;\n",
       "    }\n",
       "\n",
       "    .dataframe tbody tr th {\n",
       "        vertical-align: top;\n",
       "    }\n",
       "\n",
       "    .dataframe thead th {\n",
       "        text-align: right;\n",
       "    }\n",
       "</style>\n",
       "<table border=\"1\" class=\"dataframe\">\n",
       "  <thead>\n",
       "    <tr style=\"text-align: right;\">\n",
       "      <th></th>\n",
       "      <th>MODELS</th>\n",
       "      <th>AUC SCORE</th>\n",
       "      <th>PRESCION SCORE</th>\n",
       "      <th>RECALL SCORE</th>\n",
       "      <th>ACCURACY SCORE</th>\n",
       "      <th>F1-SCORE</th>\n",
       "    </tr>\n",
       "  </thead>\n",
       "  <tbody>\n",
       "    <tr>\n",
       "      <th>0</th>\n",
       "      <td>log_ols_model</td>\n",
       "      <td>0.78326</td>\n",
       "      <td>0.795594</td>\n",
       "      <td>0.761897</td>\n",
       "      <td>0.783281</td>\n",
       "      <td>0.778381</td>\n",
       "    </tr>\n",
       "  </tbody>\n",
       "</table>\n",
       "</div>"
      ],
      "text/plain": [
       "          MODELS  AUC SCORE  PRESCION SCORE  RECALL SCORE  ACCURACY SCORE  \\\n",
       "0  log_ols_model    0.78326        0.795594      0.761897        0.783281   \n",
       "\n",
       "   F1-SCORE  \n",
       "0  0.778381  "
      ]
     },
     "execution_count": 49,
     "metadata": {},
     "output_type": "execute_result"
    }
   ],
   "source": [
    "score"
   ]
  },
  {
   "cell_type": "markdown",
   "metadata": {},
   "source": [
    "# THRESHOLD VALUE FOR IMBALANCED DATASET"
   ]
  },
  {
   "cell_type": "code",
   "execution_count": 50,
   "metadata": {},
   "outputs": [
    {
     "data": {
      "text/plain": [
       "15602    0.210110\n",
       "6592     0.112201\n",
       "7025     0.212346\n",
       "1850     0.129048\n",
       "37704    0.420923\n",
       "dtype: float64"
      ]
     },
     "execution_count": 50,
     "metadata": {},
     "output_type": "execute_result"
    }
   ],
   "source": [
    "y1_predict_roc = log_ols_model.predict(x1_test)\n",
    "y1_predict_roc.head()"
   ]
  },
  {
   "cell_type": "code",
   "execution_count": 51,
   "metadata": {},
   "outputs": [],
   "source": [
    "y_predicted = []\n",
    "for i in y1_predict_roc:\n",
    "    if i > 0.5:\n",
    "        y_predicted.append(1)\n",
    "    else:\n",
    "        y_predicted.append(0)    "
   ]
  },
  {
   "cell_type": "code",
   "execution_count": 52,
   "metadata": {},
   "outputs": [],
   "source": [
    "fpr,tpr,threshold = roc_curve(y1_test,y_predicted)"
   ]
  },
  {
   "cell_type": "code",
   "execution_count": 53,
   "metadata": {},
   "outputs": [
    {
     "name": "stdout",
     "output_type": "stream",
     "text": [
      "[0.         0.19537682 1.        ]\n",
      "[0.         0.76189721 1.        ]\n",
      "[2 1 0]\n"
     ]
    }
   ],
   "source": [
    "print(fpr)\n",
    "print(tpr)\n",
    "print(threshold)"
   ]
  },
  {
   "cell_type": "code",
   "execution_count": null,
   "metadata": {},
   "outputs": [],
   "source": []
  },
  {
   "cell_type": "markdown",
   "metadata": {},
   "source": [
    "# LOGISTIC REGRESSION (SGD)"
   ]
  },
  {
   "cell_type": "code",
   "execution_count": 65,
   "metadata": {},
   "outputs": [],
   "source": [
    "from sklearn.linear_model import SGDClassifier\n",
    "SGD_mdl= SGDClassifier(loss = 'log', random_state = 10)\n",
    "log_reg_SGD = SGD_mdl.fit(x1_train,y1_train)"
   ]
  },
  {
   "cell_type": "code",
   "execution_count": 66,
   "metadata": {},
   "outputs": [
    {
     "data": {
      "text/html": [
       "<div>\n",
       "<style scoped>\n",
       "    .dataframe tbody tr th:only-of-type {\n",
       "        vertical-align: middle;\n",
       "    }\n",
       "\n",
       "    .dataframe tbody tr th {\n",
       "        vertical-align: top;\n",
       "    }\n",
       "\n",
       "    .dataframe thead th {\n",
       "        text-align: right;\n",
       "    }\n",
       "</style>\n",
       "<table border=\"1\" class=\"dataframe\">\n",
       "  <thead>\n",
       "    <tr style=\"text-align: right;\">\n",
       "      <th></th>\n",
       "      <th>const</th>\n",
       "      <th>h1n1_worry_1.0</th>\n",
       "      <th>h1n1_worry_2.0</th>\n",
       "      <th>h1n1_worry_3.0</th>\n",
       "      <th>h1n1_awareness_1.0</th>\n",
       "      <th>h1n1_awareness_2.0</th>\n",
       "      <th>antiviral_medication_1.0</th>\n",
       "      <th>contact_avoidance_1.0</th>\n",
       "      <th>bought_face_mask_1.0</th>\n",
       "      <th>wash_hands_frequently_1.0</th>\n",
       "      <th>...</th>\n",
       "      <th>employment_Not in Labor Force</th>\n",
       "      <th>employment_Unemployed</th>\n",
       "      <th>census_msa_MSA, Principle City</th>\n",
       "      <th>census_msa_Non-MSA</th>\n",
       "      <th>no_of_adults_1.0</th>\n",
       "      <th>no_of_adults_2.0</th>\n",
       "      <th>no_of_adults_3.0</th>\n",
       "      <th>no_of_children_1.0</th>\n",
       "      <th>no_of_children_2.0</th>\n",
       "      <th>no_of_children_3.0</th>\n",
       "    </tr>\n",
       "  </thead>\n",
       "  <tbody>\n",
       "    <tr>\n",
       "      <th>15602</th>\n",
       "      <td>1.0</td>\n",
       "      <td>1</td>\n",
       "      <td>0</td>\n",
       "      <td>0</td>\n",
       "      <td>1</td>\n",
       "      <td>0</td>\n",
       "      <td>0</td>\n",
       "      <td>1</td>\n",
       "      <td>0</td>\n",
       "      <td>0</td>\n",
       "      <td>...</td>\n",
       "      <td>0</td>\n",
       "      <td>0</td>\n",
       "      <td>0</td>\n",
       "      <td>1</td>\n",
       "      <td>1</td>\n",
       "      <td>0</td>\n",
       "      <td>0</td>\n",
       "      <td>0</td>\n",
       "      <td>0</td>\n",
       "      <td>0</td>\n",
       "    </tr>\n",
       "    <tr>\n",
       "      <th>6592</th>\n",
       "      <td>1.0</td>\n",
       "      <td>0</td>\n",
       "      <td>0</td>\n",
       "      <td>0</td>\n",
       "      <td>0</td>\n",
       "      <td>0</td>\n",
       "      <td>0</td>\n",
       "      <td>0</td>\n",
       "      <td>1</td>\n",
       "      <td>1</td>\n",
       "      <td>...</td>\n",
       "      <td>1</td>\n",
       "      <td>0</td>\n",
       "      <td>1</td>\n",
       "      <td>0</td>\n",
       "      <td>0</td>\n",
       "      <td>0</td>\n",
       "      <td>0</td>\n",
       "      <td>0</td>\n",
       "      <td>0</td>\n",
       "      <td>0</td>\n",
       "    </tr>\n",
       "    <tr>\n",
       "      <th>7025</th>\n",
       "      <td>1.0</td>\n",
       "      <td>1</td>\n",
       "      <td>0</td>\n",
       "      <td>0</td>\n",
       "      <td>1</td>\n",
       "      <td>0</td>\n",
       "      <td>0</td>\n",
       "      <td>0</td>\n",
       "      <td>0</td>\n",
       "      <td>0</td>\n",
       "      <td>...</td>\n",
       "      <td>0</td>\n",
       "      <td>0</td>\n",
       "      <td>0</td>\n",
       "      <td>1</td>\n",
       "      <td>0</td>\n",
       "      <td>0</td>\n",
       "      <td>0</td>\n",
       "      <td>0</td>\n",
       "      <td>1</td>\n",
       "      <td>0</td>\n",
       "    </tr>\n",
       "    <tr>\n",
       "      <th>1850</th>\n",
       "      <td>1.0</td>\n",
       "      <td>1</td>\n",
       "      <td>0</td>\n",
       "      <td>0</td>\n",
       "      <td>0</td>\n",
       "      <td>1</td>\n",
       "      <td>0</td>\n",
       "      <td>1</td>\n",
       "      <td>0</td>\n",
       "      <td>1</td>\n",
       "      <td>...</td>\n",
       "      <td>0</td>\n",
       "      <td>0</td>\n",
       "      <td>0</td>\n",
       "      <td>0</td>\n",
       "      <td>1</td>\n",
       "      <td>0</td>\n",
       "      <td>0</td>\n",
       "      <td>0</td>\n",
       "      <td>0</td>\n",
       "      <td>0</td>\n",
       "    </tr>\n",
       "    <tr>\n",
       "      <th>37704</th>\n",
       "      <td>1.0</td>\n",
       "      <td>0</td>\n",
       "      <td>1</td>\n",
       "      <td>0</td>\n",
       "      <td>0</td>\n",
       "      <td>1</td>\n",
       "      <td>0</td>\n",
       "      <td>1</td>\n",
       "      <td>1</td>\n",
       "      <td>0</td>\n",
       "      <td>...</td>\n",
       "      <td>1</td>\n",
       "      <td>0</td>\n",
       "      <td>1</td>\n",
       "      <td>0</td>\n",
       "      <td>0</td>\n",
       "      <td>0</td>\n",
       "      <td>0</td>\n",
       "      <td>0</td>\n",
       "      <td>0</td>\n",
       "      <td>0</td>\n",
       "    </tr>\n",
       "    <tr>\n",
       "      <th>...</th>\n",
       "      <td>...</td>\n",
       "      <td>...</td>\n",
       "      <td>...</td>\n",
       "      <td>...</td>\n",
       "      <td>...</td>\n",
       "      <td>...</td>\n",
       "      <td>...</td>\n",
       "      <td>...</td>\n",
       "      <td>...</td>\n",
       "      <td>...</td>\n",
       "      <td>...</td>\n",
       "      <td>...</td>\n",
       "      <td>...</td>\n",
       "      <td>...</td>\n",
       "      <td>...</td>\n",
       "      <td>...</td>\n",
       "      <td>...</td>\n",
       "      <td>...</td>\n",
       "      <td>...</td>\n",
       "      <td>...</td>\n",
       "      <td>...</td>\n",
       "    </tr>\n",
       "    <tr>\n",
       "      <th>40432</th>\n",
       "      <td>1.0</td>\n",
       "      <td>1</td>\n",
       "      <td>0</td>\n",
       "      <td>0</td>\n",
       "      <td>0</td>\n",
       "      <td>1</td>\n",
       "      <td>0</td>\n",
       "      <td>1</td>\n",
       "      <td>0</td>\n",
       "      <td>1</td>\n",
       "      <td>...</td>\n",
       "      <td>0</td>\n",
       "      <td>0</td>\n",
       "      <td>1</td>\n",
       "      <td>0</td>\n",
       "      <td>1</td>\n",
       "      <td>0</td>\n",
       "      <td>0</td>\n",
       "      <td>0</td>\n",
       "      <td>0</td>\n",
       "      <td>0</td>\n",
       "    </tr>\n",
       "    <tr>\n",
       "      <th>723</th>\n",
       "      <td>1.0</td>\n",
       "      <td>0</td>\n",
       "      <td>1</td>\n",
       "      <td>0</td>\n",
       "      <td>1</td>\n",
       "      <td>0</td>\n",
       "      <td>0</td>\n",
       "      <td>1</td>\n",
       "      <td>0</td>\n",
       "      <td>1</td>\n",
       "      <td>...</td>\n",
       "      <td>1</td>\n",
       "      <td>0</td>\n",
       "      <td>0</td>\n",
       "      <td>1</td>\n",
       "      <td>0</td>\n",
       "      <td>0</td>\n",
       "      <td>0</td>\n",
       "      <td>0</td>\n",
       "      <td>0</td>\n",
       "      <td>0</td>\n",
       "    </tr>\n",
       "    <tr>\n",
       "      <th>33796</th>\n",
       "      <td>1.0</td>\n",
       "      <td>1</td>\n",
       "      <td>0</td>\n",
       "      <td>0</td>\n",
       "      <td>0</td>\n",
       "      <td>1</td>\n",
       "      <td>0</td>\n",
       "      <td>1</td>\n",
       "      <td>0</td>\n",
       "      <td>1</td>\n",
       "      <td>...</td>\n",
       "      <td>0</td>\n",
       "      <td>0</td>\n",
       "      <td>1</td>\n",
       "      <td>0</td>\n",
       "      <td>1</td>\n",
       "      <td>0</td>\n",
       "      <td>0</td>\n",
       "      <td>1</td>\n",
       "      <td>0</td>\n",
       "      <td>0</td>\n",
       "    </tr>\n",
       "    <tr>\n",
       "      <th>4175</th>\n",
       "      <td>1.0</td>\n",
       "      <td>1</td>\n",
       "      <td>0</td>\n",
       "      <td>0</td>\n",
       "      <td>0</td>\n",
       "      <td>0</td>\n",
       "      <td>0</td>\n",
       "      <td>0</td>\n",
       "      <td>0</td>\n",
       "      <td>0</td>\n",
       "      <td>...</td>\n",
       "      <td>0</td>\n",
       "      <td>0</td>\n",
       "      <td>0</td>\n",
       "      <td>0</td>\n",
       "      <td>1</td>\n",
       "      <td>0</td>\n",
       "      <td>0</td>\n",
       "      <td>0</td>\n",
       "      <td>0</td>\n",
       "      <td>0</td>\n",
       "    </tr>\n",
       "    <tr>\n",
       "      <th>28651</th>\n",
       "      <td>1.0</td>\n",
       "      <td>1</td>\n",
       "      <td>0</td>\n",
       "      <td>0</td>\n",
       "      <td>0</td>\n",
       "      <td>1</td>\n",
       "      <td>0</td>\n",
       "      <td>1</td>\n",
       "      <td>0</td>\n",
       "      <td>1</td>\n",
       "      <td>...</td>\n",
       "      <td>0</td>\n",
       "      <td>0</td>\n",
       "      <td>1</td>\n",
       "      <td>0</td>\n",
       "      <td>0</td>\n",
       "      <td>0</td>\n",
       "      <td>0</td>\n",
       "      <td>0</td>\n",
       "      <td>0</td>\n",
       "      <td>0</td>\n",
       "    </tr>\n",
       "  </tbody>\n",
       "</table>\n",
       "<p>12620 rows × 68 columns</p>\n",
       "</div>"
      ],
      "text/plain": [
       "       const  h1n1_worry_1.0  h1n1_worry_2.0  h1n1_worry_3.0  \\\n",
       "15602    1.0               1               0               0   \n",
       "6592     1.0               0               0               0   \n",
       "7025     1.0               1               0               0   \n",
       "1850     1.0               1               0               0   \n",
       "37704    1.0               0               1               0   \n",
       "...      ...             ...             ...             ...   \n",
       "40432    1.0               1               0               0   \n",
       "723      1.0               0               1               0   \n",
       "33796    1.0               1               0               0   \n",
       "4175     1.0               1               0               0   \n",
       "28651    1.0               1               0               0   \n",
       "\n",
       "       h1n1_awareness_1.0  h1n1_awareness_2.0  antiviral_medication_1.0  \\\n",
       "15602                   1                   0                         0   \n",
       "6592                    0                   0                         0   \n",
       "7025                    1                   0                         0   \n",
       "1850                    0                   1                         0   \n",
       "37704                   0                   1                         0   \n",
       "...                   ...                 ...                       ...   \n",
       "40432                   0                   1                         0   \n",
       "723                     1                   0                         0   \n",
       "33796                   0                   1                         0   \n",
       "4175                    0                   0                         0   \n",
       "28651                   0                   1                         0   \n",
       "\n",
       "       contact_avoidance_1.0  bought_face_mask_1.0  wash_hands_frequently_1.0  \\\n",
       "15602                      1                     0                          0   \n",
       "6592                       0                     1                          1   \n",
       "7025                       0                     0                          0   \n",
       "1850                       1                     0                          1   \n",
       "37704                      1                     1                          0   \n",
       "...                      ...                   ...                        ...   \n",
       "40432                      1                     0                          1   \n",
       "723                        1                     0                          1   \n",
       "33796                      1                     0                          1   \n",
       "4175                       0                     0                          0   \n",
       "28651                      1                     0                          1   \n",
       "\n",
       "       ...  employment_Not in Labor Force  employment_Unemployed  \\\n",
       "15602  ...                              0                      0   \n",
       "6592   ...                              1                      0   \n",
       "7025   ...                              0                      0   \n",
       "1850   ...                              0                      0   \n",
       "37704  ...                              1                      0   \n",
       "...    ...                            ...                    ...   \n",
       "40432  ...                              0                      0   \n",
       "723    ...                              1                      0   \n",
       "33796  ...                              0                      0   \n",
       "4175   ...                              0                      0   \n",
       "28651  ...                              0                      0   \n",
       "\n",
       "       census_msa_MSA, Principle City  census_msa_Non-MSA  no_of_adults_1.0  \\\n",
       "15602                               0                   1                 1   \n",
       "6592                                1                   0                 0   \n",
       "7025                                0                   1                 0   \n",
       "1850                                0                   0                 1   \n",
       "37704                               1                   0                 0   \n",
       "...                               ...                 ...               ...   \n",
       "40432                               1                   0                 1   \n",
       "723                                 0                   1                 0   \n",
       "33796                               1                   0                 1   \n",
       "4175                                0                   0                 1   \n",
       "28651                               1                   0                 0   \n",
       "\n",
       "       no_of_adults_2.0  no_of_adults_3.0  no_of_children_1.0  \\\n",
       "15602                 0                 0                   0   \n",
       "6592                  0                 0                   0   \n",
       "7025                  0                 0                   0   \n",
       "1850                  0                 0                   0   \n",
       "37704                 0                 0                   0   \n",
       "...                 ...               ...                 ...   \n",
       "40432                 0                 0                   0   \n",
       "723                   0                 0                   0   \n",
       "33796                 0                 0                   1   \n",
       "4175                  0                 0                   0   \n",
       "28651                 0                 0                   0   \n",
       "\n",
       "       no_of_children_2.0  no_of_children_3.0  \n",
       "15602                   0                   0  \n",
       "6592                    0                   0  \n",
       "7025                    1                   0  \n",
       "1850                    0                   0  \n",
       "37704                   0                   0  \n",
       "...                   ...                 ...  \n",
       "40432                   0                   0  \n",
       "723                     0                   0  \n",
       "33796                   0                   0  \n",
       "4175                    0                   0  \n",
       "28651                   0                   0  \n",
       "\n",
       "[12620 rows x 68 columns]"
      ]
     },
     "execution_count": 66,
     "metadata": {},
     "output_type": "execute_result"
    }
   ],
   "source": [
    "x1_test"
   ]
  },
  {
   "cell_type": "code",
   "execution_count": 67,
   "metadata": {},
   "outputs": [],
   "source": [
    "y1_prob_predict = log_reg_SGD.predict_proba(x1_test)[:,1]"
   ]
  },
  {
   "cell_type": "code",
   "execution_count": 68,
   "metadata": {},
   "outputs": [],
   "source": [
    "y1_predict = []\n",
    "for i in y1_prob_predict:\n",
    "    if i > 0.5:\n",
    "        y1_predict.append(1)\n",
    "    else:\n",
    "        y1_predict.append(0)"
   ]
  },
  {
   "cell_type": "code",
   "execution_count": 69,
   "metadata": {},
   "outputs": [
    {
     "data": {
      "text/plain": [
       "1"
      ]
     },
     "execution_count": 69,
     "metadata": {},
     "output_type": "execute_result"
    }
   ],
   "source": [
    "fpr, tpr , thresholds = roc_curve(y1_test,y1_predict)\n",
    "k = tpr - fpr\n",
    "q = np.argmax(k)\n",
    "thresholds[q]"
   ]
  },
  {
   "cell_type": "code",
   "execution_count": null,
   "metadata": {},
   "outputs": [],
   "source": []
  },
  {
   "cell_type": "code",
   "execution_count": 58,
   "metadata": {},
   "outputs": [
    {
     "data": {
      "image/png": "[encoded data removed]",
      "text/plain": [
       "<Figure size 720x360 with 1 Axes>"
      ]
     },
     "metadata": {
      "needs_background": "light"
     },
     "output_type": "display_data"
    }
   ],
   "source": [
    "plt_confusion_matrices(log_reg_SGD)"
   ]
  },
  {
   "cell_type": "code",
   "execution_count": 59,
   "metadata": {},
   "outputs": [
    {
     "name": "stdout",
     "output_type": "stream",
     "text": [
      "              precision    recall  f1-score   support\n",
      "\n",
      "           0       0.78      0.79      0.78      6316\n",
      "           1       0.79      0.78      0.78      6304\n",
      "\n",
      "    accuracy                           0.78     12620\n",
      "   macro avg       0.78      0.78      0.78     12620\n",
      "weighted avg       0.78      0.78      0.78     12620\n",
      "\n"
     ]
    }
   ],
   "source": [
    "SGD = classi_report(log_reg_SGD)\n",
    "print(SGD)"
   ]
  },
  {
   "cell_type": "code",
   "execution_count": 60,
   "metadata": {},
   "outputs": [
    {
     "data": {
      "image/png": "[encoded data removed]",
      "text/plain": [
       "<Figure size 720x360 with 1 Axes>"
      ]
     },
     "metadata": {
      "needs_background": "light"
     },
     "output_type": "display_data"
    }
   ],
   "source": [
    "plt_roc(log_reg_SGD)"
   ]
  },
  {
   "cell_type": "code",
   "execution_count": 61,
   "metadata": {},
   "outputs": [
    {
     "name": "stdout",
     "output_type": "stream",
     "text": [
      "0.7862423657987785\n",
      "0.7760152284263959\n",
      "0.7827258320126783\n",
      "0.7810953217307999\n"
     ]
    }
   ],
   "source": [
    "print(precision_score(y1_test,y1_predict))\n",
    "print(recall_score(y1_test,y1_predict))\n",
    "print(accuracy_score(y1_test,y1_predict))\n",
    "print(f1_score(y1_test,y1_predict))"
   ]
  },
  {
   "cell_type": "code",
   "execution_count": 62,
   "metadata": {},
   "outputs": [
    {
     "data": {
      "text/html": [
       "<div>\n",
       "<style scoped>\n",
       "    .dataframe tbody tr th:only-of-type {\n",
       "        vertical-align: middle;\n",
       "    }\n",
       "\n",
       "    .dataframe tbody tr th {\n",
       "        vertical-align: top;\n",
       "    }\n",
       "\n",
       "    .dataframe thead th {\n",
       "        text-align: right;\n",
       "    }\n",
       "</style>\n",
       "<table border=\"1\" class=\"dataframe\">\n",
       "  <thead>\n",
       "    <tr style=\"text-align: right;\">\n",
       "      <th></th>\n",
       "      <th>MODELS</th>\n",
       "      <th>AUC SCORE</th>\n",
       "      <th>PRESCION SCORE</th>\n",
       "      <th>RECALL SCORE</th>\n",
       "      <th>ACCURACY SCORE</th>\n",
       "      <th>F1-SCORE</th>\n",
       "    </tr>\n",
       "  </thead>\n",
       "  <tbody>\n",
       "    <tr>\n",
       "      <th>0</th>\n",
       "      <td>log_ols_model</td>\n",
       "      <td>0.78326</td>\n",
       "      <td>0.795594</td>\n",
       "      <td>0.761897</td>\n",
       "      <td>0.783281</td>\n",
       "      <td>0.778381</td>\n",
       "    </tr>\n",
       "  </tbody>\n",
       "</table>\n",
       "</div>"
      ],
      "text/plain": [
       "          MODELS  AUC SCORE  PRESCION SCORE  RECALL SCORE  ACCURACY SCORE  \\\n",
       "0  log_ols_model    0.78326        0.795594      0.761897        0.783281   \n",
       "\n",
       "   F1-SCORE  \n",
       "0  0.778381  "
      ]
     },
     "execution_count": 62,
     "metadata": {},
     "output_type": "execute_result"
    }
   ],
   "source": [
    "score "
   ]
  },
  {
   "cell_type": "code",
   "execution_count": 63,
   "metadata": {},
   "outputs": [],
   "source": [
    "model2 = pd.DataFrame({'MODELS':['log_with_sgd'],\n",
    "             'AUC SCORE':[accuracy_score(y1_test,y1_predict)],\n",
    "             'PRESCION SCORE':[precision_score(y1_test,y1_predict)],\n",
    "               'RECALL SCORE':[recall_score(y1_test,y1_predict)],\n",
    "             'ACCURACY SCORE':[accuracy_score(y1_test,y1_predict)],\n",
    "             'F1-SCORE':[f1_score(y1_test,y1_predict)]})"
   ]
  },
  {
   "cell_type": "code",
   "execution_count": 64,
   "metadata": {},
   "outputs": [],
   "source": [
    "score = score.append(model2)"
   ]
  },
  {
   "cell_type": "code",
   "execution_count": 65,
   "metadata": {},
   "outputs": [
    {
     "data": {
      "text/html": [
       "<div>\n",
       "<style scoped>\n",
       "    .dataframe tbody tr th:only-of-type {\n",
       "        vertical-align: middle;\n",
       "    }\n",
       "\n",
       "    .dataframe tbody tr th {\n",
       "        vertical-align: top;\n",
       "    }\n",
       "\n",
       "    .dataframe thead th {\n",
       "        text-align: right;\n",
       "    }\n",
       "</style>\n",
       "<table border=\"1\" class=\"dataframe\">\n",
       "  <thead>\n",
       "    <tr style=\"text-align: right;\">\n",
       "      <th></th>\n",
       "      <th>MODELS</th>\n",
       "      <th>AUC SCORE</th>\n",
       "      <th>PRESCION SCORE</th>\n",
       "      <th>RECALL SCORE</th>\n",
       "      <th>ACCURACY SCORE</th>\n",
       "      <th>F1-SCORE</th>\n",
       "    </tr>\n",
       "  </thead>\n",
       "  <tbody>\n",
       "    <tr>\n",
       "      <th>0</th>\n",
       "      <td>log_ols_model</td>\n",
       "      <td>0.783260</td>\n",
       "      <td>0.795594</td>\n",
       "      <td>0.761897</td>\n",
       "      <td>0.783281</td>\n",
       "      <td>0.778381</td>\n",
       "    </tr>\n",
       "    <tr>\n",
       "      <th>0</th>\n",
       "      <td>log_with_sgd</td>\n",
       "      <td>0.782726</td>\n",
       "      <td>0.786242</td>\n",
       "      <td>0.776015</td>\n",
       "      <td>0.782726</td>\n",
       "      <td>0.781095</td>\n",
       "    </tr>\n",
       "  </tbody>\n",
       "</table>\n",
       "</div>"
      ],
      "text/plain": [
       "          MODELS  AUC SCORE  PRESCION SCORE  RECALL SCORE  ACCURACY SCORE  \\\n",
       "0  log_ols_model   0.783260        0.795594      0.761897        0.783281   \n",
       "0   log_with_sgd   0.782726        0.786242      0.776015        0.782726   \n",
       "\n",
       "   F1-SCORE  \n",
       "0  0.778381  \n",
       "0  0.781095  "
      ]
     },
     "execution_count": 65,
     "metadata": {},
     "output_type": "execute_result"
    }
   ],
   "source": [
    "score"
   ]
  },
  {
   "cell_type": "markdown",
   "metadata": {},
   "source": [
    "# MODEL - 2 LOGISTIC REGRESSION"
   ]
  },
  {
   "cell_type": "code",
   "execution_count": 66,
   "metadata": {},
   "outputs": [
    {
     "name": "stdout",
     "output_type": "stream",
     "text": [
      "(29446, 68)\n",
      "(12620, 68)\n",
      "(29446, 1)\n",
      "(12620, 1)\n"
     ]
    }
   ],
   "source": [
    "print(x1_train.shape)\n",
    "print(x1_test.shape)\n",
    "print(y1_train.shape)\n",
    "print(y1_test.shape)\n"
   ]
  },
  {
   "cell_type": "code",
   "execution_count": 67,
   "metadata": {},
   "outputs": [],
   "source": [
    "from sklearn.linear_model import LogisticRegression\n",
    "log_mdl = LogisticRegression()\n",
    "log_mdl = log_mdl.fit(x1_train,y1_train)"
   ]
  },
  {
   "cell_type": "code",
   "execution_count": 68,
   "metadata": {},
   "outputs": [
    {
     "data": {
      "text/plain": [
       "array([0, 0, 0, ..., 1, 0, 1], dtype=int64)"
      ]
     },
     "execution_count": 68,
     "metadata": {},
     "output_type": "execute_result"
    }
   ],
   "source": [
    "y1_predict = log_mdl.predict(x1_test)\n",
    "y1_predict"
   ]
  },
  {
   "cell_type": "code",
   "execution_count": 69,
   "metadata": {},
   "outputs": [
    {
     "data": {
      "image/png": "[encoded data removed]",
      "text/plain": [
       "<Figure size 720x360 with 1 Axes>"
      ]
     },
     "metadata": {
      "needs_background": "light"
     },
     "output_type": "display_data"
    }
   ],
   "source": [
    "plt_confusion_matrices(log_mdl)"
   ]
  },
  {
   "cell_type": "code",
   "execution_count": 70,
   "metadata": {},
   "outputs": [
    {
     "data": {
      "image/png": "[encoded data removed]",
      "text/plain": [
       "<Figure size 720x360 with 1 Axes>"
      ]
     },
     "metadata": {
      "needs_background": "light"
     },
     "output_type": "display_data"
    }
   ],
   "source": [
    "plt_roc(log_mdl)"
   ]
  },
  {
   "cell_type": "code",
   "execution_count": 71,
   "metadata": {},
   "outputs": [
    {
     "name": "stdout",
     "output_type": "stream",
     "text": [
      "              precision    recall  f1-score   support\n",
      "\n",
      "           0       0.77      0.81      0.79      6316\n",
      "           1       0.80      0.76      0.78      6304\n",
      "\n",
      "    accuracy                           0.78     12620\n",
      "   macro avg       0.78      0.78      0.78     12620\n",
      "weighted avg       0.78      0.78      0.78     12620\n",
      "\n"
     ]
    }
   ],
   "source": [
    "print(classi_report(log_mdl))"
   ]
  },
  {
   "cell_type": "code",
   "execution_count": 72,
   "metadata": {},
   "outputs": [
    {
     "name": "stdout",
     "output_type": "stream",
     "text": [
      "0.7959893934371892\n",
      "0.7618972081218274\n",
      "0.7835182250396197\n",
      "0.7785702707083806\n"
     ]
    }
   ],
   "source": [
    "print(precision_score(y1_test,y1_predict))\n",
    "print(recall_score(y1_test,y1_predict))\n",
    "print(accuracy_score(y1_test,y1_predict))\n",
    "print(f1_score(y1_test,y1_predict))"
   ]
  },
  {
   "cell_type": "code",
   "execution_count": 73,
   "metadata": {},
   "outputs": [],
   "source": [
    "model3 = pd.DataFrame({'MODELS':['log_reg'],\n",
    "             'AUC SCORE':[accuracy_score(y1_test,y1_predict)],\n",
    "             'PRESCION SCORE':[precision_score(y1_test,y1_predict)],\n",
    "               'RECALL SCORE':[recall_score(y1_test,y1_predict)],\n",
    "             'ACCURACY SCORE':[accuracy_score(y1_test,y1_predict)],\n",
    "             'F1-SCORE':[f1_score(y1_test,y1_predict)]})"
   ]
  },
  {
   "cell_type": "code",
   "execution_count": 74,
   "metadata": {},
   "outputs": [
    {
     "data": {
      "text/html": [
       "<div>\n",
       "<style scoped>\n",
       "    .dataframe tbody tr th:only-of-type {\n",
       "        vertical-align: middle;\n",
       "    }\n",
       "\n",
       "    .dataframe tbody tr th {\n",
       "        vertical-align: top;\n",
       "    }\n",
       "\n",
       "    .dataframe thead th {\n",
       "        text-align: right;\n",
       "    }\n",
       "</style>\n",
       "<table border=\"1\" class=\"dataframe\">\n",
       "  <thead>\n",
       "    <tr style=\"text-align: right;\">\n",
       "      <th></th>\n",
       "      <th>MODELS</th>\n",
       "      <th>AUC SCORE</th>\n",
       "      <th>PRESCION SCORE</th>\n",
       "      <th>RECALL SCORE</th>\n",
       "      <th>ACCURACY SCORE</th>\n",
       "      <th>F1-SCORE</th>\n",
       "    </tr>\n",
       "  </thead>\n",
       "  <tbody>\n",
       "    <tr>\n",
       "      <th>0</th>\n",
       "      <td>log_ols_model</td>\n",
       "      <td>0.783260</td>\n",
       "      <td>0.795594</td>\n",
       "      <td>0.761897</td>\n",
       "      <td>0.783281</td>\n",
       "      <td>0.778381</td>\n",
       "    </tr>\n",
       "    <tr>\n",
       "      <th>0</th>\n",
       "      <td>log_with_sgd</td>\n",
       "      <td>0.782726</td>\n",
       "      <td>0.786242</td>\n",
       "      <td>0.776015</td>\n",
       "      <td>0.782726</td>\n",
       "      <td>0.781095</td>\n",
       "    </tr>\n",
       "    <tr>\n",
       "      <th>0</th>\n",
       "      <td>log_reg</td>\n",
       "      <td>0.783518</td>\n",
       "      <td>0.795989</td>\n",
       "      <td>0.761897</td>\n",
       "      <td>0.783518</td>\n",
       "      <td>0.778570</td>\n",
       "    </tr>\n",
       "  </tbody>\n",
       "</table>\n",
       "</div>"
      ],
      "text/plain": [
       "          MODELS  AUC SCORE  PRESCION SCORE  RECALL SCORE  ACCURACY SCORE  \\\n",
       "0  log_ols_model   0.783260        0.795594      0.761897        0.783281   \n",
       "0   log_with_sgd   0.782726        0.786242      0.776015        0.782726   \n",
       "0        log_reg   0.783518        0.795989      0.761897        0.783518   \n",
       "\n",
       "   F1-SCORE  \n",
       "0  0.778381  \n",
       "0  0.781095  \n",
       "0  0.778570  "
      ]
     },
     "execution_count": 74,
     "metadata": {},
     "output_type": "execute_result"
    }
   ],
   "source": [
    "score = score.append(model3)\n",
    "score"
   ]
  },
  {
   "cell_type": "code",
   "execution_count": null,
   "metadata": {},
   "outputs": [],
   "source": []
  },
  {
   "cell_type": "markdown",
   "metadata": {},
   "source": [
    "# MODEL - 3 FEATURE SCALING"
   ]
  },
  {
   "cell_type": "code",
   "execution_count": 75,
   "metadata": {},
   "outputs": [
    {
     "name": "stdout",
     "output_type": "stream",
     "text": [
      "(29446, 68)\n",
      "(12620, 68)\n",
      "(29446, 1)\n",
      "(12620, 1)\n"
     ]
    }
   ],
   "source": [
    "print(x1_train.shape)\n",
    "print(x1_test.shape)\n",
    "print(y1_train.shape)\n",
    "print(y1_test.shape)\n"
   ]
  },
  {
   "cell_type": "code",
   "execution_count": 83,
   "metadata": {},
   "outputs": [],
   "source": [
    "from sklearn.preprocessing import StandardScaler\n",
    "sc = StandardScaler()\n",
    "x1_train = sc.fit_transform(x1_train)\n",
    "x1_test = sc.fit_transform(x1_test)"
   ]
  },
  {
   "cell_type": "code",
   "execution_count": 84,
   "metadata": {},
   "outputs": [],
   "source": [
    "from sklearn.linear_model import LogisticRegression\n",
    "sc_mdl = LogisticRegression().fit(x1_train,y1_train)\n"
   ]
  },
  {
   "cell_type": "code",
   "execution_count": 85,
   "metadata": {},
   "outputs": [],
   "source": [
    "y1_predict = sc_mdl.predict(x1_test)\n"
   ]
  },
  {
   "cell_type": "code",
   "execution_count": 86,
   "metadata": {},
   "outputs": [
    {
     "data": {
      "image/png": "[encoded data removed]",
      "text/plain": [
       "<Figure size 720x360 with 1 Axes>"
      ]
     },
     "metadata": {
      "needs_background": "light"
     },
     "output_type": "display_data"
    }
   ],
   "source": [
    "plt_confusion_matrices(sc_mdl)"
   ]
  },
  {
   "cell_type": "code",
   "execution_count": 87,
   "metadata": {},
   "outputs": [
    {
     "data": {
      "image/png": "[encoded data removed]",
      "text/plain": [
       "<Figure size 720x360 with 1 Axes>"
      ]
     },
     "metadata": {
      "needs_background": "light"
     },
     "output_type": "display_data"
    }
   ],
   "source": [
    "plt_roc(sc_mdl)"
   ]
  },
  {
   "cell_type": "code",
   "execution_count": 88,
   "metadata": {},
   "outputs": [
    {
     "name": "stdout",
     "output_type": "stream",
     "text": [
      "0.7962226640159046\n",
      "0.7623730964467005\n",
      "0.7838351822503962\n",
      "0.7789303079416532\n"
     ]
    }
   ],
   "source": [
    "print(precision_score(y1_test,y1_predict))\n",
    "print(recall_score(y1_test,y1_predict))\n",
    "print(accuracy_score(y1_test,y1_predict))\n",
    "print(f1_score(y1_test,y1_predict))"
   ]
  },
  {
   "cell_type": "code",
   "execution_count": 89,
   "metadata": {},
   "outputs": [],
   "source": [
    "model4 = pd.DataFrame({'MODELS':['sc_mdl'],\n",
    "             'AUC SCORE':[accuracy_score(y1_test,y1_predict)],\n",
    "             'PRESCION SCORE':[precision_score(y1_test,y1_predict)],\n",
    "               'RECALL SCORE':[recall_score(y1_test,y1_predict)],\n",
    "             'ACCURACY SCORE':[accuracy_score(y1_test,y1_predict)],\n",
    "             'F1-SCORE':[f1_score(y1_test,y1_predict)]})"
   ]
  },
  {
   "cell_type": "code",
   "execution_count": 90,
   "metadata": {},
   "outputs": [
    {
     "data": {
      "text/html": [
       "<div>\n",
       "<style scoped>\n",
       "    .dataframe tbody tr th:only-of-type {\n",
       "        vertical-align: middle;\n",
       "    }\n",
       "\n",
       "    .dataframe tbody tr th {\n",
       "        vertical-align: top;\n",
       "    }\n",
       "\n",
       "    .dataframe thead th {\n",
       "        text-align: right;\n",
       "    }\n",
       "</style>\n",
       "<table border=\"1\" class=\"dataframe\">\n",
       "  <thead>\n",
       "    <tr style=\"text-align: right;\">\n",
       "      <th></th>\n",
       "      <th>MODELS</th>\n",
       "      <th>AUC SCORE</th>\n",
       "      <th>PRESCION SCORE</th>\n",
       "      <th>RECALL SCORE</th>\n",
       "      <th>ACCURACY SCORE</th>\n",
       "      <th>F1-SCORE</th>\n",
       "    </tr>\n",
       "  </thead>\n",
       "  <tbody>\n",
       "    <tr>\n",
       "      <th>0</th>\n",
       "      <td>log_ols_model</td>\n",
       "      <td>0.783260</td>\n",
       "      <td>0.795594</td>\n",
       "      <td>0.761897</td>\n",
       "      <td>0.783281</td>\n",
       "      <td>0.778381</td>\n",
       "    </tr>\n",
       "    <tr>\n",
       "      <th>0</th>\n",
       "      <td>log_with_sgd</td>\n",
       "      <td>0.782726</td>\n",
       "      <td>0.786242</td>\n",
       "      <td>0.776015</td>\n",
       "      <td>0.782726</td>\n",
       "      <td>0.781095</td>\n",
       "    </tr>\n",
       "    <tr>\n",
       "      <th>0</th>\n",
       "      <td>log_reg</td>\n",
       "      <td>0.783518</td>\n",
       "      <td>0.795989</td>\n",
       "      <td>0.761897</td>\n",
       "      <td>0.783518</td>\n",
       "      <td>0.778570</td>\n",
       "    </tr>\n",
       "    <tr>\n",
       "      <th>0</th>\n",
       "      <td>sc_mdl</td>\n",
       "      <td>0.783835</td>\n",
       "      <td>0.796223</td>\n",
       "      <td>0.762373</td>\n",
       "      <td>0.783835</td>\n",
       "      <td>0.778930</td>\n",
       "    </tr>\n",
       "  </tbody>\n",
       "</table>\n",
       "</div>"
      ],
      "text/plain": [
       "          MODELS  AUC SCORE  PRESCION SCORE  RECALL SCORE  ACCURACY SCORE  \\\n",
       "0  log_ols_model   0.783260        0.795594      0.761897        0.783281   \n",
       "0   log_with_sgd   0.782726        0.786242      0.776015        0.782726   \n",
       "0        log_reg   0.783518        0.795989      0.761897        0.783518   \n",
       "0         sc_mdl   0.783835        0.796223      0.762373        0.783835   \n",
       "\n",
       "   F1-SCORE  \n",
       "0  0.778381  \n",
       "0  0.781095  \n",
       "0  0.778570  \n",
       "0  0.778930  "
      ]
     },
     "execution_count": 90,
     "metadata": {},
     "output_type": "execute_result"
    }
   ],
   "source": [
    "score = score.append(model4)\n",
    "score"
   ]
  },
  {
   "cell_type": "markdown",
   "metadata": {},
   "source": [
    "# DESCION TREE"
   ]
  },
  {
   "cell_type": "code",
   "execution_count": 91,
   "metadata": {},
   "outputs": [],
   "source": [
    "from sklearn import tree"
   ]
  },
  {
   "cell_type": "code",
   "execution_count": 92,
   "metadata": {},
   "outputs": [],
   "source": [
    "from sklearn.tree import DecisionTreeClassifier"
   ]
  },
  {
   "cell_type": "code",
   "execution_count": 93,
   "metadata": {},
   "outputs": [],
   "source": [
    "descion_model = DecisionTreeClassifier(criterion='gini',max_depth= 3,max_leaf_nodes= 15)\n",
    "descion_model = descion_model.fit(x1_train,y1_train)"
   ]
  },
  {
   "cell_type": "code",
   "execution_count": 94,
   "metadata": {},
   "outputs": [],
   "source": [
    "y1_predict = descion_model.predict(x1_test)"
   ]
  },
  {
   "cell_type": "code",
   "execution_count": 95,
   "metadata": {},
   "outputs": [
    {
     "data": {
      "image/png": "[encoded data removed]",
      "text/plain": [
       "<Figure size 720x360 with 1 Axes>"
      ]
     },
     "metadata": {
      "needs_background": "light"
     },
     "output_type": "display_data"
    }
   ],
   "source": [
    "plt_confusion_matrices(descion_model)"
   ]
  },
  {
   "cell_type": "code",
   "execution_count": 96,
   "metadata": {},
   "outputs": [
    {
     "data": {
      "image/png": "[encoded data removed]",
      "text/plain": [
       "<Figure size 720x360 with 1 Axes>"
      ]
     },
     "metadata": {
      "needs_background": "light"
     },
     "output_type": "display_data"
    }
   ],
   "source": [
    "plt_roc(descion_model)"
   ]
  },
  {
   "cell_type": "code",
   "execution_count": 97,
   "metadata": {},
   "outputs": [],
   "source": [
    "model_5 = pd.DataFrame({'MODELS':['descion_model'],\n",
    "             'AUC SCORE':[accuracy_score(y1_test,y1_predict)],\n",
    "             'PRESCION SCORE':[precision_score(y1_test,y1_predict)],\n",
    "               'RECALL SCORE':[recall_score(y1_test,y1_predict)],\n",
    "             'ACCURACY SCORE':[accuracy_score(y1_test,y1_predict)],\n",
    "             'F1-SCORE':[f1_score(y1_test,y1_predict)]})"
   ]
  },
  {
   "cell_type": "code",
   "execution_count": 98,
   "metadata": {},
   "outputs": [
    {
     "data": {
      "text/html": [
       "<div>\n",
       "<style scoped>\n",
       "    .dataframe tbody tr th:only-of-type {\n",
       "        vertical-align: middle;\n",
       "    }\n",
       "\n",
       "    .dataframe tbody tr th {\n",
       "        vertical-align: top;\n",
       "    }\n",
       "\n",
       "    .dataframe thead th {\n",
       "        text-align: right;\n",
       "    }\n",
       "</style>\n",
       "<table border=\"1\" class=\"dataframe\">\n",
       "  <thead>\n",
       "    <tr style=\"text-align: right;\">\n",
       "      <th></th>\n",
       "      <th>MODELS</th>\n",
       "      <th>AUC SCORE</th>\n",
       "      <th>PRESCION SCORE</th>\n",
       "      <th>RECALL SCORE</th>\n",
       "      <th>ACCURACY SCORE</th>\n",
       "      <th>F1-SCORE</th>\n",
       "    </tr>\n",
       "  </thead>\n",
       "  <tbody>\n",
       "    <tr>\n",
       "      <th>0</th>\n",
       "      <td>log_ols_model</td>\n",
       "      <td>0.783260</td>\n",
       "      <td>0.795594</td>\n",
       "      <td>0.761897</td>\n",
       "      <td>0.783281</td>\n",
       "      <td>0.778381</td>\n",
       "    </tr>\n",
       "    <tr>\n",
       "      <th>0</th>\n",
       "      <td>log_with_sgd</td>\n",
       "      <td>0.782726</td>\n",
       "      <td>0.786242</td>\n",
       "      <td>0.776015</td>\n",
       "      <td>0.782726</td>\n",
       "      <td>0.781095</td>\n",
       "    </tr>\n",
       "    <tr>\n",
       "      <th>0</th>\n",
       "      <td>log_reg</td>\n",
       "      <td>0.783518</td>\n",
       "      <td>0.795989</td>\n",
       "      <td>0.761897</td>\n",
       "      <td>0.783518</td>\n",
       "      <td>0.778570</td>\n",
       "    </tr>\n",
       "    <tr>\n",
       "      <th>0</th>\n",
       "      <td>sc_mdl</td>\n",
       "      <td>0.783835</td>\n",
       "      <td>0.796223</td>\n",
       "      <td>0.762373</td>\n",
       "      <td>0.783835</td>\n",
       "      <td>0.778930</td>\n",
       "    </tr>\n",
       "    <tr>\n",
       "      <th>0</th>\n",
       "      <td>descion_model</td>\n",
       "      <td>0.747068</td>\n",
       "      <td>0.782191</td>\n",
       "      <td>0.684169</td>\n",
       "      <td>0.747068</td>\n",
       "      <td>0.729904</td>\n",
       "    </tr>\n",
       "  </tbody>\n",
       "</table>\n",
       "</div>"
      ],
      "text/plain": [
       "          MODELS  AUC SCORE  PRESCION SCORE  RECALL SCORE  ACCURACY SCORE  \\\n",
       "0  log_ols_model   0.783260        0.795594      0.761897        0.783281   \n",
       "0   log_with_sgd   0.782726        0.786242      0.776015        0.782726   \n",
       "0        log_reg   0.783518        0.795989      0.761897        0.783518   \n",
       "0         sc_mdl   0.783835        0.796223      0.762373        0.783835   \n",
       "0  descion_model   0.747068        0.782191      0.684169        0.747068   \n",
       "\n",
       "   F1-SCORE  \n",
       "0  0.778381  \n",
       "0  0.781095  \n",
       "0  0.778570  \n",
       "0  0.778930  \n",
       "0  0.729904  "
      ]
     },
     "execution_count": 98,
     "metadata": {},
     "output_type": "execute_result"
    }
   ],
   "source": [
    "score = score.append(model_5)\n",
    "score"
   ]
  },
  {
   "cell_type": "markdown",
   "metadata": {},
   "source": [
    "# BAGGING  MODEL"
   ]
  },
  {
   "cell_type": "code",
   "execution_count": 99,
   "metadata": {},
   "outputs": [],
   "source": [
    "from sklearn.ensemble import BaggingClassifier\n",
    "from sklearn import tree"
   ]
  },
  {
   "cell_type": "code",
   "execution_count": 100,
   "metadata": {},
   "outputs": [],
   "source": [
    "bagging_mdl = BaggingClassifier(tree.DecisionTreeClassifier(criterion='gini',max_depth= 3,max_leaf_nodes=15))\n",
    "bagging_mdl = bagging_mdl.fit(x1_train,y1_train)"
   ]
  },
  {
   "cell_type": "code",
   "execution_count": 101,
   "metadata": {},
   "outputs": [],
   "source": [
    "y_predict = bagging_mdl.predict(x1_test)"
   ]
  },
  {
   "cell_type": "code",
   "execution_count": 102,
   "metadata": {},
   "outputs": [
    {
     "data": {
      "image/png": "[encoded data removed]",
      "text/plain": [
       "<Figure size 720x360 with 1 Axes>"
      ]
     },
     "metadata": {
      "needs_background": "light"
     },
     "output_type": "display_data"
    }
   ],
   "source": [
    "plt_confusion_matrices(bagging_mdl)"
   ]
  },
  {
   "cell_type": "code",
   "execution_count": 103,
   "metadata": {},
   "outputs": [
    {
     "data": {
      "image/png": "[encoded data removed]",
      "text/plain": [
       "<Figure size 720x360 with 1 Axes>"
      ]
     },
     "metadata": {
      "needs_background": "light"
     },
     "output_type": "display_data"
    }
   ],
   "source": [
    "plt_roc(bagging_mdl)"
   ]
  },
  {
   "cell_type": "code",
   "execution_count": 104,
   "metadata": {},
   "outputs": [],
   "source": [
    "model_6 = pd.DataFrame({'MODELS':['bagging_mdl'],\n",
    "             'AUC SCORE':[accuracy_score(y1_test,y1_predict)],\n",
    "             'PRESCION SCORE':[precision_score(y1_test,y1_predict)],\n",
    "               'RECALL SCORE':[recall_score(y1_test,y1_predict)],\n",
    "             'ACCURACY SCORE':[accuracy_score(y1_test,y1_predict)],\n",
    "             'F1-SCORE':[f1_score(y1_test,y1_predict)]})"
   ]
  },
  {
   "cell_type": "code",
   "execution_count": 105,
   "metadata": {},
   "outputs": [],
   "source": [
    "score = score.append(model_6)"
   ]
  },
  {
   "cell_type": "code",
   "execution_count": 106,
   "metadata": {},
   "outputs": [
    {
     "data": {
      "text/html": [
       "<div>\n",
       "<style scoped>\n",
       "    .dataframe tbody tr th:only-of-type {\n",
       "        vertical-align: middle;\n",
       "    }\n",
       "\n",
       "    .dataframe tbody tr th {\n",
       "        vertical-align: top;\n",
       "    }\n",
       "\n",
       "    .dataframe thead th {\n",
       "        text-align: right;\n",
       "    }\n",
       "</style>\n",
       "<table border=\"1\" class=\"dataframe\">\n",
       "  <thead>\n",
       "    <tr style=\"text-align: right;\">\n",
       "      <th></th>\n",
       "      <th>MODELS</th>\n",
       "      <th>AUC SCORE</th>\n",
       "      <th>PRESCION SCORE</th>\n",
       "      <th>RECALL SCORE</th>\n",
       "      <th>ACCURACY SCORE</th>\n",
       "      <th>F1-SCORE</th>\n",
       "    </tr>\n",
       "  </thead>\n",
       "  <tbody>\n",
       "    <tr>\n",
       "      <th>0</th>\n",
       "      <td>log_ols_model</td>\n",
       "      <td>0.783260</td>\n",
       "      <td>0.795594</td>\n",
       "      <td>0.761897</td>\n",
       "      <td>0.783281</td>\n",
       "      <td>0.778381</td>\n",
       "    </tr>\n",
       "    <tr>\n",
       "      <th>0</th>\n",
       "      <td>log_with_sgd</td>\n",
       "      <td>0.782726</td>\n",
       "      <td>0.786242</td>\n",
       "      <td>0.776015</td>\n",
       "      <td>0.782726</td>\n",
       "      <td>0.781095</td>\n",
       "    </tr>\n",
       "    <tr>\n",
       "      <th>0</th>\n",
       "      <td>log_reg</td>\n",
       "      <td>0.783518</td>\n",
       "      <td>0.795989</td>\n",
       "      <td>0.761897</td>\n",
       "      <td>0.783518</td>\n",
       "      <td>0.778570</td>\n",
       "    </tr>\n",
       "    <tr>\n",
       "      <th>0</th>\n",
       "      <td>sc_mdl</td>\n",
       "      <td>0.783835</td>\n",
       "      <td>0.796223</td>\n",
       "      <td>0.762373</td>\n",
       "      <td>0.783835</td>\n",
       "      <td>0.778930</td>\n",
       "    </tr>\n",
       "    <tr>\n",
       "      <th>0</th>\n",
       "      <td>descion_model</td>\n",
       "      <td>0.747068</td>\n",
       "      <td>0.782191</td>\n",
       "      <td>0.684169</td>\n",
       "      <td>0.747068</td>\n",
       "      <td>0.729904</td>\n",
       "    </tr>\n",
       "    <tr>\n",
       "      <th>0</th>\n",
       "      <td>bagging_mdl</td>\n",
       "      <td>0.747068</td>\n",
       "      <td>0.782191</td>\n",
       "      <td>0.684169</td>\n",
       "      <td>0.747068</td>\n",
       "      <td>0.729904</td>\n",
       "    </tr>\n",
       "  </tbody>\n",
       "</table>\n",
       "</div>"
      ],
      "text/plain": [
       "          MODELS  AUC SCORE  PRESCION SCORE  RECALL SCORE  ACCURACY SCORE  \\\n",
       "0  log_ols_model   0.783260        0.795594      0.761897        0.783281   \n",
       "0   log_with_sgd   0.782726        0.786242      0.776015        0.782726   \n",
       "0        log_reg   0.783518        0.795989      0.761897        0.783518   \n",
       "0         sc_mdl   0.783835        0.796223      0.762373        0.783835   \n",
       "0  descion_model   0.747068        0.782191      0.684169        0.747068   \n",
       "0    bagging_mdl   0.747068        0.782191      0.684169        0.747068   \n",
       "\n",
       "   F1-SCORE  \n",
       "0  0.778381  \n",
       "0  0.781095  \n",
       "0  0.778570  \n",
       "0  0.778930  \n",
       "0  0.729904  \n",
       "0  0.729904  "
      ]
     },
     "execution_count": 106,
     "metadata": {},
     "output_type": "execute_result"
    }
   ],
   "source": [
    "score"
   ]
  },
  {
   "cell_type": "markdown",
   "metadata": {},
   "source": [
    "# ADABOOST"
   ]
  },
  {
   "cell_type": "code",
   "execution_count": 107,
   "metadata": {},
   "outputs": [],
   "source": [
    "from sklearn.ensemble import AdaBoostClassifier\n",
    "adaboost = AdaBoostClassifier(random_state = 1)\n",
    "adaboost = adaboost.fit(x1_train,y1_train)"
   ]
  },
  {
   "cell_type": "code",
   "execution_count": 108,
   "metadata": {},
   "outputs": [],
   "source": [
    "y1_predict = adaboost.predict(x1_test)"
   ]
  },
  {
   "cell_type": "code",
   "execution_count": 109,
   "metadata": {},
   "outputs": [
    {
     "data": {
      "image/png": "[encoded data removed]",
      "text/plain": [
       "<Figure size 720x360 with 1 Axes>"
      ]
     },
     "metadata": {
      "needs_background": "light"
     },
     "output_type": "display_data"
    }
   ],
   "source": [
    "plt_confusion_matrices(adaboost)"
   ]
  },
  {
   "cell_type": "code",
   "execution_count": 110,
   "metadata": {},
   "outputs": [
    {
     "data": {
      "image/png": "[encoded data removed]",
      "text/plain": [
       "<Figure size 720x360 with 1 Axes>"
      ]
     },
     "metadata": {
      "needs_background": "light"
     },
     "output_type": "display_data"
    }
   ],
   "source": [
    "plt_roc(adaboost)"
   ]
  },
  {
   "cell_type": "code",
   "execution_count": 111,
   "metadata": {},
   "outputs": [],
   "source": [
    "model_7 = pd.DataFrame({'MODELS':['adaboost'],\n",
    "             'AUC SCORE':[accuracy_score(y1_test,y1_predict)],\n",
    "             'PRESCION SCORE':[precision_score(y1_test,y1_predict)],\n",
    "               'RECALL SCORE':[recall_score(y1_test,y1_predict)],\n",
    "             'ACCURACY SCORE':[accuracy_score(y1_test,y1_predict)],\n",
    "             'F1-SCORE':[f1_score(y1_test,y1_predict)]})"
   ]
  },
  {
   "cell_type": "code",
   "execution_count": 112,
   "metadata": {},
   "outputs": [
    {
     "data": {
      "text/html": [
       "<div>\n",
       "<style scoped>\n",
       "    .dataframe tbody tr th:only-of-type {\n",
       "        vertical-align: middle;\n",
       "    }\n",
       "\n",
       "    .dataframe tbody tr th {\n",
       "        vertical-align: top;\n",
       "    }\n",
       "\n",
       "    .dataframe thead th {\n",
       "        text-align: right;\n",
       "    }\n",
       "</style>\n",
       "<table border=\"1\" class=\"dataframe\">\n",
       "  <thead>\n",
       "    <tr style=\"text-align: right;\">\n",
       "      <th></th>\n",
       "      <th>MODELS</th>\n",
       "      <th>AUC SCORE</th>\n",
       "      <th>PRESCION SCORE</th>\n",
       "      <th>RECALL SCORE</th>\n",
       "      <th>ACCURACY SCORE</th>\n",
       "      <th>F1-SCORE</th>\n",
       "    </tr>\n",
       "  </thead>\n",
       "  <tbody>\n",
       "    <tr>\n",
       "      <th>0</th>\n",
       "      <td>log_ols_model</td>\n",
       "      <td>0.783260</td>\n",
       "      <td>0.795594</td>\n",
       "      <td>0.761897</td>\n",
       "      <td>0.783281</td>\n",
       "      <td>0.778381</td>\n",
       "    </tr>\n",
       "    <tr>\n",
       "      <th>0</th>\n",
       "      <td>log_with_sgd</td>\n",
       "      <td>0.782726</td>\n",
       "      <td>0.786242</td>\n",
       "      <td>0.776015</td>\n",
       "      <td>0.782726</td>\n",
       "      <td>0.781095</td>\n",
       "    </tr>\n",
       "    <tr>\n",
       "      <th>0</th>\n",
       "      <td>log_reg</td>\n",
       "      <td>0.783518</td>\n",
       "      <td>0.795989</td>\n",
       "      <td>0.761897</td>\n",
       "      <td>0.783518</td>\n",
       "      <td>0.778570</td>\n",
       "    </tr>\n",
       "    <tr>\n",
       "      <th>0</th>\n",
       "      <td>sc_mdl</td>\n",
       "      <td>0.783835</td>\n",
       "      <td>0.796223</td>\n",
       "      <td>0.762373</td>\n",
       "      <td>0.783835</td>\n",
       "      <td>0.778930</td>\n",
       "    </tr>\n",
       "    <tr>\n",
       "      <th>0</th>\n",
       "      <td>descion_model</td>\n",
       "      <td>0.747068</td>\n",
       "      <td>0.782191</td>\n",
       "      <td>0.684169</td>\n",
       "      <td>0.747068</td>\n",
       "      <td>0.729904</td>\n",
       "    </tr>\n",
       "    <tr>\n",
       "      <th>0</th>\n",
       "      <td>bagging_mdl</td>\n",
       "      <td>0.747068</td>\n",
       "      <td>0.782191</td>\n",
       "      <td>0.684169</td>\n",
       "      <td>0.747068</td>\n",
       "      <td>0.729904</td>\n",
       "    </tr>\n",
       "    <tr>\n",
       "      <th>0</th>\n",
       "      <td>adaboost</td>\n",
       "      <td>0.781616</td>\n",
       "      <td>0.793417</td>\n",
       "      <td>0.760945</td>\n",
       "      <td>0.781616</td>\n",
       "      <td>0.776842</td>\n",
       "    </tr>\n",
       "  </tbody>\n",
       "</table>\n",
       "</div>"
      ],
      "text/plain": [
       "          MODELS  AUC SCORE  PRESCION SCORE  RECALL SCORE  ACCURACY SCORE  \\\n",
       "0  log_ols_model   0.783260        0.795594      0.761897        0.783281   \n",
       "0   log_with_sgd   0.782726        0.786242      0.776015        0.782726   \n",
       "0        log_reg   0.783518        0.795989      0.761897        0.783518   \n",
       "0         sc_mdl   0.783835        0.796223      0.762373        0.783835   \n",
       "0  descion_model   0.747068        0.782191      0.684169        0.747068   \n",
       "0    bagging_mdl   0.747068        0.782191      0.684169        0.747068   \n",
       "0       adaboost   0.781616        0.793417      0.760945        0.781616   \n",
       "\n",
       "   F1-SCORE  \n",
       "0  0.778381  \n",
       "0  0.781095  \n",
       "0  0.778570  \n",
       "0  0.778930  \n",
       "0  0.729904  \n",
       "0  0.729904  \n",
       "0  0.776842  "
      ]
     },
     "execution_count": 112,
     "metadata": {},
     "output_type": "execute_result"
    }
   ],
   "source": [
    "score = score.append(model_7)\n",
    "score"
   ]
  },
  {
   "cell_type": "markdown",
   "metadata": {},
   "source": [
    "# k-nn"
   ]
  },
  {
   "cell_type": "code",
   "execution_count": 113,
   "metadata": {},
   "outputs": [],
   "source": [
    "from sklearn.neighbors import KNeighborsClassifier\n",
    "knn_model = KNeighborsClassifier(n_neighbors=5,metric='minkowski')\n",
    "knn_model = knn_model.fit(x1_train,y1_train)"
   ]
  },
  {
   "cell_type": "code",
   "execution_count": 114,
   "metadata": {},
   "outputs": [],
   "source": [
    "y1_predict = knn_model.predict(x1_test)"
   ]
  },
  {
   "cell_type": "code",
   "execution_count": 115,
   "metadata": {},
   "outputs": [
    {
     "data": {
      "image/png": "[encoded data removed]",
      "text/plain": [
       "<Figure size 720x360 with 1 Axes>"
      ]
     },
     "metadata": {
      "needs_background": "light"
     },
     "output_type": "display_data"
    }
   ],
   "source": [
    "plt_confusion_matrices(knn_model)"
   ]
  },
  {
   "cell_type": "code",
   "execution_count": 116,
   "metadata": {},
   "outputs": [
    {
     "data": {
      "image/png": "[encoded data removed]",
      "text/plain": [
       "<Figure size 720x360 with 1 Axes>"
      ]
     },
     "metadata": {
      "needs_background": "light"
     },
     "output_type": "display_data"
    }
   ],
   "source": [
    "plt_roc(knn_model)"
   ]
  },
  {
   "cell_type": "code",
   "execution_count": 117,
   "metadata": {},
   "outputs": [],
   "source": [
    "model_8 = pd.DataFrame({'MODELS':['knn_model'],\n",
    "             'AUC SCORE':[accuracy_score(y1_test,y1_predict)],\n",
    "             'PRESCION SCORE':[precision_score(y1_test,y1_predict)],\n",
    "               'RECALL SCORE':[recall_score(y1_test,y1_predict)],\n",
    "             'ACCURACY SCORE':[accuracy_score(y1_test,y1_predict)],\n",
    "             'F1-SCORE':[f1_score(y1_test,y1_predict)]})"
   ]
  },
  {
   "cell_type": "code",
   "execution_count": 118,
   "metadata": {},
   "outputs": [
    {
     "data": {
      "text/html": [
       "<div>\n",
       "<style scoped>\n",
       "    .dataframe tbody tr th:only-of-type {\n",
       "        vertical-align: middle;\n",
       "    }\n",
       "\n",
       "    .dataframe tbody tr th {\n",
       "        vertical-align: top;\n",
       "    }\n",
       "\n",
       "    .dataframe thead th {\n",
       "        text-align: right;\n",
       "    }\n",
       "</style>\n",
       "<table border=\"1\" class=\"dataframe\">\n",
       "  <thead>\n",
       "    <tr style=\"text-align: right;\">\n",
       "      <th></th>\n",
       "      <th>MODELS</th>\n",
       "      <th>AUC SCORE</th>\n",
       "      <th>PRESCION SCORE</th>\n",
       "      <th>RECALL SCORE</th>\n",
       "      <th>ACCURACY SCORE</th>\n",
       "      <th>F1-SCORE</th>\n",
       "    </tr>\n",
       "  </thead>\n",
       "  <tbody>\n",
       "    <tr>\n",
       "      <th>0</th>\n",
       "      <td>log_ols_model</td>\n",
       "      <td>0.783260</td>\n",
       "      <td>0.795594</td>\n",
       "      <td>0.761897</td>\n",
       "      <td>0.783281</td>\n",
       "      <td>0.778381</td>\n",
       "    </tr>\n",
       "    <tr>\n",
       "      <th>0</th>\n",
       "      <td>log_with_sgd</td>\n",
       "      <td>0.782726</td>\n",
       "      <td>0.786242</td>\n",
       "      <td>0.776015</td>\n",
       "      <td>0.782726</td>\n",
       "      <td>0.781095</td>\n",
       "    </tr>\n",
       "    <tr>\n",
       "      <th>0</th>\n",
       "      <td>log_reg</td>\n",
       "      <td>0.783518</td>\n",
       "      <td>0.795989</td>\n",
       "      <td>0.761897</td>\n",
       "      <td>0.783518</td>\n",
       "      <td>0.778570</td>\n",
       "    </tr>\n",
       "    <tr>\n",
       "      <th>0</th>\n",
       "      <td>sc_mdl</td>\n",
       "      <td>0.783835</td>\n",
       "      <td>0.796223</td>\n",
       "      <td>0.762373</td>\n",
       "      <td>0.783835</td>\n",
       "      <td>0.778930</td>\n",
       "    </tr>\n",
       "    <tr>\n",
       "      <th>0</th>\n",
       "      <td>descion_model</td>\n",
       "      <td>0.747068</td>\n",
       "      <td>0.782191</td>\n",
       "      <td>0.684169</td>\n",
       "      <td>0.747068</td>\n",
       "      <td>0.729904</td>\n",
       "    </tr>\n",
       "    <tr>\n",
       "      <th>0</th>\n",
       "      <td>bagging_mdl</td>\n",
       "      <td>0.747068</td>\n",
       "      <td>0.782191</td>\n",
       "      <td>0.684169</td>\n",
       "      <td>0.747068</td>\n",
       "      <td>0.729904</td>\n",
       "    </tr>\n",
       "    <tr>\n",
       "      <th>0</th>\n",
       "      <td>adaboost</td>\n",
       "      <td>0.781616</td>\n",
       "      <td>0.793417</td>\n",
       "      <td>0.760945</td>\n",
       "      <td>0.781616</td>\n",
       "      <td>0.776842</td>\n",
       "    </tr>\n",
       "    <tr>\n",
       "      <th>0</th>\n",
       "      <td>knn_model</td>\n",
       "      <td>0.777734</td>\n",
       "      <td>0.751184</td>\n",
       "      <td>0.829949</td>\n",
       "      <td>0.777734</td>\n",
       "      <td>0.788605</td>\n",
       "    </tr>\n",
       "  </tbody>\n",
       "</table>\n",
       "</div>"
      ],
      "text/plain": [
       "          MODELS  AUC SCORE  PRESCION SCORE  RECALL SCORE  ACCURACY SCORE  \\\n",
       "0  log_ols_model   0.783260        0.795594      0.761897        0.783281   \n",
       "0   log_with_sgd   0.782726        0.786242      0.776015        0.782726   \n",
       "0        log_reg   0.783518        0.795989      0.761897        0.783518   \n",
       "0         sc_mdl   0.783835        0.796223      0.762373        0.783835   \n",
       "0  descion_model   0.747068        0.782191      0.684169        0.747068   \n",
       "0    bagging_mdl   0.747068        0.782191      0.684169        0.747068   \n",
       "0       adaboost   0.781616        0.793417      0.760945        0.781616   \n",
       "0      knn_model   0.777734        0.751184      0.829949        0.777734   \n",
       "\n",
       "   F1-SCORE  \n",
       "0  0.778381  \n",
       "0  0.781095  \n",
       "0  0.778570  \n",
       "0  0.778930  \n",
       "0  0.729904  \n",
       "0  0.729904  \n",
       "0  0.776842  \n",
       "0  0.788605  "
      ]
     },
     "execution_count": 118,
     "metadata": {},
     "output_type": "execute_result"
    }
   ],
   "source": [
    "score = score.append(model_8)\n",
    "score"
   ]
  },
  {
   "cell_type": "code",
   "execution_count": null,
   "metadata": {},
   "outputs": [],
   "source": []
  },
  {
   "cell_type": "code",
   "execution_count": null,
   "metadata": {},
   "outputs": [],
   "source": []
  },
  {
   "cell_type": "code",
   "execution_count": null,
   "metadata": {},
   "outputs": [],
   "source": []
  }
 ],
 "metadata": {
  "kernelspec": {
   "display_name": "Python 3",
   "language": "python",
   "name": "python3"
  },
  "language_info": {
   "codemirror_mode": {
    "name": "ipython",
    "version": 3
   },
   "file_extension": ".py",
   "mimetype": "text/x-python",
   "name": "python",
   "nbconvert_exporter": "python",
   "pygments_lexer": "ipython3",
   "version": "3.8.3"
  }
 },
 "nbformat": 4,
 "nbformat_minor": 4
}
